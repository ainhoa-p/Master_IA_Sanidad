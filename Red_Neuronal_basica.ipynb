{
  "nbformat": 4,
  "nbformat_minor": 0,
  "metadata": {
    "colab": {
      "name": "NN From Scratch.ipynb",
      "provenance": [],
      "collapsed_sections": [],
      "machine_shape": "hm",
      "include_colab_link": true
    },
    "kernelspec": {
      "name": "python3",
      "display_name": "Python 3"
    }
  },
  "cells": [
    {
      "cell_type": "markdown",
      "metadata": {
        "id": "view-in-github",
        "colab_type": "text"
      },
      "source": [
        "<a href=\"https://colab.research.google.com/github/txusser/Master_IA_Sanidad/blob/main/NN_From_Scratch.ipynb\" target=\"_parent\"><img src=\"https://colab.research.google.com/assets/colab-badge.svg\" alt=\"Open In Colab\"/></a>"
      ]
    },
    {
      "cell_type": "markdown",
      "metadata": {
        "id": "kP95YI3lgIrd"
      },
      "source": [
        "## Programando una red neuronal desde cero\n",
        "\n",
        "En este ejemplo veremos como programar una red neuronal desde 0. Empezaremos con el problema que nos encontramos anteriormente que no podía resolver nuestro perceptrón, la clasificación del dataset de MNIST"
      ]
    },
    {
      "cell_type": "code",
      "metadata": {
        "id": "7nwOH7wuUpD_"
      },
      "source": [
        "from sklearn.model_selection import train_test_split\n",
        "from sklearn.datasets import load_digits\n",
        "from keras.utils.np_utils import to_categorical\n",
        "import matplotlib.pyplot as plt\n",
        "from sklearn.metrics import accuracy_score\n",
        "import numpy as np\n",
        "import time\n",
        "\n",
        "# Utilizamos la función load_digits para descargarnos los datos de mnist\n",
        "digits = load_digits()\n"
      ],
      "execution_count": 103,
      "outputs": []
    },
    {
      "cell_type": "code",
      "metadata": {
        "id": "3mPaQ6amB78c",
        "outputId": "b50a6ae4-fd18-4d46-bfb3-ab0b7249071b",
        "colab": {
          "base_uri": "https://localhost:8080/",
          "height": 168
        }
      },
      "source": [
        "#Vamos a echar un ojo a lo que nos hemos descargado\n",
        "_, axes = plt.subplots(nrows=1, ncols=4, figsize=(10, 3))\n",
        "for ax, image, label in zip(axes, digits.images, digits.target):\n",
        "    ax.set_axis_off()\n",
        "    ax.imshow(image, cmap=plt.cm.gray_r, interpolation='nearest')\n",
        "    ax.set_title('Training: %i' % label)"
      ],
      "execution_count": 104,
      "outputs": [
        {
          "output_type": "display_data",
          "data": {
            "image/png": "[encoded data removed]",
            "text/plain": [
              "<Figure size 720x216 with 4 Axes>"
            ]
          },
          "metadata": {
            "needs_background": "light"
          }
        }
      ]
    },
    {
      "cell_type": "code",
      "metadata": {
        "id": "CMxvgMDSB9aE",
        "outputId": "5dcc692b-1bb7-4269-edf5-641351f82175",
        "colab": {
          "base_uri": "https://localhost:8080/"
        }
      },
      "source": [
        "#Preparemos nuestro set de entrenamiento\n",
        "n_samples = len(digits.images)\n",
        "data = digits.images.reshape((n_samples, -1))\n",
        "# Imprimimos el tamaño de data.shape para sabe el número de pixeles que tenemos en cada muestra\n",
        "print(data.shape)\n",
        "# Dividimos en training y test datasets\n",
        "X_train, X_test, y_train, y_test = train_test_split(data, digits.target, test_size=0.5, shuffle=False)"
      ],
      "execution_count": 107,
      "outputs": [
        {
          "output_type": "stream",
          "name": "stdout",
          "text": [
            "(1797, 64)\n"
          ]
        }
      ]
    },
    {
      "cell_type": "markdown",
      "metadata": {
        "id": "wASFGvwpgsMB"
      },
      "source": [
        "## Red neuronal de 4 capas en numpy"
      ]
    },
    {
      "cell_type": "code",
      "metadata": {
        "id": "5IucezTTXiSM"
      },
      "source": [
        "class DeepNeuralNetwork():\n",
        "    def __init__(self, sizes, epochs=10, l_rate=0.03):\n",
        "        self.sizes = sizes\n",
        "        self.epochs = epochs\n",
        "        self.l_rate = l_rate\n",
        "\n",
        "        # Ahora tenemos más parámetros, así que los organizamos en un diccionario\n",
        "        self.params = self.initialization()\n",
        "\n",
        "    def initialization(self):\n",
        "        # Número de neuronas por capa (argumento de entrada)\n",
        "        input_layer=self.sizes[0]\n",
        "        hidden_1=self.sizes[1]\n",
        "        hidden_2=self.sizes[2]\n",
        "        output_layer=self.sizes[3]\n",
        "\n",
        "        params = {\n",
        "            'W1':np.random.randn(hidden_1, input_layer) * np.sqrt(1. / hidden_1),\n",
        "            'W2':np.random.randn(hidden_2, hidden_1) * np.sqrt(1. / hidden_2),\n",
        "            'W3':np.random.randn(output_layer, hidden_2) * np.sqrt(1. / output_layer)\n",
        "        }\n",
        "\n",
        "        return params\n",
        "\n",
        "    def sigmoid(self, x, derivative=False):\n",
        "      # Función de activación sigmoide\n",
        "        if derivative:\n",
        "            return (np.exp(-x))/((np.exp(-x)+1)**2)\n",
        "        return 1/(1 + np.exp(-x))\n",
        "\n",
        "    def softmax(self, x, derivative=False):\n",
        "        # Función de activación softmax\n",
        "        exps = np.exp(x - x.max())\n",
        "        if derivative:\n",
        "            return exps / np.sum(exps, axis=0) * (1 - exps / np.sum(exps, axis=0))\n",
        "        return exps / np.sum(exps, axis=0)\n",
        "\n",
        "    def forward_pass(self, x_train):\n",
        "        params = self.params\n",
        "\n",
        "        # input layer activations becomes sample\n",
        "        params['A0'] = x_train\n",
        "\n",
        "        # input layer to hidden layer 1\n",
        "        params['Z1'] = np.dot(params[\"W1\"], params['A0'])\n",
        "        params['A1'] = self.sigmoid(params['Z1'])\n",
        "\n",
        "        # hidden layer 1 to hidden layer 2\n",
        "        params['Z2'] = np.dot(params[\"W2\"], params['A1'])\n",
        "        params['A2'] = self.sigmoid(params['Z2'])\n",
        "\n",
        "        # hidden layer 2 to output layer\n",
        "        params['Z3'] = np.dot(params[\"W3\"], params['A2'])\n",
        "        params['A3'] = self.softmax(params['Z3'])\n",
        "\n",
        "        return params['A3']\n",
        "\n",
        "    def backward_pass(self, y_train, output):\n",
        "        '''\n",
        "            Algoritmo de backpropagation\n",
        "            \n",
        "        '''\n",
        "        params = self.params\n",
        "        change_w = {}\n",
        "\n",
        "        # Calculate W3 update\n",
        "        error = 2 * (output - y_train) / output.shape[0] * self.sigmoid(params['Z3'], derivative=True)\n",
        "        change_w['W3'] = np.outer(error, params['A2'])\n",
        "\n",
        "        # Calculate W2 update\n",
        "        error = np.dot(params['W3'].T, error) * self.sigmoid(params['Z2'], derivative=True)\n",
        "        change_w['W2'] = np.outer(error, params['A1'])\n",
        "\n",
        "        # Calculate W1 update\n",
        "        error = np.dot(params['W2'].T, error) * self.softmax(params['Z1'], derivative=True)\n",
        "        change_w['W1'] = np.outer(error, params['A0'])\n",
        "\n",
        "        return change_w\n",
        "\n",
        "    def update_network_parameters(self, changes_to_w):\n",
        "        '''\n",
        "            Actualización de los parámetros de la red\n",
        "\n",
        "            θ = θ - η * ∇J(x, y), \n",
        "                theta θ:            a network parameter (e.g. a weight w)\n",
        "                eta η:              the learning rate\n",
        "                gradient ∇J(x, y):  the gradient of the objective function,\n",
        "                                    i.e. the change for a specific theta θ\n",
        "        '''\n",
        "        \n",
        "        for key, value in changes_to_w.items():\n",
        "            self.params[key] -= self.l_rate * value\n",
        "\n",
        "    def compute_accuracy(self, x_val, y_val):\n",
        "        '''\n",
        "            Esta función hace un forward pass con los datos de validación\n",
        "            y comprueba que las etiquetas sean correctas.\n",
        "        '''\n",
        "        predictions = []\n",
        "\n",
        "        for x, y in zip(x_val, y_val):\n",
        "            output = self.forward_pass(x)\n",
        "            pred = np.argmax(output)\n",
        "            predictions.append(pred == np.argmax(y))\n",
        "        \n",
        "        return np.mean(predictions)\n",
        "\n",
        "    def train(self, x_train, y_train, x_val, y_val):\n",
        "        start_time = time.time()\n",
        "        for iteration in range(self.epochs):\n",
        "            for x,y in zip(x_train, y_train):\n",
        "                output = self.forward_pass(x)\n",
        "                changes_to_w = self.backward_pass(y, output)\n",
        "                self.update_network_parameters(changes_to_w)\n",
        "            \n",
        "            accuracy = self.compute_accuracy(x_val, y_val)\n",
        "            print('Epoch: {0}, Time Spent: {1:.2f}s, Accuracy: {2:.2f}%'.format(\n",
        "                iteration+1, time.time() - start_time, accuracy * 100\n",
        "            ))"
      ],
      "execution_count": 109,
      "outputs": []
    },
    {
      "cell_type": "markdown",
      "metadata": {
        "id": "NkYynGc0Byzl"
      },
      "source": [
        "### Results\n"
      ]
    },
    {
      "cell_type": "code",
      "metadata": {
        "id": "Fsg-fGC8Phyb",
        "colab": {
          "base_uri": "https://localhost:8080/"
        },
        "outputId": "04a62329-c338-4c1c-c6ce-93771d943f26"
      },
      "source": [
        "dnn = DeepNeuralNetwork(sizes=[64, 128, 32, 10],epochs=100, l_rate=0.01)\n",
        "dnn.train(X_train, y_train, X_test, y_train)"
      ],
      "execution_count": 121,
      "outputs": [
        {
          "output_type": "stream",
          "name": "stdout",
          "text": [
            "Epoch: 1, Time Spent: 0.17s, Accuracy: 13.70%\n",
            "Epoch: 2, Time Spent: 0.34s, Accuracy: 16.70%\n",
            "Epoch: 3, Time Spent: 0.50s, Accuracy: 20.82%\n",
            "Epoch: 4, Time Spent: 0.68s, Accuracy: 23.61%\n",
            "Epoch: 5, Time Spent: 0.85s, Accuracy: 26.17%\n",
            "Epoch: 6, Time Spent: 1.02s, Accuracy: 28.95%\n",
            "Epoch: 7, Time Spent: 1.19s, Accuracy: 32.63%\n",
            "Epoch: 8, Time Spent: 1.36s, Accuracy: 35.41%\n",
            "Epoch: 9, Time Spent: 1.53s, Accuracy: 37.08%\n",
            "Epoch: 10, Time Spent: 1.70s, Accuracy: 38.98%\n",
            "Epoch: 11, Time Spent: 1.87s, Accuracy: 39.87%\n",
            "Epoch: 12, Time Spent: 2.04s, Accuracy: 40.65%\n",
            "Epoch: 13, Time Spent: 2.22s, Accuracy: 42.09%\n",
            "Epoch: 14, Time Spent: 2.39s, Accuracy: 42.76%\n",
            "Epoch: 15, Time Spent: 2.56s, Accuracy: 42.87%\n",
            "Epoch: 16, Time Spent: 2.73s, Accuracy: 43.43%\n",
            "Epoch: 17, Time Spent: 2.90s, Accuracy: 43.99%\n",
            "Epoch: 18, Time Spent: 3.07s, Accuracy: 44.43%\n",
            "Epoch: 19, Time Spent: 3.25s, Accuracy: 44.99%\n",
            "Epoch: 20, Time Spent: 3.41s, Accuracy: 45.43%\n",
            "Epoch: 21, Time Spent: 3.59s, Accuracy: 45.77%\n",
            "Epoch: 22, Time Spent: 3.76s, Accuracy: 45.88%\n",
            "Epoch: 23, Time Spent: 3.93s, Accuracy: 46.21%\n",
            "Epoch: 24, Time Spent: 4.10s, Accuracy: 46.33%\n",
            "Epoch: 25, Time Spent: 4.27s, Accuracy: 46.44%\n",
            "Epoch: 26, Time Spent: 4.44s, Accuracy: 46.66%\n",
            "Epoch: 27, Time Spent: 4.61s, Accuracy: 46.55%\n",
            "Epoch: 28, Time Spent: 4.78s, Accuracy: 46.55%\n",
            "Epoch: 29, Time Spent: 4.95s, Accuracy: 46.55%\n",
            "Epoch: 30, Time Spent: 5.13s, Accuracy: 46.55%\n",
            "Epoch: 31, Time Spent: 5.29s, Accuracy: 46.66%\n",
            "Epoch: 32, Time Spent: 5.46s, Accuracy: 46.77%\n",
            "Epoch: 33, Time Spent: 5.63s, Accuracy: 46.99%\n",
            "Epoch: 34, Time Spent: 5.80s, Accuracy: 47.10%\n",
            "Epoch: 35, Time Spent: 5.97s, Accuracy: 46.99%\n",
            "Epoch: 36, Time Spent: 6.14s, Accuracy: 47.10%\n",
            "Epoch: 37, Time Spent: 6.31s, Accuracy: 46.99%\n",
            "Epoch: 38, Time Spent: 6.48s, Accuracy: 46.99%\n",
            "Epoch: 39, Time Spent: 6.66s, Accuracy: 47.10%\n",
            "Epoch: 40, Time Spent: 6.83s, Accuracy: 47.22%\n",
            "Epoch: 41, Time Spent: 6.99s, Accuracy: 47.33%\n",
            "Epoch: 42, Time Spent: 7.16s, Accuracy: 47.22%\n",
            "Epoch: 43, Time Spent: 7.33s, Accuracy: 47.22%\n",
            "Epoch: 44, Time Spent: 7.50s, Accuracy: 47.33%\n",
            "Epoch: 45, Time Spent: 7.67s, Accuracy: 47.10%\n",
            "Epoch: 46, Time Spent: 7.84s, Accuracy: 47.10%\n",
            "Epoch: 47, Time Spent: 8.02s, Accuracy: 46.99%\n",
            "Epoch: 48, Time Spent: 8.19s, Accuracy: 46.88%\n",
            "Epoch: 49, Time Spent: 8.36s, Accuracy: 46.88%\n",
            "Epoch: 50, Time Spent: 8.53s, Accuracy: 46.66%\n",
            "Epoch: 51, Time Spent: 8.71s, Accuracy: 46.66%\n",
            "Epoch: 52, Time Spent: 8.88s, Accuracy: 46.66%\n",
            "Epoch: 53, Time Spent: 9.06s, Accuracy: 46.77%\n",
            "Epoch: 54, Time Spent: 9.22s, Accuracy: 46.66%\n",
            "Epoch: 55, Time Spent: 9.40s, Accuracy: 46.55%\n",
            "Epoch: 56, Time Spent: 9.56s, Accuracy: 46.66%\n",
            "Epoch: 57, Time Spent: 9.74s, Accuracy: 46.66%\n",
            "Epoch: 58, Time Spent: 9.91s, Accuracy: 46.55%\n",
            "Epoch: 59, Time Spent: 10.08s, Accuracy: 46.55%\n",
            "Epoch: 60, Time Spent: 10.25s, Accuracy: 46.44%\n",
            "Epoch: 61, Time Spent: 10.42s, Accuracy: 46.44%\n",
            "Epoch: 62, Time Spent: 10.59s, Accuracy: 46.44%\n",
            "Epoch: 63, Time Spent: 10.76s, Accuracy: 46.21%\n",
            "Epoch: 64, Time Spent: 10.93s, Accuracy: 45.99%\n",
            "Epoch: 65, Time Spent: 11.11s, Accuracy: 45.88%\n",
            "Epoch: 66, Time Spent: 11.28s, Accuracy: 45.77%\n",
            "Epoch: 67, Time Spent: 11.44s, Accuracy: 45.77%\n",
            "Epoch: 68, Time Spent: 11.61s, Accuracy: 45.55%\n",
            "Epoch: 69, Time Spent: 11.79s, Accuracy: 45.43%\n",
            "Epoch: 70, Time Spent: 11.96s, Accuracy: 45.32%\n",
            "Epoch: 71, Time Spent: 12.13s, Accuracy: 45.21%\n",
            "Epoch: 72, Time Spent: 12.29s, Accuracy: 45.10%\n",
            "Epoch: 73, Time Spent: 12.47s, Accuracy: 44.88%\n",
            "Epoch: 74, Time Spent: 12.64s, Accuracy: 44.77%\n",
            "Epoch: 75, Time Spent: 12.81s, Accuracy: 44.77%\n",
            "Epoch: 76, Time Spent: 12.98s, Accuracy: 44.54%\n",
            "Epoch: 77, Time Spent: 13.15s, Accuracy: 44.43%\n",
            "Epoch: 78, Time Spent: 13.32s, Accuracy: 44.43%\n",
            "Epoch: 79, Time Spent: 13.49s, Accuracy: 44.43%\n",
            "Epoch: 80, Time Spent: 13.66s, Accuracy: 44.32%\n",
            "Epoch: 81, Time Spent: 13.84s, Accuracy: 44.32%\n",
            "Epoch: 82, Time Spent: 14.01s, Accuracy: 44.32%\n",
            "Epoch: 83, Time Spent: 14.18s, Accuracy: 44.21%\n",
            "Epoch: 84, Time Spent: 14.35s, Accuracy: 44.21%\n",
            "Epoch: 85, Time Spent: 14.52s, Accuracy: 44.21%\n",
            "Epoch: 86, Time Spent: 14.69s, Accuracy: 44.10%\n",
            "Epoch: 87, Time Spent: 14.86s, Accuracy: 43.99%\n",
            "Epoch: 88, Time Spent: 15.03s, Accuracy: 43.99%\n",
            "Epoch: 89, Time Spent: 15.20s, Accuracy: 43.76%\n",
            "Epoch: 90, Time Spent: 15.37s, Accuracy: 43.76%\n",
            "Epoch: 91, Time Spent: 15.54s, Accuracy: 43.76%\n",
            "Epoch: 92, Time Spent: 15.71s, Accuracy: 43.76%\n",
            "Epoch: 93, Time Spent: 15.88s, Accuracy: 43.76%\n",
            "Epoch: 94, Time Spent: 16.05s, Accuracy: 43.76%\n",
            "Epoch: 95, Time Spent: 16.22s, Accuracy: 43.88%\n",
            "Epoch: 96, Time Spent: 16.38s, Accuracy: 43.88%\n",
            "Epoch: 97, Time Spent: 16.56s, Accuracy: 43.76%\n",
            "Epoch: 98, Time Spent: 16.73s, Accuracy: 43.76%\n",
            "Epoch: 99, Time Spent: 16.90s, Accuracy: 43.76%\n",
            "Epoch: 100, Time Spent: 17.08s, Accuracy: 43.65%\n"
          ]
        }
      ]
    }
  ]
}
