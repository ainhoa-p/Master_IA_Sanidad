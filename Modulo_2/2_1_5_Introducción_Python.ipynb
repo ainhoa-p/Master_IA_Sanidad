{
  "nbformat": 4,
  "nbformat_minor": 0,
  "metadata": {
    "colab": {
      "provenance": [],
      "include_colab_link": true
    },
    "kernelspec": {
      "name": "python3",
      "display_name": "Python 3"
    },
    "language_info": {
      "name": "python"
    }
  },
  "cells": [
    {
      "cell_type": "markdown",
      "metadata": {
        "id": "view-in-github",
        "colab_type": "text"
      },
      "source": [
        "<a href=\"https://colab.research.google.com/github/txusser/Master_IA_Sanidad/blob/main/Modulo_2/2_1_5_Introducci%C3%B3n_Python.ipynb\" target=\"_parent\"><img src=\"https://colab.research.google.com/assets/colab-badge.svg\" alt=\"Open In Colab\"/></a>"
      ]
    },
    {
      "cell_type": "markdown",
      "source": [
        "# Introducción al lenguaje Markdown\n",
        "\n",
        "Markdown es un lenguaje de marcado ligero creado en 2004 por John Gruber. Su propósito principal es hacer que el texto sea fácil de escribir y leer, permitiendo su conversión a HTML y otros formatos.\n",
        "\n",
        "## ¿Para qué sirve?\n",
        "- Formatear documentación técnica\n",
        "- Escribir notas y documentos académicos\n",
        "- Crear contenido para blogs y sitios web\n",
        "- Documentar código y proyectos\n",
        "- Tomar apuntes de forma estructurada\n",
        "\n",
        "## Ventajas principales\n",
        "- Sintaxis simple e intuitiva\n",
        "- Legible incluso sin procesar\n",
        "- Compatible con múltiples plataformas\n",
        "- No requiere software especial\n",
        "- Ideal para colaboración y control de versiones\n",
        "\n",
        "En Google Colab, Markdown permite crear documentación clara junto al código, mejorando la legibilidad y comprensión de los cuadernos de trabajo."
      ],
      "metadata": {
        "id": "VETQtNtHt-F1"
      }
    },
    {
      "cell_type": "markdown",
      "source": [
        "## Esto es una sección\n",
        "Pondremos aquí nuestro **super código**\n",
        "\n"
      ],
      "metadata": {
        "id": "y2_DPlVSuzOP"
      }
    },
    {
      "cell_type": "markdown",
      "source": [
        "# Sección\n",
        "## Subsección\n",
        "### Título\n",
        "#### Apartado"
      ],
      "metadata": {
        "id": "v1pYplFIyROY"
      }
    },
    {
      "cell_type": "markdown",
      "source": [
        "## Subsección"
      ],
      "metadata": {
        "id": "XhZuGjagyTMr"
      }
    },
    {
      "cell_type": "markdown",
      "source": [
        "\n",
        "###**--Lenguaje Markdown--**\n",
        "\n",
        "# h1\n",
        "## h2\n",
        "### h3\n",
        "#### h4\n",
        "##### h5\n",
        "###### h6\n",
        "\n",
        "*cursiva* sin cursiva *con cursiva*\n",
        "\n",
        "**negrita a todo este texto** pero este no\n",
        "\n",
        "\n",
        "1. Lista ordenada\n",
        "2. Elemento 2\n",
        "3. Elemento 3\n",
        "4. Elemento 4\n",
        "\n",
        "* Lista no ordenada\n",
        "* Otro elemento\n",
        "* Siguiente elemento\n",
        "\n",
        "[NOMBRE ENLACE](https://www.google.es)\n",
        "\n",
        "[enlace a AWS](https://aws.amazon.com/es/)\n",
        "\n",
        "\n",
        ">\n",
        "\n",
        "```\n",
        "# Tiene formato de código\n",
        "```\n",
        "\n",
        "```python\n",
        "print(\"hola\")\n",
        "```\n",
        "\n",
        "Separador:\n",
        "\n",
        "---\n",
        "\n",
        "**Más información**:\n",
        "\n",
        "---\n",
        "\n",
        "* Haz [click aquí](https://colab.research.google.com/notebooks/markdown_guide.ipynb) para más detalles acerca del lenguaje Markdown"
      ],
      "metadata": {
        "id": "yMraTe5sOnwk"
      }
    },
    {
      "cell_type": "markdown",
      "source": [
        "# Introducción a Python 3\n",
        "\n",
        "Python es un lenguaje de programación de alto nivel, interpretado y de propósito general, creado por Guido van Rossum. Se destaca por su simplicidad y legibilidad, haciendo que sea ideal tanto para principiantes como para expertos.\n",
        "\n",
        "## Características principales\n",
        "- Sintaxis clara y legible\n",
        "- Multiplataforma\n",
        "- Extensa biblioteca/librería estándar\n",
        "- Gran comunidad y ecosistema de paquetes\n",
        "\n",
        "## Aplicaciones comunes\n",
        "- Ciencia de datos y análisis\n",
        "- Inteligencia artificial\n",
        "- Automatización y scripting\n",
        "- Desarrollo de aplicaciones\n",
        "- Desarrollo web\n",
        "\n",
        "Python enfatiza la legibilidad del código con su uso de indentación significativa y una sintaxis que permite expresar conceptos en menos líneas que otros lenguajes como C++ o Java.\n",
        "\n",
        "Sus principios se resumen en \"El Zen de Python\":\n"
      ],
      "metadata": {
        "id": "XVo-_e2ruq4l"
      }
    },
    {
      "cell_type": "code",
      "source": [
        "import this"
      ],
      "metadata": {
        "colab": {
          "base_uri": "https://localhost:8080/"
        },
        "id": "s9iUF5x4vEuB",
        "outputId": "acf82c79-b621-4fb9-dce6-06d60e07bbbd"
      },
      "execution_count": 1,
      "outputs": [
        {
          "output_type": "stream",
          "name": "stdout",
          "text": [
            "The Zen of Python, by Tim Peters\n",
            "\n",
            "Beautiful is better than ugly.\n",
            "Explicit is better than implicit.\n",
            "Simple is better than complex.\n",
            "Complex is better than complicated.\n",
            "Flat is better than nested.\n",
            "Sparse is better than dense.\n",
            "Readability counts.\n",
            "Special cases aren't special enough to break the rules.\n",
            "Although practicality beats purity.\n",
            "Errors should never pass silently.\n",
            "Unless explicitly silenced.\n",
            "In the face of ambiguity, refuse the temptation to guess.\n",
            "There should be one-- and preferably only one --obvious way to do it.\n",
            "Although that way may not be obvious at first unless you're Dutch.\n",
            "Now is better than never.\n",
            "Although never is often better than *right* now.\n",
            "If the implementation is hard to explain, it's a bad idea.\n",
            "If the implementation is easy to explain, it may be a good idea.\n",
            "Namespaces are one honking great idea -- let's do more of those!\n"
          ]
        }
      ]
    },
    {
      "cell_type": "markdown",
      "source": [
        "## Sintaxis\n",
        "Normas que debemos cumplir para que el intérprete de Python sea capaz de leer y ejecutar el código correctamente.\n",
        "\n",
        "* Una instrucción equivale a una línea de código\n",
        "* Indentación. Cada bloque de código comparte la misma indentación\n",
        "* Comentarios. Texto que figura dentro del código pero NO se ejecuta.\n",
        "* El orden sí *importa*"
      ],
      "metadata": {
        "id": "O22wCMdbS92C"
      }
    },
    {
      "cell_type": "code",
      "source": [
        "print(\"1\")\n",
        "print(\"Hola\")\n",
        "# Bloque de comentarios para explicar/describir la operación\n",
        "# => esto no es un comentario\n",
        "print(\"Hola mundo, ¿que tal, cómo estás?\")\n",
        "print(\"Segunda línea de código\")"
      ],
      "metadata": {
        "colab": {
          "base_uri": "https://localhost:8080/"
        },
        "id": "4yb4dj1jIQt3",
        "outputId": "b825e534-079a-4086-e1ce-9a0e7cf2f2b1"
      },
      "execution_count": null,
      "outputs": [
        {
          "output_type": "stream",
          "name": "stdout",
          "text": [
            "1\n",
            "Hola\n",
            "Hola mundo, ¿que tal, cómo estás?\n",
            "Segunda línea de código\n"
          ]
        }
      ]
    },
    {
      "cell_type": "code",
      "source": [
        "# Este es un comentario\n",
        "\n",
        "\"\"\"\n",
        "Esto es un docstring\n",
        "Servirá para documentar el código\n",
        "puede extenderse más de una línea, (los comentarios no)\n",
        "\"\"\"\n",
        "print(\"Hola mundo\") # print(\"hola Mundo 2\") Voy a imprimir\n",
        "print(\"Adios mundo\")"
      ],
      "metadata": {
        "colab": {
          "base_uri": "https://localhost:8080/"
        },
        "id": "5GgQNcGsmp8v",
        "outputId": "f14d4585-d83e-4f88-90ce-0929259c0e09"
      },
      "execution_count": null,
      "outputs": [
        {
          "output_type": "stream",
          "name": "stdout",
          "text": [
            "Hola mundo\n",
            "Adios mundo\n"
          ]
        }
      ]
    },
    {
      "cell_type": "markdown",
      "source": [
        "## Funciones\n",
        "En Python, una función es un bloque de código reutilizable que realiza una tarea específica. Está definida mediante la palabra clave \"def\" seguida por un nombre descriptivo y paréntesis que pueden contener argumentos necesarios para la función.\n",
        "Las funciones se utilizan principalmente para dividir el código en unidades más pequeñas y manejables, mejorando así la legibilidad, reutilización y mantenimiento del código. Algunos usos comunes de las funciones en Python incluyen:\n",
        "\n",
        "* Reutilización de código: Definir una función permite ejecutar el mismo bloque de código varias veces en diferentes partes del programa.\n",
        "\n",
        "* Modularidad: Las funciones permiten dividir el programa en partes más pequeñas y lógicas, lo que facilita la comprensión y la depuración del código.\n",
        "\n",
        "* Abstracción: Ayudan a ocultar los detalles de implementación al usuario, proporcionando una interfaz clara y fácil de usar.\n",
        "\n",
        "* Estructuración: Organizar el código en funciones facilita la gestión y la colaboración en proyectos de programación más grandes."
      ],
      "metadata": {
        "id": "dPk_M2G8kX14"
      }
    },
    {
      "cell_type": "code",
      "source": [
        "# La estructura básica de una función en Python es:\n",
        "\n",
        "def funcion_que_no_hace_nada():\n",
        "  pass\n",
        "\n",
        "\n",
        "def nombre_funcion_sin_argumentos():\n",
        "  print(\"Esto está indentado\")\n",
        "  print(\"Hola Mundo en funcion sin argumentos\")\n",
        "  # Operaciones indentadas dentro de cada función\n",
        "\n",
        "nombre_funcion_sin_argumentos()"
      ],
      "metadata": {
        "colab": {
          "base_uri": "https://localhost:8080/"
        },
        "id": "cAJ71jn6TLhx",
        "outputId": "38c1f202-75a3-402b-d7c4-a2b986a22b20"
      },
      "execution_count": null,
      "outputs": [
        {
          "output_type": "stream",
          "name": "stdout",
          "text": [
            "Esto está indentado\n",
            "Hola Mundo en funcion sin argumentos\n"
          ]
        }
      ]
    },
    {
      "cell_type": "code",
      "source": [
        "# Argumento obligatorio\n",
        "\n",
        "def mi_funcion_print_ini(text, text2):\n",
        "  print(text)\n",
        "\n",
        "mi_funcion_print_ini(\"hola\", \"otro argumento\")"
      ],
      "metadata": {
        "colab": {
          "base_uri": "https://localhost:8080/"
        },
        "id": "Cr7HNUEz2OoL",
        "outputId": "ad5d0edb-d117-4fef-92ef-acfafefb8337"
      },
      "execution_count": null,
      "outputs": [
        {
          "output_type": "stream",
          "name": "stdout",
          "text": [
            "hola\n"
          ]
        }
      ]
    },
    {
      "cell_type": "code",
      "source": [
        "# Argumento obligatorio y opcional (con valor por defecto)\n",
        "\n",
        "def mi_funcion_print(obligatorio, text = \"Hola sin argumentos (valor por defecto)\"):\n",
        "  print(obligatorio, text)\n",
        "\n",
        "mi_funcion_print(\"=>=> Hola y\", \"Cambiamos el valor por defecto del segundo argumento\")"
      ],
      "metadata": {
        "colab": {
          "base_uri": "https://localhost:8080/"
        },
        "id": "YCKTa7uU2m47",
        "outputId": "91dcf3b0-77ef-4647-da2b-f17cdef693e4"
      },
      "execution_count": null,
      "outputs": [
        {
          "output_type": "stream",
          "name": "stdout",
          "text": [
            "=>=> Hola y Cambiamos el valor por defecto del segundo argumento\n"
          ]
        }
      ]
    },
    {
      "cell_type": "code",
      "source": [
        "# Uso de return para devolver un resultado\n",
        "def mi_funcion_print_return(text: str = \"Hola\"):\n",
        "  print(text)\n",
        "  return 12\n",
        "\n",
        "# Explicitar el tipo de datos que devuelve la función (tipado)\n",
        "def mi_funcion_print(text: str = \"Hola\") -> None:\n",
        "  print(text)\n",
        "\n",
        "def mi_funcion_suma_dos_valores_enteros(a: int, b: int) -> int:\n",
        "  return a + b\n",
        "\n",
        "\n",
        "valor = mi_funcion_print_return()\n",
        "mi_funcion_print(text=\"Hola texto\")\n",
        "print(valor)\n",
        "\n",
        "\n",
        "a, b = 1, 2\n",
        "x = mi_funcion_suma_dos_valores_enteros(3, 5849)\n",
        "print(f\"Suma de dos enteros: {a} + {b} = {mi_funcion_suma_dos_valores_enteros(a, b)}\")\n",
        "\n",
        "print(\"x:\", x)"
      ],
      "metadata": {
        "colab": {
          "base_uri": "https://localhost:8080/"
        },
        "id": "hAHHpzCq18Oq",
        "outputId": "054ffcf2-d606-4197-923d-b743e36ff078"
      },
      "execution_count": null,
      "outputs": [
        {
          "output_type": "stream",
          "name": "stdout",
          "text": [
            "Hola\n",
            "Hola texto\n",
            "12\n",
            "Suma de dos enteros: 1 + 2 = 3\n",
            "x: 5852\n"
          ]
        }
      ]
    },
    {
      "cell_type": "code",
      "source": [
        "# Usaremos rich para enriquecer la impresión por pantalla: (explicaremos los métodos import más adelante)\n",
        "from rich import print\n",
        "from rich.console import Console\n",
        "from rich.panel import Panel\n",
        "\n",
        "print(\"[red]Este es un mensaje en color rojo [/red]\")\n",
        "print(\"[blue]Este es un mensaje en color azul[/blue]\")\n",
        "print(\"[green]Este es un mensaje en color verde[/green]\")\n",
        "\n",
        "console = Console()\n",
        "console.rule(\"[bold]Sección 1[/bold]\")\n",
        "x = 5\n",
        "console.log(f\"Valor de x: {5}\")\n",
        "print(\"Contenido de la sección 1\")"
      ],
      "metadata": {
        "colab": {
          "base_uri": "https://localhost:8080/",
          "height": 142
        },
        "id": "GVDOHwtqDf73",
        "outputId": "d2f2a71d-a4db-40fb-fa96-744585db1b81"
      },
      "execution_count": null,
      "outputs": [
        {
          "output_type": "display_data",
          "data": {
            "text/plain": [
              "\u001b[31mEste es un mensaje en color rojo \u001b[0m\n"
            ],
            "text/html": [
              "<pre style=\"white-space:pre;overflow-x:auto;line-height:normal;font-family:Menlo,'DejaVu Sans Mono',consolas,'Courier New',monospace\"><span style=\"color: #800000; text-decoration-color: #800000\">Este es un mensaje en color rojo </span>\n",
              "</pre>\n"
            ]
          },
          "metadata": {}
        },
        {
          "output_type": "display_data",
          "data": {
            "text/plain": [
              "\u001b[34mEste es un mensaje en color azul\u001b[0m\n"
            ],
            "text/html": [
              "<pre style=\"white-space:pre;overflow-x:auto;line-height:normal;font-family:Menlo,'DejaVu Sans Mono',consolas,'Courier New',monospace\"><span style=\"color: #000080; text-decoration-color: #000080\">Este es un mensaje en color azul</span>\n",
              "</pre>\n"
            ]
          },
          "metadata": {}
        },
        {
          "output_type": "display_data",
          "data": {
            "text/plain": [
              "\u001b[32mEste es un mensaje en color verde\u001b[0m\n"
            ],
            "text/html": [
              "<pre style=\"white-space:pre;overflow-x:auto;line-height:normal;font-family:Menlo,'DejaVu Sans Mono',consolas,'Courier New',monospace\"><span style=\"color: #008000; text-decoration-color: #008000\">Este es un mensaje en color verde</span>\n",
              "</pre>\n"
            ]
          },
          "metadata": {}
        },
        {
          "output_type": "display_data",
          "data": {
            "text/plain": [
              "\u001b[92m──────────────────────────────────────────────────── \u001b[0m\u001b[1mSección \u001b[0m\u001b[1;36m1\u001b[0m\u001b[92m ────────────────────────────────────────────────────\u001b[0m\n"
            ],
            "text/html": [
              "<pre style=\"white-space:pre;overflow-x:auto;line-height:normal;font-family:Menlo,'DejaVu Sans Mono',consolas,'Courier New',monospace\"><span style=\"color: #00ff00; text-decoration-color: #00ff00\">──────────────────────────────────────────────────── </span><span style=\"font-weight: bold\">Sección </span><span style=\"color: #008080; text-decoration-color: #008080; font-weight: bold\">1</span><span style=\"color: #00ff00; text-decoration-color: #00ff00\"> ────────────────────────────────────────────────────</span>\n",
              "</pre>\n"
            ]
          },
          "metadata": {}
        },
        {
          "output_type": "display_data",
          "data": {
            "text/plain": [
              "\u001b[2;36m[17:52:18]\u001b[0m\u001b[2;36m \u001b[0mValor de x: \u001b[1;36m5\u001b[0m                                                          \u001b[2m<ipython-input-8-296962a9a162>:13\u001b[0m\n"
            ],
            "text/html": [
              "<pre style=\"white-space:pre;overflow-x:auto;line-height:normal;font-family:Menlo,'DejaVu Sans Mono',consolas,'Courier New',monospace\"><span style=\"color: #7fbfbf; text-decoration-color: #7fbfbf\">[17:52:18] </span>Valor de x: <span style=\"color: #008080; text-decoration-color: #008080; font-weight: bold\">5</span>                                                          <span style=\"color: #7f7f7f; text-decoration-color: #7f7f7f\">&lt;ipython-input-8-296962a9a162&gt;:13</span>\n",
              "</pre>\n"
            ]
          },
          "metadata": {}
        },
        {
          "output_type": "display_data",
          "data": {
            "text/plain": [
              "Contenido de la sección \u001b[1;36m1\u001b[0m\n"
            ],
            "text/html": [
              "<pre style=\"white-space:pre;overflow-x:auto;line-height:normal;font-family:Menlo,'DejaVu Sans Mono',consolas,'Courier New',monospace\">Contenido de la sección <span style=\"color: #008080; text-decoration-color: #008080; font-weight: bold\">1</span>\n",
              "</pre>\n"
            ]
          },
          "metadata": {}
        }
      ]
    },
    {
      "cell_type": "markdown",
      "source": [
        "## Variables en python\n",
        "Las variables en Python son nombres que se utilizan para hacer referencia a valores almacenados en la memoria durante la ejecución del programa. Algunas características importantes de las variables en Python son:\n",
        "\n",
        "* Empiezan con una letra minúscula o un guion bajo (`_`), pero nunca con un número.\n",
        "* Pueden contener caracteres alfanuméricos y guiones bajos (`_`).\n",
        "* Son sensibles a las mayúsculas y minúsculas, lo que significa que `nombre`, `Nombre` y `NOMBRE` son considerados nombres de variables distintos.\n"
      ],
      "metadata": {
        "id": "yrKpABcvTMzG"
      }
    },
    {
      "cell_type": "code",
      "execution_count": null,
      "metadata": {
        "colab": {
          "base_uri": "https://localhost:8080/",
          "height": 142
        },
        "id": "NpV0CcHOSEtT",
        "outputId": "59e4ca9d-376a-4f0b-a009-913916f1cff2"
      },
      "outputs": [
        {
          "output_type": "display_data",
          "data": {
            "text/plain": [
              "\u001b[92m──────────────────────────────────────────────────── \u001b[0m\u001b[1mVaribles\u001b[0m\u001b[92m ─────────────────────────────────────────────────────\u001b[0m\n"
            ],
            "text/html": [
              "<pre style=\"white-space:pre;overflow-x:auto;line-height:normal;font-family:Menlo,'DejaVu Sans Mono',consolas,'Courier New',monospace\"><span style=\"color: #00ff00; text-decoration-color: #00ff00\">──────────────────────────────────────────────────── </span><span style=\"font-weight: bold\">Varibles</span><span style=\"color: #00ff00; text-decoration-color: #00ff00\"> ─────────────────────────────────────────────────────</span>\n",
              "</pre>\n"
            ]
          },
          "metadata": {}
        },
        {
          "output_type": "display_data",
          "data": {
            "text/plain": [
              "x: \u001b[1;36m42\u001b[0m + texto\n"
            ],
            "text/html": [
              "<pre style=\"white-space:pre;overflow-x:auto;line-height:normal;font-family:Menlo,'DejaVu Sans Mono',consolas,'Courier New',monospace\">x: <span style=\"color: #008080; text-decoration-color: #008080; font-weight: bold\">42</span> + texto\n",
              "</pre>\n"
            ]
          },
          "metadata": {}
        },
        {
          "output_type": "display_data",
          "data": {
            "text/plain": [
              "Variable x: \u001b[1;36m42\u001b[0m\n"
            ],
            "text/html": [
              "<pre style=\"white-space:pre;overflow-x:auto;line-height:normal;font-family:Menlo,'DejaVu Sans Mono',consolas,'Courier New',monospace\">Variable x: <span style=\"color: #008080; text-decoration-color: #008080; font-weight: bold\">42</span>\n",
              "</pre>\n"
            ]
          },
          "metadata": {}
        },
        {
          "output_type": "display_data",
          "data": {
            "text/plain": [
              "Tipo de datos x: \u001b[1m<\u001b[0m\u001b[1;95mclass\u001b[0m\u001b[39m \u001b[0m\u001b[32m'int'\u001b[0m\u001b[1m>\u001b[0m\n"
            ],
            "text/html": [
              "<pre style=\"white-space:pre;overflow-x:auto;line-height:normal;font-family:Menlo,'DejaVu Sans Mono',consolas,'Courier New',monospace\">Tipo de datos x: <span style=\"font-weight: bold\">&lt;</span><span style=\"color: #ff00ff; text-decoration-color: #ff00ff; font-weight: bold\">class</span><span style=\"color: #000000; text-decoration-color: #000000\"> </span><span style=\"color: #008000; text-decoration-color: #008000\">'int'</span><span style=\"font-weight: bold\">&gt;</span>\n",
              "</pre>\n"
            ]
          },
          "metadata": {}
        },
        {
          "output_type": "display_data",
          "data": {
            "text/plain": [
              "nombre_varibale_ento_que_quiera: \u001b[1;36m15657\u001b[0m\n"
            ],
            "text/html": [
              "<pre style=\"white-space:pre;overflow-x:auto;line-height:normal;font-family:Menlo,'DejaVu Sans Mono',consolas,'Courier New',monospace\">nombre_varibale_ento_que_quiera: <span style=\"color: #008080; text-decoration-color: #008080; font-weight: bold\">15657</span>\n",
              "</pre>\n"
            ]
          },
          "metadata": {}
        },
        {
          "output_type": "display_data",
          "data": {
            "text/plain": [
              "Valor nuevo de y: \u001b[1;36m43\u001b[0m\n"
            ],
            "text/html": [
              "<pre style=\"white-space:pre;overflow-x:auto;line-height:normal;font-family:Menlo,'DejaVu Sans Mono',consolas,'Courier New',monospace\">Valor nuevo de y: <span style=\"color: #008080; text-decoration-color: #008080; font-weight: bold\">43</span>\n",
              "</pre>\n"
            ]
          },
          "metadata": {}
        }
      ],
      "source": [
        "console.rule(\"[bold]Varibles[/bold]\")\n",
        "\n",
        "# Tipos de variables\n",
        "# Debemos inicializar las variables\n",
        "x = 42  # Entero (int)\n",
        "X = 42  # Entero (int)\n",
        "print(\"x:\", x, \"+ texto\")\n",
        "print(f\"Variable x: {x}\")\n",
        "print(f\"Tipo de datos x: {type(x)}\")\n",
        "nombre_varibale_ento_que_quiera = 15657\n",
        "print(f\"nombre_varibale_ento_que_quiera: {nombre_varibale_ento_que_quiera}\")\n",
        "\n",
        "y = 43\n",
        "print(\"Valor nuevo de y:\", y)"
      ]
    },
    {
      "cell_type": "code",
      "source": [
        "console.rule(\"Enteros\")\n",
        "X = 43\n",
        "x = 23\n",
        "print(f\"Variable X: {X}. Variable x: {x}\")\n",
        "print(f\"Tipo de datos x: {type(x)}\") # Método built-in\n",
        "\n",
        "console.rule(\"Decimales\")\n",
        "x = 15265.4264635 # Flotante (float)\n",
        "print(f\"Variable x: {x}\")\n",
        "print(f\"Tipo de datos x: {type(x)}\")\n",
        "\n",
        "x = 15265.4264635546549849845641524135465479879 # Flotante (float)\n",
        "print(f\"Variable x: {x}\")\n",
        "print(f\"Tipo de datos x: {type(x)}\")\n",
        "\n",
        "console.rule(\"Caracteres\")\n",
        "x = \"Hola mundo\"\n",
        "print(f\"Variable x: {x}\")\n",
        "print(f\"Tipo de datos x: {type(x)}\")\n",
        "\n",
        "# Cadena de texto (str)\n",
        "y = \"\"\"\n",
        "  Cadena larga de caracteres que continúa\n",
        "  durante varias líneas\n",
        "  hasta terminar \"\"\"\n",
        "print(\"y:\", y)\n",
        "\n",
        "console.rule(\"Booleanos\")\n",
        "x1 = False  # Valor booleano (bool)\n",
        "x2 = True\n",
        "print(f\"Variable x1: {x1}\")\n",
        "print(f\"Variable x2: {x2}\")\n",
        "print(f\"Tipo de datos x1: {type(x1)}\")\n",
        "\n",
        "console.rule(\"Nulos\")\n",
        "x = None  # Valor nulo (None)\n",
        "print(\"fVariable x: {x}\")\n",
        "print(f\"Tipo de datos x: {type(x)}\")"
      ],
      "metadata": {
        "colab": {
          "base_uri": "https://localhost:8080/",
          "height": 477
        },
        "id": "x_6LBJNGTqdc",
        "outputId": "35c61c51-a763-49db-9f9a-a99212c45bab"
      },
      "execution_count": null,
      "outputs": [
        {
          "output_type": "display_data",
          "data": {
            "text/plain": [
              "\u001b[92m───────────────────────────────────────────────────── \u001b[0mEnteros\u001b[92m ─────────────────────────────────────────────────────\u001b[0m\n"
            ],
            "text/html": [
              "<pre style=\"white-space:pre;overflow-x:auto;line-height:normal;font-family:Menlo,'DejaVu Sans Mono',consolas,'Courier New',monospace\"><span style=\"color: #00ff00; text-decoration-color: #00ff00\">───────────────────────────────────────────────────── </span>Enteros<span style=\"color: #00ff00; text-decoration-color: #00ff00\"> ─────────────────────────────────────────────────────</span>\n",
              "</pre>\n"
            ]
          },
          "metadata": {}
        },
        {
          "output_type": "display_data",
          "data": {
            "text/plain": [
              "Variable X: \u001b[1;36m43\u001b[0m. Variable x: \u001b[1;36m23\u001b[0m\n"
            ],
            "text/html": [
              "<pre style=\"white-space:pre;overflow-x:auto;line-height:normal;font-family:Menlo,'DejaVu Sans Mono',consolas,'Courier New',monospace\">Variable X: <span style=\"color: #008080; text-decoration-color: #008080; font-weight: bold\">43</span>. Variable x: <span style=\"color: #008080; text-decoration-color: #008080; font-weight: bold\">23</span>\n",
              "</pre>\n"
            ]
          },
          "metadata": {}
        },
        {
          "output_type": "display_data",
          "data": {
            "text/plain": [
              "Tipo de datos x: \u001b[1m<\u001b[0m\u001b[1;95mclass\u001b[0m\u001b[39m \u001b[0m\u001b[32m'int'\u001b[0m\u001b[1m>\u001b[0m\n"
            ],
            "text/html": [
              "<pre style=\"white-space:pre;overflow-x:auto;line-height:normal;font-family:Menlo,'DejaVu Sans Mono',consolas,'Courier New',monospace\">Tipo de datos x: <span style=\"font-weight: bold\">&lt;</span><span style=\"color: #ff00ff; text-decoration-color: #ff00ff; font-weight: bold\">class</span><span style=\"color: #000000; text-decoration-color: #000000\"> </span><span style=\"color: #008000; text-decoration-color: #008000\">'int'</span><span style=\"font-weight: bold\">&gt;</span>\n",
              "</pre>\n"
            ]
          },
          "metadata": {}
        },
        {
          "output_type": "display_data",
          "data": {
            "text/plain": [
              "\u001b[92m──────────────────────────────────────────────────── \u001b[0mDecimales\u001b[92m ────────────────────────────────────────────────────\u001b[0m\n"
            ],
            "text/html": [
              "<pre style=\"white-space:pre;overflow-x:auto;line-height:normal;font-family:Menlo,'DejaVu Sans Mono',consolas,'Courier New',monospace\"><span style=\"color: #00ff00; text-decoration-color: #00ff00\">──────────────────────────────────────────────────── </span>Decimales<span style=\"color: #00ff00; text-decoration-color: #00ff00\"> ────────────────────────────────────────────────────</span>\n",
              "</pre>\n"
            ]
          },
          "metadata": {}
        },
        {
          "output_type": "display_data",
          "data": {
            "text/plain": [
              "Variable x: \u001b[1;36m15265.4264635\u001b[0m\n"
            ],
            "text/html": [
              "<pre style=\"white-space:pre;overflow-x:auto;line-height:normal;font-family:Menlo,'DejaVu Sans Mono',consolas,'Courier New',monospace\">Variable x: <span style=\"color: #008080; text-decoration-color: #008080; font-weight: bold\">15265.4264635</span>\n",
              "</pre>\n"
            ]
          },
          "metadata": {}
        },
        {
          "output_type": "display_data",
          "data": {
            "text/plain": [
              "Tipo de datos x: \u001b[1m<\u001b[0m\u001b[1;95mclass\u001b[0m\u001b[39m \u001b[0m\u001b[32m'float'\u001b[0m\u001b[1m>\u001b[0m\n"
            ],
            "text/html": [
              "<pre style=\"white-space:pre;overflow-x:auto;line-height:normal;font-family:Menlo,'DejaVu Sans Mono',consolas,'Courier New',monospace\">Tipo de datos x: <span style=\"font-weight: bold\">&lt;</span><span style=\"color: #ff00ff; text-decoration-color: #ff00ff; font-weight: bold\">class</span><span style=\"color: #000000; text-decoration-color: #000000\"> </span><span style=\"color: #008000; text-decoration-color: #008000\">'float'</span><span style=\"font-weight: bold\">&gt;</span>\n",
              "</pre>\n"
            ]
          },
          "metadata": {}
        },
        {
          "output_type": "display_data",
          "data": {
            "text/plain": [
              "Variable x: \u001b[1;36m15265.426463554655\u001b[0m\n"
            ],
            "text/html": [
              "<pre style=\"white-space:pre;overflow-x:auto;line-height:normal;font-family:Menlo,'DejaVu Sans Mono',consolas,'Courier New',monospace\">Variable x: <span style=\"color: #008080; text-decoration-color: #008080; font-weight: bold\">15265.426463554655</span>\n",
              "</pre>\n"
            ]
          },
          "metadata": {}
        },
        {
          "output_type": "display_data",
          "data": {
            "text/plain": [
              "Tipo de datos x: \u001b[1m<\u001b[0m\u001b[1;95mclass\u001b[0m\u001b[39m \u001b[0m\u001b[32m'float'\u001b[0m\u001b[1m>\u001b[0m\n"
            ],
            "text/html": [
              "<pre style=\"white-space:pre;overflow-x:auto;line-height:normal;font-family:Menlo,'DejaVu Sans Mono',consolas,'Courier New',monospace\">Tipo de datos x: <span style=\"font-weight: bold\">&lt;</span><span style=\"color: #ff00ff; text-decoration-color: #ff00ff; font-weight: bold\">class</span><span style=\"color: #000000; text-decoration-color: #000000\"> </span><span style=\"color: #008000; text-decoration-color: #008000\">'float'</span><span style=\"font-weight: bold\">&gt;</span>\n",
              "</pre>\n"
            ]
          },
          "metadata": {}
        },
        {
          "output_type": "display_data",
          "data": {
            "text/plain": [
              "\u001b[92m─────────────────────────────────────────────────── \u001b[0mCaracteres\u001b[92m ────────────────────────────────────────────────────\u001b[0m\n"
            ],
            "text/html": [
              "<pre style=\"white-space:pre;overflow-x:auto;line-height:normal;font-family:Menlo,'DejaVu Sans Mono',consolas,'Courier New',monospace\"><span style=\"color: #00ff00; text-decoration-color: #00ff00\">─────────────────────────────────────────────────── </span>Caracteres<span style=\"color: #00ff00; text-decoration-color: #00ff00\"> ────────────────────────────────────────────────────</span>\n",
              "</pre>\n"
            ]
          },
          "metadata": {}
        },
        {
          "output_type": "display_data",
          "data": {
            "text/plain": [
              "Variable x: Hola mundo\n"
            ],
            "text/html": [
              "<pre style=\"white-space:pre;overflow-x:auto;line-height:normal;font-family:Menlo,'DejaVu Sans Mono',consolas,'Courier New',monospace\">Variable x: Hola mundo\n",
              "</pre>\n"
            ]
          },
          "metadata": {}
        },
        {
          "output_type": "display_data",
          "data": {
            "text/plain": [
              "Tipo de datos x: \u001b[1m<\u001b[0m\u001b[1;95mclass\u001b[0m\u001b[39m \u001b[0m\u001b[32m'str'\u001b[0m\u001b[1m>\u001b[0m\n"
            ],
            "text/html": [
              "<pre style=\"white-space:pre;overflow-x:auto;line-height:normal;font-family:Menlo,'DejaVu Sans Mono',consolas,'Courier New',monospace\">Tipo de datos x: <span style=\"font-weight: bold\">&lt;</span><span style=\"color: #ff00ff; text-decoration-color: #ff00ff; font-weight: bold\">class</span><span style=\"color: #000000; text-decoration-color: #000000\"> </span><span style=\"color: #008000; text-decoration-color: #008000\">'str'</span><span style=\"font-weight: bold\">&gt;</span>\n",
              "</pre>\n"
            ]
          },
          "metadata": {}
        },
        {
          "output_type": "display_data",
          "data": {
            "text/plain": [
              "y: \n",
              "  Cadena larga de caracteres que continúa\n",
              "  durante varias líneas\n",
              "  hasta terminar \n"
            ],
            "text/html": [
              "<pre style=\"white-space:pre;overflow-x:auto;line-height:normal;font-family:Menlo,'DejaVu Sans Mono',consolas,'Courier New',monospace\">y: \n",
              "  Cadena larga de caracteres que continúa\n",
              "  durante varias líneas\n",
              "  hasta terminar \n",
              "</pre>\n"
            ]
          },
          "metadata": {}
        },
        {
          "output_type": "display_data",
          "data": {
            "text/plain": [
              "\u001b[92m──────────────────────────────────────────────────── \u001b[0mBooleanos\u001b[92m ────────────────────────────────────────────────────\u001b[0m\n"
            ],
            "text/html": [
              "<pre style=\"white-space:pre;overflow-x:auto;line-height:normal;font-family:Menlo,'DejaVu Sans Mono',consolas,'Courier New',monospace\"><span style=\"color: #00ff00; text-decoration-color: #00ff00\">──────────────────────────────────────────────────── </span>Booleanos<span style=\"color: #00ff00; text-decoration-color: #00ff00\"> ────────────────────────────────────────────────────</span>\n",
              "</pre>\n"
            ]
          },
          "metadata": {}
        },
        {
          "output_type": "display_data",
          "data": {
            "text/plain": [
              "Variable x1: \u001b[3;91mFalse\u001b[0m\n"
            ],
            "text/html": [
              "<pre style=\"white-space:pre;overflow-x:auto;line-height:normal;font-family:Menlo,'DejaVu Sans Mono',consolas,'Courier New',monospace\">Variable x1: <span style=\"color: #ff0000; text-decoration-color: #ff0000; font-style: italic\">False</span>\n",
              "</pre>\n"
            ]
          },
          "metadata": {}
        },
        {
          "output_type": "display_data",
          "data": {
            "text/plain": [
              "Variable x2: \u001b[3;92mTrue\u001b[0m\n"
            ],
            "text/html": [
              "<pre style=\"white-space:pre;overflow-x:auto;line-height:normal;font-family:Menlo,'DejaVu Sans Mono',consolas,'Courier New',monospace\">Variable x2: <span style=\"color: #00ff00; text-decoration-color: #00ff00; font-style: italic\">True</span>\n",
              "</pre>\n"
            ]
          },
          "metadata": {}
        },
        {
          "output_type": "display_data",
          "data": {
            "text/plain": [
              "Tipo de datos x1: \u001b[1m<\u001b[0m\u001b[1;95mclass\u001b[0m\u001b[39m \u001b[0m\u001b[32m'bool'\u001b[0m\u001b[1m>\u001b[0m\n"
            ],
            "text/html": [
              "<pre style=\"white-space:pre;overflow-x:auto;line-height:normal;font-family:Menlo,'DejaVu Sans Mono',consolas,'Courier New',monospace\">Tipo de datos x1: <span style=\"font-weight: bold\">&lt;</span><span style=\"color: #ff00ff; text-decoration-color: #ff00ff; font-weight: bold\">class</span><span style=\"color: #000000; text-decoration-color: #000000\"> </span><span style=\"color: #008000; text-decoration-color: #008000\">'bool'</span><span style=\"font-weight: bold\">&gt;</span>\n",
              "</pre>\n"
            ]
          },
          "metadata": {}
        },
        {
          "output_type": "display_data",
          "data": {
            "text/plain": [
              "\u001b[92m────────────────────────────────────────────────────── \u001b[0mNulos\u001b[92m ──────────────────────────────────────────────────────\u001b[0m\n"
            ],
            "text/html": [
              "<pre style=\"white-space:pre;overflow-x:auto;line-height:normal;font-family:Menlo,'DejaVu Sans Mono',consolas,'Courier New',monospace\"><span style=\"color: #00ff00; text-decoration-color: #00ff00\">────────────────────────────────────────────────────── </span>Nulos<span style=\"color: #00ff00; text-decoration-color: #00ff00\"> ──────────────────────────────────────────────────────</span>\n",
              "</pre>\n"
            ]
          },
          "metadata": {}
        },
        {
          "output_type": "display_data",
          "data": {
            "text/plain": [
              "fVariable x: \u001b[1m{\u001b[0mx\u001b[1m}\u001b[0m\n"
            ],
            "text/html": [
              "<pre style=\"white-space:pre;overflow-x:auto;line-height:normal;font-family:Menlo,'DejaVu Sans Mono',consolas,'Courier New',monospace\">fVariable x: <span style=\"font-weight: bold\">{</span>x<span style=\"font-weight: bold\">}</span>\n",
              "</pre>\n"
            ]
          },
          "metadata": {}
        },
        {
          "output_type": "display_data",
          "data": {
            "text/plain": [
              "Tipo de datos x: \u001b[1m<\u001b[0m\u001b[1;95mclass\u001b[0m\u001b[39m \u001b[0m\u001b[32m'NoneType'\u001b[0m\u001b[1m>\u001b[0m\n"
            ],
            "text/html": [
              "<pre style=\"white-space:pre;overflow-x:auto;line-height:normal;font-family:Menlo,'DejaVu Sans Mono',consolas,'Courier New',monospace\">Tipo de datos x: <span style=\"font-weight: bold\">&lt;</span><span style=\"color: #ff00ff; text-decoration-color: #ff00ff; font-weight: bold\">class</span><span style=\"color: #000000; text-decoration-color: #000000\"> </span><span style=\"color: #008000; text-decoration-color: #008000\">'NoneType'</span><span style=\"font-weight: bold\">&gt;</span>\n",
              "</pre>\n"
            ]
          },
          "metadata": {}
        }
      ]
    },
    {
      "cell_type": "markdown",
      "source": [
        "---\n",
        "## Listas y Diccionarios\n",
        "* Una lista es una secuencia mutable y ordenada de elementos. Como tal, puede ser indexada, cortada y modificada. Se puede acceder a cada elemento utilizando su posición en la lista. Lo mismo ocurre con tu agenda, donde puedes modificar el orden en el que haces las cosas e incluso reprogramar una serie de tareas para el día siguiente si es necesario.\n",
        "\n",
        "* Un diccionario es un conjunto mutable y desordenado de pares clave-valor donde cada clave debe ser única. Para acceder a un elemento determinado, debemos referirnos a él utilizando su clave, de forma parecida a como se buscaría una palabra en un diccionario escolar.\n",
        "\n",
        "Estas estructuras de datos son fundamentales en Python y proporcionan herramientas poderosas para organizar y manipular información de manera eficiente en programas y aplicaciones."
      ],
      "metadata": {
        "id": "p5mN2XmmT-pa"
      }
    },
    {
      "cell_type": "markdown",
      "source": [
        "## Listas"
      ],
      "metadata": {
        "id": "NhSKngCRqSvB"
      }
    },
    {
      "cell_type": "code",
      "source": [
        "console.print(Panel(\"Listas\"), style=\"orchid\")\n",
        "console.rule(\"Lista base\", style=\"orchid\")\n",
        "\n",
        "l = [1, 2, 3]\n",
        "x = [10504, 23.42, 7, 4, 5, 8, \"XZ\"]\n",
        "y = [1.72134]\n",
        "z = [\"A\", \"B\"]\n",
        "a = [False, False, True]\n",
        "b = [None]\n",
        "\n",
        "print(f\"Valor de l: {l}\")\n",
        "print(f\"Valor de x: {x}\")\n",
        "print(f\"Valor de y: {y}\")\n",
        "print(f\"Valor de z: {z}\")\n",
        "print(f\"Valor de a: {a}\")\n",
        "print(f\"Valor de b: {b}\")\n",
        "\n",
        "print(\"Muestra el valor 5:\", x[4])\n",
        "print(\"type(x):\", type(l))\n"
      ],
      "metadata": {
        "colab": {
          "base_uri": "https://localhost:8080/",
          "height": 268
        },
        "id": "D0td69KKUPeI",
        "outputId": "a39b1a22-07e2-4716-d85b-bf4df6fb575d"
      },
      "execution_count": null,
      "outputs": [
        {
          "output_type": "display_data",
          "data": {
            "text/plain": [
              "\u001b[38;5;170m╭─────────────────────────────────────────────────────────────────────────────────────────────────────────────────╮\u001b[0m\n",
              "\u001b[38;5;170m│\u001b[0m\u001b[38;5;170m \u001b[0m\u001b[38;5;170mListas\u001b[0m\u001b[38;5;170m                                                                                                         \u001b[0m\u001b[38;5;170m \u001b[0m\u001b[38;5;170m│\u001b[0m\n",
              "\u001b[38;5;170m╰─────────────────────────────────────────────────────────────────────────────────────────────────────────────────╯\u001b[0m\n"
            ],
            "text/html": [
              "<pre style=\"white-space:pre;overflow-x:auto;line-height:normal;font-family:Menlo,'DejaVu Sans Mono',consolas,'Courier New',monospace\"><span style=\"color: #d75fd7; text-decoration-color: #d75fd7\">╭─────────────────────────────────────────────────────────────────────────────────────────────────────────────────╮</span>\n",
              "<span style=\"color: #d75fd7; text-decoration-color: #d75fd7\">│ Listas                                                                                                          │</span>\n",
              "<span style=\"color: #d75fd7; text-decoration-color: #d75fd7\">╰─────────────────────────────────────────────────────────────────────────────────────────────────────────────────╯</span>\n",
              "</pre>\n"
            ]
          },
          "metadata": {}
        },
        {
          "output_type": "display_data",
          "data": {
            "text/plain": [
              "\u001b[38;5;170m─────────────────────────────────────────────────── \u001b[0mLista base\u001b[38;5;170m ────────────────────────────────────────────────────\u001b[0m\n"
            ],
            "text/html": [
              "<pre style=\"white-space:pre;overflow-x:auto;line-height:normal;font-family:Menlo,'DejaVu Sans Mono',consolas,'Courier New',monospace\"><span style=\"color: #d75fd7; text-decoration-color: #d75fd7\">─────────────────────────────────────────────────── </span>Lista base<span style=\"color: #d75fd7; text-decoration-color: #d75fd7\"> ────────────────────────────────────────────────────</span>\n",
              "</pre>\n"
            ]
          },
          "metadata": {}
        },
        {
          "output_type": "display_data",
          "data": {
            "text/plain": [
              "Valor de l: \u001b[1m[\u001b[0m\u001b[1;36m1\u001b[0m, \u001b[1;36m2\u001b[0m, \u001b[1;36m3\u001b[0m\u001b[1m]\u001b[0m\n"
            ],
            "text/html": [
              "<pre style=\"white-space:pre;overflow-x:auto;line-height:normal;font-family:Menlo,'DejaVu Sans Mono',consolas,'Courier New',monospace\">Valor de l: <span style=\"font-weight: bold\">[</span><span style=\"color: #008080; text-decoration-color: #008080; font-weight: bold\">1</span>, <span style=\"color: #008080; text-decoration-color: #008080; font-weight: bold\">2</span>, <span style=\"color: #008080; text-decoration-color: #008080; font-weight: bold\">3</span><span style=\"font-weight: bold\">]</span>\n",
              "</pre>\n"
            ]
          },
          "metadata": {}
        },
        {
          "output_type": "display_data",
          "data": {
            "text/plain": [
              "Valor de x: \u001b[1m[\u001b[0m\u001b[1;36m10504\u001b[0m, \u001b[1;36m23.42\u001b[0m, \u001b[1;36m7\u001b[0m, \u001b[1;36m4\u001b[0m, \u001b[1;36m5\u001b[0m, \u001b[1;36m8\u001b[0m, \u001b[32m'XZ'\u001b[0m\u001b[1m]\u001b[0m\n"
            ],
            "text/html": [
              "<pre style=\"white-space:pre;overflow-x:auto;line-height:normal;font-family:Menlo,'DejaVu Sans Mono',consolas,'Courier New',monospace\">Valor de x: <span style=\"font-weight: bold\">[</span><span style=\"color: #008080; text-decoration-color: #008080; font-weight: bold\">10504</span>, <span style=\"color: #008080; text-decoration-color: #008080; font-weight: bold\">23.42</span>, <span style=\"color: #008080; text-decoration-color: #008080; font-weight: bold\">7</span>, <span style=\"color: #008080; text-decoration-color: #008080; font-weight: bold\">4</span>, <span style=\"color: #008080; text-decoration-color: #008080; font-weight: bold\">5</span>, <span style=\"color: #008080; text-decoration-color: #008080; font-weight: bold\">8</span>, <span style=\"color: #008000; text-decoration-color: #008000\">'XZ'</span><span style=\"font-weight: bold\">]</span>\n",
              "</pre>\n"
            ]
          },
          "metadata": {}
        },
        {
          "output_type": "display_data",
          "data": {
            "text/plain": [
              "Valor de y: \u001b[1m[\u001b[0m\u001b[1;36m1.72134\u001b[0m\u001b[1m]\u001b[0m\n"
            ],
            "text/html": [
              "<pre style=\"white-space:pre;overflow-x:auto;line-height:normal;font-family:Menlo,'DejaVu Sans Mono',consolas,'Courier New',monospace\">Valor de y: <span style=\"font-weight: bold\">[</span><span style=\"color: #008080; text-decoration-color: #008080; font-weight: bold\">1.72134</span><span style=\"font-weight: bold\">]</span>\n",
              "</pre>\n"
            ]
          },
          "metadata": {}
        },
        {
          "output_type": "display_data",
          "data": {
            "text/plain": [
              "Valor de z: \u001b[1m[\u001b[0m\u001b[32m'A'\u001b[0m, \u001b[32m'B'\u001b[0m\u001b[1m]\u001b[0m\n"
            ],
            "text/html": [
              "<pre style=\"white-space:pre;overflow-x:auto;line-height:normal;font-family:Menlo,'DejaVu Sans Mono',consolas,'Courier New',monospace\">Valor de z: <span style=\"font-weight: bold\">[</span><span style=\"color: #008000; text-decoration-color: #008000\">'A'</span>, <span style=\"color: #008000; text-decoration-color: #008000\">'B'</span><span style=\"font-weight: bold\">]</span>\n",
              "</pre>\n"
            ]
          },
          "metadata": {}
        },
        {
          "output_type": "display_data",
          "data": {
            "text/plain": [
              "Valor de a: \u001b[1m[\u001b[0m\u001b[3;91mFalse\u001b[0m, \u001b[3;91mFalse\u001b[0m, \u001b[3;92mTrue\u001b[0m\u001b[1m]\u001b[0m\n"
            ],
            "text/html": [
              "<pre style=\"white-space:pre;overflow-x:auto;line-height:normal;font-family:Menlo,'DejaVu Sans Mono',consolas,'Courier New',monospace\">Valor de a: <span style=\"font-weight: bold\">[</span><span style=\"color: #ff0000; text-decoration-color: #ff0000; font-style: italic\">False</span>, <span style=\"color: #ff0000; text-decoration-color: #ff0000; font-style: italic\">False</span>, <span style=\"color: #00ff00; text-decoration-color: #00ff00; font-style: italic\">True</span><span style=\"font-weight: bold\">]</span>\n",
              "</pre>\n"
            ]
          },
          "metadata": {}
        },
        {
          "output_type": "display_data",
          "data": {
            "text/plain": [
              "Valor de b: \u001b[1m[\u001b[0m\u001b[3;35mNone\u001b[0m\u001b[1m]\u001b[0m\n"
            ],
            "text/html": [
              "<pre style=\"white-space:pre;overflow-x:auto;line-height:normal;font-family:Menlo,'DejaVu Sans Mono',consolas,'Courier New',monospace\">Valor de b: <span style=\"font-weight: bold\">[</span><span style=\"color: #800080; text-decoration-color: #800080; font-style: italic\">None</span><span style=\"font-weight: bold\">]</span>\n",
              "</pre>\n"
            ]
          },
          "metadata": {}
        },
        {
          "output_type": "display_data",
          "data": {
            "text/plain": [
              "Muestra el valor \u001b[1;36m5\u001b[0m: \u001b[1;36m5\u001b[0m\n"
            ],
            "text/html": [
              "<pre style=\"white-space:pre;overflow-x:auto;line-height:normal;font-family:Menlo,'DejaVu Sans Mono',consolas,'Courier New',monospace\">Muestra el valor <span style=\"color: #008080; text-decoration-color: #008080; font-weight: bold\">5</span>: <span style=\"color: #008080; text-decoration-color: #008080; font-weight: bold\">5</span>\n",
              "</pre>\n"
            ]
          },
          "metadata": {}
        },
        {
          "output_type": "display_data",
          "data": {
            "text/plain": [
              "\u001b[1;35mtype\u001b[0m\u001b[1m(\u001b[0mx\u001b[1m)\u001b[0m: \u001b[1m<\u001b[0m\u001b[1;95mclass\u001b[0m\u001b[39m \u001b[0m\u001b[32m'list'\u001b[0m\u001b[1m>\u001b[0m\n"
            ],
            "text/html": [
              "<pre style=\"white-space:pre;overflow-x:auto;line-height:normal;font-family:Menlo,'DejaVu Sans Mono',consolas,'Courier New',monospace\"><span style=\"color: #800080; text-decoration-color: #800080; font-weight: bold\">type</span><span style=\"font-weight: bold\">(</span>x<span style=\"font-weight: bold\">)</span>: <span style=\"font-weight: bold\">&lt;</span><span style=\"color: #ff00ff; text-decoration-color: #ff00ff; font-weight: bold\">class</span><span style=\"color: #000000; text-decoration-color: #000000\"> </span><span style=\"color: #008000; text-decoration-color: #008000\">'list'</span><span style=\"font-weight: bold\">&gt;</span>\n",
              "</pre>\n"
            ]
          },
          "metadata": {}
        }
      ]
    },
    {
      "cell_type": "code",
      "source": [
        "console.rule(\"Indexación\", style=\"orchid\")\n",
        "\n",
        "# Indexación\n",
        "print(f\"Valor del índice 0: {x[0]}\")\n",
        "print(f\"Valor de la posición 3 (índice 2): {x[2]}\")\n",
        "print(f\"Lista x: {x}\")"
      ],
      "metadata": {
        "colab": {
          "base_uri": "https://localhost:8080/",
          "height": 101
        },
        "id": "7gTP7e7qTHTx",
        "outputId": "438b4dcf-a5e3-44d1-d6de-bda7dff6aaed"
      },
      "execution_count": null,
      "outputs": [
        {
          "output_type": "display_data",
          "data": {
            "text/plain": [
              "\u001b[38;5;170m─────────────────────────────────────────────────── \u001b[0mIndexación\u001b[38;5;170m ────────────────────────────────────────────────────\u001b[0m\n"
            ],
            "text/html": [
              "<pre style=\"white-space:pre;overflow-x:auto;line-height:normal;font-family:Menlo,'DejaVu Sans Mono',consolas,'Courier New',monospace\"><span style=\"color: #d75fd7; text-decoration-color: #d75fd7\">─────────────────────────────────────────────────── </span>Indexación<span style=\"color: #d75fd7; text-decoration-color: #d75fd7\"> ────────────────────────────────────────────────────</span>\n",
              "</pre>\n"
            ]
          },
          "metadata": {}
        },
        {
          "output_type": "display_data",
          "data": {
            "text/plain": [
              "Valor del índice \u001b[1;36m0\u001b[0m: \u001b[1;36m10504\u001b[0m\n"
            ],
            "text/html": [
              "<pre style=\"white-space:pre;overflow-x:auto;line-height:normal;font-family:Menlo,'DejaVu Sans Mono',consolas,'Courier New',monospace\">Valor del índice <span style=\"color: #008080; text-decoration-color: #008080; font-weight: bold\">0</span>: <span style=\"color: #008080; text-decoration-color: #008080; font-weight: bold\">10504</span>\n",
              "</pre>\n"
            ]
          },
          "metadata": {}
        },
        {
          "output_type": "display_data",
          "data": {
            "text/plain": [
              "Valor de la posición \u001b[1;36m3\u001b[0m \u001b[1m(\u001b[0míndice \u001b[1;36m2\u001b[0m\u001b[1m)\u001b[0m: \u001b[1;36m7\u001b[0m\n"
            ],
            "text/html": [
              "<pre style=\"white-space:pre;overflow-x:auto;line-height:normal;font-family:Menlo,'DejaVu Sans Mono',consolas,'Courier New',monospace\">Valor de la posición <span style=\"color: #008080; text-decoration-color: #008080; font-weight: bold\">3</span> <span style=\"font-weight: bold\">(</span>índice <span style=\"color: #008080; text-decoration-color: #008080; font-weight: bold\">2</span><span style=\"font-weight: bold\">)</span>: <span style=\"color: #008080; text-decoration-color: #008080; font-weight: bold\">7</span>\n",
              "</pre>\n"
            ]
          },
          "metadata": {}
        },
        {
          "output_type": "display_data",
          "data": {
            "text/plain": [
              "Lista x: \u001b[1m[\u001b[0m\u001b[1;36m10504\u001b[0m, \u001b[1;36m23.42\u001b[0m, \u001b[1;36m7\u001b[0m, \u001b[1;36m4\u001b[0m, \u001b[1;36m5\u001b[0m, \u001b[1;36m8\u001b[0m, \u001b[32m'XZ'\u001b[0m\u001b[1m]\u001b[0m\n"
            ],
            "text/html": [
              "<pre style=\"white-space:pre;overflow-x:auto;line-height:normal;font-family:Menlo,'DejaVu Sans Mono',consolas,'Courier New',monospace\">Lista x: <span style=\"font-weight: bold\">[</span><span style=\"color: #008080; text-decoration-color: #008080; font-weight: bold\">10504</span>, <span style=\"color: #008080; text-decoration-color: #008080; font-weight: bold\">23.42</span>, <span style=\"color: #008080; text-decoration-color: #008080; font-weight: bold\">7</span>, <span style=\"color: #008080; text-decoration-color: #008080; font-weight: bold\">4</span>, <span style=\"color: #008080; text-decoration-color: #008080; font-weight: bold\">5</span>, <span style=\"color: #008080; text-decoration-color: #008080; font-weight: bold\">8</span>, <span style=\"color: #008000; text-decoration-color: #008000\">'XZ'</span><span style=\"font-weight: bold\">]</span>\n",
              "</pre>\n"
            ]
          },
          "metadata": {}
        }
      ]
    },
    {
      "cell_type": "code",
      "source": [
        "# Seleccionamos valores según el índice (slicing)\n",
        "print(\"\\n Slicing:\")\n",
        "print(\"x:\", x)\n",
        "print(f\"x[3:]: {x[3:]}\")  # Slice desde el tercer elemento hasta el final\n",
        "print(f\"x[:]: {x[:]}\")  # Slice que devuelve la lista completa\n",
        "print(f\"x[-3:]: {x[-3:]}\")  # Slice que devuelve los tres últimos\n",
        "print(f\"x[:-2] {x[:-2]}\")"
      ],
      "metadata": {
        "colab": {
          "base_uri": "https://localhost:8080/",
          "height": 163
        },
        "id": "Rr2Ars4JCuIp",
        "outputId": "dc403e2d-a552-4433-f3d7-6f3deee6bc89"
      },
      "execution_count": null,
      "outputs": [
        {
          "output_type": "display_data",
          "data": {
            "text/plain": [
              "\n",
              " Slicing:\n"
            ],
            "text/html": [
              "<pre style=\"white-space:pre;overflow-x:auto;line-height:normal;font-family:Menlo,'DejaVu Sans Mono',consolas,'Courier New',monospace\">\n",
              " Slicing:\n",
              "</pre>\n"
            ]
          },
          "metadata": {}
        },
        {
          "output_type": "display_data",
          "data": {
            "text/plain": [
              "x:\n",
              "\u001b[1m[\u001b[0m\u001b[1;36m10504\u001b[0m, \u001b[1;36m23.42\u001b[0m, \u001b[1;36m7\u001b[0m, \u001b[1;36m4\u001b[0m, \u001b[1;36m5\u001b[0m, \u001b[1;36m8\u001b[0m, \u001b[32m'XZ'\u001b[0m\u001b[1m]\u001b[0m\n"
            ],
            "text/html": [
              "<pre style=\"white-space:pre;overflow-x:auto;line-height:normal;font-family:Menlo,'DejaVu Sans Mono',consolas,'Courier New',monospace\">x:\n",
              "<span style=\"font-weight: bold\">[</span><span style=\"color: #008080; text-decoration-color: #008080; font-weight: bold\">10504</span>, <span style=\"color: #008080; text-decoration-color: #008080; font-weight: bold\">23.42</span>, <span style=\"color: #008080; text-decoration-color: #008080; font-weight: bold\">7</span>, <span style=\"color: #008080; text-decoration-color: #008080; font-weight: bold\">4</span>, <span style=\"color: #008080; text-decoration-color: #008080; font-weight: bold\">5</span>, <span style=\"color: #008080; text-decoration-color: #008080; font-weight: bold\">8</span>, <span style=\"color: #008000; text-decoration-color: #008000\">'XZ'</span><span style=\"font-weight: bold\">]</span>\n",
              "</pre>\n"
            ]
          },
          "metadata": {}
        },
        {
          "output_type": "display_data",
          "data": {
            "text/plain": [
              "x\u001b[1m[\u001b[0m\u001b[1;36m3\u001b[0m:\u001b[1m]\u001b[0m: \u001b[1m[\u001b[0m\u001b[1;36m4\u001b[0m, \u001b[1;36m5\u001b[0m, \u001b[1;36m8\u001b[0m, \u001b[32m'XZ'\u001b[0m\u001b[1m]\u001b[0m\n"
            ],
            "text/html": [
              "<pre style=\"white-space:pre;overflow-x:auto;line-height:normal;font-family:Menlo,'DejaVu Sans Mono',consolas,'Courier New',monospace\">x<span style=\"font-weight: bold\">[</span><span style=\"color: #008080; text-decoration-color: #008080; font-weight: bold\">3</span>:<span style=\"font-weight: bold\">]</span>: <span style=\"font-weight: bold\">[</span><span style=\"color: #008080; text-decoration-color: #008080; font-weight: bold\">4</span>, <span style=\"color: #008080; text-decoration-color: #008080; font-weight: bold\">5</span>, <span style=\"color: #008080; text-decoration-color: #008080; font-weight: bold\">8</span>, <span style=\"color: #008000; text-decoration-color: #008000\">'XZ'</span><span style=\"font-weight: bold\">]</span>\n",
              "</pre>\n"
            ]
          },
          "metadata": {}
        },
        {
          "output_type": "display_data",
          "data": {
            "text/plain": [
              "x\u001b[1m[\u001b[0m:\u001b[1m]\u001b[0m: \u001b[1m[\u001b[0m\u001b[1;36m10504\u001b[0m, \u001b[1;36m23.42\u001b[0m, \u001b[1;36m7\u001b[0m, \u001b[1;36m4\u001b[0m, \u001b[1;36m5\u001b[0m, \u001b[1;36m8\u001b[0m, \u001b[32m'XZ'\u001b[0m\u001b[1m]\u001b[0m\n"
            ],
            "text/html": [
              "<pre style=\"white-space:pre;overflow-x:auto;line-height:normal;font-family:Menlo,'DejaVu Sans Mono',consolas,'Courier New',monospace\">x<span style=\"font-weight: bold\">[</span>:<span style=\"font-weight: bold\">]</span>: <span style=\"font-weight: bold\">[</span><span style=\"color: #008080; text-decoration-color: #008080; font-weight: bold\">10504</span>, <span style=\"color: #008080; text-decoration-color: #008080; font-weight: bold\">23.42</span>, <span style=\"color: #008080; text-decoration-color: #008080; font-weight: bold\">7</span>, <span style=\"color: #008080; text-decoration-color: #008080; font-weight: bold\">4</span>, <span style=\"color: #008080; text-decoration-color: #008080; font-weight: bold\">5</span>, <span style=\"color: #008080; text-decoration-color: #008080; font-weight: bold\">8</span>, <span style=\"color: #008000; text-decoration-color: #008000\">'XZ'</span><span style=\"font-weight: bold\">]</span>\n",
              "</pre>\n"
            ]
          },
          "metadata": {}
        },
        {
          "output_type": "display_data",
          "data": {
            "text/plain": [
              "x\u001b[1m[\u001b[0m\u001b[1;36m-3\u001b[0m:\u001b[1m]\u001b[0m: \u001b[1m[\u001b[0m\u001b[1;36m5\u001b[0m, \u001b[1;36m8\u001b[0m, \u001b[32m'XZ'\u001b[0m\u001b[1m]\u001b[0m\n"
            ],
            "text/html": [
              "<pre style=\"white-space:pre;overflow-x:auto;line-height:normal;font-family:Menlo,'DejaVu Sans Mono',consolas,'Courier New',monospace\">x<span style=\"font-weight: bold\">[</span><span style=\"color: #008080; text-decoration-color: #008080; font-weight: bold\">-3</span>:<span style=\"font-weight: bold\">]</span>: <span style=\"font-weight: bold\">[</span><span style=\"color: #008080; text-decoration-color: #008080; font-weight: bold\">5</span>, <span style=\"color: #008080; text-decoration-color: #008080; font-weight: bold\">8</span>, <span style=\"color: #008000; text-decoration-color: #008000\">'XZ'</span><span style=\"font-weight: bold\">]</span>\n",
              "</pre>\n"
            ]
          },
          "metadata": {}
        },
        {
          "output_type": "display_data",
          "data": {
            "text/plain": [
              "x\u001b[1m[\u001b[0m:\u001b[1;36m-2\u001b[0m\u001b[1m]\u001b[0m \u001b[1m[\u001b[0m\u001b[1;36m10504\u001b[0m, \u001b[1;36m23.42\u001b[0m, \u001b[1;36m7\u001b[0m, \u001b[1;36m4\u001b[0m, \u001b[1;36m5\u001b[0m\u001b[1m]\u001b[0m\n"
            ],
            "text/html": [
              "<pre style=\"white-space:pre;overflow-x:auto;line-height:normal;font-family:Menlo,'DejaVu Sans Mono',consolas,'Courier New',monospace\">x<span style=\"font-weight: bold\">[</span>:<span style=\"color: #008080; text-decoration-color: #008080; font-weight: bold\">-2</span><span style=\"font-weight: bold\">]</span> <span style=\"font-weight: bold\">[</span><span style=\"color: #008080; text-decoration-color: #008080; font-weight: bold\">10504</span>, <span style=\"color: #008080; text-decoration-color: #008080; font-weight: bold\">23.42</span>, <span style=\"color: #008080; text-decoration-color: #008080; font-weight: bold\">7</span>, <span style=\"color: #008080; text-decoration-color: #008080; font-weight: bold\">4</span>, <span style=\"color: #008080; text-decoration-color: #008080; font-weight: bold\">5</span><span style=\"font-weight: bold\">]</span>\n",
              "</pre>\n"
            ]
          },
          "metadata": {}
        }
      ]
    },
    {
      "cell_type": "code",
      "source": [
        "console.rule(\"Operaciones\", style=\"orchid\")\n",
        "\n",
        "\n",
        "x3 = x * 3  # Repetir la lista x\n",
        "print(f\"Lista x triplicada: {x3}\")\n",
        "\n",
        "# Concatenar ambas listas\n",
        "a = [\"A\", 1]\n",
        "b = [3.5, 1, 2, 3.7, 5.5]\n",
        "a1 = [False, True]\n",
        "c = a + b\n",
        "print(f\"Concatenación de a y b: {b + a + a1}\")  # Concatenar las listas x e y\n",
        "print(f\"Concatenación de a y b => c: {c}\")  # Concatenar las listas x e y\n",
        "\n",
        "\n",
        "z = [i * 2 for i in x]  # Crear una nueva lista z multiplicando cada elemento de x por 2\n",
        "print(f\"Lista z: {z}\")"
      ],
      "metadata": {
        "colab": {
          "base_uri": "https://localhost:8080/",
          "height": 142
        },
        "id": "fsceM2C7TLoN",
        "outputId": "3d61ef29-8b84-487f-fc17-3f6405c2ce11"
      },
      "execution_count": null,
      "outputs": [
        {
          "output_type": "display_data",
          "data": {
            "text/plain": [
              "\u001b[38;5;170m─────────────────────────────────────────────────── \u001b[0mOperaciones\u001b[38;5;170m ───────────────────────────────────────────────────\u001b[0m\n"
            ],
            "text/html": [
              "<pre style=\"white-space:pre;overflow-x:auto;line-height:normal;font-family:Menlo,'DejaVu Sans Mono',consolas,'Courier New',monospace\"><span style=\"color: #d75fd7; text-decoration-color: #d75fd7\">─────────────────────────────────────────────────── </span>Operaciones<span style=\"color: #d75fd7; text-decoration-color: #d75fd7\"> ───────────────────────────────────────────────────</span>\n",
              "</pre>\n"
            ]
          },
          "metadata": {}
        },
        {
          "output_type": "display_data",
          "data": {
            "text/plain": [
              "Lista x triplicada: \u001b[1m[\u001b[0m\u001b[1;36m10504\u001b[0m, \u001b[1;36m23.42\u001b[0m, \u001b[1;36m7\u001b[0m, \u001b[1;36m4\u001b[0m, \u001b[1;36m5\u001b[0m, \u001b[1;36m8\u001b[0m, \u001b[32m'XZ'\u001b[0m, \u001b[1;36m10504\u001b[0m, \u001b[1;36m23.42\u001b[0m, \u001b[1;36m7\u001b[0m, \u001b[1;36m4\u001b[0m, \u001b[1;36m5\u001b[0m, \u001b[1;36m8\u001b[0m, \u001b[32m'XZ'\u001b[0m, \u001b[1;36m10504\u001b[0m, \u001b[1;36m23.42\u001b[0m, \u001b[1;36m7\u001b[0m, \u001b[1;36m4\u001b[0m, \u001b[1;36m5\u001b[0m, \u001b[1;36m8\u001b[0m, \n",
              "\u001b[32m'XZ'\u001b[0m\u001b[1m]\u001b[0m\n"
            ],
            "text/html": [
              "<pre style=\"white-space:pre;overflow-x:auto;line-height:normal;font-family:Menlo,'DejaVu Sans Mono',consolas,'Courier New',monospace\">Lista x triplicada: <span style=\"font-weight: bold\">[</span><span style=\"color: #008080; text-decoration-color: #008080; font-weight: bold\">10504</span>, <span style=\"color: #008080; text-decoration-color: #008080; font-weight: bold\">23.42</span>, <span style=\"color: #008080; text-decoration-color: #008080; font-weight: bold\">7</span>, <span style=\"color: #008080; text-decoration-color: #008080; font-weight: bold\">4</span>, <span style=\"color: #008080; text-decoration-color: #008080; font-weight: bold\">5</span>, <span style=\"color: #008080; text-decoration-color: #008080; font-weight: bold\">8</span>, <span style=\"color: #008000; text-decoration-color: #008000\">'XZ'</span>, <span style=\"color: #008080; text-decoration-color: #008080; font-weight: bold\">10504</span>, <span style=\"color: #008080; text-decoration-color: #008080; font-weight: bold\">23.42</span>, <span style=\"color: #008080; text-decoration-color: #008080; font-weight: bold\">7</span>, <span style=\"color: #008080; text-decoration-color: #008080; font-weight: bold\">4</span>, <span style=\"color: #008080; text-decoration-color: #008080; font-weight: bold\">5</span>, <span style=\"color: #008080; text-decoration-color: #008080; font-weight: bold\">8</span>, <span style=\"color: #008000; text-decoration-color: #008000\">'XZ'</span>, <span style=\"color: #008080; text-decoration-color: #008080; font-weight: bold\">10504</span>, <span style=\"color: #008080; text-decoration-color: #008080; font-weight: bold\">23.42</span>, <span style=\"color: #008080; text-decoration-color: #008080; font-weight: bold\">7</span>, <span style=\"color: #008080; text-decoration-color: #008080; font-weight: bold\">4</span>, <span style=\"color: #008080; text-decoration-color: #008080; font-weight: bold\">5</span>, <span style=\"color: #008080; text-decoration-color: #008080; font-weight: bold\">8</span>, \n",
              "<span style=\"color: #008000; text-decoration-color: #008000\">'XZ'</span><span style=\"font-weight: bold\">]</span>\n",
              "</pre>\n"
            ]
          },
          "metadata": {}
        },
        {
          "output_type": "display_data",
          "data": {
            "text/plain": [
              "Concatenación de a y b: \u001b[1m[\u001b[0m\u001b[1;36m3.5\u001b[0m, \u001b[1;36m1\u001b[0m, \u001b[1;36m2\u001b[0m, \u001b[1;36m3.7\u001b[0m, \u001b[1;36m5.5\u001b[0m, \u001b[32m'A'\u001b[0m, \u001b[1;36m1\u001b[0m, \u001b[3;91mFalse\u001b[0m, \u001b[3;92mTrue\u001b[0m\u001b[1m]\u001b[0m\n"
            ],
            "text/html": [
              "<pre style=\"white-space:pre;overflow-x:auto;line-height:normal;font-family:Menlo,'DejaVu Sans Mono',consolas,'Courier New',monospace\">Concatenación de a y b: <span style=\"font-weight: bold\">[</span><span style=\"color: #008080; text-decoration-color: #008080; font-weight: bold\">3.5</span>, <span style=\"color: #008080; text-decoration-color: #008080; font-weight: bold\">1</span>, <span style=\"color: #008080; text-decoration-color: #008080; font-weight: bold\">2</span>, <span style=\"color: #008080; text-decoration-color: #008080; font-weight: bold\">3.7</span>, <span style=\"color: #008080; text-decoration-color: #008080; font-weight: bold\">5.5</span>, <span style=\"color: #008000; text-decoration-color: #008000\">'A'</span>, <span style=\"color: #008080; text-decoration-color: #008080; font-weight: bold\">1</span>, <span style=\"color: #ff0000; text-decoration-color: #ff0000; font-style: italic\">False</span>, <span style=\"color: #00ff00; text-decoration-color: #00ff00; font-style: italic\">True</span><span style=\"font-weight: bold\">]</span>\n",
              "</pre>\n"
            ]
          },
          "metadata": {}
        },
        {
          "output_type": "display_data",
          "data": {
            "text/plain": [
              "Concatenación de a y b => c: \u001b[1m[\u001b[0m\u001b[32m'A'\u001b[0m, \u001b[1;36m1\u001b[0m, \u001b[1;36m3.5\u001b[0m, \u001b[1;36m1\u001b[0m, \u001b[1;36m2\u001b[0m, \u001b[1;36m3.7\u001b[0m, \u001b[1;36m5.5\u001b[0m\u001b[1m]\u001b[0m\n"
            ],
            "text/html": [
              "<pre style=\"white-space:pre;overflow-x:auto;line-height:normal;font-family:Menlo,'DejaVu Sans Mono',consolas,'Courier New',monospace\">Concatenación de a y b =&gt; c: <span style=\"font-weight: bold\">[</span><span style=\"color: #008000; text-decoration-color: #008000\">'A'</span>, <span style=\"color: #008080; text-decoration-color: #008080; font-weight: bold\">1</span>, <span style=\"color: #008080; text-decoration-color: #008080; font-weight: bold\">3.5</span>, <span style=\"color: #008080; text-decoration-color: #008080; font-weight: bold\">1</span>, <span style=\"color: #008080; text-decoration-color: #008080; font-weight: bold\">2</span>, <span style=\"color: #008080; text-decoration-color: #008080; font-weight: bold\">3.7</span>, <span style=\"color: #008080; text-decoration-color: #008080; font-weight: bold\">5.5</span><span style=\"font-weight: bold\">]</span>\n",
              "</pre>\n"
            ]
          },
          "metadata": {}
        },
        {
          "output_type": "display_data",
          "data": {
            "text/plain": [
              "Lista z: \u001b[1m[\u001b[0m\u001b[1;36m21008\u001b[0m, \u001b[1;36m46.84\u001b[0m, \u001b[1;36m14\u001b[0m, \u001b[1;36m8\u001b[0m, \u001b[1;36m10\u001b[0m, \u001b[1;36m16\u001b[0m, \u001b[32m'XZXZ'\u001b[0m\u001b[1m]\u001b[0m\n"
            ],
            "text/html": [
              "<pre style=\"white-space:pre;overflow-x:auto;line-height:normal;font-family:Menlo,'DejaVu Sans Mono',consolas,'Courier New',monospace\">Lista z: <span style=\"font-weight: bold\">[</span><span style=\"color: #008080; text-decoration-color: #008080; font-weight: bold\">21008</span>, <span style=\"color: #008080; text-decoration-color: #008080; font-weight: bold\">46.84</span>, <span style=\"color: #008080; text-decoration-color: #008080; font-weight: bold\">14</span>, <span style=\"color: #008080; text-decoration-color: #008080; font-weight: bold\">8</span>, <span style=\"color: #008080; text-decoration-color: #008080; font-weight: bold\">10</span>, <span style=\"color: #008080; text-decoration-color: #008080; font-weight: bold\">16</span>, <span style=\"color: #008000; text-decoration-color: #008000\">'XZXZ'</span><span style=\"font-weight: bold\">]</span>\n",
              "</pre>\n"
            ]
          },
          "metadata": {}
        }
      ]
    },
    {
      "cell_type": "markdown",
      "source": [
        "## Diccionarios"
      ],
      "metadata": {
        "id": "Z_4PZPcMqiS8"
      }
    },
    {
      "cell_type": "code",
      "source": [
        "console.print(Panel(\"Diccionarios\"), style=\"orchid\")\n",
        "console.rule(\"Diccionario vacio\", style=\"orchid\")\n",
        "\n",
        "# Crear un diccionario vacío\n",
        "mi_lista = []\n",
        "mi_diccionario = {}\n",
        "print(\"mi_diccionario =\", mi_diccionario)\n",
        "print(\"tipo de datos del diccionario:\", type(mi_diccionario))"
      ],
      "metadata": {
        "colab": {
          "base_uri": "https://localhost:8080/",
          "height": 163
        },
        "id": "nYnC2pzo6YDE",
        "outputId": "cf87a194-af8e-4af7-ca74-79be3e9c562b"
      },
      "execution_count": null,
      "outputs": [
        {
          "output_type": "display_data",
          "data": {
            "text/plain": [
              "\u001b[38;5;170m╭─────────────────────────────────────────────────────────────────────────────────────────────────────────────────╮\u001b[0m\n",
              "\u001b[38;5;170m│\u001b[0m\u001b[38;5;170m \u001b[0m\u001b[38;5;170mDiccionarios\u001b[0m\u001b[38;5;170m                                                                                                   \u001b[0m\u001b[38;5;170m \u001b[0m\u001b[38;5;170m│\u001b[0m\n",
              "\u001b[38;5;170m╰─────────────────────────────────────────────────────────────────────────────────────────────────────────────────╯\u001b[0m\n"
            ],
            "text/html": [
              "<pre style=\"white-space:pre;overflow-x:auto;line-height:normal;font-family:Menlo,'DejaVu Sans Mono',consolas,'Courier New',monospace\"><span style=\"color: #d75fd7; text-decoration-color: #d75fd7\">╭─────────────────────────────────────────────────────────────────────────────────────────────────────────────────╮</span>\n",
              "<span style=\"color: #d75fd7; text-decoration-color: #d75fd7\">│ Diccionarios                                                                                                    │</span>\n",
              "<span style=\"color: #d75fd7; text-decoration-color: #d75fd7\">╰─────────────────────────────────────────────────────────────────────────────────────────────────────────────────╯</span>\n",
              "</pre>\n"
            ]
          },
          "metadata": {}
        },
        {
          "output_type": "display_data",
          "data": {
            "text/plain": [
              "\u001b[38;5;170m──────────────────────────────────────────────── \u001b[0mDiccionario vacio\u001b[38;5;170m ────────────────────────────────────────────────\u001b[0m\n"
            ],
            "text/html": [
              "<pre style=\"white-space:pre;overflow-x:auto;line-height:normal;font-family:Menlo,'DejaVu Sans Mono',consolas,'Courier New',monospace\"><span style=\"color: #d75fd7; text-decoration-color: #d75fd7\">──────────────────────────────────────────────── </span>Diccionario vacio<span style=\"color: #d75fd7; text-decoration-color: #d75fd7\"> ────────────────────────────────────────────────</span>\n",
              "</pre>\n"
            ]
          },
          "metadata": {}
        },
        {
          "output_type": "display_data",
          "data": {
            "text/plain": [
              "mi_diccionario =\n",
              "\u001b[1m{\u001b[0m\u001b[1m}\u001b[0m\n"
            ],
            "text/html": [
              "<pre style=\"white-space:pre;overflow-x:auto;line-height:normal;font-family:Menlo,'DejaVu Sans Mono',consolas,'Courier New',monospace\">mi_diccionario =\n",
              "<span style=\"font-weight: bold\">{}</span>\n",
              "</pre>\n"
            ]
          },
          "metadata": {}
        },
        {
          "output_type": "display_data",
          "data": {
            "text/plain": [
              "tipo de datos del diccionario: \u001b[1m<\u001b[0m\u001b[1;95mclass\u001b[0m\u001b[39m \u001b[0m\u001b[32m'dict'\u001b[0m\u001b[1m>\u001b[0m\n"
            ],
            "text/html": [
              "<pre style=\"white-space:pre;overflow-x:auto;line-height:normal;font-family:Menlo,'DejaVu Sans Mono',consolas,'Courier New',monospace\">tipo de datos del diccionario: <span style=\"font-weight: bold\">&lt;</span><span style=\"color: #ff00ff; text-decoration-color: #ff00ff; font-weight: bold\">class</span><span style=\"color: #000000; text-decoration-color: #000000\"> </span><span style=\"color: #008000; text-decoration-color: #008000\">'dict'</span><span style=\"font-weight: bold\">&gt;</span>\n",
              "</pre>\n"
            ]
          },
          "metadata": {}
        }
      ]
    },
    {
      "cell_type": "code",
      "source": [
        "console.rule(\"Diccionario con diversas claves\", style=\"orchid\")\n",
        "\n",
        "# Crear un diccionario con elementos predefinidos\n",
        "valor1, valor2, valor3 = 73.42, \"casa\", False\n",
        "\n",
        "mi_diccionario = {\n",
        "    \"clave1\": valor1,\n",
        "    \"clave2\": valor2,\n",
        "    \"clave3\": valor3\n",
        "}\n",
        "print(\"mi_diccionario =\", mi_diccionario)"
      ],
      "metadata": {
        "colab": {
          "base_uri": "https://localhost:8080/",
          "height": 80
        },
        "id": "zztsPV4WEi-g",
        "outputId": "ce428e50-f8d6-4889-e555-728998003666"
      },
      "execution_count": null,
      "outputs": [
        {
          "output_type": "display_data",
          "data": {
            "text/plain": [
              "\u001b[38;5;170m───────────────────────────────────────── \u001b[0mDiccionario con diversas claves\u001b[38;5;170m ─────────────────────────────────────────\u001b[0m\n"
            ],
            "text/html": [
              "<pre style=\"white-space:pre;overflow-x:auto;line-height:normal;font-family:Menlo,'DejaVu Sans Mono',consolas,'Courier New',monospace\"><span style=\"color: #d75fd7; text-decoration-color: #d75fd7\">───────────────────────────────────────── </span>Diccionario con diversas claves<span style=\"color: #d75fd7; text-decoration-color: #d75fd7\"> ─────────────────────────────────────────</span>\n",
              "</pre>\n"
            ]
          },
          "metadata": {}
        },
        {
          "output_type": "display_data",
          "data": {
            "text/plain": [
              "mi_diccionario =\n",
              "\u001b[1m{\u001b[0m\u001b[32m'clave1'\u001b[0m: \u001b[1;36m73.42\u001b[0m, \u001b[32m'clave2'\u001b[0m: \u001b[32m'casa'\u001b[0m, \u001b[32m'clave3'\u001b[0m: \u001b[3;91mFalse\u001b[0m\u001b[1m}\u001b[0m\n"
            ],
            "text/html": [
              "<pre style=\"white-space:pre;overflow-x:auto;line-height:normal;font-family:Menlo,'DejaVu Sans Mono',consolas,'Courier New',monospace\">mi_diccionario =\n",
              "<span style=\"font-weight: bold\">{</span><span style=\"color: #008000; text-decoration-color: #008000\">'clave1'</span>: <span style=\"color: #008080; text-decoration-color: #008080; font-weight: bold\">73.42</span>, <span style=\"color: #008000; text-decoration-color: #008000\">'clave2'</span>: <span style=\"color: #008000; text-decoration-color: #008000\">'casa'</span>, <span style=\"color: #008000; text-decoration-color: #008000\">'clave3'</span>: <span style=\"color: #ff0000; text-decoration-color: #ff0000; font-style: italic\">False</span><span style=\"font-weight: bold\">}</span>\n",
              "</pre>\n"
            ]
          },
          "metadata": {}
        }
      ]
    },
    {
      "cell_type": "code",
      "source": [
        "console.rule(\"Acceso a elementos\", style=\"orchid\")\n",
        "# Acceder al valor de un elemento utilizando su clave\n",
        "mi_diccionario = {\n",
        "    'nombre': 'Juan',\n",
        "    'edad': 25,\n",
        "    'ciudad': 'Madrid',\n",
        "    'tlf': 555666555\n",
        "}\n",
        "print(\"mi_diccionario:\", mi_diccionario)\n",
        "print(\"mi_diccionario['nombre'] =\", mi_diccionario['nombre'])  # Imprime 'Juan'\n",
        "print(\"mi_diccionario['edad'] =\", mi_diccionario['edad'])  # Imprime 25\n",
        "print(\"mi_diccionario['ciudad'] =\", mi_diccionario['ciudad'])  # Imprime 25"
      ],
      "metadata": {
        "colab": {
          "base_uri": "https://localhost:8080/",
          "height": 142
        },
        "id": "CiRawPTyTVkM",
        "outputId": "2f8ab283-2a44-4285-ff46-889de0cb3585"
      },
      "execution_count": null,
      "outputs": [
        {
          "output_type": "display_data",
          "data": {
            "text/plain": [
              "\u001b[38;5;170m─────────────────────────────────────────────── \u001b[0mAcceso a elementos\u001b[38;5;170m ────────────────────────────────────────────────\u001b[0m\n"
            ],
            "text/html": [
              "<pre style=\"white-space:pre;overflow-x:auto;line-height:normal;font-family:Menlo,'DejaVu Sans Mono',consolas,'Courier New',monospace\"><span style=\"color: #d75fd7; text-decoration-color: #d75fd7\">─────────────────────────────────────────────── </span>Acceso a elementos<span style=\"color: #d75fd7; text-decoration-color: #d75fd7\"> ────────────────────────────────────────────────</span>\n",
              "</pre>\n"
            ]
          },
          "metadata": {}
        },
        {
          "output_type": "display_data",
          "data": {
            "text/plain": [
              "mi_diccionario:\n",
              "\u001b[1m{\u001b[0m\u001b[32m'nombre'\u001b[0m: \u001b[32m'Juan'\u001b[0m, \u001b[32m'edad'\u001b[0m: \u001b[1;36m25\u001b[0m, \u001b[32m'ciudad'\u001b[0m: \u001b[32m'Madrid'\u001b[0m, \u001b[32m'tlf'\u001b[0m: \u001b[1;36m555666555\u001b[0m\u001b[1m}\u001b[0m\n"
            ],
            "text/html": [
              "<pre style=\"white-space:pre;overflow-x:auto;line-height:normal;font-family:Menlo,'DejaVu Sans Mono',consolas,'Courier New',monospace\">mi_diccionario:\n",
              "<span style=\"font-weight: bold\">{</span><span style=\"color: #008000; text-decoration-color: #008000\">'nombre'</span>: <span style=\"color: #008000; text-decoration-color: #008000\">'Juan'</span>, <span style=\"color: #008000; text-decoration-color: #008000\">'edad'</span>: <span style=\"color: #008080; text-decoration-color: #008080; font-weight: bold\">25</span>, <span style=\"color: #008000; text-decoration-color: #008000\">'ciudad'</span>: <span style=\"color: #008000; text-decoration-color: #008000\">'Madrid'</span>, <span style=\"color: #008000; text-decoration-color: #008000\">'tlf'</span>: <span style=\"color: #008080; text-decoration-color: #008080; font-weight: bold\">555666555</span><span style=\"font-weight: bold\">}</span>\n",
              "</pre>\n"
            ]
          },
          "metadata": {}
        },
        {
          "output_type": "display_data",
          "data": {
            "text/plain": [
              "mi_diccionario\u001b[1m[\u001b[0m\u001b[32m'nombre'\u001b[0m\u001b[1m]\u001b[0m = Juan\n"
            ],
            "text/html": [
              "<pre style=\"white-space:pre;overflow-x:auto;line-height:normal;font-family:Menlo,'DejaVu Sans Mono',consolas,'Courier New',monospace\">mi_diccionario<span style=\"font-weight: bold\">[</span><span style=\"color: #008000; text-decoration-color: #008000\">'nombre'</span><span style=\"font-weight: bold\">]</span> = Juan\n",
              "</pre>\n"
            ]
          },
          "metadata": {}
        },
        {
          "output_type": "display_data",
          "data": {
            "text/plain": [
              "mi_diccionario\u001b[1m[\u001b[0m\u001b[32m'edad'\u001b[0m\u001b[1m]\u001b[0m = \u001b[1;36m25\u001b[0m\n"
            ],
            "text/html": [
              "<pre style=\"white-space:pre;overflow-x:auto;line-height:normal;font-family:Menlo,'DejaVu Sans Mono',consolas,'Courier New',monospace\">mi_diccionario<span style=\"font-weight: bold\">[</span><span style=\"color: #008000; text-decoration-color: #008000\">'edad'</span><span style=\"font-weight: bold\">]</span> = <span style=\"color: #008080; text-decoration-color: #008080; font-weight: bold\">25</span>\n",
              "</pre>\n"
            ]
          },
          "metadata": {}
        },
        {
          "output_type": "display_data",
          "data": {
            "text/plain": [
              "mi_diccionario\u001b[1m[\u001b[0m\u001b[32m'ciudad'\u001b[0m\u001b[1m]\u001b[0m = Madrid\n"
            ],
            "text/html": [
              "<pre style=\"white-space:pre;overflow-x:auto;line-height:normal;font-family:Menlo,'DejaVu Sans Mono',consolas,'Courier New',monospace\">mi_diccionario<span style=\"font-weight: bold\">[</span><span style=\"color: #008000; text-decoration-color: #008000\">'ciudad'</span><span style=\"font-weight: bold\">]</span> = Madrid\n",
              "</pre>\n"
            ]
          },
          "metadata": {}
        }
      ]
    },
    {
      "cell_type": "code",
      "source": [
        "nombres = ['Juan', 'Ana', 'María']\n",
        "edades = [25, 89, 42]\n",
        "my_dict = {\n",
        "    \"nombre\": nombres,\n",
        "    \"edades\": edades\n",
        "}\n",
        "print(\"dict:\", my_dict)\n",
        "print(\"dict[Ana]:\", my_dict[\"nombre\"][1])"
      ],
      "metadata": {
        "colab": {
          "base_uri": "https://localhost:8080/",
          "height": 80
        },
        "id": "4wpgzETVzy2c",
        "outputId": "f51c8a84-4062-4b94-8fd7-a1fe4b9e3595"
      },
      "execution_count": null,
      "outputs": [
        {
          "output_type": "display_data",
          "data": {
            "text/plain": [
              "dict:\n",
              "\u001b[1m{\u001b[0m\u001b[32m'nombre'\u001b[0m: \u001b[1m[\u001b[0m\u001b[32m'Juan'\u001b[0m, \u001b[32m'Ana'\u001b[0m, \u001b[32m'María'\u001b[0m\u001b[1m]\u001b[0m, \u001b[32m'edades'\u001b[0m: \u001b[1m[\u001b[0m\u001b[1;36m25\u001b[0m, \u001b[1;36m89\u001b[0m, \u001b[1;36m42\u001b[0m\u001b[1m]\u001b[0m\u001b[1m}\u001b[0m\n"
            ],
            "text/html": [
              "<pre style=\"white-space:pre;overflow-x:auto;line-height:normal;font-family:Menlo,'DejaVu Sans Mono',consolas,'Courier New',monospace\">dict:\n",
              "<span style=\"font-weight: bold\">{</span><span style=\"color: #008000; text-decoration-color: #008000\">'nombre'</span>: <span style=\"font-weight: bold\">[</span><span style=\"color: #008000; text-decoration-color: #008000\">'Juan'</span>, <span style=\"color: #008000; text-decoration-color: #008000\">'Ana'</span>, <span style=\"color: #008000; text-decoration-color: #008000\">'María'</span><span style=\"font-weight: bold\">]</span>, <span style=\"color: #008000; text-decoration-color: #008000\">'edades'</span>: <span style=\"font-weight: bold\">[</span><span style=\"color: #008080; text-decoration-color: #008080; font-weight: bold\">25</span>, <span style=\"color: #008080; text-decoration-color: #008080; font-weight: bold\">89</span>, <span style=\"color: #008080; text-decoration-color: #008080; font-weight: bold\">42</span><span style=\"font-weight: bold\">]}</span>\n",
              "</pre>\n"
            ]
          },
          "metadata": {}
        },
        {
          "output_type": "display_data",
          "data": {
            "text/plain": [
              "dict\u001b[1m[\u001b[0mAna\u001b[1m]\u001b[0m: Ana\n"
            ],
            "text/html": [
              "<pre style=\"white-space:pre;overflow-x:auto;line-height:normal;font-family:Menlo,'DejaVu Sans Mono',consolas,'Courier New',monospace\">dict<span style=\"font-weight: bold\">[</span>Ana<span style=\"font-weight: bold\">]</span>: Ana\n",
              "</pre>\n"
            ]
          },
          "metadata": {}
        }
      ]
    },
    {
      "cell_type": "code",
      "source": [
        "console.rule(\"Modificar\", style=\"orchid\")\n",
        "# Modificar el valor de un elemento\n",
        "mi_diccionario['edad'] = 30\n",
        "print(\"mi_diccionario['edad'] ha sido modificado. Nuevo valor:\", mi_diccionario['edad'])  # Imprime 30\n",
        "\n",
        "console.rule(\"Agregar\", style=\"orchid\")\n",
        "# Agregar un nuevo elemento al diccionario\n",
        "mi_diccionario['profesion'] = 'Ingeniero'\n",
        "print(\"Nuevo elemento agregado:\", mi_diccionario)  # Imprime {'nombre': 'Juan', 'edad': 30, 'ciudad': 'Madrid', 'profesion': 'Ingeniero'}\n",
        "\n",
        "console.rule(\"Eliminar\", style=\"orchid\")\n",
        "# Eliminar un elemento del diccionario utilizando su clave\n",
        "del mi_diccionario['ciudad']\n",
        "print(\"Elemento 'ciudad' eliminado. Nuevo diccionario:\", mi_diccionario)  # Imprime {'nombre': 'Juan', 'edad': 30, 'profesion': 'Ingeniero'}\n",
        "\n",
        "console.rule(\"Imprimir pares clave/valor\", style=\"orchid\")\n",
        "# Obtener la lista de claves y valores del diccionario\n",
        "print(\"Claves del diccionario:\", list(mi_diccionario.keys()))  # Imprime ['nombre', 'edad', 'profesion']\n",
        "print(\"Valores del diccionario:\", list(mi_diccionario.values()))  # Imprime ['Juan', 30, 'Ingeniero']\n",
        "print(\"Elementos del diccionario:\", mi_diccionario.items())  # Imprime [('nombre', 'Juan'), ('edad', 30), ('profesion', 'Ingeniero')]\n",
        "print(\"type(mi_diccionario):\", type(mi_diccionario))"
      ],
      "metadata": {
        "colab": {
          "base_uri": "https://localhost:8080/",
          "height": 352
        },
        "id": "kcRh5wIxTVA8",
        "outputId": "54c38715-9479-4670-f904-308a875b567f"
      },
      "execution_count": null,
      "outputs": [
        {
          "output_type": "display_data",
          "data": {
            "text/plain": [
              "\u001b[38;5;170m──────────────────────────────────────────────────── \u001b[0mModificar\u001b[38;5;170m ────────────────────────────────────────────────────\u001b[0m\n"
            ],
            "text/html": [
              "<pre style=\"white-space:pre;overflow-x:auto;line-height:normal;font-family:Menlo,'DejaVu Sans Mono',consolas,'Courier New',monospace\"><span style=\"color: #d75fd7; text-decoration-color: #d75fd7\">──────────────────────────────────────────────────── </span>Modificar<span style=\"color: #d75fd7; text-decoration-color: #d75fd7\"> ────────────────────────────────────────────────────</span>\n",
              "</pre>\n"
            ]
          },
          "metadata": {}
        },
        {
          "output_type": "display_data",
          "data": {
            "text/plain": [
              "mi_diccionario\u001b[1m[\u001b[0m\u001b[32m'edad'\u001b[0m\u001b[1m]\u001b[0m ha sido modificado. Nuevo valor: \u001b[1;36m30\u001b[0m\n"
            ],
            "text/html": [
              "<pre style=\"white-space:pre;overflow-x:auto;line-height:normal;font-family:Menlo,'DejaVu Sans Mono',consolas,'Courier New',monospace\">mi_diccionario<span style=\"font-weight: bold\">[</span><span style=\"color: #008000; text-decoration-color: #008000\">'edad'</span><span style=\"font-weight: bold\">]</span> ha sido modificado. Nuevo valor: <span style=\"color: #008080; text-decoration-color: #008080; font-weight: bold\">30</span>\n",
              "</pre>\n"
            ]
          },
          "metadata": {}
        },
        {
          "output_type": "display_data",
          "data": {
            "text/plain": [
              "\u001b[38;5;170m───────────────────────────────────────────────────── \u001b[0mAgregar\u001b[38;5;170m ─────────────────────────────────────────────────────\u001b[0m\n"
            ],
            "text/html": [
              "<pre style=\"white-space:pre;overflow-x:auto;line-height:normal;font-family:Menlo,'DejaVu Sans Mono',consolas,'Courier New',monospace\"><span style=\"color: #d75fd7; text-decoration-color: #d75fd7\">───────────────────────────────────────────────────── </span>Agregar<span style=\"color: #d75fd7; text-decoration-color: #d75fd7\"> ─────────────────────────────────────────────────────</span>\n",
              "</pre>\n"
            ]
          },
          "metadata": {}
        },
        {
          "output_type": "display_data",
          "data": {
            "text/plain": [
              "Nuevo elemento agregado:\n",
              "\u001b[1m{\u001b[0m\u001b[32m'nombre'\u001b[0m: \u001b[32m'Juan'\u001b[0m, \u001b[32m'edad'\u001b[0m: \u001b[1;36m30\u001b[0m, \u001b[32m'ciudad'\u001b[0m: \u001b[32m'Madrid'\u001b[0m, \u001b[32m'tlf'\u001b[0m: \u001b[1;36m555666555\u001b[0m, \u001b[32m'profesion'\u001b[0m: \u001b[32m'Ingeniero'\u001b[0m\u001b[1m}\u001b[0m\n"
            ],
            "text/html": [
              "<pre style=\"white-space:pre;overflow-x:auto;line-height:normal;font-family:Menlo,'DejaVu Sans Mono',consolas,'Courier New',monospace\">Nuevo elemento agregado:\n",
              "<span style=\"font-weight: bold\">{</span><span style=\"color: #008000; text-decoration-color: #008000\">'nombre'</span>: <span style=\"color: #008000; text-decoration-color: #008000\">'Juan'</span>, <span style=\"color: #008000; text-decoration-color: #008000\">'edad'</span>: <span style=\"color: #008080; text-decoration-color: #008080; font-weight: bold\">30</span>, <span style=\"color: #008000; text-decoration-color: #008000\">'ciudad'</span>: <span style=\"color: #008000; text-decoration-color: #008000\">'Madrid'</span>, <span style=\"color: #008000; text-decoration-color: #008000\">'tlf'</span>: <span style=\"color: #008080; text-decoration-color: #008080; font-weight: bold\">555666555</span>, <span style=\"color: #008000; text-decoration-color: #008000\">'profesion'</span>: <span style=\"color: #008000; text-decoration-color: #008000\">'Ingeniero'</span><span style=\"font-weight: bold\">}</span>\n",
              "</pre>\n"
            ]
          },
          "metadata": {}
        },
        {
          "output_type": "display_data",
          "data": {
            "text/plain": [
              "\u001b[38;5;170m──────────────────────────────────────────────────── \u001b[0mEliminar\u001b[38;5;170m ─────────────────────────────────────────────────────\u001b[0m\n"
            ],
            "text/html": [
              "<pre style=\"white-space:pre;overflow-x:auto;line-height:normal;font-family:Menlo,'DejaVu Sans Mono',consolas,'Courier New',monospace\"><span style=\"color: #d75fd7; text-decoration-color: #d75fd7\">──────────────────────────────────────────────────── </span>Eliminar<span style=\"color: #d75fd7; text-decoration-color: #d75fd7\"> ─────────────────────────────────────────────────────</span>\n",
              "</pre>\n"
            ]
          },
          "metadata": {}
        },
        {
          "output_type": "display_data",
          "data": {
            "text/plain": [
              "Elemento \u001b[32m'ciudad'\u001b[0m eliminado. Nuevo diccionario:\n",
              "\u001b[1m{\u001b[0m\u001b[32m'nombre'\u001b[0m: \u001b[32m'Juan'\u001b[0m, \u001b[32m'edad'\u001b[0m: \u001b[1;36m30\u001b[0m, \u001b[32m'tlf'\u001b[0m: \u001b[1;36m555666555\u001b[0m, \u001b[32m'profesion'\u001b[0m: \u001b[32m'Ingeniero'\u001b[0m\u001b[1m}\u001b[0m\n"
            ],
            "text/html": [
              "<pre style=\"white-space:pre;overflow-x:auto;line-height:normal;font-family:Menlo,'DejaVu Sans Mono',consolas,'Courier New',monospace\">Elemento <span style=\"color: #008000; text-decoration-color: #008000\">'ciudad'</span> eliminado. Nuevo diccionario:\n",
              "<span style=\"font-weight: bold\">{</span><span style=\"color: #008000; text-decoration-color: #008000\">'nombre'</span>: <span style=\"color: #008000; text-decoration-color: #008000\">'Juan'</span>, <span style=\"color: #008000; text-decoration-color: #008000\">'edad'</span>: <span style=\"color: #008080; text-decoration-color: #008080; font-weight: bold\">30</span>, <span style=\"color: #008000; text-decoration-color: #008000\">'tlf'</span>: <span style=\"color: #008080; text-decoration-color: #008080; font-weight: bold\">555666555</span>, <span style=\"color: #008000; text-decoration-color: #008000\">'profesion'</span>: <span style=\"color: #008000; text-decoration-color: #008000\">'Ingeniero'</span><span style=\"font-weight: bold\">}</span>\n",
              "</pre>\n"
            ]
          },
          "metadata": {}
        },
        {
          "output_type": "display_data",
          "data": {
            "text/plain": [
              "\u001b[38;5;170m─────────────────────────────────────────── \u001b[0mImprimir pares clave/valor\u001b[38;5;170m ────────────────────────────────────────────\u001b[0m\n"
            ],
            "text/html": [
              "<pre style=\"white-space:pre;overflow-x:auto;line-height:normal;font-family:Menlo,'DejaVu Sans Mono',consolas,'Courier New',monospace\"><span style=\"color: #d75fd7; text-decoration-color: #d75fd7\">─────────────────────────────────────────── </span>Imprimir pares clave/valor<span style=\"color: #d75fd7; text-decoration-color: #d75fd7\"> ────────────────────────────────────────────</span>\n",
              "</pre>\n"
            ]
          },
          "metadata": {}
        },
        {
          "output_type": "display_data",
          "data": {
            "text/plain": [
              "Claves del diccionario:\n",
              "\u001b[1m[\u001b[0m\u001b[32m'nombre'\u001b[0m, \u001b[32m'edad'\u001b[0m, \u001b[32m'tlf'\u001b[0m, \u001b[32m'profesion'\u001b[0m\u001b[1m]\u001b[0m\n"
            ],
            "text/html": [
              "<pre style=\"white-space:pre;overflow-x:auto;line-height:normal;font-family:Menlo,'DejaVu Sans Mono',consolas,'Courier New',monospace\">Claves del diccionario:\n",
              "<span style=\"font-weight: bold\">[</span><span style=\"color: #008000; text-decoration-color: #008000\">'nombre'</span>, <span style=\"color: #008000; text-decoration-color: #008000\">'edad'</span>, <span style=\"color: #008000; text-decoration-color: #008000\">'tlf'</span>, <span style=\"color: #008000; text-decoration-color: #008000\">'profesion'</span><span style=\"font-weight: bold\">]</span>\n",
              "</pre>\n"
            ]
          },
          "metadata": {}
        },
        {
          "output_type": "display_data",
          "data": {
            "text/plain": [
              "Valores del diccionario:\n",
              "\u001b[1m[\u001b[0m\u001b[32m'Juan'\u001b[0m, \u001b[1;36m30\u001b[0m, \u001b[1;36m555666555\u001b[0m, \u001b[32m'Ingeniero'\u001b[0m\u001b[1m]\u001b[0m\n"
            ],
            "text/html": [
              "<pre style=\"white-space:pre;overflow-x:auto;line-height:normal;font-family:Menlo,'DejaVu Sans Mono',consolas,'Courier New',monospace\">Valores del diccionario:\n",
              "<span style=\"font-weight: bold\">[</span><span style=\"color: #008000; text-decoration-color: #008000\">'Juan'</span>, <span style=\"color: #008080; text-decoration-color: #008080; font-weight: bold\">30</span>, <span style=\"color: #008080; text-decoration-color: #008080; font-weight: bold\">555666555</span>, <span style=\"color: #008000; text-decoration-color: #008000\">'Ingeniero'</span><span style=\"font-weight: bold\">]</span>\n",
              "</pre>\n"
            ]
          },
          "metadata": {}
        },
        {
          "output_type": "display_data",
          "data": {
            "text/plain": [
              "Elementos del diccionario: \u001b[1;35mdict_items\u001b[0m\u001b[1m(\u001b[0m\u001b[1m[\u001b[0m\u001b[1m(\u001b[0m\u001b[32m'nombre'\u001b[0m, \u001b[32m'Juan'\u001b[0m\u001b[1m)\u001b[0m, \u001b[1m(\u001b[0m\u001b[32m'edad'\u001b[0m, \u001b[1;36m30\u001b[0m\u001b[1m)\u001b[0m, \u001b[1m(\u001b[0m\u001b[32m'tlf'\u001b[0m, \u001b[1;36m555666555\u001b[0m\u001b[1m)\u001b[0m, \u001b[1m(\u001b[0m\u001b[32m'profesion'\u001b[0m, \n",
              "\u001b[32m'Ingeniero'\u001b[0m\u001b[1m)\u001b[0m\u001b[1m]\u001b[0m\u001b[1m)\u001b[0m\n"
            ],
            "text/html": [
              "<pre style=\"white-space:pre;overflow-x:auto;line-height:normal;font-family:Menlo,'DejaVu Sans Mono',consolas,'Courier New',monospace\">Elementos del diccionario: <span style=\"color: #800080; text-decoration-color: #800080; font-weight: bold\">dict_items</span><span style=\"font-weight: bold\">([(</span><span style=\"color: #008000; text-decoration-color: #008000\">'nombre'</span>, <span style=\"color: #008000; text-decoration-color: #008000\">'Juan'</span><span style=\"font-weight: bold\">)</span>, <span style=\"font-weight: bold\">(</span><span style=\"color: #008000; text-decoration-color: #008000\">'edad'</span>, <span style=\"color: #008080; text-decoration-color: #008080; font-weight: bold\">30</span><span style=\"font-weight: bold\">)</span>, <span style=\"font-weight: bold\">(</span><span style=\"color: #008000; text-decoration-color: #008000\">'tlf'</span>, <span style=\"color: #008080; text-decoration-color: #008080; font-weight: bold\">555666555</span><span style=\"font-weight: bold\">)</span>, <span style=\"font-weight: bold\">(</span><span style=\"color: #008000; text-decoration-color: #008000\">'profesion'</span>, \n",
              "<span style=\"color: #008000; text-decoration-color: #008000\">'Ingeniero'</span><span style=\"font-weight: bold\">)])</span>\n",
              "</pre>\n"
            ]
          },
          "metadata": {}
        },
        {
          "output_type": "display_data",
          "data": {
            "text/plain": [
              "\u001b[1;35mtype\u001b[0m\u001b[1m(\u001b[0mmi_diccionario\u001b[1m)\u001b[0m: \u001b[1m<\u001b[0m\u001b[1;95mclass\u001b[0m\u001b[39m \u001b[0m\u001b[32m'dict'\u001b[0m\u001b[1m>\u001b[0m\n"
            ],
            "text/html": [
              "<pre style=\"white-space:pre;overflow-x:auto;line-height:normal;font-family:Menlo,'DejaVu Sans Mono',consolas,'Courier New',monospace\"><span style=\"color: #800080; text-decoration-color: #800080; font-weight: bold\">type</span><span style=\"font-weight: bold\">(</span>mi_diccionario<span style=\"font-weight: bold\">)</span>: <span style=\"font-weight: bold\">&lt;</span><span style=\"color: #ff00ff; text-decoration-color: #ff00ff; font-weight: bold\">class</span><span style=\"color: #000000; text-decoration-color: #000000\"> </span><span style=\"color: #008000; text-decoration-color: #008000\">'dict'</span><span style=\"font-weight: bold\">&gt;</span>\n",
              "</pre>\n"
            ]
          },
          "metadata": {}
        }
      ]
    },
    {
      "cell_type": "markdown",
      "source": [
        "# Condicionales y de Comparación\n",
        "\n",
        "En Python, los condicionales y las comparaciones permiten controlar el flujo de ejecución del programa basado en condiciones evaluadas como verdaderas (`True`) o falsas (`False`).\n",
        "\n",
        "La evaluación de una condición siempre ocurre:\n",
        "\n",
        "* Si la condición se evalúa como `True`, se ejecuta el bloque de sentencias indentado que sigue a la condición.\n",
        "* Si la condición se evalúa como `False`, el bloque de sentencias indentado no se ejecuta y el programa continúa con las instrucciones siguientes.\n",
        "\n",
        "Los condicionales en Python suelen estar estructurados utilizando la palabra clave `if` para la evaluación inicial de una condición. Además, pueden incluir otras palabras clave como `elif` (abreviatura de \"else if\") y `else` para manejar múltiples casos de condiciones. Esto permite construir lógica compleja y tomar decisiones basadas en diferentes situaciones dentro del programa.\n",
        "\n",
        "Los operadores de comparación, como `==`, `!=`, `<`, `>`, `<=`, `>=`, se utilizan para comparar valores y generar resultados booleanos (`True` o `False`). Estos operadores son fundamentales para construir condiciones significativas que guíen el comportamiento del programa según las circunstancias evaluadas."
      ],
      "metadata": {
        "id": "Fd1t3yc2UQSz"
      }
    },
    {
      "cell_type": "code",
      "source": [
        "console.print(Panel(\"Condicionales\"), style=\"orchid\")\n",
        "console.rule(\"Comparación variables\", style=\"orchid\")\n",
        "\n",
        "a, b = 442.4, 2555.88\n",
        "print(f\"a: {a}, b: {b}\")\n",
        "\n",
        "if a == b:\n",
        "  print(\"a y b son iguales\")\n",
        "else:\n",
        "  print(\"Las variables a y b son diferentes\")\n",
        "\n",
        "if a == b:\n",
        "  print(\"Iguales\")\n",
        "elif a < b:\n",
        "  print(\" - A menor que B\")\n",
        "else:\n",
        "  print(\" - A es mayor que b\")\n",
        "\n",
        "a, b = 1, 1\n",
        "if a != b:\n",
        "  print(\" => No son iguales\")\n",
        "else:\n",
        "  print(\" => Son iguales\")\n",
        "\n",
        "#a, b = 1, 1\n",
        "print(\"Son iguales?\", a == b)"
      ],
      "metadata": {
        "colab": {
          "base_uri": "https://localhost:8080/",
          "height": 205
        },
        "id": "ihpp7mMcUkjG",
        "outputId": "f285d959-51f0-4c81-c2f9-809d2f4949e5"
      },
      "execution_count": null,
      "outputs": [
        {
          "output_type": "display_data",
          "data": {
            "text/plain": [
              "\u001b[38;5;170m╭─────────────────────────────────────────────────────────────────────────────────────────────────────────────────╮\u001b[0m\n",
              "\u001b[38;5;170m│\u001b[0m\u001b[38;5;170m \u001b[0m\u001b[38;5;170mCondicionales\u001b[0m\u001b[38;5;170m                                                                                                  \u001b[0m\u001b[38;5;170m \u001b[0m\u001b[38;5;170m│\u001b[0m\n",
              "\u001b[38;5;170m╰─────────────────────────────────────────────────────────────────────────────────────────────────────────────────╯\u001b[0m\n"
            ],
            "text/html": [
              "<pre style=\"white-space:pre;overflow-x:auto;line-height:normal;font-family:Menlo,'DejaVu Sans Mono',consolas,'Courier New',monospace\"><span style=\"color: #d75fd7; text-decoration-color: #d75fd7\">╭─────────────────────────────────────────────────────────────────────────────────────────────────────────────────╮</span>\n",
              "<span style=\"color: #d75fd7; text-decoration-color: #d75fd7\">│ Condicionales                                                                                                   │</span>\n",
              "<span style=\"color: #d75fd7; text-decoration-color: #d75fd7\">╰─────────────────────────────────────────────────────────────────────────────────────────────────────────────────╯</span>\n",
              "</pre>\n"
            ]
          },
          "metadata": {}
        },
        {
          "output_type": "display_data",
          "data": {
            "text/plain": [
              "\u001b[38;5;170m────────────────────────────────────────────── \u001b[0mComparación variables\u001b[38;5;170m ──────────────────────────────────────────────\u001b[0m\n"
            ],
            "text/html": [
              "<pre style=\"white-space:pre;overflow-x:auto;line-height:normal;font-family:Menlo,'DejaVu Sans Mono',consolas,'Courier New',monospace\"><span style=\"color: #d75fd7; text-decoration-color: #d75fd7\">────────────────────────────────────────────── </span>Comparación variables<span style=\"color: #d75fd7; text-decoration-color: #d75fd7\"> ──────────────────────────────────────────────</span>\n",
              "</pre>\n"
            ]
          },
          "metadata": {}
        },
        {
          "output_type": "display_data",
          "data": {
            "text/plain": [
              "a: \u001b[1;36m442.4\u001b[0m, b: \u001b[1;36m2555.88\u001b[0m\n"
            ],
            "text/html": [
              "<pre style=\"white-space:pre;overflow-x:auto;line-height:normal;font-family:Menlo,'DejaVu Sans Mono',consolas,'Courier New',monospace\">a: <span style=\"color: #008080; text-decoration-color: #008080; font-weight: bold\">442.4</span>, b: <span style=\"color: #008080; text-decoration-color: #008080; font-weight: bold\">2555.88</span>\n",
              "</pre>\n"
            ]
          },
          "metadata": {}
        },
        {
          "output_type": "display_data",
          "data": {
            "text/plain": [
              "Las variables a y b son diferentes\n"
            ],
            "text/html": [
              "<pre style=\"white-space:pre;overflow-x:auto;line-height:normal;font-family:Menlo,'DejaVu Sans Mono',consolas,'Courier New',monospace\">Las variables a y b son diferentes\n",
              "</pre>\n"
            ]
          },
          "metadata": {}
        },
        {
          "output_type": "display_data",
          "data": {
            "text/plain": [
              " - A menor que B\n"
            ],
            "text/html": [
              "<pre style=\"white-space:pre;overflow-x:auto;line-height:normal;font-family:Menlo,'DejaVu Sans Mono',consolas,'Courier New',monospace\"> - A menor que B\n",
              "</pre>\n"
            ]
          },
          "metadata": {}
        },
        {
          "output_type": "display_data",
          "data": {
            "text/plain": [
              " => Son iguales\n"
            ],
            "text/html": [
              "<pre style=\"white-space:pre;overflow-x:auto;line-height:normal;font-family:Menlo,'DejaVu Sans Mono',consolas,'Courier New',monospace\"> =&gt; Son iguales\n",
              "</pre>\n"
            ]
          },
          "metadata": {}
        },
        {
          "output_type": "display_data",
          "data": {
            "text/plain": [
              "Son iguales? \u001b[3;92mTrue\u001b[0m\n"
            ],
            "text/html": [
              "<pre style=\"white-space:pre;overflow-x:auto;line-height:normal;font-family:Menlo,'DejaVu Sans Mono',consolas,'Courier New',monospace\">Son iguales? <span style=\"color: #00ff00; text-decoration-color: #00ff00; font-style: italic\">True</span>\n",
              "</pre>\n"
            ]
          },
          "metadata": {}
        }
      ]
    },
    {
      "cell_type": "code",
      "source": [
        "# Booleanos\n",
        "console.rule(\"Booleanos\", style=\"orchid\")\n",
        "x = False\n",
        "y = False\n",
        "print(\"x es igual a y:\", x <= y)\n",
        "print(\"x:\",x)\n",
        "\n",
        "# Cadenas de caracteres\n",
        "console.rule(\"Caracteres\", style=\"orchid\")\n",
        "s1 = \"aF\"\n",
        "s2 = \"Adios\"\n",
        "s2 = \"HolaMundo\"\n",
        "s4 = \"aF\"\n",
        "print(\" - s1 es igual a s2:\", s1==s2)\n",
        "print(\"s1 < s2:\", s1 < s2)\n",
        "print(\"s1 == s4:\", s1 == s4)\n",
        "print(len(\"s1wet\") < len(\"s23\"))"
      ],
      "metadata": {
        "colab": {
          "base_uri": "https://localhost:8080/",
          "height": 184
        },
        "id": "HjvFdYAq27vx",
        "outputId": "919b3ae8-fa09-4d01-fba7-027f4b15634e"
      },
      "execution_count": null,
      "outputs": [
        {
          "output_type": "display_data",
          "data": {
            "text/plain": [
              "\u001b[38;5;170m──────────────────────────────────────────────────── \u001b[0mBooleanos\u001b[38;5;170m ────────────────────────────────────────────────────\u001b[0m\n"
            ],
            "text/html": [
              "<pre style=\"white-space:pre;overflow-x:auto;line-height:normal;font-family:Menlo,'DejaVu Sans Mono',consolas,'Courier New',monospace\"><span style=\"color: #d75fd7; text-decoration-color: #d75fd7\">──────────────────────────────────────────────────── </span>Booleanos<span style=\"color: #d75fd7; text-decoration-color: #d75fd7\"> ────────────────────────────────────────────────────</span>\n",
              "</pre>\n"
            ]
          },
          "metadata": {}
        },
        {
          "output_type": "display_data",
          "data": {
            "text/plain": [
              "x es igual a y: \u001b[3;92mTrue\u001b[0m\n"
            ],
            "text/html": [
              "<pre style=\"white-space:pre;overflow-x:auto;line-height:normal;font-family:Menlo,'DejaVu Sans Mono',consolas,'Courier New',monospace\">x es igual a y: <span style=\"color: #00ff00; text-decoration-color: #00ff00; font-style: italic\">True</span>\n",
              "</pre>\n"
            ]
          },
          "metadata": {}
        },
        {
          "output_type": "display_data",
          "data": {
            "text/plain": [
              "x: \u001b[3;91mFalse\u001b[0m\n"
            ],
            "text/html": [
              "<pre style=\"white-space:pre;overflow-x:auto;line-height:normal;font-family:Menlo,'DejaVu Sans Mono',consolas,'Courier New',monospace\">x: <span style=\"color: #ff0000; text-decoration-color: #ff0000; font-style: italic\">False</span>\n",
              "</pre>\n"
            ]
          },
          "metadata": {}
        },
        {
          "output_type": "display_data",
          "data": {
            "text/plain": [
              "\u001b[38;5;170m─────────────────────────────────────────────────── \u001b[0mCaracteres\u001b[38;5;170m ────────────────────────────────────────────────────\u001b[0m\n"
            ],
            "text/html": [
              "<pre style=\"white-space:pre;overflow-x:auto;line-height:normal;font-family:Menlo,'DejaVu Sans Mono',consolas,'Courier New',monospace\"><span style=\"color: #d75fd7; text-decoration-color: #d75fd7\">─────────────────────────────────────────────────── </span>Caracteres<span style=\"color: #d75fd7; text-decoration-color: #d75fd7\"> ────────────────────────────────────────────────────</span>\n",
              "</pre>\n"
            ]
          },
          "metadata": {}
        },
        {
          "output_type": "display_data",
          "data": {
            "text/plain": [
              " - s1 es igual a s2: \u001b[3;91mFalse\u001b[0m\n"
            ],
            "text/html": [
              "<pre style=\"white-space:pre;overflow-x:auto;line-height:normal;font-family:Menlo,'DejaVu Sans Mono',consolas,'Courier New',monospace\"> - s1 es igual a s2: <span style=\"color: #ff0000; text-decoration-color: #ff0000; font-style: italic\">False</span>\n",
              "</pre>\n"
            ]
          },
          "metadata": {}
        },
        {
          "output_type": "display_data",
          "data": {
            "text/plain": [
              "s1 < s2: \u001b[3;91mFalse\u001b[0m\n"
            ],
            "text/html": [
              "<pre style=\"white-space:pre;overflow-x:auto;line-height:normal;font-family:Menlo,'DejaVu Sans Mono',consolas,'Courier New',monospace\">s1 &lt; s2: <span style=\"color: #ff0000; text-decoration-color: #ff0000; font-style: italic\">False</span>\n",
              "</pre>\n"
            ]
          },
          "metadata": {}
        },
        {
          "output_type": "display_data",
          "data": {
            "text/plain": [
              "s1 == s4: \u001b[3;92mTrue\u001b[0m\n"
            ],
            "text/html": [
              "<pre style=\"white-space:pre;overflow-x:auto;line-height:normal;font-family:Menlo,'DejaVu Sans Mono',consolas,'Courier New',monospace\">s1 == s4: <span style=\"color: #00ff00; text-decoration-color: #00ff00; font-style: italic\">True</span>\n",
              "</pre>\n"
            ]
          },
          "metadata": {}
        },
        {
          "output_type": "display_data",
          "data": {
            "text/plain": [
              "\u001b[3;91mFalse\u001b[0m\n"
            ],
            "text/html": [
              "<pre style=\"white-space:pre;overflow-x:auto;line-height:normal;font-family:Menlo,'DejaVu Sans Mono',consolas,'Courier New',monospace\"><span style=\"color: #ff0000; text-decoration-color: #ff0000; font-style: italic\">False</span>\n",
              "</pre>\n"
            ]
          },
          "metadata": {}
        }
      ]
    },
    {
      "cell_type": "markdown",
      "source": [
        "## Bucles de ejecución\n",
        "### Bucles de Ejecución en Python\n",
        "\n",
        "Los bucles son herramientas fundamentales en la programación que permiten repetir un bloque de código múltiples veces. En Python, existen dos tipos principales de bucles:\n",
        "\n",
        "**1. Bucle `for`:**\n",
        "   - El bucle `for` se utiliza para iterar sobre una secuencia de elementos, como listas, tuplas, diccionarios o rangos.\n",
        "   - Se ejecuta un número predefinido de veces, una vez para cada elemento de la secuencia.\n",
        "   - La sintaxis básica del bucle `for` es:\n",
        "     ```python\n",
        "     for elemento in secuencia:\n",
        "         # Bloque de código indentado que se ejecuta para cada elemento\n",
        "     ```\n",
        "   - Dentro del bucle `for`, `elemento` hace referencia a cada elemento sucesivo de la secuencia en cada iteración.\n",
        "\n",
        "**2. Bucle `while`:**\n",
        "   - El bucle `while` se utiliza para repetir un bloque de código mientras una condición específica sea verdadera.\n",
        "   - La condición se evalúa antes de cada iteración. Si es verdadera, se ejecuta el bloque de código; si es falsa, el bucle se detiene.\n",
        "   - La sintaxis básica del bucle `while` es:\n",
        "     ```python\n",
        "     while condicion:\n",
        "         # Bloque de código indentado que se ejecuta mientras la condición sea verdadera\n",
        "     ```\n",
        "   - Es importante tener cuidado con los bucles `while` para evitar bucles infinitos si la condición nunca se vuelve falsa.\n",
        "\n",
        "Estos bucles proporcionan flexibilidad para controlar el flujo de ejecución de un programa, permitiendo la repetición controlada de código según las necesidades específicas de la lógica del programa. Son esenciales para tareas como procesamiento de datos, iteración sobre estructuras de datos y ejecución de operaciones repetitivas."
      ],
      "metadata": {
        "id": "G-7cWzdTUk6x"
      }
    },
    {
      "cell_type": "code",
      "source": [
        "console.print(Panel(\"Bucles de ejecución\"), style=\"orchid\")\n",
        "\n",
        "\n",
        "# Bucle while: se ejecuta mientras se cumple una condición\n",
        "console.rule(\"Bucle while...\", style=\"orchid\")\n",
        "\n",
        "count = 0\n",
        "while count <= 10:\n",
        "    print(\"El valor de count es:\", count)\n",
        "    count += 1\n"
      ],
      "metadata": {
        "colab": {
          "base_uri": "https://localhost:8080/",
          "height": 331
        },
        "id": "psi0f9VRU1fp",
        "outputId": "f112b4ff-f56c-45f7-ed5c-f1dfd95581ea",
        "collapsed": true
      },
      "execution_count": null,
      "outputs": [
        {
          "output_type": "display_data",
          "data": {
            "text/plain": [
              "\u001b[38;5;170m╭─────────────────────────────────────────────────────────────────────────────────────────────────────────────────╮\u001b[0m\n",
              "\u001b[38;5;170m│\u001b[0m\u001b[38;5;170m \u001b[0m\u001b[38;5;170mBucles de ejecución\u001b[0m\u001b[38;5;170m                                                                                            \u001b[0m\u001b[38;5;170m \u001b[0m\u001b[38;5;170m│\u001b[0m\n",
              "\u001b[38;5;170m╰─────────────────────────────────────────────────────────────────────────────────────────────────────────────────╯\u001b[0m\n"
            ],
            "text/html": [
              "<pre style=\"white-space:pre;overflow-x:auto;line-height:normal;font-family:Menlo,'DejaVu Sans Mono',consolas,'Courier New',monospace\"><span style=\"color: #d75fd7; text-decoration-color: #d75fd7\">╭─────────────────────────────────────────────────────────────────────────────────────────────────────────────────╮</span>\n",
              "<span style=\"color: #d75fd7; text-decoration-color: #d75fd7\">│ Bucles de ejecución                                                                                             │</span>\n",
              "<span style=\"color: #d75fd7; text-decoration-color: #d75fd7\">╰─────────────────────────────────────────────────────────────────────────────────────────────────────────────────╯</span>\n",
              "</pre>\n"
            ]
          },
          "metadata": {}
        },
        {
          "output_type": "display_data",
          "data": {
            "text/plain": [
              "\u001b[38;5;170m───────────────────────────────────────────────── \u001b[0mBucle while\u001b[33m...\u001b[0m\u001b[38;5;170m ──────────────────────────────────────────────────\u001b[0m\n"
            ],
            "text/html": [
              "<pre style=\"white-space:pre;overflow-x:auto;line-height:normal;font-family:Menlo,'DejaVu Sans Mono',consolas,'Courier New',monospace\"><span style=\"color: #d75fd7; text-decoration-color: #d75fd7\">───────────────────────────────────────────────── </span>Bucle while<span style=\"color: #808000; text-decoration-color: #808000\">...</span><span style=\"color: #d75fd7; text-decoration-color: #d75fd7\"> ──────────────────────────────────────────────────</span>\n",
              "</pre>\n"
            ]
          },
          "metadata": {}
        },
        {
          "output_type": "display_data",
          "data": {
            "text/plain": [
              "El valor de count es: \u001b[1;36m0\u001b[0m\n"
            ],
            "text/html": [
              "<pre style=\"white-space:pre;overflow-x:auto;line-height:normal;font-family:Menlo,'DejaVu Sans Mono',consolas,'Courier New',monospace\">El valor de count es: <span style=\"color: #008080; text-decoration-color: #008080; font-weight: bold\">0</span>\n",
              "</pre>\n"
            ]
          },
          "metadata": {}
        },
        {
          "output_type": "display_data",
          "data": {
            "text/plain": [
              "El valor de count es: \u001b[1;36m1\u001b[0m\n"
            ],
            "text/html": [
              "<pre style=\"white-space:pre;overflow-x:auto;line-height:normal;font-family:Menlo,'DejaVu Sans Mono',consolas,'Courier New',monospace\">El valor de count es: <span style=\"color: #008080; text-decoration-color: #008080; font-weight: bold\">1</span>\n",
              "</pre>\n"
            ]
          },
          "metadata": {}
        },
        {
          "output_type": "display_data",
          "data": {
            "text/plain": [
              "El valor de count es: \u001b[1;36m2\u001b[0m\n"
            ],
            "text/html": [
              "<pre style=\"white-space:pre;overflow-x:auto;line-height:normal;font-family:Menlo,'DejaVu Sans Mono',consolas,'Courier New',monospace\">El valor de count es: <span style=\"color: #008080; text-decoration-color: #008080; font-weight: bold\">2</span>\n",
              "</pre>\n"
            ]
          },
          "metadata": {}
        },
        {
          "output_type": "display_data",
          "data": {
            "text/plain": [
              "El valor de count es: \u001b[1;36m3\u001b[0m\n"
            ],
            "text/html": [
              "<pre style=\"white-space:pre;overflow-x:auto;line-height:normal;font-family:Menlo,'DejaVu Sans Mono',consolas,'Courier New',monospace\">El valor de count es: <span style=\"color: #008080; text-decoration-color: #008080; font-weight: bold\">3</span>\n",
              "</pre>\n"
            ]
          },
          "metadata": {}
        },
        {
          "output_type": "display_data",
          "data": {
            "text/plain": [
              "El valor de count es: \u001b[1;36m4\u001b[0m\n"
            ],
            "text/html": [
              "<pre style=\"white-space:pre;overflow-x:auto;line-height:normal;font-family:Menlo,'DejaVu Sans Mono',consolas,'Courier New',monospace\">El valor de count es: <span style=\"color: #008080; text-decoration-color: #008080; font-weight: bold\">4</span>\n",
              "</pre>\n"
            ]
          },
          "metadata": {}
        },
        {
          "output_type": "display_data",
          "data": {
            "text/plain": [
              "El valor de count es: \u001b[1;36m5\u001b[0m\n"
            ],
            "text/html": [
              "<pre style=\"white-space:pre;overflow-x:auto;line-height:normal;font-family:Menlo,'DejaVu Sans Mono',consolas,'Courier New',monospace\">El valor de count es: <span style=\"color: #008080; text-decoration-color: #008080; font-weight: bold\">5</span>\n",
              "</pre>\n"
            ]
          },
          "metadata": {}
        },
        {
          "output_type": "display_data",
          "data": {
            "text/plain": [
              "El valor de count es: \u001b[1;36m6\u001b[0m\n"
            ],
            "text/html": [
              "<pre style=\"white-space:pre;overflow-x:auto;line-height:normal;font-family:Menlo,'DejaVu Sans Mono',consolas,'Courier New',monospace\">El valor de count es: <span style=\"color: #008080; text-decoration-color: #008080; font-weight: bold\">6</span>\n",
              "</pre>\n"
            ]
          },
          "metadata": {}
        },
        {
          "output_type": "display_data",
          "data": {
            "text/plain": [
              "El valor de count es: \u001b[1;36m7\u001b[0m\n"
            ],
            "text/html": [
              "<pre style=\"white-space:pre;overflow-x:auto;line-height:normal;font-family:Menlo,'DejaVu Sans Mono',consolas,'Courier New',monospace\">El valor de count es: <span style=\"color: #008080; text-decoration-color: #008080; font-weight: bold\">7</span>\n",
              "</pre>\n"
            ]
          },
          "metadata": {}
        },
        {
          "output_type": "display_data",
          "data": {
            "text/plain": [
              "El valor de count es: \u001b[1;36m8\u001b[0m\n"
            ],
            "text/html": [
              "<pre style=\"white-space:pre;overflow-x:auto;line-height:normal;font-family:Menlo,'DejaVu Sans Mono',consolas,'Courier New',monospace\">El valor de count es: <span style=\"color: #008080; text-decoration-color: #008080; font-weight: bold\">8</span>\n",
              "</pre>\n"
            ]
          },
          "metadata": {}
        },
        {
          "output_type": "display_data",
          "data": {
            "text/plain": [
              "El valor de count es: \u001b[1;36m9\u001b[0m\n"
            ],
            "text/html": [
              "<pre style=\"white-space:pre;overflow-x:auto;line-height:normal;font-family:Menlo,'DejaVu Sans Mono',consolas,'Courier New',monospace\">El valor de count es: <span style=\"color: #008080; text-decoration-color: #008080; font-weight: bold\">9</span>\n",
              "</pre>\n"
            ]
          },
          "metadata": {}
        },
        {
          "output_type": "display_data",
          "data": {
            "text/plain": [
              "El valor de count es: \u001b[1;36m10\u001b[0m\n"
            ],
            "text/html": [
              "<pre style=\"white-space:pre;overflow-x:auto;line-height:normal;font-family:Menlo,'DejaVu Sans Mono',consolas,'Courier New',monospace\">El valor de count es: <span style=\"color: #008080; text-decoration-color: #008080; font-weight: bold\">10</span>\n",
              "</pre>\n"
            ]
          },
          "metadata": {}
        }
      ]
    },
    {
      "cell_type": "code",
      "source": [
        "# Bucle for: se utiliza para iterar sobre una secuencia o colección\n",
        "console.rule(\"Bucle for...\", style=\"orchid\")\n",
        "\n",
        "fruits = [\"manzana\", \"banana\", \"cereza\"]\n",
        "for fruit in fruits[:2]:\n",
        "    print(\"La fruta es:\", fruit)\n",
        "\n",
        "# Uso de la función range en un bucle for\n",
        "for i in range(1, 11, 1):  # Itera desde 1 hasta 5 (no incluye el 6)\n",
        "    print(\"El valor de i es:\", i)\n",
        "\n",
        "print(\"\\n\")"
      ],
      "metadata": {
        "colab": {
          "base_uri": "https://localhost:8080/",
          "height": 310
        },
        "id": "3GLR7zfC4SUg",
        "outputId": "56b20cd9-7c0f-45ef-c724-3b6edec9ac7a"
      },
      "execution_count": null,
      "outputs": [
        {
          "output_type": "display_data",
          "data": {
            "text/plain": [
              "\u001b[38;5;170m────────────────────────────────────────────────── \u001b[0mBucle for\u001b[33m...\u001b[0m\u001b[38;5;170m ───────────────────────────────────────────────────\u001b[0m\n"
            ],
            "text/html": [
              "<pre style=\"white-space:pre;overflow-x:auto;line-height:normal;font-family:Menlo,'DejaVu Sans Mono',consolas,'Courier New',monospace\"><span style=\"color: #d75fd7; text-decoration-color: #d75fd7\">────────────────────────────────────────────────── </span>Bucle for<span style=\"color: #808000; text-decoration-color: #808000\">...</span><span style=\"color: #d75fd7; text-decoration-color: #d75fd7\"> ───────────────────────────────────────────────────</span>\n",
              "</pre>\n"
            ]
          },
          "metadata": {}
        },
        {
          "output_type": "display_data",
          "data": {
            "text/plain": [
              "La fruta es: manzana\n"
            ],
            "text/html": [
              "<pre style=\"white-space:pre;overflow-x:auto;line-height:normal;font-family:Menlo,'DejaVu Sans Mono',consolas,'Courier New',monospace\">La fruta es: manzana\n",
              "</pre>\n"
            ]
          },
          "metadata": {}
        },
        {
          "output_type": "display_data",
          "data": {
            "text/plain": [
              "La fruta es: banana\n"
            ],
            "text/html": [
              "<pre style=\"white-space:pre;overflow-x:auto;line-height:normal;font-family:Menlo,'DejaVu Sans Mono',consolas,'Courier New',monospace\">La fruta es: banana\n",
              "</pre>\n"
            ]
          },
          "metadata": {}
        },
        {
          "output_type": "display_data",
          "data": {
            "text/plain": [
              "El valor de i es: \u001b[1;36m1\u001b[0m\n"
            ],
            "text/html": [
              "<pre style=\"white-space:pre;overflow-x:auto;line-height:normal;font-family:Menlo,'DejaVu Sans Mono',consolas,'Courier New',monospace\">El valor de i es: <span style=\"color: #008080; text-decoration-color: #008080; font-weight: bold\">1</span>\n",
              "</pre>\n"
            ]
          },
          "metadata": {}
        },
        {
          "output_type": "display_data",
          "data": {
            "text/plain": [
              "El valor de i es: \u001b[1;36m2\u001b[0m\n"
            ],
            "text/html": [
              "<pre style=\"white-space:pre;overflow-x:auto;line-height:normal;font-family:Menlo,'DejaVu Sans Mono',consolas,'Courier New',monospace\">El valor de i es: <span style=\"color: #008080; text-decoration-color: #008080; font-weight: bold\">2</span>\n",
              "</pre>\n"
            ]
          },
          "metadata": {}
        },
        {
          "output_type": "display_data",
          "data": {
            "text/plain": [
              "El valor de i es: \u001b[1;36m3\u001b[0m\n"
            ],
            "text/html": [
              "<pre style=\"white-space:pre;overflow-x:auto;line-height:normal;font-family:Menlo,'DejaVu Sans Mono',consolas,'Courier New',monospace\">El valor de i es: <span style=\"color: #008080; text-decoration-color: #008080; font-weight: bold\">3</span>\n",
              "</pre>\n"
            ]
          },
          "metadata": {}
        },
        {
          "output_type": "display_data",
          "data": {
            "text/plain": [
              "El valor de i es: \u001b[1;36m4\u001b[0m\n"
            ],
            "text/html": [
              "<pre style=\"white-space:pre;overflow-x:auto;line-height:normal;font-family:Menlo,'DejaVu Sans Mono',consolas,'Courier New',monospace\">El valor de i es: <span style=\"color: #008080; text-decoration-color: #008080; font-weight: bold\">4</span>\n",
              "</pre>\n"
            ]
          },
          "metadata": {}
        },
        {
          "output_type": "display_data",
          "data": {
            "text/plain": [
              "El valor de i es: \u001b[1;36m5\u001b[0m\n"
            ],
            "text/html": [
              "<pre style=\"white-space:pre;overflow-x:auto;line-height:normal;font-family:Menlo,'DejaVu Sans Mono',consolas,'Courier New',monospace\">El valor de i es: <span style=\"color: #008080; text-decoration-color: #008080; font-weight: bold\">5</span>\n",
              "</pre>\n"
            ]
          },
          "metadata": {}
        },
        {
          "output_type": "display_data",
          "data": {
            "text/plain": [
              "El valor de i es: \u001b[1;36m6\u001b[0m\n"
            ],
            "text/html": [
              "<pre style=\"white-space:pre;overflow-x:auto;line-height:normal;font-family:Menlo,'DejaVu Sans Mono',consolas,'Courier New',monospace\">El valor de i es: <span style=\"color: #008080; text-decoration-color: #008080; font-weight: bold\">6</span>\n",
              "</pre>\n"
            ]
          },
          "metadata": {}
        },
        {
          "output_type": "display_data",
          "data": {
            "text/plain": [
              "El valor de i es: \u001b[1;36m7\u001b[0m\n"
            ],
            "text/html": [
              "<pre style=\"white-space:pre;overflow-x:auto;line-height:normal;font-family:Menlo,'DejaVu Sans Mono',consolas,'Courier New',monospace\">El valor de i es: <span style=\"color: #008080; text-decoration-color: #008080; font-weight: bold\">7</span>\n",
              "</pre>\n"
            ]
          },
          "metadata": {}
        },
        {
          "output_type": "display_data",
          "data": {
            "text/plain": [
              "El valor de i es: \u001b[1;36m8\u001b[0m\n"
            ],
            "text/html": [
              "<pre style=\"white-space:pre;overflow-x:auto;line-height:normal;font-family:Menlo,'DejaVu Sans Mono',consolas,'Courier New',monospace\">El valor de i es: <span style=\"color: #008080; text-decoration-color: #008080; font-weight: bold\">8</span>\n",
              "</pre>\n"
            ]
          },
          "metadata": {}
        },
        {
          "output_type": "display_data",
          "data": {
            "text/plain": [
              "El valor de i es: \u001b[1;36m9\u001b[0m\n"
            ],
            "text/html": [
              "<pre style=\"white-space:pre;overflow-x:auto;line-height:normal;font-family:Menlo,'DejaVu Sans Mono',consolas,'Courier New',monospace\">El valor de i es: <span style=\"color: #008080; text-decoration-color: #008080; font-weight: bold\">9</span>\n",
              "</pre>\n"
            ]
          },
          "metadata": {}
        },
        {
          "output_type": "display_data",
          "data": {
            "text/plain": [
              "El valor de i es: \u001b[1;36m10\u001b[0m\n"
            ],
            "text/html": [
              "<pre style=\"white-space:pre;overflow-x:auto;line-height:normal;font-family:Menlo,'DejaVu Sans Mono',consolas,'Courier New',monospace\">El valor de i es: <span style=\"color: #008080; text-decoration-color: #008080; font-weight: bold\">10</span>\n",
              "</pre>\n"
            ]
          },
          "metadata": {}
        },
        {
          "output_type": "display_data",
          "data": {
            "text/plain": [
              "\n",
              "\n"
            ],
            "text/html": [
              "<pre style=\"white-space:pre;overflow-x:auto;line-height:normal;font-family:Menlo,'DejaVu Sans Mono',consolas,'Courier New',monospace\">\n",
              "\n",
              "</pre>\n"
            ]
          },
          "metadata": {}
        }
      ]
    },
    {
      "cell_type": "code",
      "source": [
        "\n",
        "# Bucle for con instrucción break\n",
        "console.rule(\"Bucle for con instrucción break\", style=\"orchid\")\n",
        "\n",
        "for i in range(1, 100):\n",
        "    if i == 73:\n",
        "        break  # Sale del bucle cuando i es igual a 5\n",
        "print(\" => El valor de i es:\", i)\n",
        "\n",
        "\n",
        "# Bucle for con instrucción continue\n",
        "for i in range(1, 6):\n",
        "    if i == 3:\n",
        "        continue  # Salta a la siguiente iteración cuando i es igual a 3\n",
        "    print(\" - El valor de j es:\", i)\n",
        "\n",
        "print(\"\\n-------------------\\n\")\n",
        "\n",
        "# Bucle for con instrucción continue\n",
        "for i in range(1, 6):\n",
        "    print(\" - El valor de i es:\", i)\n",
        "\n",
        "    if i == 3:\n",
        "        pass  # No hace ninguna operación en esta condición\n",
        "\n",
        "print(\" => El valor de i es:\", i)"
      ],
      "metadata": {
        "colab": {
          "base_uri": "https://localhost:8080/",
          "height": 310
        },
        "id": "9HhMHRAZZ-bc",
        "outputId": "29b6193c-9f1d-4d06-b239-78b72b2d9aba"
      },
      "execution_count": null,
      "outputs": [
        {
          "output_type": "display_data",
          "data": {
            "text/plain": [
              "\u001b[38;5;170m───────────────────────────────────────── \u001b[0mBucle for con instrucción break\u001b[38;5;170m ─────────────────────────────────────────\u001b[0m\n"
            ],
            "text/html": [
              "<pre style=\"white-space:pre;overflow-x:auto;line-height:normal;font-family:Menlo,'DejaVu Sans Mono',consolas,'Courier New',monospace\"><span style=\"color: #d75fd7; text-decoration-color: #d75fd7\">───────────────────────────────────────── </span>Bucle for con instrucción break<span style=\"color: #d75fd7; text-decoration-color: #d75fd7\"> ─────────────────────────────────────────</span>\n",
              "</pre>\n"
            ]
          },
          "metadata": {}
        },
        {
          "output_type": "display_data",
          "data": {
            "text/plain": [
              " => El valor de i es: \u001b[1;36m73\u001b[0m\n"
            ],
            "text/html": [
              "<pre style=\"white-space:pre;overflow-x:auto;line-height:normal;font-family:Menlo,'DejaVu Sans Mono',consolas,'Courier New',monospace\"> =&gt; El valor de i es: <span style=\"color: #008080; text-decoration-color: #008080; font-weight: bold\">73</span>\n",
              "</pre>\n"
            ]
          },
          "metadata": {}
        },
        {
          "output_type": "display_data",
          "data": {
            "text/plain": [
              " - El valor de j es: \u001b[1;36m1\u001b[0m\n"
            ],
            "text/html": [
              "<pre style=\"white-space:pre;overflow-x:auto;line-height:normal;font-family:Menlo,'DejaVu Sans Mono',consolas,'Courier New',monospace\"> - El valor de j es: <span style=\"color: #008080; text-decoration-color: #008080; font-weight: bold\">1</span>\n",
              "</pre>\n"
            ]
          },
          "metadata": {}
        },
        {
          "output_type": "display_data",
          "data": {
            "text/plain": [
              " - El valor de j es: \u001b[1;36m2\u001b[0m\n"
            ],
            "text/html": [
              "<pre style=\"white-space:pre;overflow-x:auto;line-height:normal;font-family:Menlo,'DejaVu Sans Mono',consolas,'Courier New',monospace\"> - El valor de j es: <span style=\"color: #008080; text-decoration-color: #008080; font-weight: bold\">2</span>\n",
              "</pre>\n"
            ]
          },
          "metadata": {}
        },
        {
          "output_type": "display_data",
          "data": {
            "text/plain": [
              " - El valor de j es: \u001b[1;36m4\u001b[0m\n"
            ],
            "text/html": [
              "<pre style=\"white-space:pre;overflow-x:auto;line-height:normal;font-family:Menlo,'DejaVu Sans Mono',consolas,'Courier New',monospace\"> - El valor de j es: <span style=\"color: #008080; text-decoration-color: #008080; font-weight: bold\">4</span>\n",
              "</pre>\n"
            ]
          },
          "metadata": {}
        },
        {
          "output_type": "display_data",
          "data": {
            "text/plain": [
              " - El valor de j es: \u001b[1;36m5\u001b[0m\n"
            ],
            "text/html": [
              "<pre style=\"white-space:pre;overflow-x:auto;line-height:normal;font-family:Menlo,'DejaVu Sans Mono',consolas,'Courier New',monospace\"> - El valor de j es: <span style=\"color: #008080; text-decoration-color: #008080; font-weight: bold\">5</span>\n",
              "</pre>\n"
            ]
          },
          "metadata": {}
        },
        {
          "output_type": "display_data",
          "data": {
            "text/plain": [
              "\n",
              "-------------------\n",
              "\n"
            ],
            "text/html": [
              "<pre style=\"white-space:pre;overflow-x:auto;line-height:normal;font-family:Menlo,'DejaVu Sans Mono',consolas,'Courier New',monospace\">\n",
              "-------------------\n",
              "\n",
              "</pre>\n"
            ]
          },
          "metadata": {}
        },
        {
          "output_type": "display_data",
          "data": {
            "text/plain": [
              " - El valor de i es: \u001b[1;36m1\u001b[0m\n"
            ],
            "text/html": [
              "<pre style=\"white-space:pre;overflow-x:auto;line-height:normal;font-family:Menlo,'DejaVu Sans Mono',consolas,'Courier New',monospace\"> - El valor de i es: <span style=\"color: #008080; text-decoration-color: #008080; font-weight: bold\">1</span>\n",
              "</pre>\n"
            ]
          },
          "metadata": {}
        },
        {
          "output_type": "display_data",
          "data": {
            "text/plain": [
              " - El valor de i es: \u001b[1;36m2\u001b[0m\n"
            ],
            "text/html": [
              "<pre style=\"white-space:pre;overflow-x:auto;line-height:normal;font-family:Menlo,'DejaVu Sans Mono',consolas,'Courier New',monospace\"> - El valor de i es: <span style=\"color: #008080; text-decoration-color: #008080; font-weight: bold\">2</span>\n",
              "</pre>\n"
            ]
          },
          "metadata": {}
        },
        {
          "output_type": "display_data",
          "data": {
            "text/plain": [
              " - El valor de i es: \u001b[1;36m3\u001b[0m\n"
            ],
            "text/html": [
              "<pre style=\"white-space:pre;overflow-x:auto;line-height:normal;font-family:Menlo,'DejaVu Sans Mono',consolas,'Courier New',monospace\"> - El valor de i es: <span style=\"color: #008080; text-decoration-color: #008080; font-weight: bold\">3</span>\n",
              "</pre>\n"
            ]
          },
          "metadata": {}
        },
        {
          "output_type": "display_data",
          "data": {
            "text/plain": [
              " - El valor de i es: \u001b[1;36m4\u001b[0m\n"
            ],
            "text/html": [
              "<pre style=\"white-space:pre;overflow-x:auto;line-height:normal;font-family:Menlo,'DejaVu Sans Mono',consolas,'Courier New',monospace\"> - El valor de i es: <span style=\"color: #008080; text-decoration-color: #008080; font-weight: bold\">4</span>\n",
              "</pre>\n"
            ]
          },
          "metadata": {}
        },
        {
          "output_type": "display_data",
          "data": {
            "text/plain": [
              " - El valor de i es: \u001b[1;36m5\u001b[0m\n"
            ],
            "text/html": [
              "<pre style=\"white-space:pre;overflow-x:auto;line-height:normal;font-family:Menlo,'DejaVu Sans Mono',consolas,'Courier New',monospace\"> - El valor de i es: <span style=\"color: #008080; text-decoration-color: #008080; font-weight: bold\">5</span>\n",
              "</pre>\n"
            ]
          },
          "metadata": {}
        },
        {
          "output_type": "display_data",
          "data": {
            "text/plain": [
              " => El valor de i es: \u001b[1;36m5\u001b[0m\n"
            ],
            "text/html": [
              "<pre style=\"white-space:pre;overflow-x:auto;line-height:normal;font-family:Menlo,'DejaVu Sans Mono',consolas,'Courier New',monospace\"> =&gt; El valor de i es: <span style=\"color: #008080; text-decoration-color: #008080; font-weight: bold\">5</span>\n",
              "</pre>\n"
            ]
          },
          "metadata": {}
        }
      ]
    },
    {
      "cell_type": "markdown",
      "source": [
        "### Uso de Enums y *Switchers*\n",
        "\n",
        "Un enum (enumeración) es una colección de valores constantes con nombre. Permite definir un conjunto de opciones o categorías específicas que pueden ser utilizadas en un programa. Los enums son útiles cuando deseas representar un conjunto fijo y limitado de valores posibles."
      ],
      "metadata": {
        "id": "iNRkBKgMhr86"
      }
    },
    {
      "cell_type": "code",
      "source": [
        "console.rule(\"[bold] Enumeradores [/bold]\")\n",
        "\n",
        "from enum import Enum\n",
        "\n",
        "class Colores(Enum):\n",
        "    ROJO = 4\n",
        "    VERDE = 2\n",
        "    AZUL = 1\n",
        "\n",
        "color = Colores.ROJO\n",
        "print(\"Elemento:\", color)  # Imprime: Colores.ROJO\n",
        "print(\"Valor:\", color.value)  # Imprime: 1\n"
      ],
      "metadata": {
        "colab": {
          "base_uri": "https://localhost:8080/",
          "height": 80
        },
        "id": "FxBQIzeB5iCN",
        "outputId": "75080093-83fd-43c7-a709-af23f989a5db"
      },
      "execution_count": null,
      "outputs": [
        {
          "output_type": "display_data",
          "data": {
            "text/plain": [
              "\u001b[92m───────────────────────────────────────────────── \u001b[0m\u001b[1m Enumeradores \u001b[0m\u001b[92m ──────────────────────────────────────────────────\u001b[0m\n"
            ],
            "text/html": [
              "<pre style=\"white-space:pre;overflow-x:auto;line-height:normal;font-family:Menlo,'DejaVu Sans Mono',consolas,'Courier New',monospace\"><span style=\"color: #00ff00; text-decoration-color: #00ff00\">───────────────────────────────────────────────── </span><span style=\"font-weight: bold\"> Enumeradores </span><span style=\"color: #00ff00; text-decoration-color: #00ff00\"> ──────────────────────────────────────────────────</span>\n",
              "</pre>\n"
            ]
          },
          "metadata": {}
        },
        {
          "output_type": "display_data",
          "data": {
            "text/plain": [
              "Elemento: Colores.ROJO\n"
            ],
            "text/html": [
              "<pre style=\"white-space:pre;overflow-x:auto;line-height:normal;font-family:Menlo,'DejaVu Sans Mono',consolas,'Courier New',monospace\">Elemento: Colores.ROJO\n",
              "</pre>\n"
            ]
          },
          "metadata": {}
        },
        {
          "output_type": "display_data",
          "data": {
            "text/plain": [
              "Valor: \u001b[1;36m4\u001b[0m\n"
            ],
            "text/html": [
              "<pre style=\"white-space:pre;overflow-x:auto;line-height:normal;font-family:Menlo,'DejaVu Sans Mono',consolas,'Courier New',monospace\">Valor: <span style=\"color: #008080; text-decoration-color: #008080; font-weight: bold\">4</span>\n",
              "</pre>\n"
            ]
          },
          "metadata": {}
        }
      ]
    },
    {
      "cell_type": "code",
      "source": [
        "# Comprobar versión de python\n",
        "!python --version\n",
        "\n",
        "# Instalar otra versión de python\n",
        "!!sudo apt-get install python3.9"
      ],
      "metadata": {
        "id": "9R4y_sr16C4M",
        "colab": {
          "base_uri": "https://localhost:8080/"
        },
        "outputId": "cc66b9a2-0746-4111-f75b-b39d259d7873"
      },
      "execution_count": null,
      "outputs": [
        {
          "output_type": "stream",
          "name": "stdout",
          "text": [
            "Python 3.10.12\n"
          ]
        },
        {
          "output_type": "execute_result",
          "data": {
            "text/plain": [
              "['',\n",
              " 'Reading package lists... 0%',\n",
              " '',\n",
              " 'Reading package lists... 0%',\n",
              " '',\n",
              " 'Reading package lists... 0%',\n",
              " '',\n",
              " 'Reading package lists... 3%',\n",
              " '',\n",
              " 'Reading package lists... 3%',\n",
              " '',\n",
              " 'Reading package lists... 4%',\n",
              " '',\n",
              " 'Reading package lists... 4%',\n",
              " '',\n",
              " 'Reading package lists... 34%',\n",
              " '',\n",
              " 'Reading package lists... 40%',\n",
              " '',\n",
              " 'Reading package lists... 40%',\n",
              " '',\n",
              " 'Reading package lists... 41%',\n",
              " '',\n",
              " 'Reading package lists... 41%',\n",
              " '',\n",
              " 'Reading package lists... 47%',\n",
              " '',\n",
              " 'Reading package lists... 47%',\n",
              " '',\n",
              " 'Reading package lists... 56%',\n",
              " '',\n",
              " 'Reading package lists... 56%',\n",
              " '',\n",
              " 'Reading package lists... 59%',\n",
              " '',\n",
              " 'Reading package lists... 59%',\n",
              " '',\n",
              " 'Reading package lists... 60%',\n",
              " '',\n",
              " 'Reading package lists... 60%',\n",
              " '',\n",
              " 'Reading package lists... 60%',\n",
              " '',\n",
              " 'Reading package lists... 60%',\n",
              " '',\n",
              " 'Reading package lists... 60%',\n",
              " '',\n",
              " 'Reading package lists... 60%',\n",
              " '',\n",
              " 'Reading package lists... 66%',\n",
              " '',\n",
              " 'Reading package lists... 66%',\n",
              " '',\n",
              " 'Reading package lists... 74%',\n",
              " '',\n",
              " 'Reading package lists... 74%',\n",
              " '',\n",
              " 'Reading package lists... 77%',\n",
              " '',\n",
              " 'Reading package lists... 77%',\n",
              " '',\n",
              " 'Reading package lists... 77%',\n",
              " '',\n",
              " 'Reading package lists... 77%',\n",
              " '',\n",
              " 'Reading package lists... 77%',\n",
              " '',\n",
              " 'Reading package lists... 77%',\n",
              " '',\n",
              " 'Reading package lists... 82%',\n",
              " '',\n",
              " 'Reading package lists... 82%',\n",
              " '',\n",
              " 'Reading package lists... 82%',\n",
              " '',\n",
              " 'Reading package lists... 95%',\n",
              " '',\n",
              " 'Reading package lists... 95%',\n",
              " '',\n",
              " 'Reading package lists... 98%',\n",
              " '',\n",
              " 'Reading package lists... 98%',\n",
              " '',\n",
              " 'Reading package lists... 98%',\n",
              " '',\n",
              " 'Reading package lists... 98%',\n",
              " '',\n",
              " 'Reading package lists... 99%',\n",
              " '',\n",
              " 'Reading package lists... 99%',\n",
              " '',\n",
              " 'Reading package lists... 99%',\n",
              " '',\n",
              " 'Reading package lists... 99%',\n",
              " '',\n",
              " 'Reading package lists... Done',\n",
              " '',\n",
              " 'Building dependency tree... 0%',\n",
              " '',\n",
              " 'Building dependency tree... 0%',\n",
              " '',\n",
              " 'Building dependency tree... 50%',\n",
              " '',\n",
              " 'Building dependency tree... 50%',\n",
              " '',\n",
              " 'Building dependency tree... 85%',\n",
              " '',\n",
              " 'Building dependency tree... Done',\n",
              " '',\n",
              " 'Reading state information... 0% ',\n",
              " '',\n",
              " 'Reading state information... 0%',\n",
              " '',\n",
              " 'Reading state information... Done',\n",
              " 'The following additional packages will be installed:',\n",
              " '  libpython3.9-minimal libpython3.9-stdlib mailcap mime-support',\n",
              " '  python3.9-minimal',\n",
              " 'Suggested packages:',\n",
              " '  python3.9-venv binfmt-support',\n",
              " 'The following NEW packages will be installed:',\n",
              " '  libpython3.9-minimal libpython3.9-stdlib mailcap mime-support python3.9',\n",
              " '  python3.9-minimal',\n",
              " '0 upgraded, 6 newly installed, 0 to remove and 49 not upgraded.',\n",
              " 'Need to get 5,284 kB of archives.',\n",
              " 'After this operation, 19.4 MB of additional disk space will be used.',\n",
              " '',\n",
              " '0% [Working]',\n",
              " '            ',\n",
              " 'Get:1 http://archive.ubuntu.com/ubuntu jammy/main amd64 mailcap all 3.70+nmu1ubuntu1 [23.8 kB]',\n",
              " '',\n",
              " '0% [Connecting to ppa.launchpadcontent.net (185.125.190.80)] [1 mailcap 12.3 kB',\n",
              " '                                                                               ',\n",
              " '4% [Connecting to ppa.launchpadcontent.net (185.125.190.80)]',\n",
              " '                                                            ',\n",
              " 'Get:2 http://archive.ubuntu.com/ubuntu jammy/main amd64 mime-support all 3.66 [3,696 B]',\n",
              " '',\n",
              " '4% [Connected to ppa.launchpadcontent.net (185.125.190.80)] [2 mime-support 2,6',\n",
              " '                                                                               ',\n",
              " '7% [Connected to ppa.launchpadcontent.net (185.125.190.80)]',\n",
              " '7% [Connected to ppa.launchpadcontent.net (185.125.190.80)]',\n",
              " '7% [Connected to ppa.launchpadcontent.net (185.125.190.80)]',\n",
              " '7% [Connected to ppa.launchpadcontent.net (185.125.190.80)]',\n",
              " '                                                           ',\n",
              " 'Get:3 https://ppa.launchpadcontent.net/deadsnakes/ppa/ubuntu jammy/main amd64 libpython3.9-minimal amd64 3.9.20-1+jammy1 [837 kB]',\n",
              " '',\n",
              " '                                                           ',\n",
              " '7% [3 libpython3.9-minimal 0 B/837 kB 0%]',\n",
              " '10% [3 libpython3.9-minimal 169 kB/837 kB 20%]',\n",
              " '15% [3 libpython3.9-minimal 496 kB/837 kB 59%]',\n",
              " '18% [3 libpython3.9-minimal 720 kB/837 kB 86%]',\n",
              " '                                              ',\n",
              " '23% [Waiting for headers]',\n",
              " '                         ',\n",
              " 'Get:4 https://ppa.launchpadcontent.net/deadsnakes/ppa/ubuntu jammy/main amd64 python3.9-minimal amd64 3.9.20-1+jammy1 [2,080 kB]',\n",
              " '',\n",
              " '23% [4 python3.9-minimal 14.6 kB/2,080 kB 1%]',\n",
              " '28% [4 python3.9-minimal 320 kB/2,080 kB 15%]',\n",
              " '32% [4 python3.9-minimal 582 kB/2,080 kB 28%]',\n",
              " '37% [4 python3.9-minimal 892 kB/2,080 kB 43%]',\n",
              " '41% [4 python3.9-minimal 1,202 kB/2,080 kB 58%]                     342 kB/s 9s',\n",
              " '46% [4 python3.9-minimal 1,512 kB/2,080 kB 73%]                     342 kB/s 8s',\n",
              " '51% [4 python3.9-minimal 1,822 kB/2,080 kB 88%]                     342 kB/s 7s',\n",
              " '58% [Waiting for headers]                                           342 kB/s 6s',\n",
              " '                                                                               ',\n",
              " 'Get:5 https://ppa.launchpadcontent.net/deadsnakes/ppa/ubuntu jammy/main amd64 libpython3.9-stdlib amd64 3.9.20-1+jammy1 [1,841 kB]',\n",
              " '',\n",
              " '58% [5 libpython3.9-stdlib 15.0 kB/1,841 kB 1%]                     342 kB/s 6s',\n",
              " '63% [5 libpython3.9-stdlib 308 kB/1,841 kB 17%]                     342 kB/s 5s',\n",
              " '68% [5 libpython3.9-stdlib 634 kB/1,841 kB 34%]                     342 kB/s 4s',\n",
              " '72% [5 libpython3.9-stdlib 928 kB/1,841 kB 50%]                     342 kB/s 4s',\n",
              " '77% [5 libpython3.9-stdlib 1,268 kB/1,841 kB 69%]                   342 kB/s 3s',\n",
              " '80% [5 libpython3.9-stdlib 1,474 kB/1,841 kB 80%]                   342 kB/s 2s',\n",
              " '85% [5 libpython3.9-stdlib 1,771 kB/1,841 kB 96%]                   342 kB/s 1s',\n",
              " '89% [Working]                                                       342 kB/s 1s',\n",
              " '                                                                               ',\n",
              " 'Get:6 https://ppa.launchpadcontent.net/deadsnakes/ppa/ubuntu jammy/main amd64 python3.9 amd64 3.9.20-1+jammy1 [499 kB]',\n",
              " '',\n",
              " '89% [6 python3.9 16.1 kB/499 kB 3%]                                 342 kB/s 1s',\n",
              " '94% [6 python3.9 326 kB/499 kB 65%]                                 342 kB/s 0s',\n",
              " '100% [Working]                                                      342 kB/s 0s',\n",
              " '                                                                               ',\n",
              " 'Fetched 5,284 kB in 11s (463 kB/s)',\n",
              " 'debconf: unable to initialize frontend: Dialog',\n",
              " 'debconf: (No usable dialog-like program is installed, so the dialog based frontend cannot be used. at /usr/share/perl5/Debconf/FrontEnd/Dialog.pm line 78, <> line 6.)',\n",
              " 'debconf: falling back to frontend: Readline',\n",
              " 'debconf: unable to initialize frontend: Readline',\n",
              " 'debconf: (This frontend requires a controlling tty.)',\n",
              " 'debconf: falling back to frontend: Teletype',\n",
              " 'dpkg-preconfigure: unable to re-open stdin: ',\n",
              " 'Selecting previously unselected package libpython3.9-minimal:amd64.',\n",
              " '(Reading database ... ',\n",
              " '(Reading database ... 5%',\n",
              " '(Reading database ... 10%',\n",
              " '(Reading database ... 15%',\n",
              " '(Reading database ... 20%',\n",
              " '(Reading database ... 25%',\n",
              " '(Reading database ... 30%',\n",
              " '(Reading database ... 35%',\n",
              " '(Reading database ... 40%',\n",
              " '(Reading database ... 45%',\n",
              " '(Reading database ... 50%',\n",
              " '(Reading database ... 55%',\n",
              " '(Reading database ... 60%',\n",
              " '(Reading database ... 65%',\n",
              " '(Reading database ... 70%',\n",
              " '(Reading database ... 75%',\n",
              " '(Reading database ... 80%',\n",
              " '(Reading database ... 85%',\n",
              " '(Reading database ... 90%',\n",
              " '(Reading database ... 95%',\n",
              " '(Reading database ... 100%',\n",
              " '(Reading database ... 123605 files and directories currently installed.)',\n",
              " 'Preparing to unpack .../0-libpython3.9-minimal_3.9.20-1+jammy1_amd64.deb ...',\n",
              " 'Unpacking libpython3.9-minimal:amd64 (3.9.20-1+jammy1) ...',\n",
              " 'Selecting previously unselected package python3.9-minimal.',\n",
              " 'Preparing to unpack .../1-python3.9-minimal_3.9.20-1+jammy1_amd64.deb ...',\n",
              " 'Unpacking python3.9-minimal (3.9.20-1+jammy1) ...',\n",
              " 'Selecting previously unselected package mailcap.',\n",
              " 'Preparing to unpack .../2-mailcap_3.70+nmu1ubuntu1_all.deb ...',\n",
              " 'Unpacking mailcap (3.70+nmu1ubuntu1) ...',\n",
              " 'Selecting previously unselected package mime-support.',\n",
              " 'Preparing to unpack .../3-mime-support_3.66_all.deb ...',\n",
              " 'Unpacking mime-support (3.66) ...',\n",
              " 'Selecting previously unselected package libpython3.9-stdlib:amd64.',\n",
              " 'Preparing to unpack .../4-libpython3.9-stdlib_3.9.20-1+jammy1_amd64.deb ...',\n",
              " 'Unpacking libpython3.9-stdlib:amd64 (3.9.20-1+jammy1) ...',\n",
              " 'Selecting previously unselected package python3.9.',\n",
              " 'Preparing to unpack .../5-python3.9_3.9.20-1+jammy1_amd64.deb ...',\n",
              " 'Unpacking python3.9 (3.9.20-1+jammy1) ...',\n",
              " 'Setting up libpython3.9-minimal:amd64 (3.9.20-1+jammy1) ...',\n",
              " 'Setting up python3.9-minimal (3.9.20-1+jammy1) ...',\n",
              " 'Setting up mailcap (3.70+nmu1ubuntu1) ...',\n",
              " 'Setting up mime-support (3.66) ...',\n",
              " 'Setting up libpython3.9-stdlib:amd64 (3.9.20-1+jammy1) ...',\n",
              " 'Setting up python3.9 (3.9.20-1+jammy1) ...',\n",
              " 'Processing triggers for man-db (2.10.2-1) ...']"
            ]
          },
          "metadata": {},
          "execution_count": 26
        }
      ]
    },
    {
      "cell_type": "code",
      "source": [
        "console.rule(\"[bold] Switch-case [/bold]\")\n",
        "\n",
        "# Ejemplo de uso de switch-case en Python utilizando diccionarios\n",
        "\n",
        "def process_case_1():\n",
        "    print(\"Opción 1 seleccionada\")\n",
        "\n",
        "def process_case_2():\n",
        "    print(\"Opción 2 seleccionada\")\n",
        "\n",
        "def process_case_3():\n",
        "    print(\"Opción 3 seleccionada\")\n",
        "\n",
        "def process_default():\n",
        "    print(\"Opción no válida\")\n",
        "\n",
        "def selector(case):\n",
        "    switcher = {\n",
        "        1: process_case_1,\n",
        "        2: process_case_2,\n",
        "        3: process_case_3\n",
        "    }\n",
        "    # Ejecutar la función correspondiente al caso o el caso por defecto\n",
        "    switcher.get(case, process_default)()\n",
        "\n",
        "# Ejemplo de uso del switch-case\n",
        "selector(2)\n",
        "\n",
        "value = 5\n",
        "match value:\n",
        "  case 3: print(\"Es tres\")\n",
        "  case 5: print(\"IGUAL!\")\n",
        "  case _: print(\"Otra\")\n",
        "\n"
      ],
      "metadata": {
        "colab": {
          "base_uri": "https://localhost:8080/",
          "height": 80
        },
        "id": "V-1QQ0H5hwA0",
        "outputId": "6ce49aaa-be6f-4467-d3bb-281ed0060cff"
      },
      "execution_count": null,
      "outputs": [
        {
          "output_type": "display_data",
          "data": {
            "text/plain": [
              "\u001b[92m────────────────────────────────────────────────── \u001b[0m\u001b[1m Switch-case \u001b[0m\u001b[92m ──────────────────────────────────────────────────\u001b[0m\n"
            ],
            "text/html": [
              "<pre style=\"white-space:pre;overflow-x:auto;line-height:normal;font-family:Menlo,'DejaVu Sans Mono',consolas,'Courier New',monospace\"><span style=\"color: #00ff00; text-decoration-color: #00ff00\">────────────────────────────────────────────────── </span><span style=\"font-weight: bold\"> Switch-case </span><span style=\"color: #00ff00; text-decoration-color: #00ff00\"> ──────────────────────────────────────────────────</span>\n",
              "</pre>\n"
            ]
          },
          "metadata": {}
        },
        {
          "output_type": "display_data",
          "data": {
            "text/plain": [
              "Opción \u001b[1;36m2\u001b[0m seleccionada\n"
            ],
            "text/html": [
              "<pre style=\"white-space:pre;overflow-x:auto;line-height:normal;font-family:Menlo,'DejaVu Sans Mono',consolas,'Courier New',monospace\">Opción <span style=\"color: #008080; text-decoration-color: #008080; font-weight: bold\">2</span> seleccionada\n",
              "</pre>\n"
            ]
          },
          "metadata": {}
        },
        {
          "output_type": "display_data",
          "data": {
            "text/plain": [
              "IGUAL!\n"
            ],
            "text/html": [
              "<pre style=\"white-space:pre;overflow-x:auto;line-height:normal;font-family:Menlo,'DejaVu Sans Mono',consolas,'Courier New',monospace\">IGUAL!\n",
              "</pre>\n"
            ]
          },
          "metadata": {}
        }
      ]
    }
  ]
}