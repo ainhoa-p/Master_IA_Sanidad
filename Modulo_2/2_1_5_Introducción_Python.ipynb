{
  "nbformat": 4,
  "nbformat_minor": 0,
  "metadata": {
    "colab": {
      "provenance": [],
      "history_visible": true,
      "authorship_tag": "ABX9TyMqHdAIQGRFjQMOGLGXmg5c",
      "include_colab_link": true
    },
    "kernelspec": {
      "name": "python3",
      "display_name": "Python 3"
    },
    "language_info": {
      "name": "python"
    }
  },
  "cells": [
    {
      "cell_type": "markdown",
      "metadata": {
        "id": "view-in-github",
        "colab_type": "text"
      },
      "source": [
        "<a href=\"https://colab.research.google.com/github/txusser/Master_IA_Sanidad/blob/main/Modulo_2/2_1_5_Introducci%C3%B3n_Python.ipynb\" target=\"_parent\"><img src=\"https://colab.research.google.com/assets/colab-badge.svg\" alt=\"Open In Colab\"/></a>"
      ]
    },
    {
      "cell_type": "markdown",
      "source": [
        "## Sintaxis\n",
        "Normas que debemos cumplir para que el intérprete de Python sea capaz de leer y ejecutar el código correctamente.\n",
        "\n",
        "* Una instrucción equivale a una línea de código\n",
        "* Indentación. Cada bloque de código comparte la misma indentación\n",
        "* Comentarios. Texto que figura dentro del código pero NO se ejecuta.\n",
        "* El orden sí *importa*"
      ],
      "metadata": {
        "id": "O22wCMdbS92C"
      }
    },
    {
      "cell_type": "markdown",
      "source": [
        "## Esto es una sección\n",
        "Pondremos aquí nuestro **super código**"
      ],
      "metadata": {
        "id": "y2_DPlVSuzOP"
      }
    },
    {
      "cell_type": "markdown",
      "source": [
        "###**--Lenguaje Markdown--**\n",
        "\n",
        "# h1\n",
        "## h2\n",
        "### h3\n",
        "#### h4\n",
        "\n",
        "*cursiva*\n",
        "\n",
        "**negrita**\n",
        "1. Lista ordenada\n",
        "2. Elemento 2\n",
        "\n",
        "* Lista no ordenada\n",
        "\n",
        "[enlace](www.google.com)\n",
        "\n",
        "\n",
        ">\n",
        "\n",
        "```\n",
        "# Tiene formato de código\n",
        "```\n",
        "\n",
        " Haz [click aquí](https://colab.research.google.com/notebooks/markdown_guide.ipynb) para más info sobre el lenguaje Markdown"
      ],
      "metadata": {
        "id": "yMraTe5sOnwk"
      }
    },
    {
      "cell_type": "code",
      "source": [
        "\"\"\"\n",
        "Esto es un docstring\n",
        "Servirá para documentar el código\n",
        "\"\"\"\n",
        "\n",
        "print(\"Hola mundo\") # print(\"hola Mundo\") Voy a imprimir un mensaje\n",
        "print(\"Adios\")\n",
        "\n",
        "def mi_funcion_sin_argumentos():\n",
        "  print(\"Hola Mundo en funcion sin argumentos\")\n",
        "\n",
        "def mi_funcion_print(text: str = \"Hola\"):\n",
        "  print(text)\n",
        "\n",
        "mi_funcion_sin_argumentos()\n",
        "mi_funcion_print(text=\"Hola texto\")\n"
      ],
      "metadata": {
        "colab": {
          "base_uri": "https://localhost:8080/"
        },
        "id": "cAJ71jn6TLhx",
        "outputId": "47978ff0-e987-4329-8c80-526430c90265"
      },
      "execution_count": null,
      "outputs": [
        {
          "output_type": "stream",
          "name": "stdout",
          "text": [
            "Hola mundo\n",
            "Adios\n",
            "Hola Mundo en funcion sin argumentos\n",
            "Hola texto\n"
          ]
        }
      ]
    },
    {
      "cell_type": "code",
      "source": [
        "# Usaremos rich para enriquecer la impresión por pantalla\n",
        "from rich import print as rprint\n",
        "from rich.console import Console\n",
        "\n",
        "rprint(\"[red]Este es un mensaje en color rojo [/red]\")\n",
        "rprint(\"[blue]Este es un mensaje en color azul[/blue]\")\n",
        "rprint(\"[green]Este es un mensaje en color verde[/green]\")\n",
        "\n",
        "console = Console()\n",
        "console.rule(\"[bold]Sección 1[/bold]\")\n",
        "print(\"Contenido de la sección 1\")\n"
      ],
      "metadata": {
        "colab": {
          "base_uri": "https://localhost:8080/",
          "height": 124
        },
        "id": "GVDOHwtqDf73",
        "outputId": "11e65e91-3bdc-469a-9cca-59d184b32799"
      },
      "execution_count": null,
      "outputs": [
        {
          "output_type": "display_data",
          "data": {
            "text/plain": [
              "\u001b[31mEste es un mensaje en color rojo \u001b[0m\n"
            ],
            "text/html": [
              "<pre style=\"white-space:pre;overflow-x:auto;line-height:normal;font-family:Menlo,'DejaVu Sans Mono',consolas,'Courier New',monospace\"><span style=\"color: #800000; text-decoration-color: #800000\">Este es un mensaje en color rojo </span>\n",
              "</pre>\n"
            ]
          },
          "metadata": {}
        },
        {
          "output_type": "display_data",
          "data": {
            "text/plain": [
              "\u001b[34mEste es un mensaje en color azul\u001b[0m\n"
            ],
            "text/html": [
              "<pre style=\"white-space:pre;overflow-x:auto;line-height:normal;font-family:Menlo,'DejaVu Sans Mono',consolas,'Courier New',monospace\"><span style=\"color: #000080; text-decoration-color: #000080\">Este es un mensaje en color azul</span>\n",
              "</pre>\n"
            ]
          },
          "metadata": {}
        },
        {
          "output_type": "display_data",
          "data": {
            "text/plain": [
              "\u001b[32mEste es un mensaje en color verde\u001b[0m\n"
            ],
            "text/html": [
              "<pre style=\"white-space:pre;overflow-x:auto;line-height:normal;font-family:Menlo,'DejaVu Sans Mono',consolas,'Courier New',monospace\"><span style=\"color: #008000; text-decoration-color: #008000\">Este es un mensaje en color verde</span>\n",
              "</pre>\n"
            ]
          },
          "metadata": {}
        },
        {
          "output_type": "display_data",
          "data": {
            "text/plain": [
              "\u001b[92m──────────────────────────────────────────────────── \u001b[0m\u001b[1mSección \u001b[0m\u001b[1;36m1\u001b[0m\u001b[92m ────────────────────────────────────────────────────\u001b[0m\n"
            ],
            "text/html": [
              "<pre style=\"white-space:pre;overflow-x:auto;line-height:normal;font-family:Menlo,'DejaVu Sans Mono',consolas,'Courier New',monospace\"><span style=\"color: #00ff00; text-decoration-color: #00ff00\">──────────────────────────────────────────────────── </span><span style=\"font-weight: bold\">Sección </span><span style=\"color: #008080; text-decoration-color: #008080; font-weight: bold\">1</span><span style=\"color: #00ff00; text-decoration-color: #00ff00\"> ────────────────────────────────────────────────────</span>\n",
              "</pre>\n"
            ]
          },
          "metadata": {}
        },
        {
          "output_type": "stream",
          "name": "stdout",
          "text": [
            "Contenido de la sección 1\n"
          ]
        }
      ]
    },
    {
      "cell_type": "markdown",
      "source": [
        "## Variables en python\n",
        "* Empieza en minúscula, nunca con un número.\n",
        "* Contiene caracteres alfanuméricos y guion bajo.\n",
        "* Es sensible a las mayúsculas y minúsculas."
      ],
      "metadata": {
        "id": "yrKpABcvTMzG"
      }
    },
    {
      "cell_type": "code",
      "execution_count": null,
      "metadata": {
        "colab": {
          "base_uri": "https://localhost:8080/",
          "height": 412
        },
        "id": "NpV0CcHOSEtT",
        "outputId": "57a4b23e-8e45-4326-8446-ae9b6f3314d3"
      },
      "outputs": [
        {
          "output_type": "display_data",
          "data": {
            "text/plain": [
              "\u001b[92m──────────────────────────────────────────────────── \u001b[0m\u001b[1mVaribles \u001b[0m\u001b[92m ────────────────────────────────────────────────────\u001b[0m\n"
            ],
            "text/html": [
              "<pre style=\"white-space:pre;overflow-x:auto;line-height:normal;font-family:Menlo,'DejaVu Sans Mono',consolas,'Courier New',monospace\"><span style=\"color: #00ff00; text-decoration-color: #00ff00\">──────────────────────────────────────────────────── </span><span style=\"font-weight: bold\">Varibles </span><span style=\"color: #00ff00; text-decoration-color: #00ff00\"> ────────────────────────────────────────────────────</span>\n",
              "</pre>\n"
            ]
          },
          "metadata": {}
        },
        {
          "output_type": "stream",
          "name": "stdout",
          "text": [
            "Variable x: 42\n",
            "Tipo de datos x: <class 'int'>\n"
          ]
        },
        {
          "output_type": "display_data",
          "data": {
            "text/plain": [
              "\u001b[92m───────────────────────────────────────────────────── \u001b[0mEnteros\u001b[92m ─────────────────────────────────────────────────────\u001b[0m\n"
            ],
            "text/html": [
              "<pre style=\"white-space:pre;overflow-x:auto;line-height:normal;font-family:Menlo,'DejaVu Sans Mono',consolas,'Courier New',monospace\"><span style=\"color: #00ff00; text-decoration-color: #00ff00\">───────────────────────────────────────────────────── </span>Enteros<span style=\"color: #00ff00; text-decoration-color: #00ff00\"> ─────────────────────────────────────────────────────</span>\n",
              "</pre>\n"
            ]
          },
          "metadata": {}
        },
        {
          "output_type": "stream",
          "name": "stdout",
          "text": [
            "Variable X: 43\n",
            "Tipo de datos x: <class 'int'>\n"
          ]
        },
        {
          "output_type": "display_data",
          "data": {
            "text/plain": [
              "\u001b[92m──────────────────────────────────────────────────── \u001b[0mDecimales\u001b[92m ────────────────────────────────────────────────────\u001b[0m\n"
            ],
            "text/html": [
              "<pre style=\"white-space:pre;overflow-x:auto;line-height:normal;font-family:Menlo,'DejaVu Sans Mono',consolas,'Courier New',monospace\"><span style=\"color: #00ff00; text-decoration-color: #00ff00\">──────────────────────────────────────────────────── </span>Decimales<span style=\"color: #00ff00; text-decoration-color: #00ff00\"> ────────────────────────────────────────────────────</span>\n",
              "</pre>\n"
            ]
          },
          "metadata": {}
        },
        {
          "output_type": "stream",
          "name": "stdout",
          "text": [
            "Variable x: 42.42\n",
            "Tipo de datos x: <class 'float'>\n"
          ]
        },
        {
          "output_type": "display_data",
          "data": {
            "text/plain": [
              "\u001b[92m─────────────────────────────────────────────────── \u001b[0mCaracteres\u001b[92m ────────────────────────────────────────────────────\u001b[0m\n"
            ],
            "text/html": [
              "<pre style=\"white-space:pre;overflow-x:auto;line-height:normal;font-family:Menlo,'DejaVu Sans Mono',consolas,'Courier New',monospace\"><span style=\"color: #00ff00; text-decoration-color: #00ff00\">─────────────────────────────────────────────────── </span>Caracteres<span style=\"color: #00ff00; text-decoration-color: #00ff00\"> ────────────────────────────────────────────────────</span>\n",
              "</pre>\n"
            ]
          },
          "metadata": {}
        },
        {
          "output_type": "stream",
          "name": "stdout",
          "text": [
            "Variable x: Hola mundo\n",
            "Tipo de datos x: <class 'str'>\n"
          ]
        },
        {
          "output_type": "display_data",
          "data": {
            "text/plain": [
              "\u001b[92m──────────────────────────────────────────────────── \u001b[0mBooleanos\u001b[92m ────────────────────────────────────────────────────\u001b[0m\n"
            ],
            "text/html": [
              "<pre style=\"white-space:pre;overflow-x:auto;line-height:normal;font-family:Menlo,'DejaVu Sans Mono',consolas,'Courier New',monospace\"><span style=\"color: #00ff00; text-decoration-color: #00ff00\">──────────────────────────────────────────────────── </span>Booleanos<span style=\"color: #00ff00; text-decoration-color: #00ff00\"> ────────────────────────────────────────────────────</span>\n",
              "</pre>\n"
            ]
          },
          "metadata": {}
        },
        {
          "output_type": "stream",
          "name": "stdout",
          "text": [
            "Variable x1: False\n",
            "Tipo de datos x1: <class 'bool'>\n"
          ]
        },
        {
          "output_type": "display_data",
          "data": {
            "text/plain": [
              "\u001b[92m────────────────────────────────────────────────────── \u001b[0mNulos\u001b[92m ──────────────────────────────────────────────────────\u001b[0m\n"
            ],
            "text/html": [
              "<pre style=\"white-space:pre;overflow-x:auto;line-height:normal;font-family:Menlo,'DejaVu Sans Mono',consolas,'Courier New',monospace\"><span style=\"color: #00ff00; text-decoration-color: #00ff00\">────────────────────────────────────────────────────── </span>Nulos<span style=\"color: #00ff00; text-decoration-color: #00ff00\"> ──────────────────────────────────────────────────────</span>\n",
              "</pre>\n"
            ]
          },
          "metadata": {}
        },
        {
          "output_type": "stream",
          "name": "stdout",
          "text": [
            "Variable x: None\n",
            "Tipo de datos x: <class 'NoneType'>\n"
          ]
        }
      ],
      "source": [
        "console.rule(\"[bold]Varibles[/bold]\")\n",
        "\n",
        "# Tipos de variables\n",
        "# Debemos inicializar las variables\n",
        "\n",
        "x = 42  # Entero (int)\n",
        "print(f\"Variable x: {x}\")\n",
        "print(f\"Tipo de datos x: {type(x)}\")\n",
        "\n",
        "console.rule(\"Enteros\")\n",
        "X = 42 + 1\n",
        "print(f\"Variable X: {X}\")\n",
        "print(f\"Tipo de datos x: {type(x)}\")\n",
        "\n",
        "console.rule(\"Decimales\")\n",
        "x = 42.42  # Flotante (float)\n",
        "print(f\"Variable x: {x}\")\n",
        "print(f\"Tipo de datos x: {type(x)}\")\n",
        "\n",
        "console.rule(\"Caracteres\")\n",
        "x = \"Hola mundo\"  # Cadena de texto (str)\n",
        "print(f\"Variable x: {x}\")\n",
        "print(f\"Tipo de datos x: {type(x)}\")\n",
        "\n",
        "console.rule(\"Booleanos\")\n",
        "x1 = False  # Valor booleano (bool)\n",
        "print(f\"Variable x1: {x1}\")\n",
        "print(f\"Tipo de datos x1: {type(x1)}\")\n",
        "\n",
        "console.rule(\"Nulos\")\n",
        "x = None  # Valor nulo (None)\n",
        "print(\"fVariable x: {x}\")\n",
        "print(f\"Tipo de datos x: {type(x)}\")\n",
        "\n",
        "\n"
      ]
    },
    {
      "cell_type": "markdown",
      "source": [
        "## Listas y Diccionarios\n",
        "* Una lista es una secuencia mutable y ordenada de elementos. Como tal, puede ser indexada, cortada y modificada. Se puede acceder a cada elemento utilizando su posición en la lista. Lo mismo ocurre con tu agenda, donde puedes modificar el orden en el que haces las cosas e incluso reprogramar una serie de tareas para el día siguiente si es necesario.\n",
        "\n",
        "* Un diccionario es un conjunto mutable y desordenado de pares clave-valor donde cada clave debe ser única. Para acceder a un elemento determinado, debemos referirnos a él utilizando su clave, de forma parecida a como se buscaría una palabra en un diccionario escolar."
      ],
      "metadata": {
        "id": "p5mN2XmmT-pa"
      }
    },
    {
      "cell_type": "code",
      "source": [
        "console.rule(\"[bold]Listas y Diccionarios[/bold]\")\n",
        "\n",
        "\n",
        "console.rule(\"[yellow]================ Listas =========================[/yellow]\")\n",
        "\n",
        "console.rule(\"Lista base\")\n",
        "x = [1, 2, 5, 3, 4]\n",
        "print(f\"Valor del índice 0: {x[0]}\")\n",
        "print(f\"Valor de la posición 2: {x[2]}\")\n",
        "print(f\"Lista x: {x}\")\n",
        "\n",
        "console.rule(\"Indexación\")\n",
        "# Seleccionamos valores según el índice (slicing)\n",
        "print(f\"x[3:]: {x[3:]}\")  # Slice desde el tercer elemento hasta el final\n",
        "print(f\"x[:]: {x[:]}\")  # Slice que devuelve la lista completa\n",
        "print(f\"x[-4:]: {x[-3:]}\")  # Slice que devuelve los tres últimos\n",
        "\n",
        "console.rule(\"Operaciones\")\n",
        "x = x * 2  # Repetir la lista x\n",
        "print(f\"Lista x duplicada: {x}\")\n",
        "\n",
        "z = [i * 2 for i in x]  # Crear una nueva lista z multiplicando cada elemento de x por 2\n",
        "print(f\"Lista z: {z}\")\n",
        "\n",
        "# Concatenar ambas listas\n",
        "y = [3.5, 1, 2, 3.7, 5.5]\n",
        "print(f\"Concatenación de x y y: {x + y}\")  # Concatenar las listas x e y\n",
        "\n",
        "console.rule(\"[yellow]================ Diccionarios =========================[/yellow]\")\n",
        "\n",
        "console.rule(\"Diccionario vacio\")\n",
        "# Crear un diccionario vacío\n",
        "mi_diccionario = {}\n",
        "print(\"mi_diccionario =\", mi_diccionario)\n",
        "\n",
        "console.rule(\"Diccionario con diversas claves\")\n",
        "# Crear un diccionario con elementos predefinidos\n",
        "valor1, valor2, valor3 = 73.42, \"casa\", False\n",
        "mi_diccionario = {'clave1': valor1, 'clave2': valor2, 'clave3': valor3}\n",
        "print(\"mi_diccionario =\", mi_diccionario)\n",
        "\n",
        "console.rule(\"Acceso a elementos\")\n",
        "# Acceder al valor de un elemento utilizando su clave\n",
        "mi_diccionario = {'nombre': 'Juan', 'edad': 25, 'ciudad': 'Madrid'}\n",
        "print(\"mi_diccionario['nombre'] =\", mi_diccionario['nombre'])  # Imprime 'Juan'\n",
        "print(\"mi_diccionario['edad'] =\", mi_diccionario['edad'])  # Imprime 25\n",
        "\n",
        "console.rule(\"Modificar\")\n",
        "# Modificar el valor de un elemento\n",
        "mi_diccionario['edad'] = 30\n",
        "print(\"mi_diccionario['edad'] ha sido modificado. Nuevo valor:\", mi_diccionario['edad'])  # Imprime 30\n",
        "\n",
        "console.rule(\"Agregar\")\n",
        "# Agregar un nuevo elemento al diccionario\n",
        "mi_diccionario['profesion'] = 'Ingeniero'\n",
        "print(\"Nuevo elemento agregado:\", mi_diccionario)  # Imprime {'nombre': 'Juan', 'edad': 30, 'ciudad': 'Madrid', 'profesion': 'Ingeniero'}\n",
        "\n",
        "console.rule(\"Eliminar\")\n",
        "# Eliminar un elemento del diccionario utilizando su clave\n",
        "del mi_diccionario['ciudad']\n",
        "print(\"Elemento 'ciudad' eliminado. Nuevo diccionario:\", mi_diccionario)  # Imprime {'nombre': 'Juan', 'edad': 30, 'profesion': 'Ingeniero'}\n",
        "\n",
        "console.rule(\"Imprimir pares clave/valor\")\n",
        "# Obtener la lista de claves y valores del diccionario\n",
        "print(\"Claves del diccionario:\", mi_diccionario.keys())  # Imprime ['nombre', 'edad', 'profesion']\n",
        "print(\"Valores del diccionario:\", mi_diccionario.values())  # Imprime ['Juan', 30, 'Ingeniero']\n",
        "print(\"Elementos del diccionario:\", mi_diccionario.items())  # Imprime [('nombre', 'Juan'), ('edad', 30), ('profesion', 'Ingeniero')]\n",
        "\n"
      ],
      "metadata": {
        "colab": {
          "base_uri": "https://localhost:8080/",
          "height": 730
        },
        "id": "D0td69KKUPeI",
        "outputId": "637471e8-5251-4bec-e36b-acd6d03c4aa3"
      },
      "execution_count": 48,
      "outputs": [
        {
          "output_type": "display_data",
          "data": {
            "text/plain": [
              "\u001b[92m────────────────────────────────────────────── \u001b[0m\u001b[1mListas y Diccionarios\u001b[0m\u001b[92m ──────────────────────────────────────────────\u001b[0m\n"
            ],
            "text/html": [
              "<pre style=\"white-space:pre;overflow-x:auto;line-height:normal;font-family:Menlo,'DejaVu Sans Mono',consolas,'Courier New',monospace\"><span style=\"color: #00ff00; text-decoration-color: #00ff00\">────────────────────────────────────────────── </span><span style=\"font-weight: bold\">Listas y Diccionarios</span><span style=\"color: #00ff00; text-decoration-color: #00ff00\"> ──────────────────────────────────────────────</span>\n",
              "</pre>\n"
            ]
          },
          "metadata": {}
        },
        {
          "output_type": "display_data",
          "data": {
            "text/plain": [
              "\u001b[92m──────────────────────────────── \u001b[0m\u001b[33m================ Listas =========================\u001b[0m\u001b[92m ────────────────────────────────\u001b[0m\n"
            ],
            "text/html": [
              "<pre style=\"white-space:pre;overflow-x:auto;line-height:normal;font-family:Menlo,'DejaVu Sans Mono',consolas,'Courier New',monospace\"><span style=\"color: #00ff00; text-decoration-color: #00ff00\">──────────────────────────────── </span><span style=\"color: #808000; text-decoration-color: #808000\">================ Listas =========================</span><span style=\"color: #00ff00; text-decoration-color: #00ff00\"> ────────────────────────────────</span>\n",
              "</pre>\n"
            ]
          },
          "metadata": {}
        },
        {
          "output_type": "display_data",
          "data": {
            "text/plain": [
              "\u001b[92m─────────────────────────────────────────────────── \u001b[0mLista base\u001b[92m ────────────────────────────────────────────────────\u001b[0m\n"
            ],
            "text/html": [
              "<pre style=\"white-space:pre;overflow-x:auto;line-height:normal;font-family:Menlo,'DejaVu Sans Mono',consolas,'Courier New',monospace\"><span style=\"color: #00ff00; text-decoration-color: #00ff00\">─────────────────────────────────────────────────── </span>Lista base<span style=\"color: #00ff00; text-decoration-color: #00ff00\"> ────────────────────────────────────────────────────</span>\n",
              "</pre>\n"
            ]
          },
          "metadata": {}
        },
        {
          "output_type": "stream",
          "name": "stdout",
          "text": [
            "Valor del índice 0: 1\n",
            "Valor de la posición 2: 5\n",
            "Lista x: [1, 2, 5, 3, 4]\n"
          ]
        },
        {
          "output_type": "display_data",
          "data": {
            "text/plain": [
              "\u001b[92m─────────────────────────────────────────────────── \u001b[0mIndexación\u001b[92m ────────────────────────────────────────────────────\u001b[0m\n"
            ],
            "text/html": [
              "<pre style=\"white-space:pre;overflow-x:auto;line-height:normal;font-family:Menlo,'DejaVu Sans Mono',consolas,'Courier New',monospace\"><span style=\"color: #00ff00; text-decoration-color: #00ff00\">─────────────────────────────────────────────────── </span>Indexación<span style=\"color: #00ff00; text-decoration-color: #00ff00\"> ────────────────────────────────────────────────────</span>\n",
              "</pre>\n"
            ]
          },
          "metadata": {}
        },
        {
          "output_type": "stream",
          "name": "stdout",
          "text": [
            "x[3:]: [3, 4]\n",
            "x[:]: [1, 2, 5, 3, 4]\n",
            "x[-4:]: [5, 3, 4]\n"
          ]
        },
        {
          "output_type": "display_data",
          "data": {
            "text/plain": [
              "\u001b[92m─────────────────────────────────────────────────── \u001b[0mOperaciones\u001b[92m ───────────────────────────────────────────────────\u001b[0m\n"
            ],
            "text/html": [
              "<pre style=\"white-space:pre;overflow-x:auto;line-height:normal;font-family:Menlo,'DejaVu Sans Mono',consolas,'Courier New',monospace\"><span style=\"color: #00ff00; text-decoration-color: #00ff00\">─────────────────────────────────────────────────── </span>Operaciones<span style=\"color: #00ff00; text-decoration-color: #00ff00\"> ───────────────────────────────────────────────────</span>\n",
              "</pre>\n"
            ]
          },
          "metadata": {}
        },
        {
          "output_type": "stream",
          "name": "stdout",
          "text": [
            "Lista x duplicada: [1, 2, 5, 3, 4, 1, 2, 5, 3, 4]\n",
            "Lista z: [2, 4, 10, 6, 8, 2, 4, 10, 6, 8]\n",
            "Concatenación de x y y: [1, 2, 5, 3, 4, 1, 2, 5, 3, 4, 3.5, 1, 2, 3.7, 5.5]\n"
          ]
        },
        {
          "output_type": "display_data",
          "data": {
            "text/plain": [
              "\u001b[92m───────────────────────────── \u001b[0m\u001b[33m================ Diccionarios =========================\u001b[0m\u001b[92m ─────────────────────────────\u001b[0m\n"
            ],
            "text/html": [
              "<pre style=\"white-space:pre;overflow-x:auto;line-height:normal;font-family:Menlo,'DejaVu Sans Mono',consolas,'Courier New',monospace\"><span style=\"color: #00ff00; text-decoration-color: #00ff00\">───────────────────────────── </span><span style=\"color: #808000; text-decoration-color: #808000\">================ Diccionarios =========================</span><span style=\"color: #00ff00; text-decoration-color: #00ff00\"> ─────────────────────────────</span>\n",
              "</pre>\n"
            ]
          },
          "metadata": {}
        },
        {
          "output_type": "display_data",
          "data": {
            "text/plain": [
              "\u001b[92m──────────────────────────────────────────────── \u001b[0mDiccionario vacio\u001b[92m ────────────────────────────────────────────────\u001b[0m\n"
            ],
            "text/html": [
              "<pre style=\"white-space:pre;overflow-x:auto;line-height:normal;font-family:Menlo,'DejaVu Sans Mono',consolas,'Courier New',monospace\"><span style=\"color: #00ff00; text-decoration-color: #00ff00\">──────────────────────────────────────────────── </span>Diccionario vacio<span style=\"color: #00ff00; text-decoration-color: #00ff00\"> ────────────────────────────────────────────────</span>\n",
              "</pre>\n"
            ]
          },
          "metadata": {}
        },
        {
          "output_type": "stream",
          "name": "stdout",
          "text": [
            "mi_diccionario = {}\n"
          ]
        },
        {
          "output_type": "display_data",
          "data": {
            "text/plain": [
              "\u001b[92m───────────────────────────────────────── \u001b[0mDiccionario con diversas claves\u001b[92m ─────────────────────────────────────────\u001b[0m\n"
            ],
            "text/html": [
              "<pre style=\"white-space:pre;overflow-x:auto;line-height:normal;font-family:Menlo,'DejaVu Sans Mono',consolas,'Courier New',monospace\"><span style=\"color: #00ff00; text-decoration-color: #00ff00\">───────────────────────────────────────── </span>Diccionario con diversas claves<span style=\"color: #00ff00; text-decoration-color: #00ff00\"> ─────────────────────────────────────────</span>\n",
              "</pre>\n"
            ]
          },
          "metadata": {}
        },
        {
          "output_type": "stream",
          "name": "stdout",
          "text": [
            "mi_diccionario = {'clave1': 73.42, 'clave2': 'casa', 'clave3': False}\n"
          ]
        },
        {
          "output_type": "display_data",
          "data": {
            "text/plain": [
              "\u001b[92m─────────────────────────────────────────────── \u001b[0mAcceso a elementos\u001b[92m ────────────────────────────────────────────────\u001b[0m\n"
            ],
            "text/html": [
              "<pre style=\"white-space:pre;overflow-x:auto;line-height:normal;font-family:Menlo,'DejaVu Sans Mono',consolas,'Courier New',monospace\"><span style=\"color: #00ff00; text-decoration-color: #00ff00\">─────────────────────────────────────────────── </span>Acceso a elementos<span style=\"color: #00ff00; text-decoration-color: #00ff00\"> ────────────────────────────────────────────────</span>\n",
              "</pre>\n"
            ]
          },
          "metadata": {}
        },
        {
          "output_type": "stream",
          "name": "stdout",
          "text": [
            "mi_diccionario['nombre'] = Juan\n",
            "mi_diccionario['edad'] = 25\n"
          ]
        },
        {
          "output_type": "display_data",
          "data": {
            "text/plain": [
              "\u001b[92m──────────────────────────────────────────────────── \u001b[0mModificar\u001b[92m ────────────────────────────────────────────────────\u001b[0m\n"
            ],
            "text/html": [
              "<pre style=\"white-space:pre;overflow-x:auto;line-height:normal;font-family:Menlo,'DejaVu Sans Mono',consolas,'Courier New',monospace\"><span style=\"color: #00ff00; text-decoration-color: #00ff00\">──────────────────────────────────────────────────── </span>Modificar<span style=\"color: #00ff00; text-decoration-color: #00ff00\"> ────────────────────────────────────────────────────</span>\n",
              "</pre>\n"
            ]
          },
          "metadata": {}
        },
        {
          "output_type": "stream",
          "name": "stdout",
          "text": [
            "mi_diccionario['edad'] ha sido modificado. Nuevo valor: 30\n"
          ]
        },
        {
          "output_type": "display_data",
          "data": {
            "text/plain": [
              "\u001b[92m───────────────────────────────────────────────────── \u001b[0mAgregar\u001b[92m ─────────────────────────────────────────────────────\u001b[0m\n"
            ],
            "text/html": [
              "<pre style=\"white-space:pre;overflow-x:auto;line-height:normal;font-family:Menlo,'DejaVu Sans Mono',consolas,'Courier New',monospace\"><span style=\"color: #00ff00; text-decoration-color: #00ff00\">───────────────────────────────────────────────────── </span>Agregar<span style=\"color: #00ff00; text-decoration-color: #00ff00\"> ─────────────────────────────────────────────────────</span>\n",
              "</pre>\n"
            ]
          },
          "metadata": {}
        },
        {
          "output_type": "stream",
          "name": "stdout",
          "text": [
            "Nuevo elemento agregado: {'nombre': 'Juan', 'edad': 30, 'ciudad': 'Madrid', 'profesion': 'Ingeniero'}\n"
          ]
        },
        {
          "output_type": "display_data",
          "data": {
            "text/plain": [
              "\u001b[92m──────────────────────────────────────────────────── \u001b[0mEliminar\u001b[92m ─────────────────────────────────────────────────────\u001b[0m\n"
            ],
            "text/html": [
              "<pre style=\"white-space:pre;overflow-x:auto;line-height:normal;font-family:Menlo,'DejaVu Sans Mono',consolas,'Courier New',monospace\"><span style=\"color: #00ff00; text-decoration-color: #00ff00\">──────────────────────────────────────────────────── </span>Eliminar<span style=\"color: #00ff00; text-decoration-color: #00ff00\"> ─────────────────────────────────────────────────────</span>\n",
              "</pre>\n"
            ]
          },
          "metadata": {}
        },
        {
          "output_type": "stream",
          "name": "stdout",
          "text": [
            "Elemento 'ciudad' eliminado. Nuevo diccionario: {'nombre': 'Juan', 'edad': 30, 'profesion': 'Ingeniero'}\n"
          ]
        },
        {
          "output_type": "display_data",
          "data": {
            "text/plain": [
              "\u001b[92m─────────────────────────────────────────── \u001b[0mImprimir pares clave/valor\u001b[92m ────────────────────────────────────────────\u001b[0m\n"
            ],
            "text/html": [
              "<pre style=\"white-space:pre;overflow-x:auto;line-height:normal;font-family:Menlo,'DejaVu Sans Mono',consolas,'Courier New',monospace\"><span style=\"color: #00ff00; text-decoration-color: #00ff00\">─────────────────────────────────────────── </span>Imprimir pares clave/valor<span style=\"color: #00ff00; text-decoration-color: #00ff00\"> ────────────────────────────────────────────</span>\n",
              "</pre>\n"
            ]
          },
          "metadata": {}
        },
        {
          "output_type": "stream",
          "name": "stdout",
          "text": [
            "Claves del diccionario: dict_keys(['nombre', 'edad', 'profesion'])\n",
            "Valores del diccionario: dict_values(['Juan', 30, 'Ingeniero'])\n",
            "Elementos del diccionario: dict_items([('nombre', 'Juan'), ('edad', 30), ('profesion', 'Ingeniero')])\n"
          ]
        }
      ]
    },
    {
      "cell_type": "markdown",
      "source": [
        "# Condicionales y de Comparación\n",
        "La condición se evalúa siempre.\n",
        "* Si el resultado es True se ejecuta el bloque de sentencias\n",
        "* Si el resultado es False no se ejecuta el bloque de sentencias."
      ],
      "metadata": {
        "id": "Fd1t3yc2UQSz"
      }
    },
    {
      "cell_type": "code",
      "source": [
        "console.rule(\"[bold]Condicionales[/bold]\")\n",
        "\n",
        "console.rule(\"Comparación variables\")\n",
        "\n",
        "a = 5\n",
        "b = 6\n",
        "print(f\"a: {a}, b: {b}\")\n",
        "\n",
        "a, b = 1.4, 2.88\n",
        "print(f\"a: {a}, b: {b}\")\n",
        "\n",
        "if a == b:\n",
        "  print(\"iguales\")\n",
        "else:\n",
        "  print(\"Las variables son diferentes\")\n",
        "\n",
        "if a == b:\n",
        "  print(\"Iguales\")\n",
        "elif a <= b:\n",
        "  print(\"A menor o igual que B\")\n",
        "elif a > b:\n",
        "  print(\"A es mayor que b\")\n",
        "else:\n",
        "  print(\"No iguales\")\n",
        "\n",
        "if a != b:\n",
        "  print(\"No son iguales\")\n",
        "print(\"Son iguales?\", a == b)\n",
        "\n",
        "# a, b = 'casa', 'let'\n",
        "a = 42\n",
        "b = 73\n",
        "a, b, c = 42, 73, 13\n",
        "print(\"a menor que b\", a < b)\n",
        "print(\"a es igual a b?\", a != b)\n"
      ],
      "metadata": {
        "colab": {
          "base_uri": "https://localhost:8080/",
          "height": 245
        },
        "id": "ihpp7mMcUkjG",
        "outputId": "b2e7224e-99e4-4450-de60-0994631e0b1e"
      },
      "execution_count": 37,
      "outputs": [
        {
          "output_type": "display_data",
          "data": {
            "text/plain": [
              "\u001b[92m────────────────────────────────────────────────── \u001b[0m\u001b[1mCondicionales\u001b[0m\u001b[92m ──────────────────────────────────────────────────\u001b[0m\n"
            ],
            "text/html": [
              "<pre style=\"white-space:pre;overflow-x:auto;line-height:normal;font-family:Menlo,'DejaVu Sans Mono',consolas,'Courier New',monospace\"><span style=\"color: #00ff00; text-decoration-color: #00ff00\">────────────────────────────────────────────────── </span><span style=\"font-weight: bold\">Condicionales</span><span style=\"color: #00ff00; text-decoration-color: #00ff00\"> ──────────────────────────────────────────────────</span>\n",
              "</pre>\n"
            ]
          },
          "metadata": {}
        },
        {
          "output_type": "display_data",
          "data": {
            "text/plain": [
              "\u001b[92m────────────────────────────────────────────── \u001b[0mComparación variables\u001b[92m ──────────────────────────────────────────────\u001b[0m\n"
            ],
            "text/html": [
              "<pre style=\"white-space:pre;overflow-x:auto;line-height:normal;font-family:Menlo,'DejaVu Sans Mono',consolas,'Courier New',monospace\"><span style=\"color: #00ff00; text-decoration-color: #00ff00\">────────────────────────────────────────────── </span>Comparación variables<span style=\"color: #00ff00; text-decoration-color: #00ff00\"> ──────────────────────────────────────────────</span>\n",
              "</pre>\n"
            ]
          },
          "metadata": {}
        },
        {
          "output_type": "stream",
          "name": "stdout",
          "text": [
            "a: 5, b: 6\n",
            "a: 1.4, b: 2.88\n",
            "Las variables son diferentes\n",
            "A menor o igual que B\n",
            "No son iguales\n",
            "Son iguales? False\n",
            "a menor que b True\n",
            "a es igual a b? True\n"
          ]
        }
      ]
    },
    {
      "cell_type": "markdown",
      "source": [
        "## Bucles de ejecución\n",
        "Los bucles son otra herramienta para alterar el flujo normal de un programa. Nos permiten repetir una porción de código tantas veces como queramos. En Python hay dos tipos de bucle: for y while."
      ],
      "metadata": {
        "id": "G-7cWzdTUk6x"
      }
    },
    {
      "cell_type": "code",
      "source": [
        "console.rule(\"[bold]Bucles de ejecución[/bold]\")\n",
        "\n",
        "# Ejemplo de bucles de ejecución en Python\n",
        "\n",
        "# Bucle while: se ejecuta mientras se cumple una condición\n",
        "count = 0\n",
        "while count < 5:\n",
        "    print(\"El valor de count es:\", count)\n",
        "    count += 1\n",
        "\n",
        "print(\"\\n\")\n",
        "\n",
        "# Bucle for: se utiliza para iterar sobre una secuencia o colección\n",
        "fruits = [\"manzana\", \"banana\", \"cereza\"]\n",
        "for fruit in fruits:\n",
        "    print(\"La fruta es:\", fruit)\n",
        "\n",
        "print(\"\\n\")\n",
        "\n",
        "# Uso de la función range en un bucle for\n",
        "for i in range(1, 6):  # Itera desde 1 hasta 5 (no incluye el 6)\n",
        "    print(\"El valor de i es:\", i)\n",
        "\n",
        "print(\"\\n\")\n",
        "\n",
        "# Bucle for con instrucción break\n",
        "for i in range(1, 10):\n",
        "    if i == 5:\n",
        "        break  # Sale del bucle cuando i es igual a 5\n",
        "    print(\"El valor de i es:\", i)\n",
        "\n",
        "print(\"\\n\")\n",
        "\n",
        "# Bucle for con instrucción continue\n",
        "for i in range(1, 6):\n",
        "    if i == 3:\n",
        "        continue  # Salta a la siguiente iteración cuando i es igual a 3\n",
        "    print(\"El valor de i es:\", i)\n",
        "\n"
      ],
      "metadata": {
        "colab": {
          "base_uri": "https://localhost:8080/",
          "height": 711
        },
        "id": "psi0f9VRU1fp",
        "outputId": "e91921dd-b949-4203-9f45-ca906e8461dc"
      },
      "execution_count": 38,
      "outputs": [
        {
          "output_type": "display_data",
          "data": {
            "text/plain": [
              "\u001b[92m─────────────────────────────────────────────── \u001b[0m\u001b[1mBucles de ejecución\u001b[0m\u001b[92m ───────────────────────────────────────────────\u001b[0m\n"
            ],
            "text/html": [
              "<pre style=\"white-space:pre;overflow-x:auto;line-height:normal;font-family:Menlo,'DejaVu Sans Mono',consolas,'Courier New',monospace\"><span style=\"color: #00ff00; text-decoration-color: #00ff00\">─────────────────────────────────────────────── </span><span style=\"font-weight: bold\">Bucles de ejecución</span><span style=\"color: #00ff00; text-decoration-color: #00ff00\"> ───────────────────────────────────────────────</span>\n",
              "</pre>\n"
            ]
          },
          "metadata": {}
        },
        {
          "output_type": "stream",
          "name": "stdout",
          "text": [
            "El valor de count es: 0\n",
            "El valor de count es: 1\n",
            "El valor de count es: 2\n",
            "El valor de count es: 3\n",
            "El valor de count es: 4\n",
            "\n",
            "\n",
            "La fruta es: manzana\n",
            "La fruta es: banana\n",
            "La fruta es: cereza\n",
            "\n",
            "\n",
            "El valor de i es: 1\n",
            "El valor de i es: 2\n",
            "El valor de i es: 3\n",
            "El valor de i es: 4\n",
            "El valor de i es: 5\n",
            "\n",
            "\n",
            "El valor de i es: 1\n",
            "El valor de i es: 2\n",
            "El valor de i es: 3\n",
            "El valor de i es: 4\n",
            "\n",
            "\n",
            "El valor de i es: 1\n",
            "El valor de i es: 2\n",
            "El valor de i es: 4\n",
            "El valor de i es: 5\n"
          ]
        }
      ]
    },
    {
      "cell_type": "markdown",
      "source": [
        "\n",
        "\n",
        "```\n",
        "# Tiene formato de código\n",
        "```\n",
        "\n",
        "## Carga de datos\n"
      ],
      "metadata": {
        "id": "pKuonFewnRfP"
      }
    },
    {
      "cell_type": "code",
      "source": [
        "import pandas as pd\n",
        "data_file = '/content/sample_data/mnist_train_small.csv'\n",
        "df = pd.read_csv(data_file)\n",
        "print(df)"
      ],
      "metadata": {
        "colab": {
          "base_uri": "https://localhost:8080/"
        },
        "id": "wYuGTneknUF0",
        "outputId": "bc66e210-fc58-45a0-cb8f-f3386136d969"
      },
      "execution_count": null,
      "outputs": [
        {
          "output_type": "stream",
          "name": "stdout",
          "text": [
            "       6  0  0.1  0.2  0.3  0.4  0.5  0.6  0.7  0.8  ...  0.581  0.582  0.583  \\\n",
            "0      5  0    0    0    0    0    0    0    0    0  ...      0      0      0   \n",
            "1      7  0    0    0    0    0    0    0    0    0  ...      0      0      0   \n",
            "2      9  0    0    0    0    0    0    0    0    0  ...      0      0      0   \n",
            "3      5  0    0    0    0    0    0    0    0    0  ...      0      0      0   \n",
            "4      2  0    0    0    0    0    0    0    0    0  ...      0      0      0   \n",
            "...   .. ..  ...  ...  ...  ...  ...  ...  ...  ...  ...    ...    ...    ...   \n",
            "19994  0  0    0    0    0    0    0    0    0    0  ...      0      0      0   \n",
            "19995  1  0    0    0    0    0    0    0    0    0  ...      0      0      0   \n",
            "19996  2  0    0    0    0    0    0    0    0    0  ...      0      0      0   \n",
            "19997  9  0    0    0    0    0    0    0    0    0  ...      0      0      0   \n",
            "19998  5  0    0    0    0    0    0    0    0    0  ...      0      0      0   \n",
            "\n",
            "       0.584  0.585  0.586  0.587  0.588  0.589  0.590  \n",
            "0          0      0      0      0      0      0      0  \n",
            "1          0      0      0      0      0      0      0  \n",
            "2          0      0      0      0      0      0      0  \n",
            "3          0      0      0      0      0      0      0  \n",
            "4          0      0      0      0      0      0      0  \n",
            "...      ...    ...    ...    ...    ...    ...    ...  \n",
            "19994      0      0      0      0      0      0      0  \n",
            "19995      0      0      0      0      0      0      0  \n",
            "19996      0      0      0      0      0      0      0  \n",
            "19997      0      0      0      0      0      0      0  \n",
            "19998      0      0      0      0      0      0      0  \n",
            "\n",
            "[19999 rows x 785 columns]\n"
          ]
        }
      ]
    },
    {
      "cell_type": "markdown",
      "source": [
        "### Uso de Enums y *Swotchers*"
      ],
      "metadata": {
        "id": "iNRkBKgMhr86"
      }
    },
    {
      "cell_type": "code",
      "source": [
        "# Comprobar versión de python\n",
        "!python --version\n",
        "\n",
        "# Instalar otra versión de python\n",
        "!!sudo apt-get install python3.9\n",
        "\n",
        "# Ejemplo de uso de switch-case en Python utilizando diccionarios\n",
        "\n",
        "def process_case_1():\n",
        "    print(\"Opción 1 seleccionada\")\n",
        "\n",
        "def process_case_2():\n",
        "    print(\"Opción 2 seleccionada\")\n",
        "\n",
        "def process_case_3():\n",
        "    print(\"Opción 3 seleccionada\")\n",
        "\n",
        "def process_default():\n",
        "    print(\"Opción no válida\")\n",
        "\n",
        "def switch_case(case):\n",
        "    switcher = {\n",
        "        1: process_case_1,\n",
        "        2: process_case_2,\n",
        "        3: process_case_3\n",
        "    }\n",
        "    # Ejecutar la función correspondiente al caso o el caso por defecto\n",
        "    switcher.get(case, process_default)()\n",
        "\n",
        "# Ejemplo de uso del switch-case\n",
        "opcion = 2\n",
        "switch_case(opcion)\n"
      ],
      "metadata": {
        "colab": {
          "base_uri": "https://localhost:8080/"
        },
        "id": "V-1QQ0H5hwA0",
        "outputId": "9526659c-d4df-4d58-eb17-0d2bb2d64de4"
      },
      "execution_count": null,
      "outputs": [
        {
          "output_type": "stream",
          "name": "stdout",
          "text": [
            "Python 3.10.12\n"
          ]
        },
        {
          "output_type": "execute_result",
          "data": {
            "text/plain": [
              "['',\n",
              " 'Reading package lists... 0%',\n",
              " '',\n",
              " 'Reading package lists... 0%',\n",
              " '',\n",
              " 'Reading package lists... 0%',\n",
              " '',\n",
              " 'Reading package lists... 4%',\n",
              " '',\n",
              " 'Reading package lists... 4%',\n",
              " '',\n",
              " 'Reading package lists... 4%',\n",
              " '',\n",
              " 'Reading package lists... 4%',\n",
              " '',\n",
              " 'Reading package lists... 39%',\n",
              " '',\n",
              " 'Reading package lists... 43%',\n",
              " '',\n",
              " 'Reading package lists... 43%',\n",
              " '',\n",
              " 'Reading package lists... 43%',\n",
              " '',\n",
              " 'Reading package lists... 43%',\n",
              " '',\n",
              " 'Reading package lists... 54%',\n",
              " '',\n",
              " 'Reading package lists... 54%',\n",
              " '',\n",
              " 'Reading package lists... 63%',\n",
              " '',\n",
              " 'Reading package lists... 63%',\n",
              " '',\n",
              " 'Reading package lists... 68%',\n",
              " '',\n",
              " 'Reading package lists... 68%',\n",
              " '',\n",
              " 'Reading package lists... 68%',\n",
              " '',\n",
              " 'Reading package lists... 68%',\n",
              " '',\n",
              " 'Reading package lists... 68%',\n",
              " '',\n",
              " 'Reading package lists... 68%',\n",
              " '',\n",
              " 'Reading package lists... 68%',\n",
              " '',\n",
              " 'Reading package lists... 68%',\n",
              " '',\n",
              " 'Reading package lists... 78%',\n",
              " '',\n",
              " 'Reading package lists... 78%',\n",
              " '',\n",
              " 'Reading package lists... 86%',\n",
              " '',\n",
              " 'Reading package lists... 86%',\n",
              " '',\n",
              " 'Reading package lists... 90%',\n",
              " '',\n",
              " 'Reading package lists... 90%',\n",
              " '',\n",
              " 'Reading package lists... 90%',\n",
              " '',\n",
              " 'Reading package lists... 90%',\n",
              " '',\n",
              " 'Reading package lists... 91%',\n",
              " '',\n",
              " 'Reading package lists... 91%',\n",
              " '',\n",
              " 'Reading package lists... 94%',\n",
              " '',\n",
              " 'Reading package lists... 94%',\n",
              " '',\n",
              " 'Reading package lists... 94%',\n",
              " '',\n",
              " 'Reading package lists... 94%',\n",
              " '',\n",
              " 'Reading package lists... 98%',\n",
              " '',\n",
              " 'Reading package lists... 98%',\n",
              " '',\n",
              " 'Reading package lists... 98%',\n",
              " '',\n",
              " 'Reading package lists... 98%',\n",
              " '',\n",
              " 'Reading package lists... 98%',\n",
              " '',\n",
              " 'Reading package lists... 98%',\n",
              " '',\n",
              " 'Reading package lists... 98%',\n",
              " '',\n",
              " 'Reading package lists... 99%',\n",
              " '',\n",
              " 'Reading package lists... 99%',\n",
              " '',\n",
              " 'Reading package lists... Done',\n",
              " '',\n",
              " 'Building dependency tree... 0%',\n",
              " '',\n",
              " 'Building dependency tree... 0%',\n",
              " '',\n",
              " 'Building dependency tree... 50%',\n",
              " '',\n",
              " 'Building dependency tree... 50%',\n",
              " '',\n",
              " 'Building dependency tree       ',\n",
              " '',\n",
              " 'Reading state information... 0%',\n",
              " '',\n",
              " 'Reading state information... 0%',\n",
              " '',\n",
              " 'Reading state information... Done',\n",
              " 'The following additional packages will be installed:',\n",
              " '  libpython3.9-minimal libpython3.9-stdlib python3.9-minimal',\n",
              " 'Suggested packages:',\n",
              " '  python3.9-venv binfmt-support',\n",
              " 'The following NEW packages will be installed:',\n",
              " '  libpython3.9-minimal libpython3.9-stdlib python3.9 python3.9-minimal',\n",
              " '0 upgraded, 4 newly installed, 0 to remove and 16 not upgraded.',\n",
              " 'Need to get 5,030 kB of archives.',\n",
              " 'After this operation, 19.7 MB of additional disk space will be used.',\n",
              " '',\n",
              " '0% [Working]',\n",
              " '            ',\n",
              " 'Get:1 http://ppa.launchpad.net/deadsnakes/ppa/ubuntu focal/main amd64 libpython3.9-minimal amd64 3.9.17-1+focal1 [805 kB]',\n",
              " '',\n",
              " '0% [1 libpython3.9-minimal 0 B/805 kB 0%]',\n",
              " '                                         ',\n",
              " '18% [Working]',\n",
              " '             ',\n",
              " 'Get:2 http://ppa.launchpad.net/deadsnakes/ppa/ubuntu focal/main amd64 python3.9-minimal amd64 3.9.17-1+focal1 [2,064 kB]',\n",
              " '',\n",
              " '18% [2 python3.9-minimal 0 B/2,064 kB 0%]',\n",
              " '31% [2 python3.9-minimal 842 kB/2,064 kB 41%]',\n",
              " '                                             ',\n",
              " '56% [Working]',\n",
              " '             ',\n",
              " 'Get:3 http://ppa.launchpad.net/deadsnakes/ppa/ubuntu focal/main amd64 libpython3.9-stdlib amd64 3.9.17-1+focal1 [1,666 kB]',\n",
              " '',\n",
              " '56% [3 libpython3.9-stdlib 0 B/1,666 kB 0%]',\n",
              " '69% [3 libpython3.9-stdlib 842 kB/1,666 kB 51%]',\n",
              " '                                               ',\n",
              " '87% [Working]',\n",
              " '             ',\n",
              " 'Get:4 http://ppa.launchpad.net/deadsnakes/ppa/ubuntu focal/main amd64 python3.9 amd64 3.9.17-1+focal1 [495 kB]',\n",
              " '',\n",
              " '87% [4 python3.9 0 B/495 kB 0%]',\n",
              " '                               ',\n",
              " '100% [Working]',\n",
              " '              ',\n",
              " 'Fetched 5,030 kB in 3s (1,743 kB/s)',\n",
              " 'debconf: unable to initialize frontend: Dialog',\n",
              " 'debconf: (No usable dialog-like program is installed, so the dialog based frontend cannot be used. at /usr/share/perl5/Debconf/FrontEnd/Dialog.pm line 76, <> line 4.)',\n",
              " 'debconf: falling back to frontend: Readline',\n",
              " 'debconf: unable to initialize frontend: Readline',\n",
              " 'debconf: (This frontend requires a controlling tty.)',\n",
              " 'debconf: falling back to frontend: Teletype',\n",
              " 'dpkg-preconfigure: unable to re-open stdin: ',\n",
              " 'Selecting previously unselected package libpython3.9-minimal:amd64.',\n",
              " '(Reading database ... ',\n",
              " '(Reading database ... 5%',\n",
              " '(Reading database ... 10%',\n",
              " '(Reading database ... 15%',\n",
              " '(Reading database ... 20%',\n",
              " '(Reading database ... 25%',\n",
              " '(Reading database ... 30%',\n",
              " '(Reading database ... 35%',\n",
              " '(Reading database ... 40%',\n",
              " '(Reading database ... 45%',\n",
              " '(Reading database ... 50%',\n",
              " '(Reading database ... 55%',\n",
              " '(Reading database ... 60%',\n",
              " '(Reading database ... 65%',\n",
              " '(Reading database ... 70%',\n",
              " '(Reading database ... 75%',\n",
              " '(Reading database ... 80%',\n",
              " '(Reading database ... 85%',\n",
              " '(Reading database ... 90%',\n",
              " '(Reading database ... 95%',\n",
              " '(Reading database ... 100%',\n",
              " '(Reading database ... 123069 files and directories currently installed.)',\n",
              " 'Preparing to unpack .../libpython3.9-minimal_3.9.17-1+focal1_amd64.deb ...',\n",
              " 'Unpacking libpython3.9-minimal:amd64 (3.9.17-1+focal1) ...',\n",
              " 'Selecting previously unselected package python3.9-minimal.',\n",
              " 'Preparing to unpack .../python3.9-minimal_3.9.17-1+focal1_amd64.deb ...',\n",
              " 'Unpacking python3.9-minimal (3.9.17-1+focal1) ...',\n",
              " 'Selecting previously unselected package libpython3.9-stdlib:amd64.',\n",
              " 'Preparing to unpack .../libpython3.9-stdlib_3.9.17-1+focal1_amd64.deb ...',\n",
              " 'Unpacking libpython3.9-stdlib:amd64 (3.9.17-1+focal1) ...',\n",
              " 'Selecting previously unselected package python3.9.',\n",
              " 'Preparing to unpack .../python3.9_3.9.17-1+focal1_amd64.deb ...',\n",
              " 'Unpacking python3.9 (3.9.17-1+focal1) ...',\n",
              " 'Setting up libpython3.9-minimal:amd64 (3.9.17-1+focal1) ...',\n",
              " 'Setting up python3.9-minimal (3.9.17-1+focal1) ...',\n",
              " 'Setting up libpython3.9-stdlib:amd64 (3.9.17-1+focal1) ...',\n",
              " 'Setting up python3.9 (3.9.17-1+focal1) ...',\n",
              " 'Processing triggers for man-db (2.9.1-1) ...',\n",
              " 'Processing triggers for mime-support (3.64ubuntu1) ...']"
            ]
          },
          "metadata": {},
          "execution_count": 1
        }
      ]
    }
  ]
}