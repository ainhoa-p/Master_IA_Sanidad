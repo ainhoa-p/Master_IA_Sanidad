{
  "nbformat": 4,
  "nbformat_minor": 0,
  "metadata": {
    "colab": {
      "provenance": [],
      "authorship_tag": "ABX9TyM8pS/y3yJxr71N/MGumRP2",
      "include_colab_link": true
    },
    "kernelspec": {
      "name": "python3",
      "display_name": "Python 3"
    },
    "language_info": {
      "name": "python"
    }
  },
  "cells": [
    {
      "cell_type": "markdown",
      "metadata": {
        "id": "view-in-github",
        "colab_type": "text"
      },
      "source": [
        "<a href=\"https://colab.research.google.com/github/txusser/Master_IA_Sanidad/blob/main/Modulo_2/Clases/0723/Diapositivas_Grabaciones_Clases_0723.ipynb\" target=\"_parent\"><img src=\"https://colab.research.google.com/assets/colab-badge.svg\" alt=\"Open In Colab\"/></a>"
      ]
    },
    {
      "cell_type": "markdown",
      "source": [
        "# Diapositivas clases Máster en aplicaciones de la Inteligencia Artificial en Sanidad: Edición 0523"
      ],
      "metadata": {
        "id": "feaXkQpoIsr4"
      }
    },
    {
      "cell_type": "markdown",
      "source": [
        "## Clase 2.2.1\n",
        "\n",
        "[Sistemas expertos basados en reglas](https://drive.google.com/file/d/1ZA1Sadoxynm-NVF_bLjC-V0P2LApojE8/view?usp=sharing)"
      ],
      "metadata": {
        "id": "SAp6JlTzvDHN"
      }
    },
    {
      "cell_type": "markdown",
      "source": [
        "## Clase 2.2.2\n",
        "\n",
        "[Aprendizaje Máquina o Machine Learning modelos de regresión, clasificación y agrupamiento](https://drive.google.com/file/d/1ILGsyrFLuVum8kN7-0S7gBSfcHacTVAH/view?usp=sharing)\n",
        "\n",
        "---\n",
        "\n"
      ],
      "metadata": {
        "id": "2E5fNzdw1Q5U"
      }
    },
    {
      "cell_type": "markdown",
      "source": [
        "## Clase 2.2.3\n",
        "\n",
        "[Redes neuronales y aprendizaje profundo](https://drive.google.com/file/d/1jiboI8SqjLCRnPTM0RA95KeGXAXM1Qfx/view?usp=sharing)\n"
      ],
      "metadata": {
        "id": "frwJWgmY1klW"
      }
    },
    {
      "cell_type": "markdown",
      "source": [
        "## Clase 2.2.4\n",
        "\n",
        "[Selección de características y optimización de modelos](https://drive.google.com/file/d/1_HZjyyM071kYpQ-ZiWuDFLVDXWLrA0JZ/view?usp=sharing)"
      ],
      "metadata": {
        "id": "S_ZXURbHv6TN"
      }
    },
    {
      "cell_type": "markdown",
      "source": [
        "## Clase 2.2.5\n",
        "\n",
        "[Introducción a Python](https://drive.google.com/file/d/1XsGd_D3FouG1LsWvb9zOzO8mZDmoMl09/view?usp=sharing)"
      ],
      "metadata": {
        "id": "zIVXdNZB1-Ux"
      }
    },
    {
      "cell_type": "markdown",
      "source": [
        "## Clase 2.2.7\n",
        "\n",
        "[Introducción a Python (Continuación)](https://drive.google.com/file/d/1oL7ExDUU2fCZvhTnavU9O7oZJqzR7_Ir/view?usp=sharing)"
      ],
      "metadata": {
        "id": "V4U47wsN2MIX"
      }
    },
    {
      "cell_type": "markdown",
      "source": [
        "## Clase 2.2.8\n",
        "\n",
        "[Orientación a objetos](https://drive.google.com/file/d/1KN5acfsHmPiVAVSEE7oYRTbWLfWshrLo/view?usp=sharing)"
      ],
      "metadata": {
        "id": "sghmcU0l2X1_"
      }
    },
    {
      "cell_type": "markdown",
      "source": [
        "## Clase 2.2.9\n",
        "\n",
        "[Librerias Ciencia de Datos Numpy Pandas]"
      ],
      "metadata": {
        "id": "KNc7SkIcBd4w"
      }
    },
    {
      "cell_type": "markdown",
      "source": [
        "## Clase 2.2.10\n",
        "\n",
        "[Introducción a la IA en Python. Librerías y niveles de abstracción]"
      ],
      "metadata": {
        "id": "HBnltZ8dBrYj"
      }
    },
    {
      "cell_type": "markdown",
      "source": [
        "## Clase 2.2.11\n",
        "\n",
        "[Análisis de datos en Python]"
      ],
      "metadata": {
        "id": "-6qQkB_JB47o"
      }
    },
    {
      "cell_type": "markdown",
      "source": [
        "## Clase 2.2.12\n",
        "\n",
        "[Estructuración de datos]"
      ],
      "metadata": {
        "id": "Q0B1mj6bCA_W"
      }
    },
    {
      "cell_type": "markdown",
      "source": [
        "## Clase 2.2.13-14\n",
        "\n",
        "[Machine Learning y Deep Learning en Python]"
      ],
      "metadata": {
        "id": "vb0GRIZiCD_i"
      }
    },
    {
      "cell_type": "markdown",
      "source": [
        "## Trabajo Fin de Módulo"
      ],
      "metadata": {
        "id": "AbcGY_1PCFzl"
      }
    }
  ]
}