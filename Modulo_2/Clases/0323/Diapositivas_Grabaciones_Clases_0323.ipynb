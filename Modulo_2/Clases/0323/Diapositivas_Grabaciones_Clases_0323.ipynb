{
  "nbformat": 4,
  "nbformat_minor": 0,
  "metadata": {
    "colab": {
      "provenance": [],
      "authorship_tag": "ABX9TyMvR7/G5KQoAmiD69hUmhUh",
      "include_colab_link": true
    },
    "kernelspec": {
      "name": "python3",
      "display_name": "Python 3"
    },
    "language_info": {
      "name": "python"
    }
  },
  "cells": [
    {
      "cell_type": "markdown",
      "metadata": {
        "id": "view-in-github",
        "colab_type": "text"
      },
      "source": [
        "<a href=\"https://colab.research.google.com/github/txusser/Master_IA_Sanidad/blob/main/Modulo_2/Clases/0323/Diapositivas_Grabaciones_Clases_0323.ipynb\" target=\"_parent\"><img src=\"https://colab.research.google.com/assets/colab-badge.svg\" alt=\"Open In Colab\"/></a>"
      ]
    },
    {
      "cell_type": "markdown",
      "source": [
        "# Diapositivas clases Máster en aplicaciones de la Inteligencia Artificial en Sanidad: Edición 0323"
      ],
      "metadata": {
        "id": "feaXkQpoIsr4"
      }
    },
    {
      "cell_type": "markdown",
      "source": [
        "## Clase 2.2.1\n",
        "\n",
        "[Sistemas expertos basados en reglas](https://drive.google.com/file/d/1AQHYQR58m8RnGNZ65aAQaEet94rqpN7J/view?usp=sharing)"
      ],
      "metadata": {
        "id": "SAp6JlTzvDHN"
      }
    },
    {
      "cell_type": "markdown",
      "source": [
        "## Clase 2.2.2\n",
        "\n",
        "[Aprendizaje Máquina o Machine Learning modelos de regresión, clasificación y agrupamiento](https://drive.google.com/file/d/1eC6jWbMIPSvWak30J1D7mVYibTi-u7HT/view?usp=sharing)\n",
        "\n",
        "---\n",
        "\n"
      ],
      "metadata": {
        "id": "2E5fNzdw1Q5U"
      }
    },
    {
      "cell_type": "markdown",
      "source": [
        "## Clase 2.2.3\n",
        "\n",
        "[Redes neuronales y aprendizaje profundo](https://drive.google.com/file/d/1eBMWUpamnXTeHzeokgXQlXBAeUs5aPmm/view?usp=sharing)\n"
      ],
      "metadata": {
        "id": "frwJWgmY1klW"
      }
    },
    {
      "cell_type": "markdown",
      "source": [
        "## Clase 2.2.4\n",
        "\n",
        "[Selección de características y optimización de modelos]"
      ],
      "metadata": {
        "id": "S_ZXURbHv6TN"
      }
    },
    {
      "cell_type": "markdown",
      "source": [
        "## Clase 2.2.5\n",
        "\n",
        "[Introducción a Python]"
      ],
      "metadata": {
        "id": "zIVXdNZB1-Ux"
      }
    },
    {
      "cell_type": "markdown",
      "source": [
        "## Clase 2.2.7\n",
        "\n",
        "[Introducción a Python (Continuación)]"
      ],
      "metadata": {
        "id": "V4U47wsN2MIX"
      }
    },
    {
      "cell_type": "markdown",
      "source": [
        "## Clase 2.2.8\n",
        "\n",
        "[Orientación a objetos]"
      ],
      "metadata": {
        "id": "sghmcU0l2X1_"
      }
    },
    {
      "cell_type": "markdown",
      "source": [
        "## Clase 2.2.9\n",
        "\n",
        "[Librerias Ciencia de Datos Numpy Pandas]"
      ],
      "metadata": {
        "id": "KNc7SkIcBd4w"
      }
    },
    {
      "cell_type": "markdown",
      "source": [
        "## Clase 2.2.10\n",
        "\n",
        "[Introducción a la IA en Python. Librerías y niveles de abstracción]"
      ],
      "metadata": {
        "id": "HBnltZ8dBrYj"
      }
    },
    {
      "cell_type": "markdown",
      "source": [
        "## Clase 2.2.11\n",
        "\n",
        "[Análisis de datos en Python]"
      ],
      "metadata": {
        "id": "-6qQkB_JB47o"
      }
    },
    {
      "cell_type": "markdown",
      "source": [
        "## Clase 2.2.12\n",
        "\n",
        "[Estructuración de datos]"
      ],
      "metadata": {
        "id": "Q0B1mj6bCA_W"
      }
    },
    {
      "cell_type": "markdown",
      "source": [
        "## Clase 2.2.13-14\n",
        "\n",
        "[Machine Learning y Deep Learning en Python]"
      ],
      "metadata": {
        "id": "vb0GRIZiCD_i"
      }
    },
    {
      "cell_type": "markdown",
      "source": [
        "## Trabajo Fin de Módulo"
      ],
      "metadata": {
        "id": "AbcGY_1PCFzl"
      }
    }
  ]
}