{
  "nbformat": 4,
  "nbformat_minor": 0,
  "metadata": {
    "colab": {
      "provenance": [],
      "authorship_tag": "ABX9TyNIaXrqyOFiB5nF1cl47GBK",
      "include_colab_link": true
    },
    "kernelspec": {
      "name": "python3",
      "display_name": "Python 3"
    },
    "language_info": {
      "name": "python"
    }
  },
  "cells": [
    {
      "cell_type": "markdown",
      "metadata": {
        "id": "view-in-github",
        "colab_type": "text"
      },
      "source": [
        "<a href=\"https://colab.research.google.com/github/txusser/Master_IA_Sanidad/blob/main/Modulo_2/Clases/0722/Diapositivas_Grabaciones_Clases_0722.ipynb\" target=\"_parent\"><img src=\"https://colab.research.google.com/assets/colab-badge.svg\" alt=\"Open In Colab\"/></a>"
      ]
    },
    {
      "cell_type": "markdown",
      "source": [
        "## Clase 2.2.1 \n",
        "\n",
        "[Sistemas expertos basados en reglas](https://drive.google.com/file/d/19gt_Y1l5N2-K9q_oXahUJ5rfV8Z31uwx/view?usp=share_link)"
      ],
      "metadata": {
        "id": "SAp6JlTzvDHN"
      }
    },
    {
      "cell_type": "markdown",
      "source": [
        "## Clase 2.2.2\n",
        "\n",
        "[Aprendizaje Máquina o Machine Learning modelos de regresión, clasificación y agrupamiento](https://drive.google.com/file/d/1KkiTj_MTavXleeWCUYJvSFnynSwFUou-/view?usp=sharing)"
      ],
      "metadata": {
        "id": "2E5fNzdw1Q5U"
      }
    },
    {
      "cell_type": "markdown",
      "source": [
        "## Clase 2.2.3\n",
        "\n",
        "[Redes neuronales y aprendizaje profundo](https://drive.google.com/file/d/1DIiOkuCo_zfwd5oFJZMhmjtbSpZW4sMp/view?usp=sharing)"
      ],
      "metadata": {
        "id": "frwJWgmY1klW"
      }
    },
    {
      "cell_type": "markdown",
      "source": [
        "## Clase 2.2.4\n",
        "\n",
        "[Selección de características y optimización de modelos](https://drive.google.com/file/d/1uW2kr-5ZQqlS1VwHWLkrQcBwi0rbuWFl/view?usp=sharing)"
      ],
      "metadata": {
        "id": "S_ZXURbHv6TN"
      }
    },
    {
      "cell_type": "markdown",
      "source": [
        "## Clase 2.2.5\n",
        "\n",
        "[Introducción a Python](https://drive.google.com/file/d/1zPOIoaZTXYeqIE4AROQv7gdy2PkP0Wtd/view?usp=sharing)"
      ],
      "metadata": {
        "id": "zIVXdNZB1-Ux"
      }
    },
    {
      "cell_type": "markdown",
      "source": [
        "## Clase 2.2.7\n",
        "\n",
        "[Introducción a Python (Continuación)](https://drive.google.com/file/d/1Rtr7qv1Uxi-3mNR87kl9H6JmVNxPsf_n/view?usp=sharing)"
      ],
      "metadata": {
        "id": "V4U47wsN2MIX"
      }
    },
    {
      "cell_type": "markdown",
      "source": [
        "## Clase 2.2.8\n",
        "\n",
        "[Orientación a objetos](https://drive.google.com/file/d/1iBjw4jENflagkgdrlqcSwDBOuSUX2-VB/view?usp=sharing)"
      ],
      "metadata": {
        "id": "sghmcU0l2X1_"
      }
    },
    {
      "cell_type": "markdown",
      "source": [],
      "metadata": {
        "id": "lYmh5ou_2jMz"
      }
    }
  ]
}