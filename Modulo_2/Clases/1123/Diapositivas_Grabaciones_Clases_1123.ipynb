{
  "nbformat": 4,
  "nbformat_minor": 0,
  "metadata": {
    "colab": {
      "provenance": [],
      "authorship_tag": "ABX9TyPwK2D8gv53ng2s+d8SWIlq",
      "include_colab_link": true
    },
    "kernelspec": {
      "name": "python3",
      "display_name": "Python 3"
    },
    "language_info": {
      "name": "python"
    }
  },
  "cells": [
    {
      "cell_type": "markdown",
      "metadata": {
        "id": "view-in-github",
        "colab_type": "text"
      },
      "source": [
        "<a href=\"https://colab.research.google.com/github/txusser/Master_IA_Sanidad/blob/main/Modulo_2/Clases/1123/Diapositivas_Grabaciones_Clases_1123.ipynb\" target=\"_parent\"><img src=\"https://colab.research.google.com/assets/colab-badge.svg\" alt=\"Open In Colab\"/></a>"
      ]
    },
    {
      "cell_type": "markdown",
      "source": [
        "# Diapositivas clases Máster en aplicaciones de la Inteligencia Artificial en Sanidad: Edición 0723"
      ],
      "metadata": {
        "id": "feaXkQpoIsr4"
      }
    },
    {
      "cell_type": "markdown",
      "source": [
        "## Clase 2.2.1\n",
        "\n",
        "[Sistemas expertos basados en reglas](https://drive.google.com/file/d/1EXCsAYOV-h-kWBmXU3XghHAgc7DNUGji/view?usp=sharing)"
      ],
      "metadata": {
        "id": "SAp6JlTzvDHN"
      }
    },
    {
      "cell_type": "markdown",
      "source": [
        "## Clase 2.2.2\n",
        "\n",
        "[Aprendizaje Máquina o Machine Learning modelos de regresión, clasificación y agrupamiento](https://drive.google.com/file/d/1K-2DeGP-vJCcSFVT9ASdRjIk_GY2D-sF/view?usp=sharing)\n",
        "\n",
        "---\n",
        "\n"
      ],
      "metadata": {
        "id": "2E5fNzdw1Q5U"
      }
    },
    {
      "cell_type": "markdown",
      "source": [
        "## Clase 2.2.3\n",
        "\n",
        "[Redes neuronales y aprendizaje profundo](https://drive.google.com/file/d/1WLWHEClr-dzlrRH7ZlQraiqzxs7QLbbi/view?usp=sharing)\n"
      ],
      "metadata": {
        "id": "frwJWgmY1klW"
      }
    },
    {
      "cell_type": "markdown",
      "source": [
        "## Clase 2.2.4\n",
        "\n",
        "[Selección de características y optimización de modelos](https://drive.google.com/file/d/16Mo7yCDZ7cwgEjwU0erleyTEl-Z0e4Oo/view?usp=drivesdk)"
      ],
      "metadata": {
        "id": "S_ZXURbHv6TN"
      }
    },
    {
      "cell_type": "markdown",
      "source": [
        "## Clase 2.2.5\n",
        "\n",
        "[Introducción a Python](https://drive.google.com/file/d/13y7wNNdfekj9N6A2b6iz7PThIFPE-XGF/view?usp=drivesdk)"
      ],
      "metadata": {
        "id": "zIVXdNZB1-Ux"
      }
    },
    {
      "cell_type": "markdown",
      "source": [
        "## Clase 2.2.7\n",
        "\n",
        "[Introducción a Python (Continuación)](https://drive.google.com/file/d/13yRu7Pls7Edma-8bO2muaowJsgus5iIg/view?usp=drivesdk)"
      ],
      "metadata": {
        "id": "V4U47wsN2MIX"
      }
    },
    {
      "cell_type": "markdown",
      "source": [
        "## Clase 2.2.8\n",
        "\n",
        "[Orientación a objetos](https://drive.google.com/file/d/1Louw1xW1Sfoe_FGxUynMnbEk3D3VZA8-/view?usp=drive_link)"
      ],
      "metadata": {
        "id": "sghmcU0l2X1_"
      }
    },
    {
      "cell_type": "markdown",
      "source": [
        "## Clase 2.2.9\n",
        "\n",
        "[Librerias Ciencia de Datos Numpy Pandas](https://drive.google.com/file/d/14KIHpfIDsPmdM_2CKxD5xoHICGp8YKRp/view?usp=sharing)"
      ],
      "metadata": {
        "id": "KNc7SkIcBd4w"
      }
    },
    {
      "cell_type": "markdown",
      "source": [
        "## Clase 2.2.10\n",
        "\n",
        "[Introducción a la IA en Python. Librerías y niveles de abstracción](https://drive.google.com/file/d/1gfSMKYEC5RL9W25U_BefJYWbAdoZPZwe/view?usp=sharing)\n"
      ],
      "metadata": {
        "id": "HBnltZ8dBrYj"
      }
    },
    {
      "cell_type": "markdown",
      "source": [
        "## Clase 2.2.11\n",
        "\n",
        "[Análisis de datos en Python](https://drive.google.com/file/d/1PJxyOF8UGeoEBkzzoc3lZrAdb01ZMOob/view?usp=sharing)"
      ],
      "metadata": {
        "id": "-6qQkB_JB47o"
      }
    },
    {
      "cell_type": "markdown",
      "source": [
        "## Clase 2.2.12\n",
        "\n",
        "[Estructuración de datos](https://drive.google.com/file/d/1LWMrupt5EGGdxgTT5Hw7KbH84N2ccbL9/view?usp=sharing)"
      ],
      "metadata": {
        "id": "Q0B1mj6bCA_W"
      }
    },
    {
      "cell_type": "markdown",
      "source": [
        "## Clase 2.2.13-14\n",
        "\n",
        "[Machine Learning y Deep Learning en Python](https://drive.google.com/file/d/190UasuUfQQ3zF8h_I0rHGr4W4JfRbGpp/view?usp=sharing)"
      ],
      "metadata": {
        "id": "vb0GRIZiCD_i"
      }
    },
    {
      "cell_type": "markdown",
      "source": [
        "## Trabajo Fin de Módulo\n",
        "\n",
        "[Comentarios e indicaciones](https://drive.google.com/file/d/1wmEMWOdU8K83aFwra6sVkLxk3GEuuMTL/view?usp=sharing)"
      ],
      "metadata": {
        "id": "AbcGY_1PCFzl"
      }
    }
  ]
}