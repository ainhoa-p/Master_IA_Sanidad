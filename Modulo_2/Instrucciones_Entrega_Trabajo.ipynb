{
  "nbformat": 4,
  "nbformat_minor": 0,
  "metadata": {
    "colab": {
      "provenance": [],
      "authorship_tag": "ABX9TyOxW6OWOMqmyKdCYdp9+y9n",
      "include_colab_link": true
    },
    "kernelspec": {
      "name": "python3",
      "display_name": "Python 3"
    },
    "language_info": {
      "name": "python"
    }
  },
  "cells": [
    {
      "cell_type": "markdown",
      "metadata": {
        "id": "view-in-github",
        "colab_type": "text"
      },
      "source": [
        "<a href=\"https://colab.research.google.com/github/txusser/Master_IA_Sanidad/blob/main/Modulo_2/Instrucciones_Entrega_Trabajo.ipynb\" target=\"_parent\"><img src=\"https://colab.research.google.com/assets/colab-badge.svg\" alt=\"Open In Colab\"/></a>"
      ]
    },
    {
      "cell_type": "markdown",
      "source": [
        "## Instrucciones para la entrega del trabajo del módulo 2\n",
        "Generaremos un archivo PDF que indique nuestro nombre o iniciales, el título del trabajo y un enlace al cuaderno de programación en el que hayamos resuelto las tareas del trabajo.\n",
        "\n",
        "Para ello, desde el cuaderno de programación usaremos la opción del menú \"Compartir\", como vemos en la siguiente captura:\n",
        "\n",
        "![captura-1](https://drive.google.com/uc?id=17o5LoLXRo3JWEwFP0I8ZJJnJLGzMBbjL)\n",
        "\n",
        "Seleccionaremos la opción \"Compartir con cualquiera persona con el enlace\" en el modo \"Lector\" como vemos en la siguiente captura:\n",
        "\n",
        "![captura-1](https://drive.google.com/uc?id=1yptDR_zdS02hgSHSTKqPN3vA1licGZo3)\n",
        "\n",
        "Copiaremos el enlace así generado a un nuevo cuaderno de google Colab. Este nuevo cuaderno será el documento que deberemos exportar a PDF para subir a la plataforma CEMP/Northius para la entrega del trabajo.\n",
        "\n",
        "Explicamos el proceso final en la siguiente celda, que contiene el único texto que obligatoriamente entregaremos como trabajo."
      ],
      "metadata": {
        "id": "pNhVyqh9JNM-"
      }
    },
    {
      "cell_type": "markdown",
      "source": [
        "## Trabajo Fin de Módulo 2 - Máster en Aplicaciones de la IA en Sanidad\n",
        "\n",
        "### Alumno/a: NOMBRE - APELLIDO\n",
        "\n",
        "* Enlace al cuaderno de programación:\n",
        "\n",
        "https://colab.research.google.com/drive/1ZgJXPjGxfEvLQgj8YUaM0CPUtIuR0aEV?usp=sharing\n"
      ],
      "metadata": {
        "id": "iKyI_5mNN1NE"
      }
    },
    {
      "cell_type": "markdown",
      "source": [
        "Utilizaremos el menú: \"Archivo\" => \"Imprimir\" => Guadar como PDF\n",
        "Así generaremos el archivo PDF que subiremos a la plataforma.\n",
        "\n",
        "Eso es todo!"
      ],
      "metadata": {
        "id": "2hUi8broJVGf"
      }
    }
  ]
}