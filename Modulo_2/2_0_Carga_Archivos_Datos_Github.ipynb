{
  "nbformat": 4,
  "nbformat_minor": 0,
  "metadata": {
    "colab": {
      "provenance": [],
      "authorship_tag": "ABX9TyMejRXlqR4V+9e0n474vzdj",
      "include_colab_link": true
    },
    "kernelspec": {
      "name": "python3",
      "display_name": "Python 3"
    },
    "language_info": {
      "name": "python"
    }
  },
  "cells": [
    {
      "cell_type": "markdown",
      "metadata": {
        "id": "view-in-github",
        "colab_type": "text"
      },
      "source": [
        "<a href=\"https://colab.research.google.com/github/txusser/Master_IA_Sanidad/blob/main/Modulo_2/2_0_Carga_Archivos_Datos_Github.ipynb\" target=\"_parent\"><img src=\"https://colab.research.google.com/assets/colab-badge.svg\" alt=\"Open In Colab\"/></a>"
      ]
    },
    {
      "cell_type": "markdown",
      "source": [
        "# Carga de archivos desde GitHub\n",
        "El siguiente video muestra cómo cargar en Google Colab un archivo CSV de la carpeta datos del repositorio GitHub del Módulo 2:\n",
        "\n",
        "[Video explicativo](https://drive.google.com/file/d/1Hma3e3mfac6a2pMCBzcVVDLsEVPeGGsq/view?usp=sharing)"
      ],
      "metadata": {
        "id": "EyBQIvPiEOlp"
      }
    },
    {
      "cell_type": "code",
      "execution_count": 1,
      "metadata": {
        "colab": {
          "base_uri": "https://localhost:8080/"
        },
        "id": "oqFRXF37BdV4",
        "outputId": "70e9cda8-584e-4eb6-d9c7-f795781ace7f"
      },
      "outputs": [
        {
          "output_type": "stream",
          "name": "stdout",
          "text": [
            "      male  age  education  currentSmoker  cigsPerDay  BPMeds  \\\n",
            "0        1   39        4.0              0         0.0     0.0   \n",
            "1        0   46        2.0              0         0.0     0.0   \n",
            "2        1   48        1.0              1        20.0     0.0   \n",
            "3        0   61        3.0              1        30.0     0.0   \n",
            "4        0   46        3.0              1        23.0     0.0   \n",
            "...    ...  ...        ...            ...         ...     ...   \n",
            "4233     1   50        1.0              1         1.0     0.0   \n",
            "4234     1   51        3.0              1        43.0     0.0   \n",
            "4235     0   48        2.0              1        20.0     NaN   \n",
            "4236     0   44        1.0              1        15.0     0.0   \n",
            "4237     0   52        2.0              0         0.0     0.0   \n",
            "\n",
            "      prevalentStroke  prevalentHyp  diabetes  totChol  sysBP  diaBP    BMI  \\\n",
            "0                   0             0         0    195.0  106.0   70.0  26.97   \n",
            "1                   0             0         0    250.0  121.0   81.0  28.73   \n",
            "2                   0             0         0    245.0  127.5   80.0  25.34   \n",
            "3                   0             1         0    225.0  150.0   95.0  28.58   \n",
            "4                   0             0         0    285.0  130.0   84.0  23.10   \n",
            "...               ...           ...       ...      ...    ...    ...    ...   \n",
            "4233                0             1         0    313.0  179.0   92.0  25.97   \n",
            "4234                0             0         0    207.0  126.5   80.0  19.71   \n",
            "4235                0             0         0    248.0  131.0   72.0  22.00   \n",
            "4236                0             0         0    210.0  126.5   87.0  19.16   \n",
            "4237                0             0         0    269.0  133.5   83.0  21.47   \n",
            "\n",
            "      heartRate  glucose  TenYearCHD  \n",
            "0          80.0     77.0           0  \n",
            "1          95.0     76.0           0  \n",
            "2          75.0     70.0           0  \n",
            "3          65.0    103.0           1  \n",
            "4          85.0     85.0           0  \n",
            "...         ...      ...         ...  \n",
            "4233       66.0     86.0           1  \n",
            "4234       65.0     68.0           0  \n",
            "4235       84.0     86.0           0  \n",
            "4236       86.0      NaN           0  \n",
            "4237       80.0    107.0           0  \n",
            "\n",
            "[4238 rows x 16 columns]\n"
          ]
        }
      ],
      "source": [
        "import pandas as pd\n",
        "df = pd.read_csv(\"/content/heart_disease.csv\")\n",
        "print(df)"
      ]
    }
  ]
}