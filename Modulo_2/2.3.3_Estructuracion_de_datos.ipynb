{
 "cells": [
  {
   "cell_type": "markdown",
   "metadata": {
    "colab_type": "text",
    "id": "view-in-github"
   },
   "source": [
    "<a href=\"https://colab.research.google.com/github/txusser/Master_IA_Sanidad/blob/main/2.3.3_Estructuracion_de_datos.ipynb\" target=\"_parent\"><img src=\"https://colab.research.google.com/assets/colab-badge.svg\" alt=\"Open In Colab\"/></a>"
   ]
  },
  {
   "cell_type": "code",
   "execution_count": 2,
   "metadata": {
    "colab": {
     "base_uri": "https://localhost:8080/"
    },
    "id": "N397bcG_dLEP",
    "outputId": "10e87d1c-ccd1-4329-be6f-231a6fe03584"
   },
   "outputs": [
    {
     "name": "stdout",
     "output_type": "stream",
     "text": [
      "Valores: [4 7 4 4 0 1 2 8 0 3 8 3 5 7 1 6 2 9 5 4]\n"
     ]
    }
   ],
   "source": [
    "# -*- coding: utf-8 -*-\n",
    "\n",
    "\"\"\"\n",
    "2.3.3 Estructuración de datos\n",
    "\n",
    "En este módulo realizaremos ejerciocios relacionados con la estructuración de datos\n",
    "\"\"\"\n",
    "\n",
    "# Importamos las librerías con las que vamos a trabajar\n",
    "import pandas as pd\n",
    "import numpy as np\n",
    "\n",
    "# Creamos un array de numpy con 20 valores aleatorios entre 0 y 10\n",
    "valores = np.random.randint(0, 10, 20)\n",
    "print(\"Valores:\", valores)"
   ]
  },
  {
   "cell_type": "code",
   "execution_count": 3,
   "metadata": {
    "id": "26LB2cWbgZ-R"
   },
   "outputs": [
    {
     "name": "stdout",
     "output_type": "stream",
     "text": [
      "data: {'datos': array([4, 7, 4, 4, 0, 1, 2, 8, 0, 3, 8, 3, 5, 7, 1, 6, 2, 9, 5, 4])}\n"
     ]
    }
   ],
   "source": [
    "# Creamos un diccionario de Python en el que el array valores se asigna a la clave datos\n",
    "data = {'datos': valores}\n",
    "print(\"data:\", data)"
   ]
  },
  {
   "cell_type": "code",
   "execution_count": 4,
   "metadata": {},
   "outputs": [
    {
     "name": "stdout",
     "output_type": "stream",
     "text": [
      "typo de estructura: <class 'dict'>\n"
     ]
    }
   ],
   "source": [
    "# Qué tipo de estructura es datos?\n",
    "print(\"typo de estructura:\", type(data))\n"
   ]
  },
  {
   "cell_type": "code",
   "execution_count": 7,
   "metadata": {},
   "outputs": [
    {
     "name": "stdout",
     "output_type": "stream",
     "text": [
      "Nuestro df:\n",
      "     datos\n",
      "0       4\n",
      "1       7\n",
      "2       4\n",
      "3       4\n",
      "4       0\n",
      "5       1\n",
      "6       2\n",
      "7       8\n",
      "8       0\n",
      "9       3\n",
      "10      8\n",
      "11      3\n",
      "12      5\n",
      "13      7\n",
      "14      1\n",
      "15      6\n",
      "16      2\n",
      "17      9\n",
      "18      5\n",
      "19      4\n"
     ]
    }
   ],
   "source": [
    "# Creamos nuestro marco de datos (dataframe) con Pandas\n",
    "df = pd.DataFrame(data)\n",
    "\n",
    "print(\"Nuestro df:\\n\", df)"
   ]
  },
  {
   "cell_type": "code",
   "execution_count": null,
   "metadata": {},
   "outputs": [],
   "source": []
  }
 ],
 "metadata": {
  "colab": {
   "authorship_tag": "ABX9TyPdRXxzCs0F6ZhE/tfE1Dzn",
   "collapsed_sections": [],
   "include_colab_link": true,
   "name": "Prueba.ipynb",
   "provenance": []
  },
  "kernelspec": {
   "display_name": "Python 3 (ipykernel)",
   "language": "python",
   "name": "python3"
  },
  "language_info": {
   "codemirror_mode": {
    "name": "ipython",
    "version": 3
   },
   "file_extension": ".py",
   "mimetype": "text/x-python",
   "name": "python",
   "nbconvert_exporter": "python",
   "pygments_lexer": "ipython3",
   "version": "3.9.5"
  }
 },
 "nbformat": 4,
 "nbformat_minor": 1
}
