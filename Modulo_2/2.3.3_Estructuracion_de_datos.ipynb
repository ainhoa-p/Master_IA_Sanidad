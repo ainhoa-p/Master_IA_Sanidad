{
  "nbformat": 4,
  "nbformat_minor": 0,
  "metadata": {
    "colab": {
      "name": "Prueba.ipynb",
      "provenance": [],
      "collapsed_sections": [],
      "authorship_tag": "ABX9TyPdRXxzCs0F6ZhE/tfE1Dzn",
      "include_colab_link": true
    },
    "kernelspec": {
      "name": "python3",
      "display_name": "Python 3"
    },
    "language_info": {
      "name": "python"
    }
  },
  "cells": [
    {
      "cell_type": "markdown",
      "metadata": {
        "id": "view-in-github",
        "colab_type": "text"
      },
      "source": [
        "<a href=\"https://colab.research.google.com/github/txusser/Master_IA_Sanidad/blob/main/2.3.3_Estructuracion_de_datos.ipynb\" target=\"_parent\"><img src=\"https://colab.research.google.com/assets/colab-badge.svg\" alt=\"Open In Colab\"/></a>"
      ]
    },
    {
      "cell_type": "code",
      "metadata": {
        "id": "N397bcG_dLEP",
        "colab": {
          "base_uri": "https://localhost:8080/"
        },
        "outputId": "10e87d1c-ccd1-4329-be6f-231a6fe03584"
      },
      "source": [
        "# 2.3.3 Estructuración de datos\n",
        "\"\"\"\n",
        "En este módulo realizaremos ejerciocios relacionados con la estructuración de datos\n",
        "\"\"\"\n",
        "\n",
        "import pandas as pd\n",
        "import numpy as np\n",
        "\n",
        "valores = np.random.randint(0, 10, 20)\n",
        "print(\"valores:\", valores)"
      ],
      "execution_count": 2,
      "outputs": [
        {
          "output_type": "stream",
          "name": "stdout",
          "text": [
            "valores: [2 0 3 4 8 3 4 9 7 6 0 1 0 6 4 2 7 4 9 1]\n"
          ]
        }
      ]
    },
    {
      "cell_type": "code",
      "metadata": {
        "id": "26LB2cWbgZ-R"
      },
      "source": [
        "\n",
        "data = {'datos': valores}\n",
        "\n",
        "print(\"data:\", data)\n",
        "print(\"typo de estructura:\", type(data))"
      ],
      "execution_count": null,
      "outputs": []
    }
  ]
}