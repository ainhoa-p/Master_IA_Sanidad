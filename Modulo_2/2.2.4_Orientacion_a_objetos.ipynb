{
 "cells": [
  {
   "cell_type": "code",
   "execution_count": 2,
   "id": "69635e2d",
   "metadata": {},
   "outputs": [],
   "source": [
    "# -*- coding: utf-8 -*-\n",
    "\"\"\"\n",
    "2.2.4 Orientación a objetos\n",
    "\n",
    "En este módulo realizaremos algunos ejercicios para demostrar nuestro s conocimientos de XXX\n",
    "\n",
    "\"\"\"\n",
    "\n",
    "# Creamos nuestra primera clase 'Poligono'\n",
    "class Poligono(objet):\n",
    "    \"\"\"\n",
    "    La clase poligono define objetos poligonales y las funciones que les aplican\n",
    "    \"\"\"\n",
    "    \n",
    "    def __init__(self, lados, color):\n",
    "        \"\"\"\n",
    "        Un objeto de la clase poligono tiene dos atributos o características básicas:\n",
    "        -lados: número de lados del polígono\n",
    "        -color: color del polígono\n",
    "        \"\"\"\n",
    "        \n",
    "        self.lados = lados\n",
    "        self.color = color\n",
    "        \n",
    "        \n",
    "    def dime_atributos(self):\n",
    "        \"\"\"\n",
    "        Llamando a esta función podemos acceder a los valores de los dos atributos básicos\n",
    "        \"\"\"\n",
    "        print(\"Lados:\", self.lados)\n",
    "        print(\"Color:\", self.color)\n",
    "        "
   ]
  },
  {
   "cell_type": "code",
   "execution_count": 4,
   "id": "23f868a6",
   "metadata": {},
   "outputs": [
    {
     "name": "stdout",
     "output_type": "stream",
     "text": [
      "Lados: 4\n",
      "Color: verde\n"
     ]
    }
   ],
   "source": [
    "cuadrado = Poligono(4, 'verde')\n",
    "cuadrado.dime_atributos()"
   ]
  },
  {
   "cell_type": "code",
   "execution_count": null,
   "id": "82c0d89d",
   "metadata": {},
   "outputs": [],
   "source": []
  }
 ],
 "metadata": {
  "kernelspec": {
   "display_name": "Python 3 (ipykernel)",
   "language": "python",
   "name": "python3"
  },
  "language_info": {
   "codemirror_mode": {
    "name": "ipython",
    "version": 3
   },
   "file_extension": ".py",
   "mimetype": "text/x-python",
   "name": "python",
   "nbconvert_exporter": "python",
   "pygments_lexer": "ipython3",
   "version": "3.9.5"
  }
 },
 "nbformat": 4,
 "nbformat_minor": 5
}
