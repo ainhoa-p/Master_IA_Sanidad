{
  "nbformat": 4,
  "nbformat_minor": 0,
  "metadata": {
    "colab": {
      "name": "2_3_5_Tensores.ipynb",
      "provenance": [],
      "authorship_tag": "ABX9TyMDzLKn7BFUVOZ3cISUCQ0y",
      "include_colab_link": true
    },
    "kernelspec": {
      "name": "python3",
      "display_name": "Python 3"
    },
    "language_info": {
      "name": "python"
    }
  },
  "cells": [
    {
      "cell_type": "markdown",
      "metadata": {
        "id": "view-in-github",
        "colab_type": "text"
      },
      "source": [
        "<a href=\"https://colab.research.google.com/github/txusser/Master_IA_Sanidad/blob/main/Modulo_2/2_3_5_Tensores.ipynb\" target=\"_parent\"><img src=\"https://colab.research.google.com/assets/colab-badge.svg\" alt=\"Open In Colab\"/></a>"
      ]
    },
    {
      "cell_type": "code",
      "metadata": {
        "colab": {
          "base_uri": "https://localhost:8080/"
        },
        "id": "J379_TZJt7Fq",
        "outputId": "c6143e20-4fe1-46ac-8df9-040e7a156328"
      },
      "source": [
        "\"\"\"\n",
        "Operaciones con tensores\n",
        "\"\"\"\n",
        "# Declaración con PyTorch\n",
        "import torch\n",
        "a = torch.Tensor([1.5, 2.5])\n",
        "print(\"Tensor a:\", a, type(a))\n",
        "\n",
        "# Declaración con Tensorflow\n",
        "import tensorflow as tf\n",
        "b = tf.constant([1.5, 2.5])\n",
        "print(\"Tensor b:\", b, type(b))\n",
        "\n",
        "# Vemos que en la declaración con TF utilizamos la función constant y al \n",
        "# imprimir por pantalla obtenemos información sobre el tamaño y tipo de datos\n",
        "# Con PyTorch podemos obtener la misma información recurriendo a los métodos\n",
        "# de la clase\n",
        "\n",
        "print(\"Size a:\", a.shape, \", data type:\", a.dtype)\n",
        "\n",
        "# En Torch también podemos inicializar nuestro tensor especificando sus características\n",
        "\n",
        "torch.zeros([2, 4], dtype=torch.int32)\n",
        "\n",
        "# Incluso podemos declararlo en nuestro dispositivo CUDA\n",
        "\n",
        "# cuda0 = torch.device('cuda:0')\n",
        "cpu = torch.device('cpu:0')\n",
        "torch.ones([2, 4], dtype=torch.float64, device=cpu)\n",
        "\n"
      ],
      "execution_count": 2,
      "outputs": [
        {
          "output_type": "stream",
          "name": "stdout",
          "text": [
            "Tensor a: tensor([1.5000, 2.5000]) <class 'torch.Tensor'>\n",
            "Tensor b: tf.Tensor([1.5 2.5], shape=(2,), dtype=float32) <class 'tensorflow.python.framework.ops.EagerTensor'>\n",
            "Size a: torch.Size([2]) , data type: torch.float32\n"
          ]
        },
        {
          "output_type": "execute_result",
          "data": {
            "text/plain": [
              "tensor([[1., 1., 1., 1.],\n",
              "        [1., 1., 1., 1.]], dtype=torch.float64)"
            ]
          },
          "metadata": {},
          "execution_count": 2
        }
      ]
    }
  ]
}