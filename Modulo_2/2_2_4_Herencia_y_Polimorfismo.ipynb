{
  "nbformat": 4,
  "nbformat_minor": 0,
  "metadata": {
    "colab": {
      "provenance": [],
      "authorship_tag": "ABX9TyOyD3dpXdPsBsf5CJMH7/cT",
      "include_colab_link": true
    },
    "kernelspec": {
      "name": "python3",
      "display_name": "Python 3"
    },
    "language_info": {
      "name": "python"
    }
  },
  "cells": [
    {
      "cell_type": "markdown",
      "metadata": {
        "id": "view-in-github",
        "colab_type": "text"
      },
      "source": [
        "<a href=\"https://colab.research.google.com/github/txusser/Master_IA_Sanidad/blob/main/Modulo_2/2_2_4_Herencia_y_Polimorfismo.ipynb\" target=\"_parent\"><img src=\"https://colab.research.google.com/assets/colab-badge.svg\" alt=\"Open In Colab\"/></a>"
      ]
    },
    {
      "cell_type": "markdown",
      "source": [
        "# Clases y objetos\n",
        "\n",
        "1. **Clase**: Una clase es una plantilla o un molde para crear objetos. Define las propiedades (atributos) y comportamientos (métodos) comunes que tendrán los objetos pertenecientes a esa clase. Por ejemplo, si tienes una clase llamada \"Perro\", podrías definir atributos como \"nombre\", \"edad\" y \"raza\", y métodos como \"ladrar\" y \"correr\". La clase es solo una descripción de cómo deberían ser los objetos.\n",
        "\n",
        "2. **Objeto**: Un objeto es una instancia de una clase. Es decir, es una entidad real que se crea a partir de la plantilla proporcionada por la clase. Puedes crear múltiples objetos de la misma clase, cada uno con sus propios valores para los atributos. Siguiendo el ejemplo anterior, podrías crear un objeto llamado \"mi_perro\" de la clase \"Perro\" con el nombre \"Bobby\", la edad \"5\" y la raza \"Labrador\". Otro objeto de la misma clase podría ser \"tu_perro\" con diferentes valores para los atributos.\n",
        "\n"
      ],
      "metadata": {
        "id": "_lRkzoCtAG0l"
      }
    },
    {
      "cell_type": "code",
      "metadata": {
        "colab": {
          "base_uri": "https://localhost:8080/",
          "height": 340
        },
        "id": "QxAU5rne6iHi",
        "outputId": "e909aca5-8394-4a6b-fe65-655beea684fe"
      },
      "source": [
        "from rich.console import Console\n",
        "console = Console()\n",
        "\n",
        "# Veámos como definir la clase Alimento y cómo podemos utilizar el concepto de\n",
        "# herencia sobre la clase misma\n",
        "\n",
        "def mi_funcion(args):\n",
        "  print(\"logica\")\n",
        "\n",
        "class Alimento(): # CamelCase\n",
        "  __doc__ = \"Un objeto de la ...\"\n",
        "  \"\"\"\n",
        "  Un objeto de la ...\n",
        "  \"\"\"\n",
        "  def __init__(self, nombre: str, tipo: str = 'Fruta'):\n",
        "    # Cada ejemplo de Alimento tiene un tipo y un nombre asociados\n",
        "    self.tipo = tipo\n",
        "    self.nombre = nombre\n",
        "\n",
        "  # Métodos de la clase Alimento\n",
        "  def dime_tipo(self):\n",
        "    print(\"Tipo:\", self.tipo)\n",
        "    return self.tipo\n",
        "\n",
        "  def dime_nombre(self):\n",
        "    print(\"Nombre:\", self.nombre)\n",
        "\n",
        "  def _asigna_tipo(self, tipo: str):\n",
        "    self.tipo = tipo\n",
        "\n",
        "\n",
        "console.rule(\"[bold cyan]Clases y objetos\")\n",
        "print(\"\\nEn Python las estructuras de datos base son Clases:\")\n",
        "x = 1\n",
        "print(\"Tipo x:\", type(x))\n",
        "\n",
        "# Creamos un objeto instancia de la clase Alimento\n",
        "print(\"\\nDefinamos una clase propia:\")\n",
        "mi_fruta = Alimento('pera')\n",
        "print(\"tipo de mi_fruta:\", type(mi_fruta))\n",
        "mi_fruta.dime_tipo()\n",
        "mi_fruta.dime_nombre()\n",
        "mi_fruta._asigna_tipo(tipo='Carne')\n",
        "mi_fruta.dime_tipo()\n",
        "\n",
        "print(\"\\nCreamos un nuevo objeto\")\n",
        "mi_carne = Alimento(nombre='Ternera', tipo='Carne')\n",
        "mi_carne.dime_tipo()\n",
        "\n"
      ],
      "execution_count": null,
      "outputs": [
        {
          "output_type": "display_data",
          "data": {
            "text/plain": [
              "\u001b[92m──────────────────────────────────────────────── \u001b[0m\u001b[1;36mClases y objetos\u001b[0m\u001b[92m ─────────────────────────────────────────────────\u001b[0m\n"
            ],
            "text/html": [
              "<pre style=\"white-space:pre;overflow-x:auto;line-height:normal;font-family:Menlo,'DejaVu Sans Mono',consolas,'Courier New',monospace\"><span style=\"color: #00ff00; text-decoration-color: #00ff00\">──────────────────────────────────────────────── </span><span style=\"color: #008080; text-decoration-color: #008080; font-weight: bold\">Clases y objetos</span><span style=\"color: #00ff00; text-decoration-color: #00ff00\"> ─────────────────────────────────────────────────</span>\n",
              "</pre>\n"
            ]
          },
          "metadata": {}
        },
        {
          "output_type": "stream",
          "name": "stdout",
          "text": [
            "\n",
            "En Python las estructuras de datos base son Clases:\n",
            "Tipo x: <class 'int'>\n",
            "\n",
            "Definamos una clase propia:\n",
            "tipo de mi_fruta: <class '__main__.Alimento'>\n",
            "Tipo: Fruta\n",
            "Nombre: pera\n",
            "Tipo: Carne\n",
            "\n",
            "Creamos un nuevo objeto\n",
            "Tipo: Carne\n"
          ]
        },
        {
          "output_type": "execute_result",
          "data": {
            "text/plain": [
              "'Carne'"
            ],
            "application/vnd.google.colaboratory.intrinsic+json": {
              "type": "string"
            }
          },
          "metadata": {},
          "execution_count": 13
        }
      ]
    },
    {
      "cell_type": "markdown",
      "source": [
        "# Herencia y Polimorfismo\n",
        "\n",
        "Cuando se crea un objeto, hereda todas las propiedades y comportamientos definidos en la clase. Esto significa que puedes acceder a los atributos y utilizar los métodos definidos en la clase a través del objeto. Por ejemplo, puedes acceder al atributo \"nombre\" del objeto \"mi_perro\" utilizando la sintaxis \"mi_perro.nombre\" y llamar al método \"ladrar\" utilizando la sintaxis \"mi_perro.ladrar()\".\n",
        "\n",
        "Las clases y objetos permiten organizar y estructurar el código de manera más modular y orientada a los objetos, lo que **facilita la reutilización del código y la abstracción de conceptos del mundo real** en el software. Python es un lenguaje de programación que soporta la programación orientada a objetos, entre otros paradigmas.\n",
        "\n"
      ],
      "metadata": {
        "id": "hp-TPcyMAn5c"
      }
    },
    {
      "cell_type": "code",
      "metadata": {
        "colab": {
          "base_uri": "https://localhost:8080/"
        },
        "id": "QMqQYy5bvqMn",
        "outputId": "4018e486-8586-4a73-83d0-d652578248c9"
      },
      "source": [
        "## Herencia\n",
        "# Definimos clase Pescado hija de la clase Alimento\n",
        "\n",
        "class Pescado(Alimento):\n",
        "  pass\n",
        "\n",
        "# La clase Pescado hereda los métodos de la clase Alimento\n",
        "mi_pescado = Pescado(nombre='trucha')\n",
        "mi_pescado.dime_tipo()\n",
        "mi_pescado.dime_nombre()"
      ],
      "execution_count": null,
      "outputs": [
        {
          "output_type": "stream",
          "name": "stdout",
          "text": [
            "Tipo: Fruta\n",
            "Nombre: trucha\n"
          ]
        }
      ]
    },
    {
      "cell_type": "markdown",
      "source": [
        "  mi_proyecto\n",
        "\n",
        "      |--alimento.py\n",
        "      |--pescado.py\n",
        "\n",
        "----\n",
        "\n",
        "  **Dentro de pescado.py**\n",
        "  \n",
        "  import alimento\n",
        "\n",
        "\n",
        "  from alimento import Alimento\n",
        "  \n",
        "  class Pescado(Alimento)\n"
      ],
      "metadata": {
        "id": "xN2jwROa22QL"
      }
    },
    {
      "cell_type": "code",
      "metadata": {
        "colab": {
          "base_uri": "https://localhost:8080/"
        },
        "id": "j9_47BdlABM-",
        "outputId": "ca1d25f6-dcc5-4ef5-f51f-627041528beb"
      },
      "source": [
        "# Polimorfismo\n",
        "class Pescado():\n",
        "  def ingesta_recomendada(self):\n",
        "    print(\"Se recomienda comer pescado 3 veces por semana\")\n",
        "class Carne():\n",
        "  def ingesta_recomendada(self):\n",
        "    print(\"Suma:\", 7+3)\n",
        "\n",
        "mi_pescado = Pescado()\n",
        "mi_carne = Carne()\n",
        "\n",
        "mi_pescado.ingesta_recomendada()\n",
        "mi_carne.ingesta_recomendada()"
      ],
      "execution_count": null,
      "outputs": [
        {
          "output_type": "stream",
          "name": "stdout",
          "text": [
            "Se recomienda comer pescado 3 veces por semana\n",
            "Suma: 10\n"
          ]
        }
      ]
    },
    {
      "cell_type": "code",
      "metadata": {
        "colab": {
          "base_uri": "https://localhost:8080/"
        },
        "id": "au8oZ3mB87t3",
        "outputId": "cc8108ad-1812-470b-b622-22190de23e18"
      },
      "source": [
        "# Sobrecarga de funciones\n",
        "class Alimento:\n",
        "  \"\"\"\n",
        "  Un objeto de la clase Alimento se define con dos atributos, tipo y nombre\n",
        "  \"\"\"\n",
        "  def __init__(self, tipo, nombre, vegano=False):\n",
        "    print(\"Es el mismo método\")\n",
        "\n",
        "\n",
        "mi_carne = Alimento('carne', 'chulatas')\n",
        "mi_hortaliza = Alimento('hortaliza', 'garbanzo', True)"
      ],
      "execution_count": null,
      "outputs": [
        {
          "output_type": "stream",
          "name": "stdout",
          "text": [
            "Es el mismo método\n",
            "Es el mismo método\n"
          ]
        }
      ]
    }
  ]
}