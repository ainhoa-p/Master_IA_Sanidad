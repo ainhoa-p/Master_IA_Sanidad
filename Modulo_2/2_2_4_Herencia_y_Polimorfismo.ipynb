{
  "nbformat": 4,
  "nbformat_minor": 0,
  "metadata": {
    "colab": {
      "provenance": [],
      "authorship_tag": "ABX9TyPvVpic0LCzkHNneMPU9B0a",
      "include_colab_link": true
    },
    "kernelspec": {
      "name": "python3",
      "display_name": "Python 3"
    },
    "language_info": {
      "name": "python"
    }
  },
  "cells": [
    {
      "cell_type": "markdown",
      "metadata": {
        "id": "view-in-github",
        "colab_type": "text"
      },
      "source": [
        "<a href=\"https://colab.research.google.com/github/txusser/Master_IA_Sanidad/blob/main/Modulo_2/2_2_4_Herencia_y_Polimorfismo.ipynb\" target=\"_parent\"><img src=\"https://colab.research.google.com/assets/colab-badge.svg\" alt=\"Open In Colab\"/></a>"
      ]
    },
    {
      "cell_type": "markdown",
      "source": [
        "# Clases y objetos\n",
        "\n",
        "1. **Clase**: Una clase es una plantilla o un molde para crear objetos. Define las propiedades (atributos) y comportamientos (métodos) comunes que tendrán los objetos pertenecientes a esa clase. Por ejemplo, si tienes una clase llamada \"Perro\", podrías definir atributos como \"nombre\", \"edad\" y \"raza\", y métodos como \"ladrar\" y \"correr\". La clase es solo una descripción de cómo deberían ser los objetos.\n",
        "\n",
        "2. **Objeto**: Un objeto es una instancia de una clase. Es decir, es una entidad real que se crea a partir de la plantilla proporcionada por la clase. Puedes crear múltiples objetos de la misma clase, cada uno con sus propios valores para los atributos. Siguiendo el ejemplo anterior, podrías crear un objeto llamado \"mi_perro\" de la clase \"Perro\" con el nombre \"Bobby\", la edad \"5\" y la raza \"Labrador\". Otro objeto de la misma clase podría ser \"tu_perro\" con diferentes valores para los atributos.\n",
        "\n"
      ],
      "metadata": {
        "id": "_lRkzoCtAG0l"
      }
    },
    {
      "cell_type": "code",
      "source": [
        "from rich.console import Console\n",
        "console = Console()\n",
        "\n",
        "# Veámos como definir la clase Alimento y cómo podemos utilizar el concepto de\n",
        "# herencia sobre la clase misma\n",
        "\n",
        "# Con 'def' construimos una función\n",
        "def mi_funcion(args):\n",
        "  print(\"logica\")\n",
        "\n",
        "class MiClase():\n",
        "  pass\n",
        "\n",
        "\n",
        "class Perro():\n",
        "  def __init__(self, raza, nombre, edad=4):\n",
        "    self.raza = raza\n",
        "    self.nombre = nombre\n",
        "    self.edad = edad\n",
        "\n",
        "  def ladra(self):\n",
        "    print(\"Woof!\")\n",
        "\n",
        "  def __str__():\n",
        "    return \"Perro\"\n",
        "\n",
        "mi_perro = Perro(\"labrador\", \"Pedro\")\n",
        "mi_perro\n",
        "print(type(mi_perro))\n",
        "print(\"mi_perro edad:\", mi_perro.edad)\n",
        "print(\"ladra:\", mi_perro.ladra())\n",
        "\n",
        "perro_2 = Perro(\"caniche\", \"Adolfo\")\n",
        "print(\"ladra perro_2:\", perro_2.ladra())\n",
        "\n",
        "\n",
        "variable = \"S\"\n",
        "print(type(variable))\n",
        "\n"
      ],
      "metadata": {
        "colab": {
          "base_uri": "https://localhost:8080/"
        },
        "id": "im4YS01tHgo0",
        "outputId": "ae59b7fd-42ad-4865-b271-9940fc92f5a5"
      },
      "execution_count": null,
      "outputs": [
        {
          "output_type": "stream",
          "name": "stdout",
          "text": [
            "<class '__main__.Perro'>\n",
            "mi_perro edad: 4\n",
            "Woof!\n",
            "ladra: None\n",
            "Woof!\n",
            "ladra perro_2: None\n",
            "<class 'str'>\n"
          ]
        }
      ]
    },
    {
      "cell_type": "code",
      "source": [
        "\n",
        "class Alimento():\n",
        "  def __init__(self):\n",
        "    pass\n",
        "  def __str__():\n",
        "    return 'Alimento'\n",
        "\n",
        "pera = Alimento()\n",
        "print(\"tipo(pera):\", type(pera))\n",
        "\n",
        "cadena = \"mi-cadena\"\n",
        "print(\"tipo(cadena):\", type(cadena))\n",
        "print(\"cadena.upper():\", cadena.upper())"
      ],
      "metadata": {
        "colab": {
          "base_uri": "https://localhost:8080/"
        },
        "id": "MHcrUyia4-lb",
        "outputId": "7f3dfc87-4ffa-4615-80cf-bb3959ea0d58"
      },
      "execution_count": null,
      "outputs": [
        {
          "output_type": "stream",
          "name": "stdout",
          "text": [
            "tipo(pera): <class '__main__.Alimento'>\n",
            "tipo(cadena): <class 'str'>\n",
            "cadena.upper(): MI-CADENA\n"
          ]
        }
      ]
    },
    {
      "cell_type": "markdown",
      "source": [
        "## Clase Alimento\n",
        "Definición de la clase Alimento que implementa sus propios métodos"
      ],
      "metadata": {
        "id": "mUr3hkTM9Fg5"
      }
    },
    {
      "cell_type": "code",
      "metadata": {
        "colab": {
          "base_uri": "https://localhost:8080/",
          "height": 284
        },
        "id": "QxAU5rne6iHi",
        "outputId": "aa9af42f-4384-4b12-fc17-5052b1c7292c"
      },
      "source": [
        "FG = \"Fuerza\"\n",
        "\n",
        "# Con 'class' construimos una función\n",
        "class Alimento(): # CamelCase\n",
        "  \"\"\" Esta es una clase para crear alimentos \"\"\"\n",
        "\n",
        "  def __init__(self, nombre: str, tipo: str = 'Fruta'):\n",
        "    # Cada ejemplo de Alimento tiene un tipo y un nombre asociados\n",
        "    self.nombre = nombre\n",
        "    self.tipo = tipo\n",
        "\n",
        "  # Métodos de la clase Alimento\n",
        "  def dime_nombre(self):\n",
        "    print(\"Nombre:\", self.nombre)\n",
        "\n",
        "  def dime_tipo(self):\n",
        "    print(\"Tipo:\", self.tipo)\n",
        "\n",
        "  def _asigna_tipo(self, tipo: str):\n",
        "    self.tipo = tipo\n",
        "\n",
        "  def asigna_masa(self, masa):\n",
        "    self.masa = masa\n",
        "\n",
        "  def calcula_peso(self):\n",
        "    peso = self.masa * FG\n",
        "\n",
        "\n",
        "console.rule(\"[bold cyan]Clases y objetos\")\n",
        "print(\"\\nEn Python las estructuras de datos base son Clases:\")\n",
        "\n",
        "# Creamos un objeto instancia de la clase Alimento\n",
        "print(\"\\nDefinamos una clase propia:\")\n",
        "mi_fruta = Alimento('pera')\n",
        "print(\"tipo de mi_fruta:\", type(mi_fruta))\n",
        "mi_fruta.dime_tipo()\n",
        "mi_fruta.dime_nombre()\n",
        "mi_fruta._asigna_tipo(tipo='Carne')\n",
        "mi_fruta.dime_tipo()\n",
        "\n",
        "print(\"\\nCreamos un nuevo objeto\")\n",
        "mi_carne = Alimento(nombre='Ternera', tipo='Carne')\n",
        "mi_carne.dime_tipo()"
      ],
      "execution_count": null,
      "outputs": [
        {
          "output_type": "display_data",
          "data": {
            "text/plain": [
              "\u001b[92m──────────────────────────────────────────────── \u001b[0m\u001b[1;36mClases y objetos\u001b[0m\u001b[92m ─────────────────────────────────────────────────\u001b[0m\n"
            ],
            "text/html": [
              "<pre style=\"white-space:pre;overflow-x:auto;line-height:normal;font-family:Menlo,'DejaVu Sans Mono',consolas,'Courier New',monospace\"><span style=\"color: #00ff00; text-decoration-color: #00ff00\">──────────────────────────────────────────────── </span><span style=\"color: #008080; text-decoration-color: #008080; font-weight: bold\">Clases y objetos</span><span style=\"color: #00ff00; text-decoration-color: #00ff00\"> ─────────────────────────────────────────────────</span>\n",
              "</pre>\n"
            ]
          },
          "metadata": {}
        },
        {
          "output_type": "stream",
          "name": "stdout",
          "text": [
            "\n",
            "En Python las estructuras de datos base son Clases:\n",
            "\n",
            "Definamos una clase propia:\n",
            "tipo de mi_fruta: <class '__main__.Alimento'>\n",
            "Tipo: Fruta\n",
            "Nombre: pera\n",
            "Tipo: Carne\n",
            "\n",
            "Creamos un nuevo objeto\n",
            "Tipo: Carne\n"
          ]
        }
      ]
    },
    {
      "cell_type": "markdown",
      "source": [
        "# Herencia y Polimorfismo\n",
        "\n",
        "Cuando se crea un objeto, hereda todas las propiedades y comportamientos definidos en la clase. Esto significa que puedes acceder a los atributos y utilizar los métodos definidos en la clase a través del objeto. Por ejemplo, puedes acceder al atributo \"nombre\" del objeto \"mi_perro\" utilizando la sintaxis \"mi_perro.nombre\" y llamar al método \"ladrar\" utilizando la sintaxis \"mi_perro.ladrar()\".\n",
        "\n",
        "Las clases y objetos permiten organizar y estructurar el código de manera más modular y orientada a los objetos, lo que **facilita la reutilización del código y la abstracción de conceptos del mundo real** en el software. Python es un lenguaje de programación que soporta la programación orientada a objetos, entre otros paradigmas.\n",
        "\n"
      ],
      "metadata": {
        "id": "hp-TPcyMAn5c"
      }
    },
    {
      "cell_type": "code",
      "metadata": {
        "colab": {
          "base_uri": "https://localhost:8080/"
        },
        "id": "QMqQYy5bvqMn",
        "outputId": "5a2f4f3b-7cf2-4f88-9249-ea8b76ca77d6"
      },
      "source": [
        "## Herencia\n",
        "# Definimos clase Pescado hija de la clase Alimento\n",
        "\n",
        "class Pescado(Alimento):\n",
        "  pass\n",
        "\n",
        "# La clase Pescado hereda los métodos de la clase Alimento\n",
        "mi_pescado = Pescado(nombre='trucha', tipo=\"Pescado\")\n",
        "mi_pescado.dime_tipo()\n",
        "mi_pescado.dime_nombre()"
      ],
      "execution_count": null,
      "outputs": [
        {
          "output_type": "stream",
          "name": "stdout",
          "text": [
            "Tipo: Pescado\n",
            "Nombre: trucha\n"
          ]
        }
      ]
    },
    {
      "cell_type": "code",
      "metadata": {
        "colab": {
          "base_uri": "https://localhost:8080/"
        },
        "id": "j9_47BdlABM-",
        "outputId": "9b2b93f6-f7a0-41f1-9f2e-cb15614dd908"
      },
      "source": [
        "# Polimorfismo\n",
        "class Pescado():\n",
        "  def ingesta_recomendada(self):\n",
        "    print(\"Se recomienda comer pescado 3 veces por semana\")\n",
        "class Carne():\n",
        "  def ingesta_recomendada(self):\n",
        "    print(\"Suma:\", 7+3)\n",
        "\n",
        "mi_pescado = Pescado()\n",
        "mi_carne = Carne()\n",
        "\n",
        "mi_pescado.ingesta_recomendada()\n",
        "mi_carne.ingesta_recomendada()"
      ],
      "execution_count": null,
      "outputs": [
        {
          "output_type": "stream",
          "name": "stdout",
          "text": [
            "Se recomienda comer pescado 3 veces por semana\n",
            "Suma: 10\n"
          ]
        }
      ]
    },
    {
      "cell_type": "code",
      "metadata": {
        "colab": {
          "base_uri": "https://localhost:8080/"
        },
        "id": "au8oZ3mB87t3",
        "outputId": "bf5782e7-c45c-4675-8a23-c5d3ab4515ad"
      },
      "source": [
        "# Sobrecarga de funciones\n",
        "class Alimento:\n",
        "  \"\"\"\n",
        "  Un objeto de la clase Alimento se define con dos atributos, tipo y nombre\n",
        "  \"\"\"\n",
        "  def __init__(self, tipo, nombre, vegano=False):\n",
        "    print(\"Es el mismo método\")\n",
        "\n",
        "\n",
        "mi_carne = Alimento('carne', 'chulatas')\n",
        "mi_hortaliza = Alimento('hortaliza', 'garbanzo', True)"
      ],
      "execution_count": null,
      "outputs": [
        {
          "output_type": "stream",
          "name": "stdout",
          "text": [
            "Es el mismo método\n",
            "Es el mismo método\n"
          ]
        }
      ]
    },
    {
      "cell_type": "markdown",
      "source": [
        "**mi_proyecto**\n",
        "\n",
        "      |--alimento.py\n",
        "      |--pescado.py\n",
        "\n",
        "----\n",
        "\n",
        "  **Dentro de pescado.py**\n",
        "  \n",
        "  import alimento\n",
        "\n",
        "\n",
        "  from alimento import Alimento\n",
        "  \n",
        "  class Pescado(Alimento)\n"
      ],
      "metadata": {
        "id": "xN2jwROa22QL"
      }
    },
    {
      "cell_type": "code",
      "source": [
        "\n",
        "######\n",
        "import pandas as pd\n",
        "import numpy as np\n",
        "class DataHandler(object):\n",
        "  def __init__(self, csv_path: str):\n",
        "    self.csv_path = csv_path\n",
        "    self.data = self.read_csv()\n",
        "  def read_csv(self):\n",
        "    print(\"Datos:\", pd.read_csv(self.csv_path))\n",
        "    return pd.read_csv(self.csv_path)\n",
        "  def mean_values(self):\n",
        "    return print(\"Mean:\", np.mean(self.data))\n",
        "\n",
        "\n",
        "\n",
        "#DataHandler(\"/content/sample_data/mnist_train_small.csv\").read_csv()\n",
        "data_handler = DataHandler(\"/content/sample_data/mnist_train_small.csv\")\n",
        "\n",
        "data_handler.data\n",
        "data_handler.mean_values()\n",
        "\n"
      ],
      "metadata": {
        "colab": {
          "base_uri": "https://localhost:8080/"
        },
        "id": "tTBEc2cKLYif",
        "outputId": "b4e64da5-0715-46d5-ca86-402fe714e1b9"
      },
      "execution_count": null,
      "outputs": [
        {
          "output_type": "stream",
          "name": "stdout",
          "text": [
            "Datos:        6  0  0.1  0.2  0.3  0.4  0.5  0.6  0.7  0.8  ...  0.581  0.582  0.583  \\\n",
            "0      5  0    0    0    0    0    0    0    0    0  ...      0      0      0   \n",
            "1      7  0    0    0    0    0    0    0    0    0  ...      0      0      0   \n",
            "2      9  0    0    0    0    0    0    0    0    0  ...      0      0      0   \n",
            "3      5  0    0    0    0    0    0    0    0    0  ...      0      0      0   \n",
            "4      2  0    0    0    0    0    0    0    0    0  ...      0      0      0   \n",
            "...   .. ..  ...  ...  ...  ...  ...  ...  ...  ...  ...    ...    ...    ...   \n",
            "19994  0  0    0    0    0    0    0    0    0    0  ...      0      0      0   \n",
            "19995  1  0    0    0    0    0    0    0    0    0  ...      0      0      0   \n",
            "19996  2  0    0    0    0    0    0    0    0    0  ...      0      0      0   \n",
            "19997  9  0    0    0    0    0    0    0    0    0  ...      0      0      0   \n",
            "19998  5  0    0    0    0    0    0    0    0    0  ...      0      0      0   \n",
            "\n",
            "       0.584  0.585  0.586  0.587  0.588  0.589  0.590  \n",
            "0          0      0      0      0      0      0      0  \n",
            "1          0      0      0      0      0      0      0  \n",
            "2          0      0      0      0      0      0      0  \n",
            "3          0      0      0      0      0      0      0  \n",
            "4          0      0      0      0      0      0      0  \n",
            "...      ...    ...    ...    ...    ...    ...    ...  \n",
            "19994      0      0      0      0      0      0      0  \n",
            "19995      0      0      0      0      0      0      0  \n",
            "19996      0      0      0      0      0      0      0  \n",
            "19997      0      0      0      0      0      0      0  \n",
            "19998      0      0      0      0      0      0      0  \n",
            "\n",
            "[19999 rows x 785 columns]\n",
            "Mean: 33.29096321058091\n"
          ]
        }
      ]
    }
  ]
}