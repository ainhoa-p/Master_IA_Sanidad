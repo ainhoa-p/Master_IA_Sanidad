{
  "nbformat": 4,
  "nbformat_minor": 0,
  "metadata": {
    "colab": {
      "name": "2.2.4_Herencia_y_Polimorfismo.ipynb",
      "provenance": [],
      "collapsed_sections": [],
      "authorship_tag": "ABX9TyOGgQU/D92vDgYWHB53y3K1",
      "include_colab_link": true
    },
    "kernelspec": {
      "name": "python3",
      "display_name": "Python 3"
    },
    "language_info": {
      "name": "python"
    }
  },
  "cells": [
    {
      "cell_type": "markdown",
      "metadata": {
        "id": "view-in-github",
        "colab_type": "text"
      },
      "source": [
        "<a href=\"https://colab.research.google.com/github/txusser/Master_IA_Sanidad/blob/main/Modulo_2/2_2_4_Herencia_y_Polimorfismo.ipynb\" target=\"_parent\"><img src=\"https://colab.research.google.com/assets/colab-badge.svg\" alt=\"Open In Colab\"/></a>"
      ]
    },
    {
      "cell_type": "code",
      "metadata": {
        "colab": {
          "base_uri": "https://localhost:8080/"
        },
        "id": "QxAU5rne6iHi",
        "outputId": "f9355597-5414-4c82-df59-a64084fb0dcc"
      },
      "source": [
        "# Veámos como definir la clase Alimento y cómo podemos utilizar el concepto de \n",
        "# herencia sobre la clase misma \n",
        "\n",
        "class Alimento:\n",
        "  \"\"\"\n",
        "  Un objeto de la clase Alimento se define con dos atributos, tipo y nombre\n",
        "  \"\"\"\n",
        "  def __init__(self, tipo, nombre):\n",
        "    # Cada ejemplo de Alimento tiene un tipo y un nombre asociados\n",
        "    self.tipo = tipo\n",
        "    self.nombre = nombre\n",
        "\n",
        "  # Métodos de la clase Alimento\n",
        "  def dime_tipo(self):\n",
        "    print(\"Tipo:\", self.tipo)\n",
        "\n",
        "  def dime_nombre(self):\n",
        "    print(\"Nombre:\", self.nombre)\n",
        "\n",
        "# Creamos un objeto instancia de la clase Alimento\n",
        "mi_fruta = Alimento('fruta', 'pera')\n",
        "mi_fruta.dime_tipo()\n",
        "mi_fruta.dime_nombre()\n",
        "\n"
      ],
      "execution_count": 4,
      "outputs": [
        {
          "output_type": "stream",
          "name": "stdout",
          "text": [
            "Tipo: fruta\n",
            "Nombre: pera\n"
          ]
        }
      ]
    },
    {
      "cell_type": "code",
      "metadata": {
        "id": "QMqQYy5bvqMn",
        "outputId": "d21f8790-5652-4b33-eb66-562900273ae9",
        "colab": {
          "base_uri": "https://localhost:8080/"
        }
      },
      "source": [
        "## Herencia\n",
        "# Definimos clase Pescado hija de la clase Alimento\n",
        "class Pescado(Alimento):\n",
        "  pass\n",
        "\n",
        "# La clase Pescado hereda los métodos de la clase Alimento\n",
        "mi_pescado = Pescado('pescado', 'trucha')\n",
        "mi_pescado.dime_tipo()\n",
        "mi_pescado.dime_nombre()"
      ],
      "execution_count": 3,
      "outputs": [
        {
          "output_type": "stream",
          "name": "stdout",
          "text": [
            "Tipo: pescado\n",
            "Nombre: trucha\n"
          ]
        }
      ]
    },
    {
      "cell_type": "code",
      "metadata": {
        "colab": {
          "base_uri": "https://localhost:8080/"
        },
        "id": "j9_47BdlABM-",
        "outputId": "86de7d2f-4bc5-4707-cdd5-a2aa20600f60"
      },
      "source": [
        "# Polimorfismo\n",
        "class Pescado():\n",
        "  def ingesta_recomendada(self):\n",
        "    print(\"Se recomienda comer pescado 3 veces por semana\")\n",
        "class Carne():\n",
        "  def ingesta_recomendada(self):\n",
        "    print(\"Procura limitar tu consumo de carne a menos de 3 veces por semana\")\n",
        "\n",
        "mi_pescado = Pescado()\n",
        "mi_carne = Carne()\n",
        "\n",
        "mi_pescado.ingesta_recomendada()\n",
        "mi_carne.ingesta_recomendada()"
      ],
      "execution_count": null,
      "outputs": [
        {
          "output_type": "stream",
          "name": "stdout",
          "text": [
            "Se recomienda comer pescado 3 veces por semana\n",
            "Procura limitar tu consumo de carne a menos de 3 veces por semana\n"
          ]
        }
      ]
    },
    {
      "cell_type": "code",
      "metadata": {
        "id": "au8oZ3mB87t3"
      },
      "source": [
        "# Sobrecarga de funciones\n",
        "class Alimento:\n",
        "  \"\"\"\n",
        "  Un objeto de la clase Alimento se define con dos atributos, tipo y nombre\n",
        "  \"\"\"\n",
        "  def __init__(self, tipo, nombre, vegano=False):\n",
        "    print(\"Es el mismo método\")\n",
        "\n",
        "\n",
        "garbando.stackoverflow(2)\n",
        "ob.stackoverflow()"
      ],
      "execution_count": null,
      "outputs": []
    }
  ]
}