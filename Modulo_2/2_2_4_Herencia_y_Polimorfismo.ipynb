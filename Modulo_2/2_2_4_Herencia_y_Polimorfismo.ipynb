{
  "nbformat": 4,
  "nbformat_minor": 0,
  "metadata": {
    "colab": {
      "name": "2.2.4_Herencia_y_Polimorfismo.ipynb",
      "provenance": [],
      "collapsed_sections": [],
      "authorship_tag": "ABX9TyMuFg8DALq2I7KwXdhBbzH5",
      "include_colab_link": true
    },
    "kernelspec": {
      "name": "python3",
      "display_name": "Python 3"
    },
    "language_info": {
      "name": "python"
    }
  },
  "cells": [
    {
      "cell_type": "markdown",
      "metadata": {
        "id": "view-in-github",
        "colab_type": "text"
      },
      "source": [
        "<a href=\"https://colab.research.google.com/github/txusser/Master_IA_Sanidad/blob/main/Modulo_2/2_2_4_Herencia_y_Polimorfismo.ipynb\" target=\"_parent\"><img src=\"https://colab.research.google.com/assets/colab-badge.svg\" alt=\"Open In Colab\"/></a>"
      ]
    },
    {
      "cell_type": "code",
      "metadata": {
        "colab": {
          "base_uri": "https://localhost:8080/"
        },
        "id": "QxAU5rne6iHi",
        "outputId": "da902b92-628a-49fb-e66d-6783e9d1f100"
      },
      "source": [
        "# Veámos como utilizar el concepto de herencia sobre la clase Alimento \n",
        "# que hemos definido anteriormente\n",
        "\n",
        "class Alimento:\n",
        "  def __init__(self, nombre, vegano):\n",
        "    self.nombre = nombre\n",
        "    self.vegano = vegano\n",
        "\n",
        "  def dime_nombre(self):\n",
        "    print(\"Nombre:\", self.nombre)\n",
        "\n",
        "mi_alimento = Alimento('pera', True)\n",
        "mi_alimento.dime_nombre()\n",
        "\n",
        "class Pescado(Alimento):\n",
        "  pass\n",
        "\n",
        "mi_pescado = Pescado('trucha', False)\n",
        "mi_pescado.dime_nombre()\n"
      ],
      "execution_count": 4,
      "outputs": [
        {
          "output_type": "stream",
          "name": "stdout",
          "text": [
            "Nombre: pera\n",
            "Nombre: trucha\n"
          ]
        }
      ]
    },
    {
      "cell_type": "code",
      "metadata": {
        "colab": {
          "base_uri": "https://localhost:8080/"
        },
        "id": "j9_47BdlABM-",
        "outputId": "86de7d2f-4bc5-4707-cdd5-a2aa20600f60"
      },
      "source": [
        "# Polimorfismo\n",
        "class Pescado():\n",
        "  def ingesta_recomendada(self):\n",
        "    print(\"Se recomienda comer pescado 3 veces por semana\")\n",
        "class Carne():\n",
        "  def ingesta_recomendada(self):\n",
        "    print(\"Procura limitar tu consumo de carne a menos de 3 veces por semana\")\n",
        "\n",
        "mi_pescado = Pescado()\n",
        "mi_carne = Carne()\n",
        "\n",
        "mi_pescado.ingesta_recomendada()\n",
        "mi_carne.ingesta_recomendada()"
      ],
      "execution_count": 7,
      "outputs": [
        {
          "output_type": "stream",
          "name": "stdout",
          "text": [
            "Se recomienda comer pescado 3 veces por semana\n",
            "Procura limitar tu consumo de carne a menos de 3 veces por semana\n"
          ]
        }
      ]
    }
  ]
}