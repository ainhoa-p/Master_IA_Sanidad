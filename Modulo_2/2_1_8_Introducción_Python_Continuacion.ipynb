{
  "nbformat": 4,
  "nbformat_minor": 0,
  "metadata": {
    "colab": {
      "provenance": [],
      "authorship_tag": "ABX9TyPLyxElg2Lf7sbRDHt6teUF",
      "include_colab_link": true
    },
    "kernelspec": {
      "name": "python3",
      "display_name": "Python 3"
    },
    "language_info": {
      "name": "python"
    }
  },
  "cells": [
    {
      "cell_type": "markdown",
      "metadata": {
        "id": "view-in-github",
        "colab_type": "text"
      },
      "source": [
        "<a href=\"https://colab.research.google.com/github/txusser/Master_IA_Sanidad/blob/main/Modulo_2/2_1_8_Introducci%C3%B3n_Python_Continuacion.ipynb\" target=\"_parent\"><img src=\"https://colab.research.google.com/assets/colab-badge.svg\" alt=\"Open In Colab\"/></a>"
      ]
    },
    {
      "cell_type": "code",
      "source": [
        "# Usaremos rich para enriquecer la impresión por pantalla\n",
        "import pandas as pd\n",
        "import numpy as np\n",
        "\n",
        "from rich import print\n",
        "from rich.console import Console\n",
        "from rich.panel import Panel\n",
        "from rich.syntax import Syntax\n",
        "\n",
        "# Configuración de Rich\n",
        "console = Console()\n",
        "\n",
        "# Configuración para mostrar más columnas y filas\n",
        "pd.set_option('display.max_columns', None)\n",
        "pd.set_option('display.max_rows', 10)"
      ],
      "metadata": {
        "id": "7WVtiUb5qEb4"
      },
      "execution_count": 2,
      "outputs": []
    },
    {
      "cell_type": "markdown",
      "source": [
        "## Carga de datos\n"
      ],
      "metadata": {
        "id": "kmrPaVqLrRsC"
      }
    },
    {
      "cell_type": "code",
      "source": [
        "console.rule(\"[bold]Carga de datos en Colab (Pandas) [/bold]\")\n",
        "\n",
        "mi_archivo = '/content/sample_data/california_housing_test.csv'\n",
        "print(\"mi_archivo:\", mi_archivo)\n",
        "\n",
        "df = pd.read_csv(mi_archivo)\n",
        "print(df)"
      ],
      "metadata": {
        "colab": {
          "base_uri": "https://localhost:8080/",
          "height": 623
        },
        "id": "s3InGJ4krUER",
        "outputId": "87cea5af-a117-45a3-f051-97411da62107"
      },
      "execution_count": 6,
      "outputs": [
        {
          "output_type": "display_data",
          "data": {
            "text/plain": [
              "\u001b[92m──────────────────────────────────────── \u001b[0m\u001b[1mCarga de datos en Colab \u001b[0m\u001b[1m(\u001b[0m\u001b[1mPandas\u001b[0m\u001b[1m)\u001b[0m\u001b[1m \u001b[0m\u001b[92m ────────────────────────────────────────\u001b[0m\n"
            ],
            "text/html": [
              "<pre style=\"white-space:pre;overflow-x:auto;line-height:normal;font-family:Menlo,'DejaVu Sans Mono',consolas,'Courier New',monospace\"><span style=\"color: #00ff00; text-decoration-color: #00ff00\">──────────────────────────────────────── </span><span style=\"font-weight: bold\">Carga de datos en Colab (Pandas) </span><span style=\"color: #00ff00; text-decoration-color: #00ff00\"> ────────────────────────────────────────</span>\n",
              "</pre>\n"
            ]
          },
          "metadata": {}
        },
        {
          "output_type": "display_data",
          "data": {
            "text/plain": [
              "mi_archivo: \u001b[35m/content/sample_data/\u001b[0m\u001b[95mcalifornia_housing_test.csv\u001b[0m\n"
            ],
            "text/html": [
              "<pre style=\"white-space:pre;overflow-x:auto;line-height:normal;font-family:Menlo,'DejaVu Sans Mono',consolas,'Courier New',monospace\">mi_archivo: <span style=\"color: #800080; text-decoration-color: #800080\">/content/sample_data/</span><span style=\"color: #ff00ff; text-decoration-color: #ff00ff\">california_housing_test.csv</span>\n",
              "</pre>\n"
            ]
          },
          "metadata": {}
        },
        {
          "output_type": "display_data",
          "data": {
            "text/plain": [
              "      longitude  latitude  housing_median_age  total_rooms  total_bedrooms  \\\n",
              "\u001b[1;36m0\u001b[0m       \u001b[1;36m-122.05\u001b[0m     \u001b[1;36m37.37\u001b[0m                \u001b[1;36m27.0\u001b[0m       \u001b[1;36m3885.0\u001b[0m           \u001b[1;36m661.0\u001b[0m   \n",
              "\u001b[1;36m1\u001b[0m       \u001b[1;36m-118.30\u001b[0m     \u001b[1;36m34.26\u001b[0m                \u001b[1;36m43.0\u001b[0m       \u001b[1;36m1510.0\u001b[0m           \u001b[1;36m310.0\u001b[0m   \n",
              "\u001b[1;36m2\u001b[0m       \u001b[1;36m-117.81\u001b[0m     \u001b[1;36m33.78\u001b[0m                \u001b[1;36m27.0\u001b[0m       \u001b[1;36m3589.0\u001b[0m           \u001b[1;36m507.0\u001b[0m   \n",
              "\u001b[1;36m3\u001b[0m       \u001b[1;36m-118.36\u001b[0m     \u001b[1;36m33.82\u001b[0m                \u001b[1;36m28.0\u001b[0m         \u001b[1;36m67.0\u001b[0m            \u001b[1;36m15.0\u001b[0m   \n",
              "\u001b[1;36m4\u001b[0m       \u001b[1;36m-119.67\u001b[0m     \u001b[1;36m36.33\u001b[0m                \u001b[1;36m19.0\u001b[0m       \u001b[1;36m1241.0\u001b[0m           \u001b[1;36m244.0\u001b[0m   \n",
              "\u001b[33m...\u001b[0m         \u001b[33m...\u001b[0m       \u001b[33m...\u001b[0m                 \u001b[33m...\u001b[0m          \u001b[33m...\u001b[0m             \u001b[33m...\u001b[0m   \n",
              "\u001b[1;36m2995\u001b[0m    \u001b[1;36m-119.86\u001b[0m     \u001b[1;36m34.42\u001b[0m                \u001b[1;36m23.0\u001b[0m       \u001b[1;36m1450.0\u001b[0m           \u001b[1;36m642.0\u001b[0m   \n",
              "\u001b[1;36m2996\u001b[0m    \u001b[1;36m-118.14\u001b[0m     \u001b[1;36m34.06\u001b[0m                \u001b[1;36m27.0\u001b[0m       \u001b[1;36m5257.0\u001b[0m          \u001b[1;36m1082.0\u001b[0m   \n",
              "\u001b[1;36m2997\u001b[0m    \u001b[1;36m-119.70\u001b[0m     \u001b[1;36m36.30\u001b[0m                \u001b[1;36m10.0\u001b[0m        \u001b[1;36m956.0\u001b[0m           \u001b[1;36m201.0\u001b[0m   \n",
              "\u001b[1;36m2998\u001b[0m    \u001b[1;36m-117.12\u001b[0m     \u001b[1;36m34.10\u001b[0m                \u001b[1;36m40.0\u001b[0m         \u001b[1;36m96.0\u001b[0m            \u001b[1;36m14.0\u001b[0m   \n",
              "\u001b[1;36m2999\u001b[0m    \u001b[1;36m-119.63\u001b[0m     \u001b[1;36m34.42\u001b[0m                \u001b[1;36m42.0\u001b[0m       \u001b[1;36m1765.0\u001b[0m           \u001b[1;36m263.0\u001b[0m   \n",
              "\n",
              "      population  households  median_income  median_house_value  \n",
              "\u001b[1;36m0\u001b[0m         \u001b[1;36m1537.0\u001b[0m       \u001b[1;36m606.0\u001b[0m         \u001b[1;36m6.6085\u001b[0m            \u001b[1;36m344700.0\u001b[0m  \n",
              "\u001b[1;36m1\u001b[0m          \u001b[1;36m809.0\u001b[0m       \u001b[1;36m277.0\u001b[0m         \u001b[1;36m3.5990\u001b[0m            \u001b[1;36m176500.0\u001b[0m  \n",
              "\u001b[1;36m2\u001b[0m         \u001b[1;36m1484.0\u001b[0m       \u001b[1;36m495.0\u001b[0m         \u001b[1;36m5.7934\u001b[0m            \u001b[1;36m270500.0\u001b[0m  \n",
              "\u001b[1;36m3\u001b[0m           \u001b[1;36m49.0\u001b[0m        \u001b[1;36m11.0\u001b[0m         \u001b[1;36m6.1359\u001b[0m            \u001b[1;36m330000.0\u001b[0m  \n",
              "\u001b[1;36m4\u001b[0m          \u001b[1;36m850.0\u001b[0m       \u001b[1;36m237.0\u001b[0m         \u001b[1;36m2.9375\u001b[0m             \u001b[1;36m81700.0\u001b[0m  \n",
              "\u001b[33m...\u001b[0m          \u001b[33m...\u001b[0m         \u001b[33m...\u001b[0m            \u001b[33m...\u001b[0m                 \u001b[33m...\u001b[0m  \n",
              "\u001b[1;36m2995\u001b[0m      \u001b[1;36m1258.0\u001b[0m       \u001b[1;36m607.0\u001b[0m         \u001b[1;36m1.1790\u001b[0m            \u001b[1;36m225000.0\u001b[0m  \n",
              "\u001b[1;36m2996\u001b[0m      \u001b[1;36m3496.0\u001b[0m      \u001b[1;36m1036.0\u001b[0m         \u001b[1;36m3.3906\u001b[0m            \u001b[1;36m237200.0\u001b[0m  \n",
              "\u001b[1;36m2997\u001b[0m       \u001b[1;36m693.0\u001b[0m       \u001b[1;36m220.0\u001b[0m         \u001b[1;36m2.2895\u001b[0m             \u001b[1;36m62000.0\u001b[0m  \n",
              "\u001b[1;36m2998\u001b[0m        \u001b[1;36m46.0\u001b[0m        \u001b[1;36m14.0\u001b[0m         \u001b[1;36m3.2708\u001b[0m            \u001b[1;36m162500.0\u001b[0m  \n",
              "\u001b[1;36m2999\u001b[0m       \u001b[1;36m753.0\u001b[0m       \u001b[1;36m260.0\u001b[0m         \u001b[1;36m8.5608\u001b[0m            \u001b[1;36m500001.0\u001b[0m  \n",
              "\n",
              "\u001b[1m[\u001b[0m\u001b[1;36m3000\u001b[0m rows x \u001b[1;36m9\u001b[0m columns\u001b[1m]\u001b[0m\n"
            ],
            "text/html": [
              "<pre style=\"white-space:pre;overflow-x:auto;line-height:normal;font-family:Menlo,'DejaVu Sans Mono',consolas,'Courier New',monospace\">      longitude  latitude  housing_median_age  total_rooms  total_bedrooms  \\\n",
              "<span style=\"color: #008080; text-decoration-color: #008080; font-weight: bold\">0</span>       <span style=\"color: #008080; text-decoration-color: #008080; font-weight: bold\">-122.05</span>     <span style=\"color: #008080; text-decoration-color: #008080; font-weight: bold\">37.37</span>                <span style=\"color: #008080; text-decoration-color: #008080; font-weight: bold\">27.0</span>       <span style=\"color: #008080; text-decoration-color: #008080; font-weight: bold\">3885.0</span>           <span style=\"color: #008080; text-decoration-color: #008080; font-weight: bold\">661.0</span>   \n",
              "<span style=\"color: #008080; text-decoration-color: #008080; font-weight: bold\">1</span>       <span style=\"color: #008080; text-decoration-color: #008080; font-weight: bold\">-118.30</span>     <span style=\"color: #008080; text-decoration-color: #008080; font-weight: bold\">34.26</span>                <span style=\"color: #008080; text-decoration-color: #008080; font-weight: bold\">43.0</span>       <span style=\"color: #008080; text-decoration-color: #008080; font-weight: bold\">1510.0</span>           <span style=\"color: #008080; text-decoration-color: #008080; font-weight: bold\">310.0</span>   \n",
              "<span style=\"color: #008080; text-decoration-color: #008080; font-weight: bold\">2</span>       <span style=\"color: #008080; text-decoration-color: #008080; font-weight: bold\">-117.81</span>     <span style=\"color: #008080; text-decoration-color: #008080; font-weight: bold\">33.78</span>                <span style=\"color: #008080; text-decoration-color: #008080; font-weight: bold\">27.0</span>       <span style=\"color: #008080; text-decoration-color: #008080; font-weight: bold\">3589.0</span>           <span style=\"color: #008080; text-decoration-color: #008080; font-weight: bold\">507.0</span>   \n",
              "<span style=\"color: #008080; text-decoration-color: #008080; font-weight: bold\">3</span>       <span style=\"color: #008080; text-decoration-color: #008080; font-weight: bold\">-118.36</span>     <span style=\"color: #008080; text-decoration-color: #008080; font-weight: bold\">33.82</span>                <span style=\"color: #008080; text-decoration-color: #008080; font-weight: bold\">28.0</span>         <span style=\"color: #008080; text-decoration-color: #008080; font-weight: bold\">67.0</span>            <span style=\"color: #008080; text-decoration-color: #008080; font-weight: bold\">15.0</span>   \n",
              "<span style=\"color: #008080; text-decoration-color: #008080; font-weight: bold\">4</span>       <span style=\"color: #008080; text-decoration-color: #008080; font-weight: bold\">-119.67</span>     <span style=\"color: #008080; text-decoration-color: #008080; font-weight: bold\">36.33</span>                <span style=\"color: #008080; text-decoration-color: #008080; font-weight: bold\">19.0</span>       <span style=\"color: #008080; text-decoration-color: #008080; font-weight: bold\">1241.0</span>           <span style=\"color: #008080; text-decoration-color: #008080; font-weight: bold\">244.0</span>   \n",
              "<span style=\"color: #808000; text-decoration-color: #808000\">...</span>         <span style=\"color: #808000; text-decoration-color: #808000\">...</span>       <span style=\"color: #808000; text-decoration-color: #808000\">...</span>                 <span style=\"color: #808000; text-decoration-color: #808000\">...</span>          <span style=\"color: #808000; text-decoration-color: #808000\">...</span>             <span style=\"color: #808000; text-decoration-color: #808000\">...</span>   \n",
              "<span style=\"color: #008080; text-decoration-color: #008080; font-weight: bold\">2995</span>    <span style=\"color: #008080; text-decoration-color: #008080; font-weight: bold\">-119.86</span>     <span style=\"color: #008080; text-decoration-color: #008080; font-weight: bold\">34.42</span>                <span style=\"color: #008080; text-decoration-color: #008080; font-weight: bold\">23.0</span>       <span style=\"color: #008080; text-decoration-color: #008080; font-weight: bold\">1450.0</span>           <span style=\"color: #008080; text-decoration-color: #008080; font-weight: bold\">642.0</span>   \n",
              "<span style=\"color: #008080; text-decoration-color: #008080; font-weight: bold\">2996</span>    <span style=\"color: #008080; text-decoration-color: #008080; font-weight: bold\">-118.14</span>     <span style=\"color: #008080; text-decoration-color: #008080; font-weight: bold\">34.06</span>                <span style=\"color: #008080; text-decoration-color: #008080; font-weight: bold\">27.0</span>       <span style=\"color: #008080; text-decoration-color: #008080; font-weight: bold\">5257.0</span>          <span style=\"color: #008080; text-decoration-color: #008080; font-weight: bold\">1082.0</span>   \n",
              "<span style=\"color: #008080; text-decoration-color: #008080; font-weight: bold\">2997</span>    <span style=\"color: #008080; text-decoration-color: #008080; font-weight: bold\">-119.70</span>     <span style=\"color: #008080; text-decoration-color: #008080; font-weight: bold\">36.30</span>                <span style=\"color: #008080; text-decoration-color: #008080; font-weight: bold\">10.0</span>        <span style=\"color: #008080; text-decoration-color: #008080; font-weight: bold\">956.0</span>           <span style=\"color: #008080; text-decoration-color: #008080; font-weight: bold\">201.0</span>   \n",
              "<span style=\"color: #008080; text-decoration-color: #008080; font-weight: bold\">2998</span>    <span style=\"color: #008080; text-decoration-color: #008080; font-weight: bold\">-117.12</span>     <span style=\"color: #008080; text-decoration-color: #008080; font-weight: bold\">34.10</span>                <span style=\"color: #008080; text-decoration-color: #008080; font-weight: bold\">40.0</span>         <span style=\"color: #008080; text-decoration-color: #008080; font-weight: bold\">96.0</span>            <span style=\"color: #008080; text-decoration-color: #008080; font-weight: bold\">14.0</span>   \n",
              "<span style=\"color: #008080; text-decoration-color: #008080; font-weight: bold\">2999</span>    <span style=\"color: #008080; text-decoration-color: #008080; font-weight: bold\">-119.63</span>     <span style=\"color: #008080; text-decoration-color: #008080; font-weight: bold\">34.42</span>                <span style=\"color: #008080; text-decoration-color: #008080; font-weight: bold\">42.0</span>       <span style=\"color: #008080; text-decoration-color: #008080; font-weight: bold\">1765.0</span>           <span style=\"color: #008080; text-decoration-color: #008080; font-weight: bold\">263.0</span>   \n",
              "\n",
              "      population  households  median_income  median_house_value  \n",
              "<span style=\"color: #008080; text-decoration-color: #008080; font-weight: bold\">0</span>         <span style=\"color: #008080; text-decoration-color: #008080; font-weight: bold\">1537.0</span>       <span style=\"color: #008080; text-decoration-color: #008080; font-weight: bold\">606.0</span>         <span style=\"color: #008080; text-decoration-color: #008080; font-weight: bold\">6.6085</span>            <span style=\"color: #008080; text-decoration-color: #008080; font-weight: bold\">344700.0</span>  \n",
              "<span style=\"color: #008080; text-decoration-color: #008080; font-weight: bold\">1</span>          <span style=\"color: #008080; text-decoration-color: #008080; font-weight: bold\">809.0</span>       <span style=\"color: #008080; text-decoration-color: #008080; font-weight: bold\">277.0</span>         <span style=\"color: #008080; text-decoration-color: #008080; font-weight: bold\">3.5990</span>            <span style=\"color: #008080; text-decoration-color: #008080; font-weight: bold\">176500.0</span>  \n",
              "<span style=\"color: #008080; text-decoration-color: #008080; font-weight: bold\">2</span>         <span style=\"color: #008080; text-decoration-color: #008080; font-weight: bold\">1484.0</span>       <span style=\"color: #008080; text-decoration-color: #008080; font-weight: bold\">495.0</span>         <span style=\"color: #008080; text-decoration-color: #008080; font-weight: bold\">5.7934</span>            <span style=\"color: #008080; text-decoration-color: #008080; font-weight: bold\">270500.0</span>  \n",
              "<span style=\"color: #008080; text-decoration-color: #008080; font-weight: bold\">3</span>           <span style=\"color: #008080; text-decoration-color: #008080; font-weight: bold\">49.0</span>        <span style=\"color: #008080; text-decoration-color: #008080; font-weight: bold\">11.0</span>         <span style=\"color: #008080; text-decoration-color: #008080; font-weight: bold\">6.1359</span>            <span style=\"color: #008080; text-decoration-color: #008080; font-weight: bold\">330000.0</span>  \n",
              "<span style=\"color: #008080; text-decoration-color: #008080; font-weight: bold\">4</span>          <span style=\"color: #008080; text-decoration-color: #008080; font-weight: bold\">850.0</span>       <span style=\"color: #008080; text-decoration-color: #008080; font-weight: bold\">237.0</span>         <span style=\"color: #008080; text-decoration-color: #008080; font-weight: bold\">2.9375</span>             <span style=\"color: #008080; text-decoration-color: #008080; font-weight: bold\">81700.0</span>  \n",
              "<span style=\"color: #808000; text-decoration-color: #808000\">...</span>          <span style=\"color: #808000; text-decoration-color: #808000\">...</span>         <span style=\"color: #808000; text-decoration-color: #808000\">...</span>            <span style=\"color: #808000; text-decoration-color: #808000\">...</span>                 <span style=\"color: #808000; text-decoration-color: #808000\">...</span>  \n",
              "<span style=\"color: #008080; text-decoration-color: #008080; font-weight: bold\">2995</span>      <span style=\"color: #008080; text-decoration-color: #008080; font-weight: bold\">1258.0</span>       <span style=\"color: #008080; text-decoration-color: #008080; font-weight: bold\">607.0</span>         <span style=\"color: #008080; text-decoration-color: #008080; font-weight: bold\">1.1790</span>            <span style=\"color: #008080; text-decoration-color: #008080; font-weight: bold\">225000.0</span>  \n",
              "<span style=\"color: #008080; text-decoration-color: #008080; font-weight: bold\">2996</span>      <span style=\"color: #008080; text-decoration-color: #008080; font-weight: bold\">3496.0</span>      <span style=\"color: #008080; text-decoration-color: #008080; font-weight: bold\">1036.0</span>         <span style=\"color: #008080; text-decoration-color: #008080; font-weight: bold\">3.3906</span>            <span style=\"color: #008080; text-decoration-color: #008080; font-weight: bold\">237200.0</span>  \n",
              "<span style=\"color: #008080; text-decoration-color: #008080; font-weight: bold\">2997</span>       <span style=\"color: #008080; text-decoration-color: #008080; font-weight: bold\">693.0</span>       <span style=\"color: #008080; text-decoration-color: #008080; font-weight: bold\">220.0</span>         <span style=\"color: #008080; text-decoration-color: #008080; font-weight: bold\">2.2895</span>             <span style=\"color: #008080; text-decoration-color: #008080; font-weight: bold\">62000.0</span>  \n",
              "<span style=\"color: #008080; text-decoration-color: #008080; font-weight: bold\">2998</span>        <span style=\"color: #008080; text-decoration-color: #008080; font-weight: bold\">46.0</span>        <span style=\"color: #008080; text-decoration-color: #008080; font-weight: bold\">14.0</span>         <span style=\"color: #008080; text-decoration-color: #008080; font-weight: bold\">3.2708</span>            <span style=\"color: #008080; text-decoration-color: #008080; font-weight: bold\">162500.0</span>  \n",
              "<span style=\"color: #008080; text-decoration-color: #008080; font-weight: bold\">2999</span>       <span style=\"color: #008080; text-decoration-color: #008080; font-weight: bold\">753.0</span>       <span style=\"color: #008080; text-decoration-color: #008080; font-weight: bold\">260.0</span>         <span style=\"color: #008080; text-decoration-color: #008080; font-weight: bold\">8.5608</span>            <span style=\"color: #008080; text-decoration-color: #008080; font-weight: bold\">500001.0</span>  \n",
              "\n",
              "<span style=\"font-weight: bold\">[</span><span style=\"color: #008080; text-decoration-color: #008080; font-weight: bold\">3000</span> rows x <span style=\"color: #008080; text-decoration-color: #008080; font-weight: bold\">9</span> columns<span style=\"font-weight: bold\">]</span>\n",
              "</pre>\n"
            ]
          },
          "metadata": {}
        }
      ]
    },
    {
      "cell_type": "code",
      "source": [
        "from google.colab import files\n",
        "\n",
        "# Solicitar al usuario que cargue un archivo\n",
        "console.print(\"Por favor, selecciona un archivo CSV para cargar.\")\n",
        "uploaded = files.upload()\n",
        "\n",
        "# El archivo cargado se almacena en un diccionario\n",
        "# Obtenemos el nombre del primer (y único) archivo cargado\n",
        "file_name = list(uploaded.keys())[0]\n",
        "\n",
        "console.print(f\"[bold]Archivo cargado:[/bold] {file_name}\")\n",
        "\n",
        "df_upload = pd.read_csv(file_name)\n",
        "\n",
        "df_upload"
      ],
      "metadata": {
        "colab": {
          "base_uri": "https://localhost:8080/",
          "height": 622
        },
        "id": "OIdNJKXqq2X0",
        "outputId": "0fa8d772-42cc-45b6-fb40-0c3ba3793887"
      },
      "execution_count": 13,
      "outputs": [
        {
          "output_type": "display_data",
          "data": {
            "text/plain": [
              "Por favor, selecciona un archivo CSV para cargar.\n"
            ],
            "text/html": [
              "<pre style=\"white-space:pre;overflow-x:auto;line-height:normal;font-family:Menlo,'DejaVu Sans Mono',consolas,'Courier New',monospace\">Por favor, selecciona un archivo CSV para cargar.\n",
              "</pre>\n"
            ]
          },
          "metadata": {}
        },
        {
          "output_type": "display_data",
          "data": {
            "text/plain": [
              "<IPython.core.display.HTML object>"
            ],
            "text/html": [
              "\n",
              "     <input type=\"file\" id=\"files-965987b7-3c36-4c57-9fbb-748b8f4d905b\" name=\"files[]\" multiple disabled\n",
              "        style=\"border:none\" />\n",
              "     <output id=\"result-965987b7-3c36-4c57-9fbb-748b8f4d905b\">\n",
              "      Upload widget is only available when the cell has been executed in the\n",
              "      current browser session. Please rerun this cell to enable.\n",
              "      </output>\n",
              "      <script>// Copyright 2017 Google LLC\n",
              "//\n",
              "// Licensed under the Apache License, Version 2.0 (the \"License\");\n",
              "// you may not use this file except in compliance with the License.\n",
              "// You may obtain a copy of the License at\n",
              "//\n",
              "//      http://www.apache.org/licenses/LICENSE-2.0\n",
              "//\n",
              "// Unless required by applicable law or agreed to in writing, software\n",
              "// distributed under the License is distributed on an \"AS IS\" BASIS,\n",
              "// WITHOUT WARRANTIES OR CONDITIONS OF ANY KIND, either express or implied.\n",
              "// See the License for the specific language governing permissions and\n",
              "// limitations under the License.\n",
              "\n",
              "/**\n",
              " * @fileoverview Helpers for google.colab Python module.\n",
              " */\n",
              "(function(scope) {\n",
              "function span(text, styleAttributes = {}) {\n",
              "  const element = document.createElement('span');\n",
              "  element.textContent = text;\n",
              "  for (const key of Object.keys(styleAttributes)) {\n",
              "    element.style[key] = styleAttributes[key];\n",
              "  }\n",
              "  return element;\n",
              "}\n",
              "\n",
              "// Max number of bytes which will be uploaded at a time.\n",
              "const MAX_PAYLOAD_SIZE = 100 * 1024;\n",
              "\n",
              "function _uploadFiles(inputId, outputId) {\n",
              "  const steps = uploadFilesStep(inputId, outputId);\n",
              "  const outputElement = document.getElementById(outputId);\n",
              "  // Cache steps on the outputElement to make it available for the next call\n",
              "  // to uploadFilesContinue from Python.\n",
              "  outputElement.steps = steps;\n",
              "\n",
              "  return _uploadFilesContinue(outputId);\n",
              "}\n",
              "\n",
              "// This is roughly an async generator (not supported in the browser yet),\n",
              "// where there are multiple asynchronous steps and the Python side is going\n",
              "// to poll for completion of each step.\n",
              "// This uses a Promise to block the python side on completion of each step,\n",
              "// then passes the result of the previous step as the input to the next step.\n",
              "function _uploadFilesContinue(outputId) {\n",
              "  const outputElement = document.getElementById(outputId);\n",
              "  const steps = outputElement.steps;\n",
              "\n",
              "  const next = steps.next(outputElement.lastPromiseValue);\n",
              "  return Promise.resolve(next.value.promise).then((value) => {\n",
              "    // Cache the last promise value to make it available to the next\n",
              "    // step of the generator.\n",
              "    outputElement.lastPromiseValue = value;\n",
              "    return next.value.response;\n",
              "  });\n",
              "}\n",
              "\n",
              "/**\n",
              " * Generator function which is called between each async step of the upload\n",
              " * process.\n",
              " * @param {string} inputId Element ID of the input file picker element.\n",
              " * @param {string} outputId Element ID of the output display.\n",
              " * @return {!Iterable<!Object>} Iterable of next steps.\n",
              " */\n",
              "function* uploadFilesStep(inputId, outputId) {\n",
              "  const inputElement = document.getElementById(inputId);\n",
              "  inputElement.disabled = false;\n",
              "\n",
              "  const outputElement = document.getElementById(outputId);\n",
              "  outputElement.innerHTML = '';\n",
              "\n",
              "  const pickedPromise = new Promise((resolve) => {\n",
              "    inputElement.addEventListener('change', (e) => {\n",
              "      resolve(e.target.files);\n",
              "    });\n",
              "  });\n",
              "\n",
              "  const cancel = document.createElement('button');\n",
              "  inputElement.parentElement.appendChild(cancel);\n",
              "  cancel.textContent = 'Cancel upload';\n",
              "  const cancelPromise = new Promise((resolve) => {\n",
              "    cancel.onclick = () => {\n",
              "      resolve(null);\n",
              "    };\n",
              "  });\n",
              "\n",
              "  // Wait for the user to pick the files.\n",
              "  const files = yield {\n",
              "    promise: Promise.race([pickedPromise, cancelPromise]),\n",
              "    response: {\n",
              "      action: 'starting',\n",
              "    }\n",
              "  };\n",
              "\n",
              "  cancel.remove();\n",
              "\n",
              "  // Disable the input element since further picks are not allowed.\n",
              "  inputElement.disabled = true;\n",
              "\n",
              "  if (!files) {\n",
              "    return {\n",
              "      response: {\n",
              "        action: 'complete',\n",
              "      }\n",
              "    };\n",
              "  }\n",
              "\n",
              "  for (const file of files) {\n",
              "    const li = document.createElement('li');\n",
              "    li.append(span(file.name, {fontWeight: 'bold'}));\n",
              "    li.append(span(\n",
              "        `(${file.type || 'n/a'}) - ${file.size} bytes, ` +\n",
              "        `last modified: ${\n",
              "            file.lastModifiedDate ? file.lastModifiedDate.toLocaleDateString() :\n",
              "                                    'n/a'} - `));\n",
              "    const percent = span('0% done');\n",
              "    li.appendChild(percent);\n",
              "\n",
              "    outputElement.appendChild(li);\n",
              "\n",
              "    const fileDataPromise = new Promise((resolve) => {\n",
              "      const reader = new FileReader();\n",
              "      reader.onload = (e) => {\n",
              "        resolve(e.target.result);\n",
              "      };\n",
              "      reader.readAsArrayBuffer(file);\n",
              "    });\n",
              "    // Wait for the data to be ready.\n",
              "    let fileData = yield {\n",
              "      promise: fileDataPromise,\n",
              "      response: {\n",
              "        action: 'continue',\n",
              "      }\n",
              "    };\n",
              "\n",
              "    // Use a chunked sending to avoid message size limits. See b/62115660.\n",
              "    let position = 0;\n",
              "    do {\n",
              "      const length = Math.min(fileData.byteLength - position, MAX_PAYLOAD_SIZE);\n",
              "      const chunk = new Uint8Array(fileData, position, length);\n",
              "      position += length;\n",
              "\n",
              "      const base64 = btoa(String.fromCharCode.apply(null, chunk));\n",
              "      yield {\n",
              "        response: {\n",
              "          action: 'append',\n",
              "          file: file.name,\n",
              "          data: base64,\n",
              "        },\n",
              "      };\n",
              "\n",
              "      let percentDone = fileData.byteLength === 0 ?\n",
              "          100 :\n",
              "          Math.round((position / fileData.byteLength) * 100);\n",
              "      percent.textContent = `${percentDone}% done`;\n",
              "\n",
              "    } while (position < fileData.byteLength);\n",
              "  }\n",
              "\n",
              "  // All done.\n",
              "  yield {\n",
              "    response: {\n",
              "      action: 'complete',\n",
              "    }\n",
              "  };\n",
              "}\n",
              "\n",
              "scope.google = scope.google || {};\n",
              "scope.google.colab = scope.google.colab || {};\n",
              "scope.google.colab._files = {\n",
              "  _uploadFiles,\n",
              "  _uploadFilesContinue,\n",
              "};\n",
              "})(self);\n",
              "</script> "
            ]
          },
          "metadata": {}
        },
        {
          "output_type": "stream",
          "name": "stdout",
          "text": [
            "Saving framingham.csv to framingham.csv\n"
          ]
        },
        {
          "output_type": "display_data",
          "data": {
            "text/plain": [
              "\u001b[1mArchivo cargado:\u001b[0m framingham.csv\n"
            ],
            "text/html": [
              "<pre style=\"white-space:pre;overflow-x:auto;line-height:normal;font-family:Menlo,'DejaVu Sans Mono',consolas,'Courier New',monospace\"><span style=\"font-weight: bold\">Archivo cargado:</span> framingham.csv\n",
              "</pre>\n"
            ]
          },
          "metadata": {}
        },
        {
          "output_type": "execute_result",
          "data": {
            "text/plain": [
              "      male  age  education  currentSmoker  cigsPerDay  BPMeds  \\\n",
              "0        1   39        4.0              0         0.0     0.0   \n",
              "1        0   46        2.0              0         0.0     0.0   \n",
              "2        1   48        1.0              1        20.0     0.0   \n",
              "3        0   61        3.0              1        30.0     0.0   \n",
              "4        0   46        3.0              1        23.0     0.0   \n",
              "...    ...  ...        ...            ...         ...     ...   \n",
              "4235     0   48        2.0              1        20.0     NaN   \n",
              "4236     0   44        1.0              1        15.0     0.0   \n",
              "4237     0   52        2.0              0         0.0     0.0   \n",
              "4238     1   40        3.0              0         0.0     0.0   \n",
              "4239     0   39        3.0              1        30.0     0.0   \n",
              "\n",
              "      prevalentStroke  prevalentHyp  diabetes  totChol  sysBP  diaBP    BMI  \\\n",
              "0                   0             0         0    195.0  106.0   70.0  26.97   \n",
              "1                   0             0         0    250.0  121.0   81.0  28.73   \n",
              "2                   0             0         0    245.0  127.5   80.0  25.34   \n",
              "3                   0             1         0    225.0  150.0   95.0  28.58   \n",
              "4                   0             0         0    285.0  130.0   84.0  23.10   \n",
              "...               ...           ...       ...      ...    ...    ...    ...   \n",
              "4235                0             0         0    248.0  131.0   72.0  22.00   \n",
              "4236                0             0         0    210.0  126.5   87.0  19.16   \n",
              "4237                0             0         0    269.0  133.5   83.0  21.47   \n",
              "4238                0             1         0    185.0  141.0   98.0  25.60   \n",
              "4239                0             0         0    196.0  133.0   86.0  20.91   \n",
              "\n",
              "      heartRate  glucose  TenYearCHD  \n",
              "0          80.0     77.0           0  \n",
              "1          95.0     76.0           0  \n",
              "2          75.0     70.0           0  \n",
              "3          65.0    103.0           1  \n",
              "4          85.0     85.0           0  \n",
              "...         ...      ...         ...  \n",
              "4235       84.0     86.0           0  \n",
              "4236       86.0      NaN           0  \n",
              "4237       80.0    107.0           0  \n",
              "4238       67.0     72.0           0  \n",
              "4239       85.0     80.0           0  \n",
              "\n",
              "[4240 rows x 16 columns]"
            ],
            "text/html": [
              "\n",
              "  <div id=\"df-7f5079cd-9d63-4311-8bd9-ac90d7fb0b8c\" class=\"colab-df-container\">\n",
              "    <div>\n",
              "<style scoped>\n",
              "    .dataframe tbody tr th:only-of-type {\n",
              "        vertical-align: middle;\n",
              "    }\n",
              "\n",
              "    .dataframe tbody tr th {\n",
              "        vertical-align: top;\n",
              "    }\n",
              "\n",
              "    .dataframe thead th {\n",
              "        text-align: right;\n",
              "    }\n",
              "</style>\n",
              "<table border=\"1\" class=\"dataframe\">\n",
              "  <thead>\n",
              "    <tr style=\"text-align: right;\">\n",
              "      <th></th>\n",
              "      <th>male</th>\n",
              "      <th>age</th>\n",
              "      <th>education</th>\n",
              "      <th>currentSmoker</th>\n",
              "      <th>cigsPerDay</th>\n",
              "      <th>BPMeds</th>\n",
              "      <th>prevalentStroke</th>\n",
              "      <th>prevalentHyp</th>\n",
              "      <th>diabetes</th>\n",
              "      <th>totChol</th>\n",
              "      <th>sysBP</th>\n",
              "      <th>diaBP</th>\n",
              "      <th>BMI</th>\n",
              "      <th>heartRate</th>\n",
              "      <th>glucose</th>\n",
              "      <th>TenYearCHD</th>\n",
              "    </tr>\n",
              "  </thead>\n",
              "  <tbody>\n",
              "    <tr>\n",
              "      <th>0</th>\n",
              "      <td>1</td>\n",
              "      <td>39</td>\n",
              "      <td>4.0</td>\n",
              "      <td>0</td>\n",
              "      <td>0.0</td>\n",
              "      <td>0.0</td>\n",
              "      <td>0</td>\n",
              "      <td>0</td>\n",
              "      <td>0</td>\n",
              "      <td>195.0</td>\n",
              "      <td>106.0</td>\n",
              "      <td>70.0</td>\n",
              "      <td>26.97</td>\n",
              "      <td>80.0</td>\n",
              "      <td>77.0</td>\n",
              "      <td>0</td>\n",
              "    </tr>\n",
              "    <tr>\n",
              "      <th>1</th>\n",
              "      <td>0</td>\n",
              "      <td>46</td>\n",
              "      <td>2.0</td>\n",
              "      <td>0</td>\n",
              "      <td>0.0</td>\n",
              "      <td>0.0</td>\n",
              "      <td>0</td>\n",
              "      <td>0</td>\n",
              "      <td>0</td>\n",
              "      <td>250.0</td>\n",
              "      <td>121.0</td>\n",
              "      <td>81.0</td>\n",
              "      <td>28.73</td>\n",
              "      <td>95.0</td>\n",
              "      <td>76.0</td>\n",
              "      <td>0</td>\n",
              "    </tr>\n",
              "    <tr>\n",
              "      <th>2</th>\n",
              "      <td>1</td>\n",
              "      <td>48</td>\n",
              "      <td>1.0</td>\n",
              "      <td>1</td>\n",
              "      <td>20.0</td>\n",
              "      <td>0.0</td>\n",
              "      <td>0</td>\n",
              "      <td>0</td>\n",
              "      <td>0</td>\n",
              "      <td>245.0</td>\n",
              "      <td>127.5</td>\n",
              "      <td>80.0</td>\n",
              "      <td>25.34</td>\n",
              "      <td>75.0</td>\n",
              "      <td>70.0</td>\n",
              "      <td>0</td>\n",
              "    </tr>\n",
              "    <tr>\n",
              "      <th>3</th>\n",
              "      <td>0</td>\n",
              "      <td>61</td>\n",
              "      <td>3.0</td>\n",
              "      <td>1</td>\n",
              "      <td>30.0</td>\n",
              "      <td>0.0</td>\n",
              "      <td>0</td>\n",
              "      <td>1</td>\n",
              "      <td>0</td>\n",
              "      <td>225.0</td>\n",
              "      <td>150.0</td>\n",
              "      <td>95.0</td>\n",
              "      <td>28.58</td>\n",
              "      <td>65.0</td>\n",
              "      <td>103.0</td>\n",
              "      <td>1</td>\n",
              "    </tr>\n",
              "    <tr>\n",
              "      <th>4</th>\n",
              "      <td>0</td>\n",
              "      <td>46</td>\n",
              "      <td>3.0</td>\n",
              "      <td>1</td>\n",
              "      <td>23.0</td>\n",
              "      <td>0.0</td>\n",
              "      <td>0</td>\n",
              "      <td>0</td>\n",
              "      <td>0</td>\n",
              "      <td>285.0</td>\n",
              "      <td>130.0</td>\n",
              "      <td>84.0</td>\n",
              "      <td>23.10</td>\n",
              "      <td>85.0</td>\n",
              "      <td>85.0</td>\n",
              "      <td>0</td>\n",
              "    </tr>\n",
              "    <tr>\n",
              "      <th>...</th>\n",
              "      <td>...</td>\n",
              "      <td>...</td>\n",
              "      <td>...</td>\n",
              "      <td>...</td>\n",
              "      <td>...</td>\n",
              "      <td>...</td>\n",
              "      <td>...</td>\n",
              "      <td>...</td>\n",
              "      <td>...</td>\n",
              "      <td>...</td>\n",
              "      <td>...</td>\n",
              "      <td>...</td>\n",
              "      <td>...</td>\n",
              "      <td>...</td>\n",
              "      <td>...</td>\n",
              "      <td>...</td>\n",
              "    </tr>\n",
              "    <tr>\n",
              "      <th>4235</th>\n",
              "      <td>0</td>\n",
              "      <td>48</td>\n",
              "      <td>2.0</td>\n",
              "      <td>1</td>\n",
              "      <td>20.0</td>\n",
              "      <td>NaN</td>\n",
              "      <td>0</td>\n",
              "      <td>0</td>\n",
              "      <td>0</td>\n",
              "      <td>248.0</td>\n",
              "      <td>131.0</td>\n",
              "      <td>72.0</td>\n",
              "      <td>22.00</td>\n",
              "      <td>84.0</td>\n",
              "      <td>86.0</td>\n",
              "      <td>0</td>\n",
              "    </tr>\n",
              "    <tr>\n",
              "      <th>4236</th>\n",
              "      <td>0</td>\n",
              "      <td>44</td>\n",
              "      <td>1.0</td>\n",
              "      <td>1</td>\n",
              "      <td>15.0</td>\n",
              "      <td>0.0</td>\n",
              "      <td>0</td>\n",
              "      <td>0</td>\n",
              "      <td>0</td>\n",
              "      <td>210.0</td>\n",
              "      <td>126.5</td>\n",
              "      <td>87.0</td>\n",
              "      <td>19.16</td>\n",
              "      <td>86.0</td>\n",
              "      <td>NaN</td>\n",
              "      <td>0</td>\n",
              "    </tr>\n",
              "    <tr>\n",
              "      <th>4237</th>\n",
              "      <td>0</td>\n",
              "      <td>52</td>\n",
              "      <td>2.0</td>\n",
              "      <td>0</td>\n",
              "      <td>0.0</td>\n",
              "      <td>0.0</td>\n",
              "      <td>0</td>\n",
              "      <td>0</td>\n",
              "      <td>0</td>\n",
              "      <td>269.0</td>\n",
              "      <td>133.5</td>\n",
              "      <td>83.0</td>\n",
              "      <td>21.47</td>\n",
              "      <td>80.0</td>\n",
              "      <td>107.0</td>\n",
              "      <td>0</td>\n",
              "    </tr>\n",
              "    <tr>\n",
              "      <th>4238</th>\n",
              "      <td>1</td>\n",
              "      <td>40</td>\n",
              "      <td>3.0</td>\n",
              "      <td>0</td>\n",
              "      <td>0.0</td>\n",
              "      <td>0.0</td>\n",
              "      <td>0</td>\n",
              "      <td>1</td>\n",
              "      <td>0</td>\n",
              "      <td>185.0</td>\n",
              "      <td>141.0</td>\n",
              "      <td>98.0</td>\n",
              "      <td>25.60</td>\n",
              "      <td>67.0</td>\n",
              "      <td>72.0</td>\n",
              "      <td>0</td>\n",
              "    </tr>\n",
              "    <tr>\n",
              "      <th>4239</th>\n",
              "      <td>0</td>\n",
              "      <td>39</td>\n",
              "      <td>3.0</td>\n",
              "      <td>1</td>\n",
              "      <td>30.0</td>\n",
              "      <td>0.0</td>\n",
              "      <td>0</td>\n",
              "      <td>0</td>\n",
              "      <td>0</td>\n",
              "      <td>196.0</td>\n",
              "      <td>133.0</td>\n",
              "      <td>86.0</td>\n",
              "      <td>20.91</td>\n",
              "      <td>85.0</td>\n",
              "      <td>80.0</td>\n",
              "      <td>0</td>\n",
              "    </tr>\n",
              "  </tbody>\n",
              "</table>\n",
              "<p>4240 rows × 16 columns</p>\n",
              "</div>\n",
              "    <div class=\"colab-df-buttons\">\n",
              "\n",
              "  <div class=\"colab-df-container\">\n",
              "    <button class=\"colab-df-convert\" onclick=\"convertToInteractive('df-7f5079cd-9d63-4311-8bd9-ac90d7fb0b8c')\"\n",
              "            title=\"Convert this dataframe to an interactive table.\"\n",
              "            style=\"display:none;\">\n",
              "\n",
              "  <svg xmlns=\"http://www.w3.org/2000/svg\" height=\"24px\" viewBox=\"0 -960 960 960\">\n",
              "    <path d=\"M120-120v-720h720v720H120Zm60-500h600v-160H180v160Zm220 220h160v-160H400v160Zm0 220h160v-160H400v160ZM180-400h160v-160H180v160Zm440 0h160v-160H620v160ZM180-180h160v-160H180v160Zm440 0h160v-160H620v160Z\"/>\n",
              "  </svg>\n",
              "    </button>\n",
              "\n",
              "  <style>\n",
              "    .colab-df-container {\n",
              "      display:flex;\n",
              "      gap: 12px;\n",
              "    }\n",
              "\n",
              "    .colab-df-convert {\n",
              "      background-color: #E8F0FE;\n",
              "      border: none;\n",
              "      border-radius: 50%;\n",
              "      cursor: pointer;\n",
              "      display: none;\n",
              "      fill: #1967D2;\n",
              "      height: 32px;\n",
              "      padding: 0 0 0 0;\n",
              "      width: 32px;\n",
              "    }\n",
              "\n",
              "    .colab-df-convert:hover {\n",
              "      background-color: #E2EBFA;\n",
              "      box-shadow: 0px 1px 2px rgba(60, 64, 67, 0.3), 0px 1px 3px 1px rgba(60, 64, 67, 0.15);\n",
              "      fill: #174EA6;\n",
              "    }\n",
              "\n",
              "    .colab-df-buttons div {\n",
              "      margin-bottom: 4px;\n",
              "    }\n",
              "\n",
              "    [theme=dark] .colab-df-convert {\n",
              "      background-color: #3B4455;\n",
              "      fill: #D2E3FC;\n",
              "    }\n",
              "\n",
              "    [theme=dark] .colab-df-convert:hover {\n",
              "      background-color: #434B5C;\n",
              "      box-shadow: 0px 1px 3px 1px rgba(0, 0, 0, 0.15);\n",
              "      filter: drop-shadow(0px 1px 2px rgba(0, 0, 0, 0.3));\n",
              "      fill: #FFFFFF;\n",
              "    }\n",
              "  </style>\n",
              "\n",
              "    <script>\n",
              "      const buttonEl =\n",
              "        document.querySelector('#df-7f5079cd-9d63-4311-8bd9-ac90d7fb0b8c button.colab-df-convert');\n",
              "      buttonEl.style.display =\n",
              "        google.colab.kernel.accessAllowed ? 'block' : 'none';\n",
              "\n",
              "      async function convertToInteractive(key) {\n",
              "        const element = document.querySelector('#df-7f5079cd-9d63-4311-8bd9-ac90d7fb0b8c');\n",
              "        const dataTable =\n",
              "          await google.colab.kernel.invokeFunction('convertToInteractive',\n",
              "                                                    [key], {});\n",
              "        if (!dataTable) return;\n",
              "\n",
              "        const docLinkHtml = 'Like what you see? Visit the ' +\n",
              "          '<a target=\"_blank\" href=https://colab.research.google.com/notebooks/data_table.ipynb>data table notebook</a>'\n",
              "          + ' to learn more about interactive tables.';\n",
              "        element.innerHTML = '';\n",
              "        dataTable['output_type'] = 'display_data';\n",
              "        await google.colab.output.renderOutput(dataTable, element);\n",
              "        const docLink = document.createElement('div');\n",
              "        docLink.innerHTML = docLinkHtml;\n",
              "        element.appendChild(docLink);\n",
              "      }\n",
              "    </script>\n",
              "  </div>\n",
              "\n",
              "\n",
              "<div id=\"df-9ac2deda-db76-4707-9405-8dd302217c6e\">\n",
              "  <button class=\"colab-df-quickchart\" onclick=\"quickchart('df-9ac2deda-db76-4707-9405-8dd302217c6e')\"\n",
              "            title=\"Suggest charts\"\n",
              "            style=\"display:none;\">\n",
              "\n",
              "<svg xmlns=\"http://www.w3.org/2000/svg\" height=\"24px\"viewBox=\"0 0 24 24\"\n",
              "     width=\"24px\">\n",
              "    <g>\n",
              "        <path d=\"M19 3H5c-1.1 0-2 .9-2 2v14c0 1.1.9 2 2 2h14c1.1 0 2-.9 2-2V5c0-1.1-.9-2-2-2zM9 17H7v-7h2v7zm4 0h-2V7h2v10zm4 0h-2v-4h2v4z\"/>\n",
              "    </g>\n",
              "</svg>\n",
              "  </button>\n",
              "\n",
              "<style>\n",
              "  .colab-df-quickchart {\n",
              "      --bg-color: #E8F0FE;\n",
              "      --fill-color: #1967D2;\n",
              "      --hover-bg-color: #E2EBFA;\n",
              "      --hover-fill-color: #174EA6;\n",
              "      --disabled-fill-color: #AAA;\n",
              "      --disabled-bg-color: #DDD;\n",
              "  }\n",
              "\n",
              "  [theme=dark] .colab-df-quickchart {\n",
              "      --bg-color: #3B4455;\n",
              "      --fill-color: #D2E3FC;\n",
              "      --hover-bg-color: #434B5C;\n",
              "      --hover-fill-color: #FFFFFF;\n",
              "      --disabled-bg-color: #3B4455;\n",
              "      --disabled-fill-color: #666;\n",
              "  }\n",
              "\n",
              "  .colab-df-quickchart {\n",
              "    background-color: var(--bg-color);\n",
              "    border: none;\n",
              "    border-radius: 50%;\n",
              "    cursor: pointer;\n",
              "    display: none;\n",
              "    fill: var(--fill-color);\n",
              "    height: 32px;\n",
              "    padding: 0;\n",
              "    width: 32px;\n",
              "  }\n",
              "\n",
              "  .colab-df-quickchart:hover {\n",
              "    background-color: var(--hover-bg-color);\n",
              "    box-shadow: 0 1px 2px rgba(60, 64, 67, 0.3), 0 1px 3px 1px rgba(60, 64, 67, 0.15);\n",
              "    fill: var(--button-hover-fill-color);\n",
              "  }\n",
              "\n",
              "  .colab-df-quickchart-complete:disabled,\n",
              "  .colab-df-quickchart-complete:disabled:hover {\n",
              "    background-color: var(--disabled-bg-color);\n",
              "    fill: var(--disabled-fill-color);\n",
              "    box-shadow: none;\n",
              "  }\n",
              "\n",
              "  .colab-df-spinner {\n",
              "    border: 2px solid var(--fill-color);\n",
              "    border-color: transparent;\n",
              "    border-bottom-color: var(--fill-color);\n",
              "    animation:\n",
              "      spin 1s steps(1) infinite;\n",
              "  }\n",
              "\n",
              "  @keyframes spin {\n",
              "    0% {\n",
              "      border-color: transparent;\n",
              "      border-bottom-color: var(--fill-color);\n",
              "      border-left-color: var(--fill-color);\n",
              "    }\n",
              "    20% {\n",
              "      border-color: transparent;\n",
              "      border-left-color: var(--fill-color);\n",
              "      border-top-color: var(--fill-color);\n",
              "    }\n",
              "    30% {\n",
              "      border-color: transparent;\n",
              "      border-left-color: var(--fill-color);\n",
              "      border-top-color: var(--fill-color);\n",
              "      border-right-color: var(--fill-color);\n",
              "    }\n",
              "    40% {\n",
              "      border-color: transparent;\n",
              "      border-right-color: var(--fill-color);\n",
              "      border-top-color: var(--fill-color);\n",
              "    }\n",
              "    60% {\n",
              "      border-color: transparent;\n",
              "      border-right-color: var(--fill-color);\n",
              "    }\n",
              "    80% {\n",
              "      border-color: transparent;\n",
              "      border-right-color: var(--fill-color);\n",
              "      border-bottom-color: var(--fill-color);\n",
              "    }\n",
              "    90% {\n",
              "      border-color: transparent;\n",
              "      border-bottom-color: var(--fill-color);\n",
              "    }\n",
              "  }\n",
              "</style>\n",
              "\n",
              "  <script>\n",
              "    async function quickchart(key) {\n",
              "      const quickchartButtonEl =\n",
              "        document.querySelector('#' + key + ' button');\n",
              "      quickchartButtonEl.disabled = true;  // To prevent multiple clicks.\n",
              "      quickchartButtonEl.classList.add('colab-df-spinner');\n",
              "      try {\n",
              "        const charts = await google.colab.kernel.invokeFunction(\n",
              "            'suggestCharts', [key], {});\n",
              "      } catch (error) {\n",
              "        console.error('Error during call to suggestCharts:', error);\n",
              "      }\n",
              "      quickchartButtonEl.classList.remove('colab-df-spinner');\n",
              "      quickchartButtonEl.classList.add('colab-df-quickchart-complete');\n",
              "    }\n",
              "    (() => {\n",
              "      let quickchartButtonEl =\n",
              "        document.querySelector('#df-9ac2deda-db76-4707-9405-8dd302217c6e button');\n",
              "      quickchartButtonEl.style.display =\n",
              "        google.colab.kernel.accessAllowed ? 'block' : 'none';\n",
              "    })();\n",
              "  </script>\n",
              "</div>\n",
              "\n",
              "  <div id=\"id_ed272c50-446a-409a-8baf-6492c6abf56f\">\n",
              "    <style>\n",
              "      .colab-df-generate {\n",
              "        background-color: #E8F0FE;\n",
              "        border: none;\n",
              "        border-radius: 50%;\n",
              "        cursor: pointer;\n",
              "        display: none;\n",
              "        fill: #1967D2;\n",
              "        height: 32px;\n",
              "        padding: 0 0 0 0;\n",
              "        width: 32px;\n",
              "      }\n",
              "\n",
              "      .colab-df-generate:hover {\n",
              "        background-color: #E2EBFA;\n",
              "        box-shadow: 0px 1px 2px rgba(60, 64, 67, 0.3), 0px 1px 3px 1px rgba(60, 64, 67, 0.15);\n",
              "        fill: #174EA6;\n",
              "      }\n",
              "\n",
              "      [theme=dark] .colab-df-generate {\n",
              "        background-color: #3B4455;\n",
              "        fill: #D2E3FC;\n",
              "      }\n",
              "\n",
              "      [theme=dark] .colab-df-generate:hover {\n",
              "        background-color: #434B5C;\n",
              "        box-shadow: 0px 1px 3px 1px rgba(0, 0, 0, 0.15);\n",
              "        filter: drop-shadow(0px 1px 2px rgba(0, 0, 0, 0.3));\n",
              "        fill: #FFFFFF;\n",
              "      }\n",
              "    </style>\n",
              "    <button class=\"colab-df-generate\" onclick=\"generateWithVariable('df_upload')\"\n",
              "            title=\"Generate code using this dataframe.\"\n",
              "            style=\"display:none;\">\n",
              "\n",
              "  <svg xmlns=\"http://www.w3.org/2000/svg\" height=\"24px\"viewBox=\"0 0 24 24\"\n",
              "       width=\"24px\">\n",
              "    <path d=\"M7,19H8.4L18.45,9,17,7.55,7,17.6ZM5,21V16.75L18.45,3.32a2,2,0,0,1,2.83,0l1.4,1.43a1.91,1.91,0,0,1,.58,1.4,1.91,1.91,0,0,1-.58,1.4L9.25,21ZM18.45,9,17,7.55Zm-12,3A5.31,5.31,0,0,0,4.9,8.1,5.31,5.31,0,0,0,1,6.5,5.31,5.31,0,0,0,4.9,4.9,5.31,5.31,0,0,0,6.5,1,5.31,5.31,0,0,0,8.1,4.9,5.31,5.31,0,0,0,12,6.5,5.46,5.46,0,0,0,6.5,12Z\"/>\n",
              "  </svg>\n",
              "    </button>\n",
              "    <script>\n",
              "      (() => {\n",
              "      const buttonEl =\n",
              "        document.querySelector('#id_ed272c50-446a-409a-8baf-6492c6abf56f button.colab-df-generate');\n",
              "      buttonEl.style.display =\n",
              "        google.colab.kernel.accessAllowed ? 'block' : 'none';\n",
              "\n",
              "      buttonEl.onclick = () => {\n",
              "        google.colab.notebook.generateWithVariable('df_upload');\n",
              "      }\n",
              "      })();\n",
              "    </script>\n",
              "  </div>\n",
              "\n",
              "    </div>\n",
              "  </div>\n"
            ],
            "application/vnd.google.colaboratory.intrinsic+json": {
              "type": "dataframe",
              "variable_name": "df_upload",
              "summary": "{\n  \"name\": \"df_upload\",\n  \"rows\": 4240,\n  \"fields\": [\n    {\n      \"column\": \"male\",\n      \"properties\": {\n        \"dtype\": \"number\",\n        \"std\": 0,\n        \"min\": 0,\n        \"max\": 1,\n        \"num_unique_values\": 2,\n        \"samples\": [\n          0,\n          1\n        ],\n        \"semantic_type\": \"\",\n        \"description\": \"\"\n      }\n    },\n    {\n      \"column\": \"age\",\n      \"properties\": {\n        \"dtype\": \"number\",\n        \"std\": 8,\n        \"min\": 32,\n        \"max\": 70,\n        \"num_unique_values\": 39,\n        \"samples\": [\n          34,\n          70\n        ],\n        \"semantic_type\": \"\",\n        \"description\": \"\"\n      }\n    },\n    {\n      \"column\": \"education\",\n      \"properties\": {\n        \"dtype\": \"number\",\n        \"std\": 1.0197911793650105,\n        \"min\": 1.0,\n        \"max\": 4.0,\n        \"num_unique_values\": 4,\n        \"samples\": [\n          2.0,\n          3.0\n        ],\n        \"semantic_type\": \"\",\n        \"description\": \"\"\n      }\n    },\n    {\n      \"column\": \"currentSmoker\",\n      \"properties\": {\n        \"dtype\": \"number\",\n        \"std\": 0,\n        \"min\": 0,\n        \"max\": 1,\n        \"num_unique_values\": 2,\n        \"samples\": [\n          1,\n          0\n        ],\n        \"semantic_type\": \"\",\n        \"description\": \"\"\n      }\n    },\n    {\n      \"column\": \"cigsPerDay\",\n      \"properties\": {\n        \"dtype\": \"number\",\n        \"std\": 11.922461800609083,\n        \"min\": 0.0,\n        \"max\": 70.0,\n        \"num_unique_values\": 33,\n        \"samples\": [\n          19.0,\n          4.0\n        ],\n        \"semantic_type\": \"\",\n        \"description\": \"\"\n      }\n    },\n    {\n      \"column\": \"BPMeds\",\n      \"properties\": {\n        \"dtype\": \"number\",\n        \"std\": 0.16954428739626196,\n        \"min\": 0.0,\n        \"max\": 1.0,\n        \"num_unique_values\": 2,\n        \"samples\": [\n          1.0,\n          0.0\n        ],\n        \"semantic_type\": \"\",\n        \"description\": \"\"\n      }\n    },\n    {\n      \"column\": \"prevalentStroke\",\n      \"properties\": {\n        \"dtype\": \"number\",\n        \"std\": 0,\n        \"min\": 0,\n        \"max\": 1,\n        \"num_unique_values\": 2,\n        \"samples\": [\n          1,\n          0\n        ],\n        \"semantic_type\": \"\",\n        \"description\": \"\"\n      }\n    },\n    {\n      \"column\": \"prevalentHyp\",\n      \"properties\": {\n        \"dtype\": \"number\",\n        \"std\": 0,\n        \"min\": 0,\n        \"max\": 1,\n        \"num_unique_values\": 2,\n        \"samples\": [\n          1,\n          0\n        ],\n        \"semantic_type\": \"\",\n        \"description\": \"\"\n      }\n    },\n    {\n      \"column\": \"diabetes\",\n      \"properties\": {\n        \"dtype\": \"number\",\n        \"std\": 0,\n        \"min\": 0,\n        \"max\": 1,\n        \"num_unique_values\": 2,\n        \"samples\": [\n          1,\n          0\n        ],\n        \"semantic_type\": \"\",\n        \"description\": \"\"\n      }\n    },\n    {\n      \"column\": \"totChol\",\n      \"properties\": {\n        \"dtype\": \"number\",\n        \"std\": 44.59128386860701,\n        \"min\": 107.0,\n        \"max\": 696.0,\n        \"num_unique_values\": 248,\n        \"samples\": [\n          311.0,\n          205.0\n        ],\n        \"semantic_type\": \"\",\n        \"description\": \"\"\n      }\n    },\n    {\n      \"column\": \"sysBP\",\n      \"properties\": {\n        \"dtype\": \"number\",\n        \"std\": 22.033299608849184,\n        \"min\": 83.5,\n        \"max\": 295.0,\n        \"num_unique_values\": 234,\n        \"samples\": [\n          109.0,\n          184.5\n        ],\n        \"semantic_type\": \"\",\n        \"description\": \"\"\n      }\n    },\n    {\n      \"column\": \"diaBP\",\n      \"properties\": {\n        \"dtype\": \"number\",\n        \"std\": 11.91039448330595,\n        \"min\": 48.0,\n        \"max\": 142.5,\n        \"num_unique_values\": 146,\n        \"samples\": [\n          106.0,\n          108.5\n        ],\n        \"semantic_type\": \"\",\n        \"description\": \"\"\n      }\n    },\n    {\n      \"column\": \"BMI\",\n      \"properties\": {\n        \"dtype\": \"number\",\n        \"std\": 4.079840168944382,\n        \"min\": 15.54,\n        \"max\": 56.8,\n        \"num_unique_values\": 1364,\n        \"samples\": [\n          24.56,\n          19.87\n        ],\n        \"semantic_type\": \"\",\n        \"description\": \"\"\n      }\n    },\n    {\n      \"column\": \"heartRate\",\n      \"properties\": {\n        \"dtype\": \"number\",\n        \"std\": 12.025347984469386,\n        \"min\": 44.0,\n        \"max\": 143.0,\n        \"num_unique_values\": 73,\n        \"samples\": [\n          85.0,\n          47.0\n        ],\n        \"semantic_type\": \"\",\n        \"description\": \"\"\n      }\n    },\n    {\n      \"column\": \"glucose\",\n      \"properties\": {\n        \"dtype\": \"number\",\n        \"std\": 23.954334811344744,\n        \"min\": 40.0,\n        \"max\": 394.0,\n        \"num_unique_values\": 143,\n        \"samples\": [\n          394.0,\n          74.0\n        ],\n        \"semantic_type\": \"\",\n        \"description\": \"\"\n      }\n    },\n    {\n      \"column\": \"TenYearCHD\",\n      \"properties\": {\n        \"dtype\": \"number\",\n        \"std\": 0,\n        \"min\": 0,\n        \"max\": 1,\n        \"num_unique_values\": 2,\n        \"samples\": [\n          1,\n          0\n        ],\n        \"semantic_type\": \"\",\n        \"description\": \"\"\n      }\n    }\n  ]\n}"
            }
          },
          "metadata": {},
          "execution_count": 13
        }
      ]
    },
    {
      "cell_type": "code",
      "source": [
        "print(\"Primeras filas del DataFrame cargado desde CSV:\")\n",
        "print(df.tail(10))"
      ],
      "metadata": {
        "colab": {
          "base_uri": "https://localhost:8080/"
        },
        "id": "shSyKhYWxPzd",
        "outputId": "b4c0280f-078c-4023-e011-461a388537e7"
      },
      "execution_count": null,
      "outputs": [
        {
          "output_type": "stream",
          "name": "stdout",
          "text": [
            "      longitude  latitude  housing_median_age  total_rooms  total_bedrooms  \\\n",
            "2990    -118.23     34.09                49.0       1638.0           456.0   \n",
            "2991    -117.17     34.28                13.0       4867.0           718.0   \n",
            "2992    -122.33     37.39                52.0        573.0           102.0   \n",
            "2993    -117.91     33.60                37.0       2088.0           510.0   \n",
            "2994    -117.93     33.86                35.0        931.0           181.0   \n",
            "2995    -119.86     34.42                23.0       1450.0           642.0   \n",
            "2996    -118.14     34.06                27.0       5257.0          1082.0   \n",
            "2997    -119.70     36.30                10.0        956.0           201.0   \n",
            "2998    -117.12     34.10                40.0         96.0            14.0   \n",
            "2999    -119.63     34.42                42.0       1765.0           263.0   \n",
            "\n",
            "      population  households  median_income  median_house_value  \n",
            "2990      1500.0       430.0         2.6923            150000.0  \n",
            "2991       780.0       250.0         7.1997            253800.0  \n",
            "2992       232.0        92.0         6.2263            500001.0  \n",
            "2993       673.0       390.0         5.1048            500001.0  \n",
            "2994       516.0       174.0         5.5867            182500.0  \n",
            "2995      1258.0       607.0         1.1790            225000.0  \n",
            "2996      3496.0      1036.0         3.3906            237200.0  \n",
            "2997       693.0       220.0         2.2895             62000.0  \n",
            "2998        46.0        14.0         3.2708            162500.0  \n",
            "2999       753.0       260.0         8.5608            500001.0  \n"
          ]
        }
      ]
    },
    {
      "cell_type": "code",
      "source": [
        "print(\"\\nInformación del DataFrame:\")\n",
        "print(df.info())"
      ],
      "metadata": {
        "colab": {
          "base_uri": "https://localhost:8080/"
        },
        "id": "tN-GXp9Yxfzw",
        "outputId": "ac6bb2f8-a823-4ac3-df25-1818a40eaa79"
      },
      "execution_count": null,
      "outputs": [
        {
          "output_type": "stream",
          "name": "stdout",
          "text": [
            "<class 'pandas.core.frame.DataFrame'>\n",
            "RangeIndex: 3000 entries, 0 to 2999\n",
            "Data columns (total 9 columns):\n",
            " #   Column              Non-Null Count  Dtype  \n",
            "---  ------              --------------  -----  \n",
            " 0   longitude           3000 non-null   float64\n",
            " 1   latitude            3000 non-null   float64\n",
            " 2   housing_median_age  3000 non-null   float64\n",
            " 3   total_rooms         3000 non-null   float64\n",
            " 4   total_bedrooms      3000 non-null   float64\n",
            " 5   population          3000 non-null   float64\n",
            " 6   households          3000 non-null   float64\n",
            " 7   median_income       3000 non-null   float64\n",
            " 8   median_house_value  3000 non-null   float64\n",
            "dtypes: float64(9)\n",
            "memory usage: 211.1 KB\n",
            "None\n"
          ]
        }
      ]
    },
    {
      "cell_type": "code",
      "source": [
        "# Función para imprimir código con resaltado de sintaxis\n",
        "def print_code(code, language=\"python\"):\n",
        "    syntax = Syntax(code, language, theme=\"monokai\", line_numbers=True)\n",
        "    console.print(syntax)\n",
        "\n",
        "# Carga de CSV\n",
        "console.print(Panel(\"Carga de archivo CSV\", style=\"cyan\"))\n",
        "csv_file = '/content/sample_data/california_housing_test.csv'\n",
        "print_code(f\"df_csv = pd.read_csv('{csv_file}')\")\n",
        "df_csv = pd.read_csv(csv_file)\n",
        "console.print(df_csv.head())"
      ],
      "metadata": {
        "colab": {
          "base_uri": "https://localhost:8080/",
          "height": 372
        },
        "id": "uRV_SNJirISh",
        "outputId": "a5b4d86c-7230-4f83-a67d-353486487577"
      },
      "execution_count": 14,
      "outputs": [
        {
          "output_type": "display_data",
          "data": {
            "text/plain": [
              "\u001b[36m╭─────────────────────────────────────────────────────────────────────────────────────────────────────────────────╮\u001b[0m\n",
              "\u001b[36m│\u001b[0m\u001b[36m \u001b[0m\u001b[36mCarga de archivo CSV\u001b[0m\u001b[36m                                                                                           \u001b[0m\u001b[36m \u001b[0m\u001b[36m│\u001b[0m\n",
              "\u001b[36m╰─────────────────────────────────────────────────────────────────────────────────────────────────────────────────╯\u001b[0m\n"
            ],
            "text/html": [
              "<pre style=\"white-space:pre;overflow-x:auto;line-height:normal;font-family:Menlo,'DejaVu Sans Mono',consolas,'Courier New',monospace\"><span style=\"color: #008080; text-decoration-color: #008080\">╭─────────────────────────────────────────────────────────────────────────────────────────────────────────────────╮</span>\n",
              "<span style=\"color: #008080; text-decoration-color: #008080\">│ Carga de archivo CSV                                                                                            │</span>\n",
              "<span style=\"color: #008080; text-decoration-color: #008080\">╰─────────────────────────────────────────────────────────────────────────────────────────────────────────────────╯</span>\n",
              "</pre>\n"
            ]
          },
          "metadata": {}
        },
        {
          "output_type": "display_data",
          "data": {
            "text/plain": [
              "\u001b[1;38;2;227;227;221;48;2;39;40;34m  \u001b[0m\u001b[38;2;101;102;96;48;2;39;40;34m1 \u001b[0m\u001b[38;2;248;248;242;48;2;39;40;34mdf_csv\u001b[0m\u001b[38;2;248;248;242;48;2;39;40;34m \u001b[0m\u001b[38;2;255;70;137;48;2;39;40;34m=\u001b[0m\u001b[38;2;248;248;242;48;2;39;40;34m \u001b[0m\u001b[38;2;248;248;242;48;2;39;40;34mpd\u001b[0m\u001b[38;2;255;70;137;48;2;39;40;34m.\u001b[0m\u001b[38;2;248;248;242;48;2;39;40;34mread_csv\u001b[0m\u001b[38;2;248;248;242;48;2;39;40;34m(\u001b[0m\u001b[38;2;230;219;116;48;2;39;40;34m'\u001b[0m\u001b[38;2;230;219;116;48;2;39;40;34m/content/sample_data/california_housing_test.csv\u001b[0m\u001b[38;2;230;219;116;48;2;39;40;34m'\u001b[0m\u001b[38;2;248;248;242;48;2;39;40;34m)\u001b[0m\u001b[48;2;39;40;34m                                       \u001b[0m\n"
            ],
            "text/html": [
              "<pre style=\"white-space:pre;overflow-x:auto;line-height:normal;font-family:Menlo,'DejaVu Sans Mono',consolas,'Courier New',monospace\"><span style=\"color: #e3e3dd; text-decoration-color: #e3e3dd; background-color: #272822; font-weight: bold\">  </span><span style=\"color: #656660; text-decoration-color: #656660; background-color: #272822\">1 </span><span style=\"color: #f8f8f2; text-decoration-color: #f8f8f2; background-color: #272822\">df_csv </span><span style=\"color: #ff4689; text-decoration-color: #ff4689; background-color: #272822\">=</span><span style=\"color: #f8f8f2; text-decoration-color: #f8f8f2; background-color: #272822\"> pd</span><span style=\"color: #ff4689; text-decoration-color: #ff4689; background-color: #272822\">.</span><span style=\"color: #f8f8f2; text-decoration-color: #f8f8f2; background-color: #272822\">read_csv(</span><span style=\"color: #e6db74; text-decoration-color: #e6db74; background-color: #272822\">'/content/sample_data/california_housing_test.csv'</span><span style=\"color: #f8f8f2; text-decoration-color: #f8f8f2; background-color: #272822\">)</span><span style=\"background-color: #272822\">                                       </span>\n",
              "</pre>\n"
            ]
          },
          "metadata": {}
        },
        {
          "output_type": "display_data",
          "data": {
            "text/plain": [
              "   longitude  latitude  housing_median_age  total_rooms  total_bedrooms  \\\n",
              "\u001b[1;36m0\u001b[0m    \u001b[1;36m-122.05\u001b[0m     \u001b[1;36m37.37\u001b[0m                \u001b[1;36m27.0\u001b[0m       \u001b[1;36m3885.0\u001b[0m           \u001b[1;36m661.0\u001b[0m   \n",
              "\u001b[1;36m1\u001b[0m    \u001b[1;36m-118.30\u001b[0m     \u001b[1;36m34.26\u001b[0m                \u001b[1;36m43.0\u001b[0m       \u001b[1;36m1510.0\u001b[0m           \u001b[1;36m310.0\u001b[0m   \n",
              "\u001b[1;36m2\u001b[0m    \u001b[1;36m-117.81\u001b[0m     \u001b[1;36m33.78\u001b[0m                \u001b[1;36m27.0\u001b[0m       \u001b[1;36m3589.0\u001b[0m           \u001b[1;36m507.0\u001b[0m   \n",
              "\u001b[1;36m3\u001b[0m    \u001b[1;36m-118.36\u001b[0m     \u001b[1;36m33.82\u001b[0m                \u001b[1;36m28.0\u001b[0m         \u001b[1;36m67.0\u001b[0m            \u001b[1;36m15.0\u001b[0m   \n",
              "\u001b[1;36m4\u001b[0m    \u001b[1;36m-119.67\u001b[0m     \u001b[1;36m36.33\u001b[0m                \u001b[1;36m19.0\u001b[0m       \u001b[1;36m1241.0\u001b[0m           \u001b[1;36m244.0\u001b[0m   \n",
              "\n",
              "   population  households  median_income  median_house_value  \n",
              "\u001b[1;36m0\u001b[0m      \u001b[1;36m1537.0\u001b[0m       \u001b[1;36m606.0\u001b[0m         \u001b[1;36m6.6085\u001b[0m            \u001b[1;36m344700.0\u001b[0m  \n",
              "\u001b[1;36m1\u001b[0m       \u001b[1;36m809.0\u001b[0m       \u001b[1;36m277.0\u001b[0m         \u001b[1;36m3.5990\u001b[0m            \u001b[1;36m176500.0\u001b[0m  \n",
              "\u001b[1;36m2\u001b[0m      \u001b[1;36m1484.0\u001b[0m       \u001b[1;36m495.0\u001b[0m         \u001b[1;36m5.7934\u001b[0m            \u001b[1;36m270500.0\u001b[0m  \n",
              "\u001b[1;36m3\u001b[0m        \u001b[1;36m49.0\u001b[0m        \u001b[1;36m11.0\u001b[0m         \u001b[1;36m6.1359\u001b[0m            \u001b[1;36m330000.0\u001b[0m  \n",
              "\u001b[1;36m4\u001b[0m       \u001b[1;36m850.0\u001b[0m       \u001b[1;36m237.0\u001b[0m         \u001b[1;36m2.9375\u001b[0m             \u001b[1;36m81700.0\u001b[0m  \n"
            ],
            "text/html": [
              "<pre style=\"white-space:pre;overflow-x:auto;line-height:normal;font-family:Menlo,'DejaVu Sans Mono',consolas,'Courier New',monospace\">   longitude  latitude  housing_median_age  total_rooms  total_bedrooms  \\\n",
              "<span style=\"color: #008080; text-decoration-color: #008080; font-weight: bold\">0</span>    <span style=\"color: #008080; text-decoration-color: #008080; font-weight: bold\">-122.05</span>     <span style=\"color: #008080; text-decoration-color: #008080; font-weight: bold\">37.37</span>                <span style=\"color: #008080; text-decoration-color: #008080; font-weight: bold\">27.0</span>       <span style=\"color: #008080; text-decoration-color: #008080; font-weight: bold\">3885.0</span>           <span style=\"color: #008080; text-decoration-color: #008080; font-weight: bold\">661.0</span>   \n",
              "<span style=\"color: #008080; text-decoration-color: #008080; font-weight: bold\">1</span>    <span style=\"color: #008080; text-decoration-color: #008080; font-weight: bold\">-118.30</span>     <span style=\"color: #008080; text-decoration-color: #008080; font-weight: bold\">34.26</span>                <span style=\"color: #008080; text-decoration-color: #008080; font-weight: bold\">43.0</span>       <span style=\"color: #008080; text-decoration-color: #008080; font-weight: bold\">1510.0</span>           <span style=\"color: #008080; text-decoration-color: #008080; font-weight: bold\">310.0</span>   \n",
              "<span style=\"color: #008080; text-decoration-color: #008080; font-weight: bold\">2</span>    <span style=\"color: #008080; text-decoration-color: #008080; font-weight: bold\">-117.81</span>     <span style=\"color: #008080; text-decoration-color: #008080; font-weight: bold\">33.78</span>                <span style=\"color: #008080; text-decoration-color: #008080; font-weight: bold\">27.0</span>       <span style=\"color: #008080; text-decoration-color: #008080; font-weight: bold\">3589.0</span>           <span style=\"color: #008080; text-decoration-color: #008080; font-weight: bold\">507.0</span>   \n",
              "<span style=\"color: #008080; text-decoration-color: #008080; font-weight: bold\">3</span>    <span style=\"color: #008080; text-decoration-color: #008080; font-weight: bold\">-118.36</span>     <span style=\"color: #008080; text-decoration-color: #008080; font-weight: bold\">33.82</span>                <span style=\"color: #008080; text-decoration-color: #008080; font-weight: bold\">28.0</span>         <span style=\"color: #008080; text-decoration-color: #008080; font-weight: bold\">67.0</span>            <span style=\"color: #008080; text-decoration-color: #008080; font-weight: bold\">15.0</span>   \n",
              "<span style=\"color: #008080; text-decoration-color: #008080; font-weight: bold\">4</span>    <span style=\"color: #008080; text-decoration-color: #008080; font-weight: bold\">-119.67</span>     <span style=\"color: #008080; text-decoration-color: #008080; font-weight: bold\">36.33</span>                <span style=\"color: #008080; text-decoration-color: #008080; font-weight: bold\">19.0</span>       <span style=\"color: #008080; text-decoration-color: #008080; font-weight: bold\">1241.0</span>           <span style=\"color: #008080; text-decoration-color: #008080; font-weight: bold\">244.0</span>   \n",
              "\n",
              "   population  households  median_income  median_house_value  \n",
              "<span style=\"color: #008080; text-decoration-color: #008080; font-weight: bold\">0</span>      <span style=\"color: #008080; text-decoration-color: #008080; font-weight: bold\">1537.0</span>       <span style=\"color: #008080; text-decoration-color: #008080; font-weight: bold\">606.0</span>         <span style=\"color: #008080; text-decoration-color: #008080; font-weight: bold\">6.6085</span>            <span style=\"color: #008080; text-decoration-color: #008080; font-weight: bold\">344700.0</span>  \n",
              "<span style=\"color: #008080; text-decoration-color: #008080; font-weight: bold\">1</span>       <span style=\"color: #008080; text-decoration-color: #008080; font-weight: bold\">809.0</span>       <span style=\"color: #008080; text-decoration-color: #008080; font-weight: bold\">277.0</span>         <span style=\"color: #008080; text-decoration-color: #008080; font-weight: bold\">3.5990</span>            <span style=\"color: #008080; text-decoration-color: #008080; font-weight: bold\">176500.0</span>  \n",
              "<span style=\"color: #008080; text-decoration-color: #008080; font-weight: bold\">2</span>      <span style=\"color: #008080; text-decoration-color: #008080; font-weight: bold\">1484.0</span>       <span style=\"color: #008080; text-decoration-color: #008080; font-weight: bold\">495.0</span>         <span style=\"color: #008080; text-decoration-color: #008080; font-weight: bold\">5.7934</span>            <span style=\"color: #008080; text-decoration-color: #008080; font-weight: bold\">270500.0</span>  \n",
              "<span style=\"color: #008080; text-decoration-color: #008080; font-weight: bold\">3</span>        <span style=\"color: #008080; text-decoration-color: #008080; font-weight: bold\">49.0</span>        <span style=\"color: #008080; text-decoration-color: #008080; font-weight: bold\">11.0</span>         <span style=\"color: #008080; text-decoration-color: #008080; font-weight: bold\">6.1359</span>            <span style=\"color: #008080; text-decoration-color: #008080; font-weight: bold\">330000.0</span>  \n",
              "<span style=\"color: #008080; text-decoration-color: #008080; font-weight: bold\">4</span>       <span style=\"color: #008080; text-decoration-color: #008080; font-weight: bold\">850.0</span>       <span style=\"color: #008080; text-decoration-color: #008080; font-weight: bold\">237.0</span>         <span style=\"color: #008080; text-decoration-color: #008080; font-weight: bold\">2.9375</span>             <span style=\"color: #008080; text-decoration-color: #008080; font-weight: bold\">81700.0</span>  \n",
              "</pre>\n"
            ]
          },
          "metadata": {}
        }
      ]
    },
    {
      "cell_type": "code",
      "source": [
        "# Carga de datos Excel\n",
        "console.rule(\"Carga de Excel\")\n",
        "\n",
        "# Colab no tiene archivos Excel de ejemplo, así que crearemos uno\n",
        "data = {\n",
        "    'Nombre': ['Ana', 'Juan', 'María'],\n",
        "    'Edad': [25, 30, 28],\n",
        "    'Ciudad': ['Madrid', 'Barcelona', 'Sevilla']\n",
        "}\n",
        "df = pd.DataFrame(data)\n",
        "\n",
        "# Guardamos el DataFrame como Excel\n",
        "excel_path = '/content/sample_data/datos_excel.xlsx'\n",
        "df.to_excel(excel_path, index=False)\n",
        "\n",
        "# Ahora leemos el archivo Excel\n",
        "df_excel = pd.read_excel(excel_path)\n",
        "\n",
        "print(\"DataFrame cargado desde Excel:\")\n",
        "print(df_excel)\n",
        "\n",
        "df.to_csv('/content/sample_data/datos_csv.csv')"
      ],
      "metadata": {
        "colab": {
          "base_uri": "https://localhost:8080/",
          "height": 169
        },
        "id": "aDQaI8NS6s3r",
        "outputId": "da6dd35d-ff17-4665-b895-8fe054c65f2b"
      },
      "execution_count": null,
      "outputs": [
        {
          "output_type": "display_data",
          "data": {
            "text/plain": [
              "\u001b[92m───────────────────────────────────────────────── \u001b[0mCarga de Excel\u001b[92m ──────────────────────────────────────────────────\u001b[0m\n"
            ],
            "text/html": [
              "<pre style=\"white-space:pre;overflow-x:auto;line-height:normal;font-family:Menlo,'DejaVu Sans Mono',consolas,'Courier New',monospace\"><span style=\"color: #00ff00; text-decoration-color: #00ff00\">───────────────────────────────────────────────── </span>Carga de Excel<span style=\"color: #00ff00; text-decoration-color: #00ff00\"> ──────────────────────────────────────────────────</span>\n",
              "</pre>\n"
            ]
          },
          "metadata": {}
        },
        {
          "output_type": "stream",
          "name": "stdout",
          "text": [
            "DataFrame cargado desde Excel:\n",
            "  Nombre  Edad     Ciudad\n",
            "0    Ana    25     Madrid\n",
            "1   Juan    30  Barcelona\n",
            "2  María    28    Sevilla\n"
          ]
        }
      ]
    },
    {
      "cell_type": "code",
      "source": [
        "# Carga de JSON\n",
        "console.rule(\"Carga de JSON\")\n",
        "\n",
        "# Creamos un ejemplo de JSON\n",
        "json_data = '''\n",
        "{\n",
        "  \"empleados\": [\n",
        "    {\"nombre\": \"Carlos\", \"edad\": 28, \"ciudad\": \"Valencia\"},\n",
        "    {\"nombre\": \"Lucía\", \"edad\": 32, \"ciudad\": \"Bilbao\"},\n",
        "    {\"nombre\": \"Pedro\", \"edad\": 35, \"ciudad\": \"Málaga\"}\n",
        "  ]\n",
        "}\n",
        "'''\n",
        "\n",
        "# Cargamos el JSON\n",
        "df_json = pd.read_json(io.StringIO(json_data))\n",
        "\n",
        "print(\"DataFrame cargado desde JSON:\")\n",
        "print(df_json)"
      ],
      "metadata": {
        "colab": {
          "base_uri": "https://localhost:8080/",
          "height": 154
        },
        "id": "hellKwdP7VN-",
        "outputId": "624b9d4d-6079-400e-96b8-cb1ebb9b307d"
      },
      "execution_count": null,
      "outputs": [
        {
          "output_type": "display_data",
          "data": {
            "text/plain": [
              "\u001b[92m────────────────────────────────────────────────── \u001b[0mCarga de JSON\u001b[92m ──────────────────────────────────────────────────\u001b[0m\n"
            ],
            "text/html": [
              "<pre style=\"white-space:pre;overflow-x:auto;line-height:normal;font-family:Menlo,'DejaVu Sans Mono',consolas,'Courier New',monospace\"><span style=\"color: #00ff00; text-decoration-color: #00ff00\">────────────────────────────────────────────────── </span>Carga de JSON<span style=\"color: #00ff00; text-decoration-color: #00ff00\"> ──────────────────────────────────────────────────</span>\n",
              "</pre>\n"
            ]
          },
          "metadata": {}
        },
        {
          "output_type": "stream",
          "name": "stdout",
          "text": [
            "DataFrame cargado desde JSON:\n",
            "                                           empleados\n",
            "0  {'nombre': 'Carlos', 'edad': 28, 'ciudad': 'Va...\n",
            "1  {'nombre': 'Lucía', 'edad': 32, 'ciudad': 'Bil...\n",
            "2  {'nombre': 'Pedro', 'edad': 35, 'ciudad': 'Mál...\n"
          ]
        }
      ]
    },
    {
      "cell_type": "code",
      "source": [
        "# Carga de datos desde un diccionario\n",
        "console.rule(\"Carga desde diccionario\")\n",
        "\n",
        "data_dict = {\n",
        "    'Producto': ['A', 'B', 'C', 'D'],\n",
        "    'Precio': [100, 200, 150, 300],\n",
        "    'Stock': [10, 20, 15, 5]\n",
        "}\n",
        "\n",
        "df_dict = pd.DataFrame(data_dict)\n",
        "\n",
        "print(\"DataFrame creado desde un diccionario:\")\n",
        "print(df_dict)"
      ],
      "metadata": {
        "colab": {
          "base_uri": "https://localhost:8080/",
          "height": 177
        },
        "id": "iD_KawIT7iwI",
        "outputId": "6af8040e-b592-4b69-87a0-e64022897bed"
      },
      "execution_count": null,
      "outputs": [
        {
          "output_type": "display_data",
          "data": {
            "text/plain": [
              "\u001b[92m───────────────────────────────────────────── \u001b[0mCarga desde diccionario\u001b[92m ─────────────────────────────────────────────\u001b[0m\n"
            ],
            "text/html": [
              "<pre style=\"white-space:pre;overflow-x:auto;line-height:normal;font-family:Menlo,'DejaVu Sans Mono',consolas,'Courier New',monospace\"><span style=\"color: #00ff00; text-decoration-color: #00ff00\">───────────────────────────────────────────── </span>Carga desde diccionario<span style=\"color: #00ff00; text-decoration-color: #00ff00\"> ─────────────────────────────────────────────</span>\n",
              "</pre>\n"
            ]
          },
          "metadata": {}
        },
        {
          "output_type": "stream",
          "name": "stdout",
          "text": [
            "DataFrame creado desde un diccionario:\n",
            "  Producto  Precio  Stock\n",
            "0        A     100     10\n",
            "1        B     200     20\n",
            "2        C     150     15\n",
            "3        D     300      5\n"
          ]
        }
      ]
    },
    {
      "cell_type": "code",
      "source": [
        "\n",
        "# Carga de datos desde una URL (usando el dataset de iris como ejemplo)\n",
        "console.rule(\"7. Carga desde URL\")\n",
        "\n",
        "url = \"https://archive.ics.uci.edu/ml/machine-learning-databases/iris/iris.data\"\n",
        "column_names = ['sepal_length', 'sepal_width', 'petal_length', 'petal_width', 'class']\n",
        "df_url = pd.read_csv(url, header=None, names=column_names)\n",
        "\n",
        "print(\"Primeras filas del DataFrame cargado desde URL:\")\n",
        "print(df_url.head())"
      ],
      "metadata": {
        "colab": {
          "base_uri": "https://localhost:8080/",
          "height": 200
        },
        "id": "R6fKMEYjrQRY",
        "outputId": "e0fd1cb6-b1b2-4024-bf7b-ab7dd9847f17"
      },
      "execution_count": null,
      "outputs": [
        {
          "output_type": "display_data",
          "data": {
            "text/plain": [
              "\u001b[92m─────────────────────────────────────────────── \u001b[0m\u001b[1;36m7\u001b[0m. Carga desde URL\u001b[92m ────────────────────────────────────────────────\u001b[0m\n"
            ],
            "text/html": [
              "<pre style=\"white-space:pre;overflow-x:auto;line-height:normal;font-family:Menlo,'DejaVu Sans Mono',consolas,'Courier New',monospace\"><span style=\"color: #00ff00; text-decoration-color: #00ff00\">─────────────────────────────────────────────── </span><span style=\"color: #008080; text-decoration-color: #008080; font-weight: bold\">7</span>. Carga desde URL<span style=\"color: #00ff00; text-decoration-color: #00ff00\"> ────────────────────────────────────────────────</span>\n",
              "</pre>\n"
            ]
          },
          "metadata": {}
        },
        {
          "output_type": "stream",
          "name": "stdout",
          "text": [
            "Primeras filas del DataFrame cargado desde URL:\n",
            "   sepal_length  sepal_width  petal_length  petal_width        class\n",
            "0           5.1          3.5           1.4          0.2  Iris-setosa\n",
            "1           4.9          3.0           1.4          0.2  Iris-setosa\n",
            "2           4.7          3.2           1.3          0.2  Iris-setosa\n",
            "3           4.6          3.1           1.5          0.2  Iris-setosa\n",
            "4           5.0          3.6           1.4          0.2  Iris-setosa\n"
          ]
        }
      ]
    },
    {
      "cell_type": "markdown",
      "source": [
        "#Manejo de excepciones\n"
      ],
      "metadata": {
        "id": "Ztw_bMEkjCkS"
      }
    },
    {
      "cell_type": "code",
      "source": [
        "console.rule(\"[bold]Excepciones[/bold]\")\n",
        "\n",
        "\n",
        "# sumar(3,\"Pedro\")\n",
        "\n",
        "def sumar(x: int, y: int):\n",
        "  print(f\"Resultado:{x+y}\")\n",
        "  try:\n",
        "    print(f\"Resultado:{x+y}\")\n",
        "  except Exception as T:\n",
        "    print(\"Debes sumar variables del mismo tipo de datos (enteros)\", err)\n",
        "\n",
        "sumar(7, 9)\n",
        "#sumar(7, 'sumar')"
      ],
      "metadata": {
        "colab": {
          "base_uri": "https://localhost:8080/",
          "height": 422
        },
        "id": "Dde71EzIjFzx",
        "outputId": "a82ed663-4f3c-425f-8d3a-88fc2449367b"
      },
      "execution_count": null,
      "outputs": [
        {
          "output_type": "display_data",
          "data": {
            "text/plain": [
              "\u001b[92m─────────────────────────────────────────────────── \u001b[0m\u001b[1mExcepciones\u001b[0m\u001b[92m ───────────────────────────────────────────────────\u001b[0m\n"
            ],
            "text/html": [
              "<pre style=\"white-space:pre;overflow-x:auto;line-height:normal;font-family:Menlo,'DejaVu Sans Mono',consolas,'Courier New',monospace\"><span style=\"color: #00ff00; text-decoration-color: #00ff00\">─────────────────────────────────────────────────── </span><span style=\"font-weight: bold\">Excepciones</span><span style=\"color: #00ff00; text-decoration-color: #00ff00\"> ───────────────────────────────────────────────────</span>\n",
              "</pre>\n"
            ]
          },
          "metadata": {}
        },
        {
          "output_type": "error",
          "ename": "TypeError",
          "evalue": "unsupported operand type(s) for +: 'int' and 'str'",
          "traceback": [
            "\u001b[0;31m---------------------------------------------------------------------------\u001b[0m",
            "\u001b[0;31mTypeError\u001b[0m                                 Traceback (most recent call last)",
            "\u001b[0;32m<ipython-input-16-453498c10ff3>\u001b[0m in \u001b[0;36m<cell line: 14>\u001b[0;34m()\u001b[0m\n\u001b[1;32m     12\u001b[0m \u001b[0;34m\u001b[0m\u001b[0m\n\u001b[1;32m     13\u001b[0m \u001b[0;31m#sumar(7, 9)\u001b[0m\u001b[0;34m\u001b[0m\u001b[0;34m\u001b[0m\u001b[0m\n\u001b[0;32m---> 14\u001b[0;31m \u001b[0msumar\u001b[0m\u001b[0;34m(\u001b[0m\u001b[0;36m7\u001b[0m\u001b[0;34m,\u001b[0m \u001b[0;34m'sumar'\u001b[0m\u001b[0;34m)\u001b[0m\u001b[0;34m\u001b[0m\u001b[0;34m\u001b[0m\u001b[0m\n\u001b[0m",
            "\u001b[0;32m<ipython-input-16-453498c10ff3>\u001b[0m in \u001b[0;36msumar\u001b[0;34m(x, y)\u001b[0m\n\u001b[1;32m      5\u001b[0m \u001b[0;34m\u001b[0m\u001b[0m\n\u001b[1;32m      6\u001b[0m \u001b[0;32mdef\u001b[0m \u001b[0msumar\u001b[0m\u001b[0;34m(\u001b[0m\u001b[0mx\u001b[0m\u001b[0;34m:\u001b[0m \u001b[0mint\u001b[0m\u001b[0;34m,\u001b[0m \u001b[0my\u001b[0m\u001b[0;34m:\u001b[0m \u001b[0mint\u001b[0m\u001b[0;34m)\u001b[0m\u001b[0;34m:\u001b[0m\u001b[0;34m\u001b[0m\u001b[0;34m\u001b[0m\u001b[0m\n\u001b[0;32m----> 7\u001b[0;31m   \u001b[0mprint\u001b[0m\u001b[0;34m(\u001b[0m\u001b[0;34mf\"Resultado:{x+y}\"\u001b[0m\u001b[0;34m)\u001b[0m\u001b[0;34m\u001b[0m\u001b[0;34m\u001b[0m\u001b[0m\n\u001b[0m\u001b[1;32m      8\u001b[0m   \u001b[0;32mtry\u001b[0m\u001b[0;34m:\u001b[0m\u001b[0;34m\u001b[0m\u001b[0;34m\u001b[0m\u001b[0m\n\u001b[1;32m      9\u001b[0m     \u001b[0mprint\u001b[0m\u001b[0;34m(\u001b[0m\u001b[0;34mf\"Resultado:{x+y}\"\u001b[0m\u001b[0;34m)\u001b[0m\u001b[0;34m\u001b[0m\u001b[0;34m\u001b[0m\u001b[0m\n",
            "\u001b[0;31mTypeError\u001b[0m: unsupported operand type(s) for +: 'int' and 'str'"
          ]
        }
      ]
    },
    {
      "cell_type": "code",
      "source": [
        "def operacion(x: int, y: int):\n",
        "  try:\n",
        "    return x + y\n",
        "  except TypeError:\n",
        "    print(\"Error! Revisa los argumentos:\")\n",
        "    return None\n",
        "\n",
        "z = operacion(7, 'la')\n",
        "print(f\"Operación: {z}\")"
      ],
      "metadata": {
        "colab": {
          "base_uri": "https://localhost:8080/"
        },
        "id": "f_ye8vSHqqiu",
        "outputId": "7046ea9d-2898-4394-d8c5-35be37256c88"
      },
      "execution_count": null,
      "outputs": [
        {
          "output_type": "stream",
          "name": "stdout",
          "text": [
            "Error! Revisa los argumentos:\n",
            "Operación: None\n"
          ]
        }
      ]
    },
    {
      "cell_type": "code",
      "source": [
        "def mi_funcion(n: int = 3, saludo: str ='hola'):\n",
        "  \"\"\"\n",
        "  Esta funcion hace un saludo n veces\n",
        "\n",
        "  :param n: int - numero de veces que saludamos\n",
        "  :param saludo: str - el saludo que realizamos\n",
        "  \"\"\"\n",
        "  print(n*saludo)\n",
        "\n",
        "mi_funcion(saludo='adios\\n')"
      ],
      "metadata": {
        "colab": {
          "base_uri": "https://localhost:8080/"
        },
        "id": "ORNIJ2VFtKzP",
        "outputId": "511babcd-91d9-4b5b-f10f-99ddfeb0274f"
      },
      "execution_count": null,
      "outputs": [
        {
          "output_type": "stream",
          "name": "stdout",
          "text": [
            "adios\n",
            "adios\n",
            "adios\n",
            "\n"
          ]
        }
      ]
    }
  ]
}