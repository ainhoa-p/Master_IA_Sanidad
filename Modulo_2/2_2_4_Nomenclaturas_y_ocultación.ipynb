{
  "nbformat": 4,
  "nbformat_minor": 0,
  "metadata": {
    "colab": {
      "name": "2_2_4_Nomenclaturas_y_ocultación.ipynb",
      "provenance": [],
      "authorship_tag": "ABX9TyOPCm81qzUxp4TlRRsf+OP0",
      "include_colab_link": true
    },
    "kernelspec": {
      "name": "python3",
      "display_name": "Python 3"
    },
    "language_info": {
      "name": "python"
    }
  },
  "cells": [
    {
      "cell_type": "markdown",
      "metadata": {
        "id": "view-in-github",
        "colab_type": "text"
      },
      "source": [
        "<a href=\"https://colab.research.google.com/github/txusser/Master_IA_Sanidad/blob/main/Modulo_2/2_2_4_Nomenclaturas_y_ocultaci%C3%B3n.ipynb\" target=\"_parent\"><img src=\"https://colab.research.google.com/assets/colab-badge.svg\" alt=\"Open In Colab\"/></a>"
      ]
    },
    {
      "cell_type": "code",
      "metadata": {
        "colab": {
          "base_uri": "https://localhost:8080/"
        },
        "id": "_lX-H81XPNgU",
        "outputId": "663e028d-17c9-4742-a79c-5c2f3d7633f5"
      },
      "source": [
        "## Ejemplos de uso del guión bajo para almacenar datos\n",
        "\n",
        "# Ignorar un valor al desempaquetar una lista\n",
        "x, _, y = (1, 2, 3) \n",
        "print(\"A:\", x, y)\n",
        "# Ignorar valores múltiples\n",
        "x, *_, y = (1, 2, 3, 4, 5)\n",
        "print(\"B:\", x, y)"
      ],
      "execution_count": 8,
      "outputs": [
        {
          "output_type": "stream",
          "name": "stdout",
          "text": [
            "A: 1 3\n",
            "B: 1 5\n"
          ]
        }
      ]
    },
    {
      "cell_type": "code",
      "metadata": {
        "colab": {
          "base_uri": "https://localhost:8080/"
        },
        "id": "J4_C2gnIP0uv",
        "outputId": "fca2ca86-881a-4456-c875-6e41c2b2490f"
      },
      "source": [
        "# Ignorar el índice\n",
        "for _ in range():     \n",
        "    print(\"Hola\")  "
      ],
      "execution_count": 10,
      "outputs": [
        {
          "output_type": "stream",
          "name": "stdout",
          "text": [
            "Hola\n",
            "Hola\n",
            "Hola\n"
          ]
        }
      ]
    },
    {
      "cell_type": "code",
      "metadata": {
        "id": "SkW495rBQD3B"
      },
      "source": [
        "# Declarar una variable como privada\n",
        "_internal_name = 'one_nodule' # private variable\n",
        "_internal_version = '1.0' # private variable"
      ],
      "execution_count": null,
      "outputs": []
    },
    {
      "cell_type": "code",
      "metadata": {
        "colab": {
          "base_uri": "https://localhost:8080/"
        },
        "id": "W63_07zLRQvy",
        "outputId": "6eba8c56-b2d3-44ef-ed11-6902fba1a961"
      },
      "source": [
        "## Ejemplos en el ámbito de las clases\n",
        "\n",
        "# Clase privada en la que definimos una variable privada\n",
        "class _SoyPrivada:\n",
        "    _soy_privado = 42\n",
        "\n",
        "objeto_privado = _SoyPrivada()\n",
        "print(\"Valor privado:\", objeto_privado._soy_privado)"
      ],
      "execution_count": 13,
      "outputs": [
        {
          "output_type": "stream",
          "name": "stdout",
          "text": [
            "Valor privado: 42\n"
          ]
        }
      ]
    },
    {
      "cell_type": "code",
      "metadata": {
        "colab": {
          "base_uri": "https://localhost:8080/"
        },
        "id": "PTG11ck4SQZN",
        "outputId": "db66e450-fe03-4610-80d9-f811c865ab86"
      },
      "source": [
        "class _Clase: # clase privada\n",
        "    _factor_oculto = 2 # variable privada\n",
        "    \n",
        "    def __init__(self, precio):\n",
        "        self._precio = precio\n",
        "    \n",
        "    def _doblar_precio(self): # método privado\n",
        "        return self._precio * self._factor_oculto\n",
        "    \n",
        "    def get_doble_precio(self):\n",
        "        return self._doblar_precio() \n",
        "\n",
        "ob = _Clase(7)\n",
        "print(\"Valor:\", ob.get_doble_precio())"
      ],
      "execution_count": 20,
      "outputs": [
        {
          "output_type": "stream",
          "name": "stdout",
          "text": [
            "Valor: 14\n"
          ]
        }
      ]
    }
  ]
}