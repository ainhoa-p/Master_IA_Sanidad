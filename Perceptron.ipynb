{
  "nbformat": 4,
  "nbformat_minor": 0,
  "metadata": {
    "colab": {
      "name": "Perceptron.ipynb",
      "provenance": [],
      "collapsed_sections": [],
      "authorship_tag": "ABX9TyOtKkRSwr2nFG+YNVtE6V1u",
      "include_colab_link": true
    },
    "kernelspec": {
      "name": "python3",
      "display_name": "Python 3"
    },
    "language_info": {
      "name": "python"
    }
  },
  "cells": [
    {
      "cell_type": "markdown",
      "metadata": {
        "id": "view-in-github",
        "colab_type": "text"
      },
      "source": [
        "<a href=\"https://colab.research.google.com/github/txusser/Master_IA_Sanidad/blob/main/Perceptron.ipynb\" target=\"_parent\"><img src=\"https://colab.research.google.com/assets/colab-badge.svg\" alt=\"Open In Colab\"/></a>"
      ]
    },
    {
      "cell_type": "markdown",
      "metadata": {
        "id": "ro4og5pe10JM"
      },
      "source": [
        "Primero importamos las librerías que vayamos a necesitar"
      ]
    },
    {
      "cell_type": "code",
      "metadata": {
        "id": "a2dbryHd0whh"
      },
      "source": [
        "import matplotlib.pyplot as plt\n",
        "import numpy as np\n",
        "from sklearn.metrics import accuracy_score"
      ],
      "execution_count": 1,
      "outputs": []
    },
    {
      "cell_type": "markdown",
      "metadata": {
        "id": "XGznauIQ2XyM"
      },
      "source": [
        "Vamos a crear una clase Perceptron, que incluirá las variables que necesitaremos para hacer funcionar nuestro perceptron\n",
        "Fijamos el bias a 1, como es común para una neurona, y inicializamos dos variables vacias para los pesos y los errores"
      ]
    },
    {
      "cell_type": "code",
      "metadata": {
        "id": "8vVFnaHF2TMA"
      },
      "source": [
        "class Perceptron(object):\n",
        "    def __init__(self, lr=0.01, epochs=2000):\n",
        "        self.lr = lr\n",
        "        self.bias = 1\n",
        "        self.epochs = epochs\n",
        "        self.weights = None\n",
        "        self.errors_ = []"
      ],
      "execution_count": 2,
      "outputs": []
    },
    {
      "cell_type": "markdown",
      "metadata": {
        "id": "24U-PpYx2qdf"
      },
      "source": [
        "Definimos una función encargada de realizar el cálculo y=w_0+w_1+⋯+w_n\n",
        "La función np.dot multiplica dos vectores elemento a elemento, que es lo que necesitamos."
      ]
    },
    {
      "cell_type": "code",
      "metadata": {
        "id": "OeyEtQTI26NK"
      },
      "source": [
        "    def __linear(self, X):\n",
        "        return np.dot(X, self.weights[1:]) + self.weights[0] "
      ],
      "execution_count": 3,
      "outputs": []
    },
    {
      "cell_type": "markdown",
      "metadata": {
        "id": "zwb8l4Yc3R3P"
      },
      "source": [
        "Ahora definimos una función de activación. El siguiente comando utilizando np.where nos devolverá el valor 1 cuando la entrada sea >0 y y el valor 0 en el resto de los casos"
      ]
    },
    {
      "cell_type": "code",
      "metadata": {
        "id": "jflIV3Uj3ckB"
      },
      "source": [
        "    def __activation(self, Y):\n",
        "        return np.where(Y>=0, 1, 0)"
      ],
      "execution_count": 5,
      "outputs": []
    }
  ]
}