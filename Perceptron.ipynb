{
  "nbformat": 4,
  "nbformat_minor": 0,
  "metadata": {
    "colab": {
      "name": "Perceptron.ipynb",
      "provenance": [],
      "collapsed_sections": [],
      "authorship_tag": "ABX9TyNMpB6Mo8fM4GxJRfSzAYtq",
      "include_colab_link": true
    },
    "kernelspec": {
      "name": "python3",
      "display_name": "Python 3"
    },
    "language_info": {
      "name": "python"
    }
  },
  "cells": [
    {
      "cell_type": "markdown",
      "metadata": {
        "id": "view-in-github",
        "colab_type": "text"
      },
      "source": [
        "<a href=\"https://colab.research.google.com/github/txusser/Master_IA_Sanidad/blob/main/Perceptron.ipynb\" target=\"_parent\"><img src=\"https://colab.research.google.com/assets/colab-badge.svg\" alt=\"Open In Colab\"/></a>"
      ]
    },
    {
      "cell_type": "markdown",
      "metadata": {
        "id": "ro4og5pe10JM"
      },
      "source": [
        "Primero importamos las librerías que vayamos a necesitar"
      ]
    },
    {
      "cell_type": "code",
      "metadata": {
        "id": "a2dbryHd0whh"
      },
      "source": [
        "import matplotlib.pyplot as plt\n",
        "import numpy as np\n",
        "from sklearn.metrics import accuracy_score"
      ],
      "execution_count": 1,
      "outputs": []
    },
    {
      "cell_type": "markdown",
      "metadata": {
        "id": "XGznauIQ2XyM"
      },
      "source": [
        "Vamos a crear una clase Perceptron, que incluirá las variables que necesitaremos para hacer funcionar nuestro perceptron\n",
        "Fijamos el bias a 1, como es común para una neurona, y inicializamos dos variables vacias para los pesos y los errores. También definimos el ratio de entrenamiento (lr) y el número de iteraciones (epochs).\n",
        "\n",
        "***Funciones de la clase Perceptron:***\n",
        "\n",
        "**__linear:** función encargada de realizar el cálculo y=w_0+w_1+⋯+w_n La función np.dot multiplica dos vectores elemento a elemento, que es lo que necesitamos.\n",
        "\n",
        "**__activation_step:** función de activación. np.where nos devolverá el valor 1 cuando la entrada sea >0 y y el valor 0 en el resto de los casos\n",
        "\n",
        "**fit:** Para cada una de las entradas, calculamos y_hat, que será la label estimada pos la red, y la comparamos con y_target (las labels del dataset de entrenamiento).\n",
        "\n",
        "**predict:** función de predicción, que nos valdrá para hacer inferencia con nuevos datos una vez calculados los pesos"
      ]
    },
    {
      "cell_type": "code",
      "metadata": {
        "id": "8vVFnaHF2TMA"
      },
      "source": [
        "class Perceptron(object):\n",
        "    def __init__(self, lr=0.01, epochs=2000):\n",
        "        self.lr = lr\n",
        "        self.bias = 1\n",
        "        self.epochs = epochs\n",
        "        self.weights = None\n",
        "        self.errors_ = []\n",
        "    \n",
        "    def __linear(self, X):\n",
        "        return np.dot(X, self.weights[1:]) + self.weights[0]\n",
        "    \n",
        "    def __activation_step(self, Y):\n",
        "        return np.where(Y>=0, 1, 0)\n",
        "\n",
        "    def fit(self, X, y):\n",
        "        \n",
        "        assert len(X) == len(y), \"X e Y deben tener la misma longitud\"\n",
        "        \n",
        "        # Inicializa los pesos a 0, menos el peso del bias \n",
        "        # que se inicializa a 1 (self.bias)\n",
        "        weights = np.zeros(X.shape[1])\n",
        "        self.weights = np.insert(weights, 0, self.bias, axis=0)\n",
        "\n",
        "        for _ in range(self.epochs):\n",
        "            errors = 0\n",
        "            for xi, y_target in zip(X, y):\n",
        "                z = self.__linear(xi)  # Suma ponderada\n",
        "                y_hat = self.__activation_step(z)  # Función de activación\n",
        "                # Calculamos la diferencia entre entrada y salida, \n",
        "                # y aplicamos el learning rate\n",
        "                delta = self.lr * (y_target - y_hat)  \n",
        "        \n",
        "                # Utilizmaos el parámetro delta calculado \n",
        "                # para actualizar los pesos\n",
        "                self.weights[1:] += delta * xi\n",
        "                self.weights[0] += delta\n",
        "                \n",
        "                errors += int(delta != 0.0)\n",
        "\n",
        "            self.errors_.append(errors)\n",
        "            #Interrumpimos el entrenamiento si el error es 0          \n",
        "            if not errors:\n",
        "                break\n",
        "\n",
        "    def predict(self, X):\n",
        "        assert type(self.weights) != 'NoneType', \"Entrena el modelo primero.\"\n",
        "        y_hat = np.zeros(X.shape[0],)\n",
        "        for i, xi in enumerate(X):\n",
        "            y_hat[i] = self.__activation_step(self.__linear(xi))\n",
        "        return y_hat\n",
        "\n",
        "    def score(sef, predictions, labels):\n",
        "        return accuracy_score(labels, predictions)\n",
        "\n",
        "    def plot(self, predictions, labels):\n",
        "        assert type(self.weights) != 'NoneType',  \"Entrena el modelo primero.\"\n",
        "        plt.figure(figsize=(10,8))\n",
        "        plt.grid(True)\n",
        "\n",
        "        for input, target in zip(predictions, labels):\n",
        "            plt.plot(input[0],input[1],'ro' if (target == 1.0) else 'go')\n",
        "\n",
        "        for i in np.linspace(np.amin(predictions[:,:1]),np.amax(predictions[:,:1])):\n",
        "            slope = -(self.weights[0]/self.weights[2])/(self.weights[0]/self.weights[1])  \n",
        "            intercept = -self.weights[0]/self.weights[2]\n",
        "\n",
        "            # y = mx+b, equation of a line. mx = slope, n = intercept\n",
        "            y = (slope*i) + intercept\n",
        "            plt.plot(i, y, color='black', marker='x', linestyle='dashed')\n",
        "\n"
      ],
      "execution_count": 20,
      "outputs": []
    },
    {
      "cell_type": "markdown",
      "metadata": {
        "id": "aXo5yvCxHhgr"
      },
      "source": [
        ""
      ]
    },
    {
      "cell_type": "code",
      "metadata": {
        "colab": {
          "base_uri": "https://localhost:8080/",
          "height": 619
        },
        "id": "iI7H8EpIHgxS",
        "outputId": "f69e0383-3d46-42fb-9252-dd7a0be8cdb1"
      },
      "source": [
        "from sklearn.model_selection import train_test_split\n",
        "from sklearn.datasets import make_blobs\n",
        "\n",
        "# Generate data blobs, 2 features each with two classses\n",
        "X, y = make_blobs(n_samples=1000, n_features=2, centers=2, cluster_std=1.05, random_state=3)\n",
        "X_train, X_test, y_train, y_test = train_test_split(X, y, test_size=0.20, stratify=y)\n",
        "\n",
        "# Create an instance of our Perceptron\n",
        "p = Perceptron()\n",
        "\n",
        "# Fit the data, display and display our accuracy score\n",
        "p.fit(X_train,y_train)\n",
        "p.plot((X_test), y_test)\n",
        "p.score(p.predict(X_test), y_test)"
      ],
      "execution_count": 24,
      "outputs": [
        {
          "output_type": "stream",
          "name": "stdout",
          "text": [
            "[[-3.08691723 -0.5623516 ]\n",
            " [ 1.52766932  5.22371024]\n",
            " [ 1.61624643  5.60676042]\n",
            " ...\n",
            " [-4.2763933  -2.20254186]\n",
            " [ 2.17955493  5.33831664]\n",
            " [-6.05583659 -0.52548833]]\n"
          ]
        },
        {
          "output_type": "execute_result",
          "data": {
            "text/plain": [
              "0.995"
            ]
          },
          "metadata": {},
          "execution_count": 24
        },
        {
          "output_type": "display_data",
          "data": {
            "image/png": "[encoded data removed]",
            "text/plain": [
              "<Figure size 720x576 with 1 Axes>"
            ]
          },
          "metadata": {
            "needs_background": "light"
          }
        }
      ]
    }
  ]
}