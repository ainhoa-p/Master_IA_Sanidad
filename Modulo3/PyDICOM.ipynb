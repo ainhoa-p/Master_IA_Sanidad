{
  "nbformat": 4,
  "nbformat_minor": 0,
  "metadata": {
    "colab": {
      "name": "PyDICOM.ipynb",
      "provenance": [],
      "authorship_tag": "ABX9TyPRBSSSuKyC6SRsBMRW5AL7",
      "include_colab_link": true
    },
    "kernelspec": {
      "name": "python3",
      "display_name": "Python 3"
    },
    "language_info": {
      "name": "python"
    }
  },
  "cells": [
    {
      "cell_type": "markdown",
      "metadata": {
        "id": "view-in-github",
        "colab_type": "text"
      },
      "source": [
        "<a href=\"https://colab.research.google.com/github/txusser/Master_IA_Sanidad/blob/main/Modulo3/PyDICOM.ipynb\" target=\"_parent\"><img src=\"https://colab.research.google.com/assets/colab-badge.svg\" alt=\"Open In Colab\"/></a>"
      ]
    },
    {
      "cell_type": "code",
      "execution_count": 10,
      "metadata": {
        "colab": {
          "base_uri": "https://localhost:8080/"
        },
        "id": "ba_1qiZJpg17",
        "outputId": "3927b7cb-dedb-4bd1-bb94-fd0083a4a093"
      },
      "outputs": [
        {
          "output_type": "stream",
          "name": "stdout",
          "text": [
            "Requirement already satisfied: pydicom in /usr/local/lib/python3.7/dist-packages (2.2.2)\n",
            "Requirement already satisfied: pillow in /usr/local/lib/python3.7/dist-packages (7.1.2)\n",
            "Requirement already satisfied: numpy in /usr/local/lib/python3.7/dist-packages (1.21.5)\n",
            "Requirement already satisfied: cython in /usr/local/lib/python3.7/dist-packages (0.29.28)\n"
          ]
        }
      ],
      "source": [
        "pip install pydicom pillow numpy cython"
      ]
    },
    {
      "cell_type": "code",
      "source": [
        "pip install git+https://github.com/pydicom/pydicom-data"
      ],
      "metadata": {
        "colab": {
          "base_uri": "https://localhost:8080/"
        },
        "id": "tUh_li3OqFcg",
        "outputId": "73d6f9cc-5d94-4f74-c96b-22573dc990d7"
      },
      "execution_count": 4,
      "outputs": [
        {
          "output_type": "stream",
          "name": "stdout",
          "text": [
            "Collecting git+https://github.com/pydicom/pydicom-data\n",
            "  Cloning https://github.com/pydicom/pydicom-data to /tmp/pip-req-build-98_svxwg\n",
            "  Running command git clone -q https://github.com/pydicom/pydicom-data /tmp/pip-req-build-98_svxwg\n",
            "Building wheels for collected packages: pydicom-data\n",
            "  Building wheel for pydicom-data (setup.py) ... \u001b[?25l\u001b[?25hdone\n",
            "  Created wheel for pydicom-data: filename=pydicom_data-1.0.0.dev0-py3-none-any.whl size=34124130 sha256=18c2750ea8cd81116942ef2f0898a224c78505ca0b35106bb51ef61447abf93d\n",
            "  Stored in directory: /tmp/pip-ephem-wheel-cache-ct_39ezs/wheels/37/6a/f0/b5418c9818c7e42d3f8c28396a5f66e51c6f20165992aa6be1\n",
            "Successfully built pydicom-data\n",
            "Installing collected packages: pydicom-data\n",
            "Successfully installed pydicom-data-1.0.0.dev0\n"
          ]
        }
      ]
    },
    {
      "cell_type": "code",
      "source": [
        "pip install git+https://github.com/Who8MyLunch/CharPyLS"
      ],
      "metadata": {
        "colab": {
          "base_uri": "https://localhost:8080/"
        },
        "id": "Y31sLLYZrIGK",
        "outputId": "11dbd73a-18bf-4d23-d1f6-a24cbed17e2c"
      },
      "execution_count": 11,
      "outputs": [
        {
          "output_type": "stream",
          "name": "stdout",
          "text": [
            "Collecting git+https://github.com/Who8MyLunch/CharPyLS\n",
            "  Cloning https://github.com/Who8MyLunch/CharPyLS to /tmp/pip-req-build-uc57qz54\n",
            "  Running command git clone -q https://github.com/Who8MyLunch/CharPyLS /tmp/pip-req-build-uc57qz54\n",
            "Building wheels for collected packages: CharPyLS\n",
            "  Building wheel for CharPyLS (setup.py) ... \u001b[?25l\u001b[?25hdone\n",
            "  Created wheel for CharPyLS: filename=CharPyLS-1.0.3-cp37-cp37m-linux_x86_64.whl size=658542 sha256=70ba8f87e8e69c4d22dbda97dce2a848c2206c875a9249f566958e04adeb7a38\n",
            "  Stored in directory: /tmp/pip-ephem-wheel-cache-bnql4b39/wheels/1a/0e/2e/c9104f3eade5ef57ea93aefa1c9e5ce1e96907b13fe2b8ef28\n",
            "Successfully built CharPyLS\n",
            "Installing collected packages: CharPyLS\n",
            "Successfully installed CharPyLS-1.0.3\n"
          ]
        }
      ]
    },
    {
      "cell_type": "code",
      "source": [
        "import os,pydicom\n",
        "from pathlib import Path\n",
        "\n",
        "from pydicom import dcmread\n",
        "from pydicom.data import get_testdata_file"
      ],
      "metadata": {
        "id": "zsQQ-DpMr9W8"
      },
      "execution_count": 15,
      "outputs": []
    },
    {
      "cell_type": "code",
      "source": [
        "filename = get_testdata_file(\"rtplan.dcm\")\n",
        "ds = pydicom.dcmread(filename)\n",
        "ds"
      ],
      "metadata": {
        "colab": {
          "base_uri": "https://localhost:8080/"
        },
        "id": "WDT8P9jgr-1y",
        "outputId": "44c1ffcc-132a-4b61-f435-fe325a326dde"
      },
      "execution_count": 17,
      "outputs": [
        {
          "output_type": "execute_result",
          "data": {
            "text/plain": [
              "Dataset.file_meta -------------------------------\n",
              "(0002, 0000) File Meta Information Group Length  UL: 156\n",
              "(0002, 0001) File Meta Information Version       OB: b'\\x00\\x01'\n",
              "(0002, 0002) Media Storage SOP Class UID         UI: RT Plan Storage\n",
              "(0002, 0003) Media Storage SOP Instance UID      UI: 1.2.999.999.99.9.9999.9999.20030903150023\n",
              "(0002, 0010) Transfer Syntax UID                 UI: Implicit VR Little Endian\n",
              "(0002, 0012) Implementation Class UID            UI: 1.2.888.888.88.8.8.8\n",
              "-------------------------------------------------\n",
              "(0008, 0012) Instance Creation Date              DA: '20030903'\n",
              "(0008, 0013) Instance Creation Time              TM: '150031'\n",
              "(0008, 0016) SOP Class UID                       UI: RT Plan Storage\n",
              "(0008, 0018) SOP Instance UID                    UI: 1.2.777.777.77.7.7777.7777.20030903150023\n",
              "(0008, 0020) Study Date                          DA: '20030716'\n",
              "(0008, 0030) Study Time                          TM: '153557'\n",
              "(0008, 0050) Accession Number                    SH: ''\n",
              "(0008, 0060) Modality                            CS: 'RTPLAN'\n",
              "(0008, 0070) Manufacturer                        LO: 'Manufacturer name here'\n",
              "(0008, 0080) Institution Name                    LO: 'Here'\n",
              "(0008, 0090) Referring Physician's Name          PN: ''\n",
              "(0008, 1010) Station Name                        SH: 'COMPUTER002'\n",
              "(0008, 1040) Institutional Department Name       LO: 'Radiation Therap'\n",
              "(0008, 1070) Operators' Name                     PN: 'operator'\n",
              "(0008, 1090) Manufacturer's Model Name           LO: 'Treatment Planning System name here'\n",
              "(0010, 0010) Patient's Name                      PN: 'Last^First^mid^pre'\n",
              "(0010, 0020) Patient ID                          LO: 'id00001'\n",
              "(0010, 0030) Patient's Birth Date                DA: ''\n",
              "(0010, 0040) Patient's Sex                       CS: 'O'\n",
              "(0018, 1020) Software Versions                   LO: 'softwareV1'\n",
              "(0020, 000d) Study Instance UID                  UI: 1.22.333.4.555555.6.7777777777777777777777777777\n",
              "(0020, 000e) Series Instance UID                 UI: 1.2.333.444.55.6.7777.8888\n",
              "(0020, 0010) Study ID                            SH: 'study1'\n",
              "(0020, 0011) Series Number                       IS: '2'\n",
              "(300a, 0002) RT Plan Label                       SH: 'Plan1'\n",
              "(300a, 0003) RT Plan Name                        LO: 'Plan1'\n",
              "(300a, 0006) RT Plan Date                        DA: '20030903'\n",
              "(300a, 0007) RT Plan Time                        TM: '150023'\n",
              "(300a, 000c) RT Plan Geometry                    CS: 'PATIENT'\n",
              "(300a, 0010)  Dose Reference Sequence  2 item(s) ---- \n",
              "   (300a, 0012) Dose Reference Number               IS: '1'\n",
              "   (300a, 0014) Dose Reference Structure Type       CS: 'COORDINATES'\n",
              "   (300a, 0016) Dose Reference Description          LO: 'iso'\n",
              "   (300a, 0018) Dose Reference Point Coordinates    DS: [239.531250000000, 239.531250000000, -741.87000000000]\n",
              "   (300a, 0020) Dose Reference Type                 CS: 'ORGAN_AT_RISK'\n",
              "   (300a, 0023) Delivery Maximum Dose               DS: '75.0'\n",
              "   (300a, 002c) Organ at Risk Maximum Dose          DS: '75.0'\n",
              "   ---------\n",
              "   (300a, 0012) Dose Reference Number               IS: '2'\n",
              "   (300a, 0014) Dose Reference Structure Type       CS: 'COORDINATES'\n",
              "   (300a, 0016) Dose Reference Description          LO: 'PTV'\n",
              "   (300a, 0018) Dose Reference Point Coordinates    DS: [239.531250000000, 239.531250000000, -751.87000000000]\n",
              "   (300a, 0020) Dose Reference Type                 CS: 'TARGET'\n",
              "   (300a, 0026) Target Prescription Dose            DS: '30.826203'\n",
              "   ---------\n",
              "(300a, 0070)  Fraction Group Sequence  1 item(s) ---- \n",
              "   (300a, 0071) Fraction Group Number               IS: '1'\n",
              "   (300a, 0078) Number of Fractions Planned         IS: '30'\n",
              "   (300a, 0080) Number of Beams                     IS: '1'\n",
              "   (300a, 00a0) Number of Brachy Application Setups IS: '0'\n",
              "   (300c, 0004)  Referenced Beam Sequence  1 item(s) ---- \n",
              "      (300a, 0082) Beam Dose Specification Point       DS: [239.531250000000, 239.531250000000, -751.87000000000]\n",
              "      (300a, 0084) Beam Dose                           DS: '1.0275401'\n",
              "      (300a, 0086) Beam Meterset                       DS: '116.0036697'\n",
              "      (300c, 0006) Referenced Beam Number              IS: '1'\n",
              "      ---------\n",
              "   ---------\n",
              "(300a, 00b0)  Beam Sequence  1 item(s) ---- \n",
              "   (0008, 0070) Manufacturer                        LO: 'Linac co.'\n",
              "   (0008, 0080) Institution Name                    LO: 'Here'\n",
              "   (0008, 1040) Institutional Department Name       LO: 'Radiation Therap'\n",
              "   (0008, 1090) Manufacturer's Model Name           LO: 'Zapper9000'\n",
              "   (0018, 1000) Device Serial Number                LO: '9999'\n",
              "   (300a, 00b2) Treatment Machine Name              SH: 'unit001'\n",
              "   (300a, 00b3) Primary Dosimeter Unit              CS: 'MU'\n",
              "   (300a, 00b4) Source-Axis Distance                DS: '1000.0'\n",
              "   (300a, 00b6)  Beam Limiting Device Sequence  2 item(s) ---- \n",
              "      (300a, 00b8) RT Beam Limiting Device Type        CS: 'X'\n",
              "      (300a, 00bc) Number of Leaf/Jaw Pairs            IS: '1'\n",
              "      ---------\n",
              "      (300a, 00b8) RT Beam Limiting Device Type        CS: 'Y'\n",
              "      (300a, 00bc) Number of Leaf/Jaw Pairs            IS: '1'\n",
              "      ---------\n",
              "   (300a, 00c0) Beam Number                         IS: '1'\n",
              "   (300a, 00c2) Beam Name                           LO: 'Field 1'\n",
              "   (300a, 00c4) Beam Type                           CS: 'STATIC'\n",
              "   (300a, 00c6) Radiation Type                      CS: 'PHOTON'\n",
              "   (300a, 00ce) Treatment Delivery Type             CS: 'TREATMENT'\n",
              "   (300a, 00d0) Number of Wedges                    IS: '0'\n",
              "   (300a, 00e0) Number of Compensators              IS: '0'\n",
              "   (300a, 00ed) Number of Boli                      IS: '0'\n",
              "   (300a, 00f0) Number of Blocks                    IS: '0'\n",
              "   (300a, 010e) Final Cumulative Meterset Weight    DS: '1.0'\n",
              "   (300a, 0110) Number of Control Points            IS: '2'\n",
              "   (300a, 0111)  Control Point Sequence  2 item(s) ---- \n",
              "      (300a, 0112) Control Point Index                 IS: '0'\n",
              "      (300a, 0114) Nominal Beam Energy                 DS: '6.0'\n",
              "      (300a, 0115) Dose Rate Set                       DS: '650.0'\n",
              "      (300a, 011a)  Beam Limiting Device Position Sequence  2 item(s) ---- \n",
              "         (300a, 00b8) RT Beam Limiting Device Type        CS: 'X'\n",
              "         (300a, 011c) Leaf/Jaw Positions                  DS: [-100.00000000000, 100.000000000000]\n",
              "         ---------\n",
              "         (300a, 00b8) RT Beam Limiting Device Type        CS: 'Y'\n",
              "         (300a, 011c) Leaf/Jaw Positions                  DS: [-100.00000000000, 100.000000000000]\n",
              "         ---------\n",
              "      (300a, 011e) Gantry Angle                        DS: '0.0'\n",
              "      (300a, 011f) Gantry Rotation Direction           CS: 'NONE'\n",
              "      (300a, 0120) Beam Limiting Device Angle          DS: '0.0'\n",
              "      (300a, 0121) Beam Limiting Device Rotation Direc CS: 'NONE'\n",
              "      (300a, 0122) Patient Support Angle               DS: '0.0'\n",
              "      (300a, 0123) Patient Support Rotation Direction  CS: 'NONE'\n",
              "      (300a, 0125) Table Top Eccentric Angle           DS: '0.0'\n",
              "      (300a, 0126) Table Top Eccentric Rotation Direct CS: 'NONE'\n",
              "      (300a, 0128) Table Top Vertical Position         DS: None\n",
              "      (300a, 0129) Table Top Longitudinal Position     DS: None\n",
              "      (300a, 012a) Table Top Lateral Position          DS: None\n",
              "      (300a, 012c) Isocenter Position                  DS: [235.711172833292, 244.135437110782, -724.97815409918]\n",
              "      (300a, 0130) Source to Surface Distance          DS: '898.429664831309'\n",
              "      (300a, 0134) Cumulative Meterset Weight          DS: '0.0'\n",
              "      (300c, 0050)  Referenced Dose Reference Sequence  2 item(s) ---- \n",
              "         (300a, 010c) Cumulative Dose Reference Coefficie DS: '0.0'\n",
              "         (300c, 0051) Referenced Dose Reference Number    IS: '1'\n",
              "         ---------\n",
              "         (300a, 010c) Cumulative Dose Reference Coefficie DS: '0.0'\n",
              "         (300c, 0051) Referenced Dose Reference Number    IS: '2'\n",
              "         ---------\n",
              "      ---------\n",
              "      (300a, 0112) Control Point Index                 IS: '1'\n",
              "      (300a, 0134) Cumulative Meterset Weight          DS: '1.0'\n",
              "      (300c, 0050)  Referenced Dose Reference Sequence  2 item(s) ---- \n",
              "         (300a, 010c) Cumulative Dose Reference Coefficie DS: '0.9990268'\n",
              "         (300c, 0051) Referenced Dose Reference Number    IS: '1'\n",
              "         ---------\n",
              "         (300a, 010c) Cumulative Dose Reference Coefficie DS: '1.0'\n",
              "         (300c, 0051) Referenced Dose Reference Number    IS: '2'\n",
              "         ---------\n",
              "      ---------\n",
              "   (300c, 006a) Referenced Patient Setup Number     IS: '1'\n",
              "   ---------\n",
              "(300a, 0180)  Patient Setup Sequence  1 item(s) ---- \n",
              "   (0018, 5100) Patient Position                    CS: 'HFS'\n",
              "   (300a, 0182) Patient Setup Number                IS: '1'\n",
              "   (300a, 01b2) Setup Technique Description         ST: ''\n",
              "   ---------\n",
              "(300c, 0002)  Referenced RT Plan Sequence  1 item(s) ---- \n",
              "   (0008, 1150) Referenced SOP Class UID            UI: RT Plan Storage\n",
              "   (0008, 1155) Referenced SOP Instance UID         UI: 1.9.999.999.99.9.9999.9999.20030903145128\n",
              "   (300a, 0055) RT Plan Relationship                CS: 'PREDECESSOR'\n",
              "   ---------\n",
              "(300c, 0060)  Referenced Structure Set Sequence  1 item(s) ---- \n",
              "   (0008, 1150) Referenced SOP Class UID            UI: RT Structure Set Storage\n",
              "   (0008, 1155) Referenced SOP Instance UID         UI: 1.2.333.444.55.6.7777.88888\n",
              "   ---------\n",
              "(300e, 0002) Approval Status                     CS: 'UNAPPROVED'"
            ]
          },
          "metadata": {},
          "execution_count": 17
        }
      ]
    },
    {
      "cell_type": "code",
      "source": [
        "print(ds.Modality)\n",
        "print(ds.PatientName)\n",
        "print(ds.PatientSex)"
      ],
      "metadata": {
        "colab": {
          "base_uri": "https://localhost:8080/"
        },
        "id": "W_jKCfXus-FA",
        "outputId": "891603b2-3eda-4e02-8c41-10662eb3bce8"
      },
      "execution_count": 23,
      "outputs": [
        {
          "output_type": "stream",
          "name": "stdout",
          "text": [
            "MR\n",
            "CompressedSamples^MR1\n",
            "F\n"
          ]
        }
      ]
    },
    {
      "cell_type": "code",
      "source": [
        "filename = get_testdata_file('MR_small.dcm')\n",
        "ds = pydicom.dcmread(filename)\n",
        "\n",
        "# get the pixel information into a numpy array\n",
        "print(ds.ScanningSequence, ds.MRAcquisitionType) # SE = Spin Echo\n",
        "print(ds.StudyInstanceUID)\n",
        "print(ds.SeriesInstanceUID)\n"
      ],
      "metadata": {
        "colab": {
          "base_uri": "https://localhost:8080/"
        },
        "id": "HaVahPU7tRCZ",
        "outputId": "d3e5a1b6-5beb-4a34-876e-962e97bace62"
      },
      "execution_count": 28,
      "outputs": [
        {
          "output_type": "stream",
          "name": "stdout",
          "text": [
            "SE 3D\n",
            "1.3.6.1.4.1.5962.1.2.4.20040826185059.5457\n",
            "1.3.6.1.4.1.5962.1.3.4.1.20040826185059.5457\n"
          ]
        }
      ]
    }
  ]
}