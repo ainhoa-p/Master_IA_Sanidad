{
  "nbformat": 4,
  "nbformat_minor": 0,
  "metadata": {
    "colab": {
      "provenance": [],
      "include_colab_link": true
    },
    "kernelspec": {
      "name": "python3",
      "display_name": "Python 3"
    },
    "language_info": {
      "name": "python"
    }
  },
  "cells": [
    {
      "cell_type": "markdown",
      "metadata": {
        "id": "view-in-github",
        "colab_type": "text"
      },
      "source": [
        "<a href=\"https://colab.research.google.com/github/txusser/Master_IA_Sanidad/blob/main/2_1_5_Introducci%C3%B3n_Python.ipynb\" target=\"_parent\"><img src=\"https://colab.research.google.com/assets/colab-badge.svg\" alt=\"Open In Colab\"/></a>"
      ]
    },
    {
      "cell_type": "markdown",
      "source": [
        "## Esto es una sección\n",
        "Pondremos aquí nuestro **super código**"
      ],
      "metadata": {
        "id": "y2_DPlVSuzOP"
      }
    },
    {
      "cell_type": "markdown",
      "source": [
        "\n",
        "###**--Lenguaje Markdown--**\n",
        "\n",
        "# h1\n",
        "## h2\n",
        "### h3\n",
        "#### h4\n",
        "##### h5\n",
        "###### h6\n",
        "\n",
        "*cursiva*\n",
        "\n",
        "**negrita a todo este texto** pero este no\n",
        "\n",
        "\n",
        "1. Lista ordenada\n",
        "2. Elemento 2\n",
        "3. Elemento 3\n",
        "\n",
        "* Lista no ordenada\n",
        "* Otro elemento\n",
        "\n",
        "[web](www.web.es)\n",
        "\n",
        "[enlace a AWS](https://aws.amazon.com/es/)\n",
        "\n",
        "\n",
        ">\n",
        "\n",
        "```\n",
        "# Tiene formato de código\n",
        "```\n",
        "\n",
        "```python\n",
        "print(\"hola\")\n",
        "```\n",
        "\n",
        "\n",
        " Haz [click aquí](https://colab.research.google.com/notebooks/markdown_guide.ipynb) para más info sobre el lenguaje Markdown"
      ],
      "metadata": {
        "id": "yMraTe5sOnwk"
      }
    },
    {
      "cell_type": "markdown",
      "source": [
        "## Sintaxis\n",
        "Normas que debemos cumplir para que el intérprete de Python sea capaz de leer y ejecutar el código correctamente.\n",
        "\n",
        "* Una instrucción equivale a una línea de código\n",
        "* Indentación. Cada bloque de código comparte la misma indentación\n",
        "* Comentarios. Texto que figura dentro del código pero NO se ejecuta.\n",
        "* El orden sí *importa*"
      ],
      "metadata": {
        "id": "O22wCMdbS92C"
      }
    },
    {
      "cell_type": "code",
      "source": [
        "print(\"Hola mundo\", 'que tal?')"
      ],
      "metadata": {
        "colab": {
          "base_uri": "https://localhost:8080/"
        },
        "id": "4yb4dj1jIQt3",
        "outputId": "9dde6bbc-910b-4064-e9e7-aa463392996f"
      },
      "execution_count": null,
      "outputs": [
        {
          "output_type": "stream",
          "name": "stdout",
          "text": [
            "Hola mundo que tal?\n"
          ]
        }
      ]
    },
    {
      "cell_type": "code",
      "source": [
        "# Este es un comentario\n",
        "\n",
        "\"\"\"\n",
        "Esto es un docstring\n",
        "Servirá para documentar el código\n",
        "\"\"\"\n",
        "print(\"Hola mundo\") # print(\"hola Mundo\") Voy a imprimir\n",
        "print(\"Adios mundo\")"
      ],
      "metadata": {
        "colab": {
          "base_uri": "https://localhost:8080/"
        },
        "id": "5GgQNcGsmp8v",
        "outputId": "3ee9ed2a-8a91-404a-b744-79152c12599a"
      },
      "execution_count": null,
      "outputs": [
        {
          "output_type": "stream",
          "name": "stdout",
          "text": [
            "Hola mundo\n",
            "Adios mundo\n"
          ]
        }
      ]
    },
    {
      "cell_type": "markdown",
      "source": [
        "## Funciones\n",
        "En Python, una función es un bloque de código reutilizable que realiza una tarea específica. Está definida mediante la palabra clave def seguida por un nombre descriptivo y paréntesis que pueden contener argumentos necesarios para la función.\n",
        "Las funciones se utilizan principalmente para dividir el código en unidades más pequeñas y manejables, mejorando así la legibilidad, reutilización y mantenimiento del código. Algunos usos comunes de las funciones en Python incluyen:\n",
        "\n",
        "* Reutilización de código: Definir una función permite ejecutar el mismo bloque de código varias veces en diferentes partes del programa.\n",
        "\n",
        "* Modularidad: Las funciones permiten dividir el programa en partes más pequeñas y lógicas, lo que facilita la comprensión y la depuración del código.\n",
        "\n",
        "* Abstracción: Ayudan a ocultar los detalles de implementación al usuario, proporcionando una interfaz clara y fácil de usar.\n",
        "\n",
        "* Estructuración: Organizar el código en funciones facilita la gestión y la colaboración en proyectos de programación más grandes."
      ],
      "metadata": {
        "id": "dPk_M2G8kX14"
      }
    },
    {
      "cell_type": "code",
      "source": [
        "# La estructura básica de una función en Python es:\n",
        "\n",
        "def funcion_que_no_hace_nada():\n",
        "  pass\n",
        "\n",
        "def nombre_funcion_sin_argumentos():\n",
        "  print(\"Esto está indentado\")\n",
        "  print(\"Hola Mundo en funcion sin argumentos\")\n",
        "\n",
        "nombre_funcion_sin_argumentos()\n",
        "\n",
        "def mi_funcion_print_ini(text):\n",
        "  print(text)\n",
        "\n",
        "mi_funcion_print_ini(\"hola_ini\")\n",
        "\n",
        "\n",
        "def mi_funcion_print(obligatorio, text = \"Hola sin argumentos\"):\n",
        "  print(obligatorio, text)\n",
        "\n",
        "mi_funcion_print(\" =>=> Hola\")\n",
        "\n",
        "def mi_funcion_print_return(text: str = \"Hola\"):\n",
        "  print(text)\n",
        "  return 12\n",
        "\n",
        "def mi_funcion_print(text: str = \"Hola\") -> None:\n",
        "  print(text)\n",
        "\n",
        "\n",
        "\n",
        "valor = mi_funcion_print_return()\n",
        "mi_funcion_print(text=\"Hola texto\")\n",
        "print(valor)\n"
      ],
      "metadata": {
        "colab": {
          "base_uri": "https://localhost:8080/"
        },
        "id": "cAJ71jn6TLhx",
        "outputId": "785f78fb-3be1-42c1-fc81-63d9bc793a67"
      },
      "execution_count": null,
      "outputs": [
        {
          "output_type": "stream",
          "name": "stdout",
          "text": [
            "Esto está indentado\n",
            "Hola Mundo en funcion sin argumentos\n",
            "hola_ini\n",
            " =>=> Hola Hola sin argumentos\n",
            "Hola\n",
            "Hola texto\n",
            "12\n"
          ]
        }
      ]
    },
    {
      "cell_type": "code",
      "source": [
        "# Usaremos rich para enriquecer la impresión por pantalla\n",
        "from rich import print as rprint\n",
        "from rich.console import Console\n",
        "\n",
        "rprint(\"[red]Este es un mensaje en color rojo [/red]\")\n",
        "rprint(\"[blue]Este es un mensaje en color azul[/blue]\")\n",
        "rprint(\"[green]Este es un mensaje en color verde[/green]\")\n",
        "\n",
        "console = Console()\n",
        "console.rule(\"[bold]Sección 1[/bold]\")\n",
        "x = 5\n",
        "console.log(f\"Valor de x: {5}\")\n",
        "print(\"Contenido de la sección 1\")\n"
      ],
      "metadata": {
        "colab": {
          "base_uri": "https://localhost:8080/",
          "height": 147
        },
        "id": "GVDOHwtqDf73",
        "outputId": "c845f15e-795e-47d3-bb2c-2047d79fcacb"
      },
      "execution_count": null,
      "outputs": [
        {
          "output_type": "display_data",
          "data": {
            "text/plain": [
              "\u001b[31mEste es un mensaje en color rojo \u001b[0m\n"
            ],
            "text/html": [
              "<pre style=\"white-space:pre;overflow-x:auto;line-height:normal;font-family:Menlo,'DejaVu Sans Mono',consolas,'Courier New',monospace\"><span style=\"color: #800000; text-decoration-color: #800000\">Este es un mensaje en color rojo </span>\n",
              "</pre>\n"
            ]
          },
          "metadata": {}
        },
        {
          "output_type": "display_data",
          "data": {
            "text/plain": [
              "\u001b[34mEste es un mensaje en color azul\u001b[0m\n"
            ],
            "text/html": [
              "<pre style=\"white-space:pre;overflow-x:auto;line-height:normal;font-family:Menlo,'DejaVu Sans Mono',consolas,'Courier New',monospace\"><span style=\"color: #000080; text-decoration-color: #000080\">Este es un mensaje en color azul</span>\n",
              "</pre>\n"
            ]
          },
          "metadata": {}
        },
        {
          "output_type": "display_data",
          "data": {
            "text/plain": [
              "\u001b[32mEste es un mensaje en color verde\u001b[0m\n"
            ],
            "text/html": [
              "<pre style=\"white-space:pre;overflow-x:auto;line-height:normal;font-family:Menlo,'DejaVu Sans Mono',consolas,'Courier New',monospace\"><span style=\"color: #008000; text-decoration-color: #008000\">Este es un mensaje en color verde</span>\n",
              "</pre>\n"
            ]
          },
          "metadata": {}
        },
        {
          "output_type": "display_data",
          "data": {
            "text/plain": [
              "\u001b[92m──────────────────────────────────────────────────── \u001b[0m\u001b[1mSección \u001b[0m\u001b[1;36m1\u001b[0m\u001b[92m ────────────────────────────────────────────────────\u001b[0m\n"
            ],
            "text/html": [
              "<pre style=\"white-space:pre;overflow-x:auto;line-height:normal;font-family:Menlo,'DejaVu Sans Mono',consolas,'Courier New',monospace\"><span style=\"color: #00ff00; text-decoration-color: #00ff00\">──────────────────────────────────────────────────── </span><span style=\"font-weight: bold\">Sección </span><span style=\"color: #008080; text-decoration-color: #008080; font-weight: bold\">1</span><span style=\"color: #00ff00; text-decoration-color: #00ff00\"> ────────────────────────────────────────────────────</span>\n",
              "</pre>\n"
            ]
          },
          "metadata": {}
        },
        {
          "output_type": "display_data",
          "data": {
            "text/plain": [
              "\u001b[2;36m[18:09:07]\u001b[0m\u001b[2;36m \u001b[0mValor de x: \u001b[1;36m5\u001b[0m                                                          \u001b[2m<ipython-input-2-edcf5766dc9b>:12\u001b[0m\n"
            ],
            "text/html": [
              "<pre style=\"white-space:pre;overflow-x:auto;line-height:normal;font-family:Menlo,'DejaVu Sans Mono',consolas,'Courier New',monospace\"><span style=\"color: #7fbfbf; text-decoration-color: #7fbfbf\">[18:09:07] </span>Valor de x: <span style=\"color: #008080; text-decoration-color: #008080; font-weight: bold\">5</span>                                                          <span style=\"color: #7f7f7f; text-decoration-color: #7f7f7f\">&lt;ipython-input-2-edcf5766dc9b&gt;:12</span>\n",
              "</pre>\n"
            ]
          },
          "metadata": {}
        },
        {
          "output_type": "stream",
          "name": "stdout",
          "text": [
            "Contenido de la sección 1\n"
          ]
        }
      ]
    },
    {
      "cell_type": "markdown",
      "source": [
        "## Variables en python\n",
        "Las variables en Python son nombres que se utilizan para hacer referencia a valores almacenados en la memoria durante la ejecución del programa. Algunas características importantes de las variables en Python son:\n",
        "\n",
        "* Empiezan con una letra minúscula o un guion bajo (`_`), pero nunca con un número.\n",
        "* Pueden contener caracteres alfanuméricos y guiones bajos (`_`).\n",
        "* Son sensibles a las mayúsculas y minúsculas, lo que significa que `nombre`, `Nombre` y `NOMBRE` son considerados nombres de variables distintos.\n"
      ],
      "metadata": {
        "id": "yrKpABcvTMzG"
      }
    },
    {
      "cell_type": "code",
      "execution_count": null,
      "metadata": {
        "colab": {
          "base_uri": "https://localhost:8080/",
          "height": 615
        },
        "id": "NpV0CcHOSEtT",
        "outputId": "2039413b-cb99-452b-f5cd-908a46a5a1aa"
      },
      "outputs": [
        {
          "output_type": "display_data",
          "data": {
            "text/plain": [
              "\u001b[92m──────────────────────────────────────────────────── \u001b[0m\u001b[1mVaribles\u001b[0m\u001b[92m ─────────────────────────────────────────────────────\u001b[0m\n"
            ],
            "text/html": [
              "<pre style=\"white-space:pre;overflow-x:auto;line-height:normal;font-family:Menlo,'DejaVu Sans Mono',consolas,'Courier New',monospace\"><span style=\"color: #00ff00; text-decoration-color: #00ff00\">──────────────────────────────────────────────────── </span><span style=\"font-weight: bold\">Varibles</span><span style=\"color: #00ff00; text-decoration-color: #00ff00\"> ─────────────────────────────────────────────────────</span>\n",
              "</pre>\n"
            ]
          },
          "metadata": {}
        },
        {
          "output_type": "stream",
          "name": "stdout",
          "text": [
            "x: 42  texto\n",
            "Variable x: 42\n",
            "Tipo de datos x: <class 'int'>\n",
            "nombre_varibale_ento_que_quiera: 15657\n",
            "Valor nuevo de x: 43\n"
          ]
        },
        {
          "output_type": "display_data",
          "data": {
            "text/plain": [
              "\u001b[92m───────────────────────────────────────────────────── \u001b[0mEnteros\u001b[92m ─────────────────────────────────────────────────────\u001b[0m\n"
            ],
            "text/html": [
              "<pre style=\"white-space:pre;overflow-x:auto;line-height:normal;font-family:Menlo,'DejaVu Sans Mono',consolas,'Courier New',monospace\"><span style=\"color: #00ff00; text-decoration-color: #00ff00\">───────────────────────────────────────────────────── </span>Enteros<span style=\"color: #00ff00; text-decoration-color: #00ff00\"> ─────────────────────────────────────────────────────</span>\n",
              "</pre>\n"
            ]
          },
          "metadata": {}
        },
        {
          "output_type": "stream",
          "name": "stdout",
          "text": [
            "Variable X: 43\n",
            "Tipo de datos x: <class 'int'>\n"
          ]
        },
        {
          "output_type": "display_data",
          "data": {
            "text/plain": [
              "\u001b[92m──────────────────────────────────────────────────── \u001b[0mDecimales\u001b[92m ────────────────────────────────────────────────────\u001b[0m\n"
            ],
            "text/html": [
              "<pre style=\"white-space:pre;overflow-x:auto;line-height:normal;font-family:Menlo,'DejaVu Sans Mono',consolas,'Courier New',monospace\"><span style=\"color: #00ff00; text-decoration-color: #00ff00\">──────────────────────────────────────────────────── </span>Decimales<span style=\"color: #00ff00; text-decoration-color: #00ff00\"> ────────────────────────────────────────────────────</span>\n",
              "</pre>\n"
            ]
          },
          "metadata": {}
        },
        {
          "output_type": "stream",
          "name": "stdout",
          "text": [
            "Variable x: 15265.4264635\n",
            "Tipo de datos x: <class 'float'>\n",
            "Variable x: 15265.426463554655\n",
            "Tipo de datos x: <class 'float'>\n"
          ]
        },
        {
          "output_type": "display_data",
          "data": {
            "text/plain": [
              "\u001b[92m─────────────────────────────────────────────────── \u001b[0mCaracteres\u001b[92m ────────────────────────────────────────────────────\u001b[0m\n"
            ],
            "text/html": [
              "<pre style=\"white-space:pre;overflow-x:auto;line-height:normal;font-family:Menlo,'DejaVu Sans Mono',consolas,'Courier New',monospace\"><span style=\"color: #00ff00; text-decoration-color: #00ff00\">─────────────────────────────────────────────────── </span>Caracteres<span style=\"color: #00ff00; text-decoration-color: #00ff00\"> ────────────────────────────────────────────────────</span>\n",
              "</pre>\n"
            ]
          },
          "metadata": {}
        },
        {
          "output_type": "stream",
          "name": "stdout",
          "text": [
            "Variable x: Hola mundo\n",
            "Tipo de datos x: <class 'str'>\n",
            "y:  Cadena larga\n",
            "de caracteres\n",
            "\n"
          ]
        },
        {
          "output_type": "display_data",
          "data": {
            "text/plain": [
              "\u001b[92m──────────────────────────────────────────────────── \u001b[0mBooleanos\u001b[92m ────────────────────────────────────────────────────\u001b[0m\n"
            ],
            "text/html": [
              "<pre style=\"white-space:pre;overflow-x:auto;line-height:normal;font-family:Menlo,'DejaVu Sans Mono',consolas,'Courier New',monospace\"><span style=\"color: #00ff00; text-decoration-color: #00ff00\">──────────────────────────────────────────────────── </span>Booleanos<span style=\"color: #00ff00; text-decoration-color: #00ff00\"> ────────────────────────────────────────────────────</span>\n",
              "</pre>\n"
            ]
          },
          "metadata": {}
        },
        {
          "output_type": "stream",
          "name": "stdout",
          "text": [
            "Variable x1: False\n",
            "Variable x2: True\n",
            "Tipo de datos x1: <class 'bool'>\n"
          ]
        },
        {
          "output_type": "display_data",
          "data": {
            "text/plain": [
              "\u001b[92m────────────────────────────────────────────────────── \u001b[0mNulos\u001b[92m ──────────────────────────────────────────────────────\u001b[0m\n"
            ],
            "text/html": [
              "<pre style=\"white-space:pre;overflow-x:auto;line-height:normal;font-family:Menlo,'DejaVu Sans Mono',consolas,'Courier New',monospace\"><span style=\"color: #00ff00; text-decoration-color: #00ff00\">────────────────────────────────────────────────────── </span>Nulos<span style=\"color: #00ff00; text-decoration-color: #00ff00\"> ──────────────────────────────────────────────────────</span>\n",
              "</pre>\n"
            ]
          },
          "metadata": {}
        },
        {
          "output_type": "stream",
          "name": "stdout",
          "text": [
            "fVariable x: {x}\n",
            "Tipo de datos x: <class 'NoneType'>\n"
          ]
        }
      ],
      "source": [
        "console.rule(\"[bold]Varibles[/bold]\")\n",
        "\n",
        "# Tipos de variables\n",
        "# Debemos inicializar las variables\n",
        "x = 42  # Entero (int)\n",
        "X = 42  # Entero (int)\n",
        "print(\"x:\", x, \" texto\")\n",
        "print(f\"Variable x: {x}\")\n",
        "print(f\"Tipo de datos x: {type(x)}\")\n",
        "nombre_varibale_ento_que_quiera = 15657\n",
        "print(f\"nombre_varibale_ento_que_quiera: {nombre_varibale_ento_que_quiera}\")\n",
        "\n",
        "x = 43\n",
        "print(\"Valor nuevo de x:\", x)\n",
        "\n",
        "console.rule(\"Enteros\")\n",
        "X = 42 + 1\n",
        "print(f\"Variable X: {X}\")\n",
        "print(f\"Tipo de datos x: {type(x)}\") # Método built-in\n",
        "\n",
        "console.rule(\"Decimales\")\n",
        "x = 15265.4264635 # Flotante (float)\n",
        "print(f\"Variable x: {x}\")\n",
        "print(f\"Tipo de datos x: {type(x)}\")\n",
        "\n",
        "x = 15265.4264635546549849845641524135465479879 # Flotante (float)\n",
        "print(f\"Variable x: {x}\")\n",
        "print(f\"Tipo de datos x: {type(x)}\")\n",
        "\n",
        "console.rule(\"Caracteres\")\n",
        "x = \"Hola mundo\"\n",
        "print(f\"Variable x: {x}\")\n",
        "print(f\"Tipo de datos x: {type(x)}\")\n",
        "\n",
        "# Cadena de texto (str)\n",
        "y = \"\"\" Cadena larga\n",
        "de caracteres\n",
        "\"\"\"\n",
        "print(\"y:\", y)\n",
        "\n",
        "\n",
        "console.rule(\"Booleanos\")\n",
        "x1 = False  # Valor booleano (bool)\n",
        "x2 = True\n",
        "print(f\"Variable x1: {x1}\")\n",
        "print(f\"Variable x2: {x2}\")\n",
        "print(f\"Tipo de datos x1: {type(x1)}\")\n",
        "\n",
        "console.rule(\"Nulos\")\n",
        "x = None  # Valor nulo (None)\n",
        "print(\"fVariable x: {x}\")\n",
        "print(f\"Tipo de datos x: {type(x)}\")"
      ]
    },
    {
      "cell_type": "markdown",
      "source": [
        "## Listas y Diccionarios\n",
        "* Una lista es una secuencia mutable y ordenada de elementos. Como tal, puede ser indexada, cortada y modificada. Se puede acceder a cada elemento utilizando su posición en la lista. Lo mismo ocurre con tu agenda, donde puedes modificar el orden en el que haces las cosas e incluso reprogramar una serie de tareas para el día siguiente si es necesario.\n",
        "\n",
        "* Un diccionario es un conjunto mutable y desordenado de pares clave-valor donde cada clave debe ser única. Para acceder a un elemento determinado, debemos referirnos a él utilizando su clave, de forma parecida a como se buscaría una palabra en un diccionario escolar.\n",
        "\n",
        "Estas estructuras de datos son fundamentales en Python y proporcionan herramientas poderosas para organizar y manipular información de manera eficiente en programas y aplicaciones."
      ],
      "metadata": {
        "id": "p5mN2XmmT-pa"
      }
    },
    {
      "cell_type": "markdown",
      "source": [
        "## Listas"
      ],
      "metadata": {
        "id": "NhSKngCRqSvB"
      }
    },
    {
      "cell_type": "code",
      "source": [
        "console.rule(\"[yellow]================ Listas =========================[/yellow]\")\n",
        "console.rule(\"Lista base\")\n",
        "\n",
        "x = [1, 2, 7, 4, 5]\n",
        "y = [1.72134]\n",
        "z = [\"A\", \"B\"]\n",
        "a = [False, False, True]\n",
        "b = [None]\n",
        "\n",
        "print(f\"Valor de x: {x}\")\n",
        "print(f\"Valor de y: {y}\")\n",
        "print(f\"Valor de z: {z}\")\n",
        "print(f\"Valor de a: {a}\")\n",
        "print(f\"Valor de b: {b}\")\n",
        "\n",
        "print(\"Muestra el valor 5:\", x[4])\n",
        "\n",
        "console.rule(\"Indexación\")\n",
        "# Indexación\n",
        "print(f\"Valor del índice 0: {x[0]}\")\n",
        "print(f\"Valor de la posición 3: {x[2]}\")\n",
        "print(f\"Lista x: {x}\")\n",
        "\n",
        "# Seleccionamos valores según el índice (slicing)\n",
        "print(\"\\n Slicing:\")\n",
        "print(\"x:\", x)\n",
        "print(f\"x[3:]: {x[3:]}\")  # Slice desde el tercer elemento hasta el final\n",
        "print(f\"x[:]: {x[:]}\")  # Slice que devuelve la lista completa\n",
        "print(f\"x[-3:]: {x[-3:]}\")  # Slice que devuelve los tres últimos\n",
        "print(f\"x[:-2] {x[:-2]}\")\n",
        "\n",
        "console.rule(\"Operaciones\")\n",
        "x3 = x * 3  # Repetir la lista x\n",
        "print(f\"Lista x triplicada: {x3}\")\n",
        "\n",
        "z = [i * 2 for i in x]  # Crear una nueva lista z multiplicando cada elemento de x por 2\n",
        "print(f\"Lista z: {z}\")\n",
        "\n",
        "# Concatenar ambas listas\n",
        "y = [3.5, 1, 2, 3.7, 5.5]\n",
        "print(f\"Concatenación de x y y: {x + y}\")  # Concatenar las listas x e y\n",
        "\n",
        "# No podemos operar listas de caracteres y númericas\n",
        "z = [\"A\", \"ncd\"]\n",
        "print(\"z:\", z)\n",
        "\n",
        "print(\"z+y:\", z+y)"
      ],
      "metadata": {
        "colab": {
          "base_uri": "https://localhost:8080/",
          "height": 572
        },
        "id": "D0td69KKUPeI",
        "outputId": "72086460-ce3f-4b06-ce80-b21bbd2754cc"
      },
      "execution_count": null,
      "outputs": [
        {
          "output_type": "display_data",
          "data": {
            "text/plain": [
              "\u001b[92m──────────────────────────────── \u001b[0m\u001b[33m================ Listas =========================\u001b[0m\u001b[92m ────────────────────────────────\u001b[0m\n"
            ],
            "text/html": [
              "<pre style=\"white-space:pre;overflow-x:auto;line-height:normal;font-family:Menlo,'DejaVu Sans Mono',consolas,'Courier New',monospace\"><span style=\"color: #00ff00; text-decoration-color: #00ff00\">──────────────────────────────── </span><span style=\"color: #808000; text-decoration-color: #808000\">================ Listas =========================</span><span style=\"color: #00ff00; text-decoration-color: #00ff00\"> ────────────────────────────────</span>\n",
              "</pre>\n"
            ]
          },
          "metadata": {}
        },
        {
          "output_type": "display_data",
          "data": {
            "text/plain": [
              "\u001b[92m─────────────────────────────────────────────────── \u001b[0mLista base\u001b[92m ────────────────────────────────────────────────────\u001b[0m\n"
            ],
            "text/html": [
              "<pre style=\"white-space:pre;overflow-x:auto;line-height:normal;font-family:Menlo,'DejaVu Sans Mono',consolas,'Courier New',monospace\"><span style=\"color: #00ff00; text-decoration-color: #00ff00\">─────────────────────────────────────────────────── </span>Lista base<span style=\"color: #00ff00; text-decoration-color: #00ff00\"> ────────────────────────────────────────────────────</span>\n",
              "</pre>\n"
            ]
          },
          "metadata": {}
        },
        {
          "output_type": "stream",
          "name": "stdout",
          "text": [
            "Valor de x: [1, 2, 7, 4, 5]\n",
            "Valor de y: [1.72134]\n",
            "Valor de z: ['A', 'B']\n",
            "Valor de a: [False, False, True]\n",
            "Valor de b: [None]\n",
            "Muestra el valor 5: 5\n"
          ]
        },
        {
          "output_type": "display_data",
          "data": {
            "text/plain": [
              "\u001b[92m─────────────────────────────────────────────────── \u001b[0mIndexación\u001b[92m ────────────────────────────────────────────────────\u001b[0m\n"
            ],
            "text/html": [
              "<pre style=\"white-space:pre;overflow-x:auto;line-height:normal;font-family:Menlo,'DejaVu Sans Mono',consolas,'Courier New',monospace\"><span style=\"color: #00ff00; text-decoration-color: #00ff00\">─────────────────────────────────────────────────── </span>Indexación<span style=\"color: #00ff00; text-decoration-color: #00ff00\"> ────────────────────────────────────────────────────</span>\n",
              "</pre>\n"
            ]
          },
          "metadata": {}
        },
        {
          "output_type": "stream",
          "name": "stdout",
          "text": [
            "Valor del índice 0: 1\n",
            "Valor de la posición 3: 7\n",
            "Lista x: [1, 2, 7, 4, 5]\n",
            "\n",
            " Slicing:\n",
            "x: [1, 2, 7, 4, 5]\n",
            "x[3:]: [4, 5]\n",
            "x[:]: [1, 2, 7, 4, 5]\n",
            "x[-3:]: [7, 4, 5]\n",
            "x[:-2] [1, 2, 7]\n"
          ]
        },
        {
          "output_type": "display_data",
          "data": {
            "text/plain": [
              "\u001b[92m─────────────────────────────────────────────────── \u001b[0mOperaciones\u001b[92m ───────────────────────────────────────────────────\u001b[0m\n"
            ],
            "text/html": [
              "<pre style=\"white-space:pre;overflow-x:auto;line-height:normal;font-family:Menlo,'DejaVu Sans Mono',consolas,'Courier New',monospace\"><span style=\"color: #00ff00; text-decoration-color: #00ff00\">─────────────────────────────────────────────────── </span>Operaciones<span style=\"color: #00ff00; text-decoration-color: #00ff00\"> ───────────────────────────────────────────────────</span>\n",
              "</pre>\n"
            ]
          },
          "metadata": {}
        },
        {
          "output_type": "stream",
          "name": "stdout",
          "text": [
            "Lista x triplicada: [1, 2, 7, 4, 5, 1, 2, 7, 4, 5, 1, 2, 7, 4, 5]\n",
            "Lista z: [2, 4, 14, 8, 10]\n",
            "Concatenación de x y y: [1, 2, 7, 4, 5, 3.5, 1, 2, 3.7, 5.5]\n",
            "z: ['A', 'ncd']\n",
            "z+y: ['A', 'ncd', 3.5, 1, 2, 3.7, 5.5]\n"
          ]
        }
      ]
    },
    {
      "cell_type": "markdown",
      "source": [
        "## Diccionarios"
      ],
      "metadata": {
        "id": "Z_4PZPcMqiS8"
      }
    },
    {
      "cell_type": "code",
      "source": [
        "console.rule(\"[yellow]================ Diccionarios =========================[/yellow]\")\n",
        "\n",
        "console.rule(\"Diccionario vacio\")\n",
        "# Crear un diccionario vacío\n",
        "mi_lista = []\n",
        "mi_diccionario = {}\n",
        "print(\"mi_diccionario =\", mi_diccionario)\n",
        "\n",
        "console.rule(\"Diccionario con diversas claves\")\n",
        "# Crear un diccionario con elementos predefinidos\n",
        "valor1, valor2, valor3 = 73.42, \"casa\", False\n",
        "mi_diccionario = {\"clave1\": valor1, 'clave2': valor2, 'clave3': valor3}\n",
        "print(\"mi_diccionario =\", mi_diccionario)\n",
        "\n",
        "console.rule(\"Acceso a elementos\")\n",
        "# Acceder al valor de un elemento utilizando su clave\n",
        "mi_diccionario = {\n",
        "    'nombre': 'Juan',\n",
        "    'edad': 25,\n",
        "    'ciudad':\n",
        "    'Madrid',\n",
        "    'tlf': 555666555\n",
        "  }\n",
        "print(\"mi_diccionario:\", mi_diccionario)\n",
        "print(\"mi_diccionario['nombre'] =\", mi_diccionario['nombre'])  # Imprime 'Juan'\n",
        "print(\"mi_diccionario['edad'] =\", mi_diccionario['edad'])  # Imprime 25\n",
        "\n",
        "nombres = ['Juan', 'Ana', 'María']\n",
        "edades = [25, 89, 42]\n",
        "dict = {\n",
        "    \"nombre\": nombres,\n",
        "    \"edades\": edades\n",
        "}\n",
        "print(\"dict:\", dict)\n",
        "\n",
        "console.rule(\"Modificar\")\n",
        "# Modificar el valor de un elemento\n",
        "mi_diccionario['edad'] = 30\n",
        "print(\"mi_diccionario['edad'] ha sido modificado. Nuevo valor:\", mi_diccionario['edad'])  # Imprime 30\n",
        "\n",
        "console.rule(\"Agregar\")\n",
        "# Agregar un nuevo elemento al diccionario\n",
        "mi_diccionario['profesion'] = 'Ingeniero'\n",
        "print(\"Nuevo elemento agregado:\", mi_diccionario)  # Imprime {'nombre': 'Juan', 'edad': 30, 'ciudad': 'Madrid', 'profesion': 'Ingeniero'}\n",
        "\n",
        "console.rule(\"Eliminar\")\n",
        "# Eliminar un elemento del diccionario utilizando su clave\n",
        "del mi_diccionario['ciudad']\n",
        "print(\"Elemento 'ciudad' eliminado. Nuevo diccionario:\", mi_diccionario)  # Imprime {'nombre': 'Juan', 'edad': 30, 'profesion': 'Ingeniero'}\n",
        "\n",
        "console.rule(\"Imprimir pares clave/valor\")\n",
        "# Obtener la lista de claves y valores del diccionario\n",
        "print(\"Claves del diccionario:\", list(mi_diccionario.keys()))  # Imprime ['nombre', 'edad', 'profesion']\n",
        "print(\"Valores del diccionario:\", mi_diccionario.values())  # Imprime ['Juan', 30, 'Ingeniero']\n",
        "print(\"Elementos del diccionario:\", mi_diccionario.items())  # Imprime [('nombre', 'Juan'), ('edad', 30), ('profesion', 'Ingeniero')]\n"
      ],
      "metadata": {
        "colab": {
          "base_uri": "https://localhost:8080/",
          "height": 458
        },
        "id": "nYnC2pzo6YDE",
        "outputId": "c7e0acd9-79fc-4dcf-d7b3-c6805279b378"
      },
      "execution_count": null,
      "outputs": [
        {
          "output_type": "display_data",
          "data": {
            "text/plain": [
              "\u001b[92m───────────────────────────── \u001b[0m\u001b[33m================ Diccionarios =========================\u001b[0m\u001b[92m ─────────────────────────────\u001b[0m\n"
            ],
            "text/html": [
              "<pre style=\"white-space:pre;overflow-x:auto;line-height:normal;font-family:Menlo,'DejaVu Sans Mono',consolas,'Courier New',monospace\"><span style=\"color: #00ff00; text-decoration-color: #00ff00\">───────────────────────────── </span><span style=\"color: #808000; text-decoration-color: #808000\">================ Diccionarios =========================</span><span style=\"color: #00ff00; text-decoration-color: #00ff00\"> ─────────────────────────────</span>\n",
              "</pre>\n"
            ]
          },
          "metadata": {}
        },
        {
          "output_type": "display_data",
          "data": {
            "text/plain": [
              "\u001b[92m──────────────────────────────────────────────── \u001b[0mDiccionario vacio\u001b[92m ────────────────────────────────────────────────\u001b[0m\n"
            ],
            "text/html": [
              "<pre style=\"white-space:pre;overflow-x:auto;line-height:normal;font-family:Menlo,'DejaVu Sans Mono',consolas,'Courier New',monospace\"><span style=\"color: #00ff00; text-decoration-color: #00ff00\">──────────────────────────────────────────────── </span>Diccionario vacio<span style=\"color: #00ff00; text-decoration-color: #00ff00\"> ────────────────────────────────────────────────</span>\n",
              "</pre>\n"
            ]
          },
          "metadata": {}
        },
        {
          "output_type": "stream",
          "name": "stdout",
          "text": [
            "mi_diccionario = {}\n"
          ]
        },
        {
          "output_type": "display_data",
          "data": {
            "text/plain": [
              "\u001b[92m───────────────────────────────────────── \u001b[0mDiccionario con diversas claves\u001b[92m ─────────────────────────────────────────\u001b[0m\n"
            ],
            "text/html": [
              "<pre style=\"white-space:pre;overflow-x:auto;line-height:normal;font-family:Menlo,'DejaVu Sans Mono',consolas,'Courier New',monospace\"><span style=\"color: #00ff00; text-decoration-color: #00ff00\">───────────────────────────────────────── </span>Diccionario con diversas claves<span style=\"color: #00ff00; text-decoration-color: #00ff00\"> ─────────────────────────────────────────</span>\n",
              "</pre>\n"
            ]
          },
          "metadata": {}
        },
        {
          "output_type": "stream",
          "name": "stdout",
          "text": [
            "mi_diccionario = {'clave1': 73.42, 'clave2': 'casa', 'clave3': False}\n"
          ]
        },
        {
          "output_type": "display_data",
          "data": {
            "text/plain": [
              "\u001b[92m─────────────────────────────────────────────── \u001b[0mAcceso a elementos\u001b[92m ────────────────────────────────────────────────\u001b[0m\n"
            ],
            "text/html": [
              "<pre style=\"white-space:pre;overflow-x:auto;line-height:normal;font-family:Menlo,'DejaVu Sans Mono',consolas,'Courier New',monospace\"><span style=\"color: #00ff00; text-decoration-color: #00ff00\">─────────────────────────────────────────────── </span>Acceso a elementos<span style=\"color: #00ff00; text-decoration-color: #00ff00\"> ────────────────────────────────────────────────</span>\n",
              "</pre>\n"
            ]
          },
          "metadata": {}
        },
        {
          "output_type": "stream",
          "name": "stdout",
          "text": [
            "mi_diccionario: {'nombre': 'Juan', 'edad': 25, 'ciudad': 'Madrid', 'tlf': 555666555}\n",
            "mi_diccionario['nombre'] = Juan\n",
            "mi_diccionario['edad'] = 25\n",
            "dict: {'nombre': ['Juan', 'Ana', 'María'], 'edades': [25, 89, 42]}\n"
          ]
        },
        {
          "output_type": "display_data",
          "data": {
            "text/plain": [
              "\u001b[92m──────────────────────────────────────────────────── \u001b[0mModificar\u001b[92m ────────────────────────────────────────────────────\u001b[0m\n"
            ],
            "text/html": [
              "<pre style=\"white-space:pre;overflow-x:auto;line-height:normal;font-family:Menlo,'DejaVu Sans Mono',consolas,'Courier New',monospace\"><span style=\"color: #00ff00; text-decoration-color: #00ff00\">──────────────────────────────────────────────────── </span>Modificar<span style=\"color: #00ff00; text-decoration-color: #00ff00\"> ────────────────────────────────────────────────────</span>\n",
              "</pre>\n"
            ]
          },
          "metadata": {}
        },
        {
          "output_type": "stream",
          "name": "stdout",
          "text": [
            "mi_diccionario['edad'] ha sido modificado. Nuevo valor: 30\n"
          ]
        },
        {
          "output_type": "display_data",
          "data": {
            "text/plain": [
              "\u001b[92m───────────────────────────────────────────────────── \u001b[0mAgregar\u001b[92m ─────────────────────────────────────────────────────\u001b[0m\n"
            ],
            "text/html": [
              "<pre style=\"white-space:pre;overflow-x:auto;line-height:normal;font-family:Menlo,'DejaVu Sans Mono',consolas,'Courier New',monospace\"><span style=\"color: #00ff00; text-decoration-color: #00ff00\">───────────────────────────────────────────────────── </span>Agregar<span style=\"color: #00ff00; text-decoration-color: #00ff00\"> ─────────────────────────────────────────────────────</span>\n",
              "</pre>\n"
            ]
          },
          "metadata": {}
        },
        {
          "output_type": "stream",
          "name": "stdout",
          "text": [
            "Nuevo elemento agregado: {'nombre': 'Juan', 'edad': 30, 'ciudad': 'Madrid', 'tlf': 555666555, 'profesion': 'Ingeniero'}\n"
          ]
        },
        {
          "output_type": "display_data",
          "data": {
            "text/plain": [
              "\u001b[92m──────────────────────────────────────────────────── \u001b[0mEliminar\u001b[92m ─────────────────────────────────────────────────────\u001b[0m\n"
            ],
            "text/html": [
              "<pre style=\"white-space:pre;overflow-x:auto;line-height:normal;font-family:Menlo,'DejaVu Sans Mono',consolas,'Courier New',monospace\"><span style=\"color: #00ff00; text-decoration-color: #00ff00\">──────────────────────────────────────────────────── </span>Eliminar<span style=\"color: #00ff00; text-decoration-color: #00ff00\"> ─────────────────────────────────────────────────────</span>\n",
              "</pre>\n"
            ]
          },
          "metadata": {}
        },
        {
          "output_type": "stream",
          "name": "stdout",
          "text": [
            "Elemento 'ciudad' eliminado. Nuevo diccionario: {'nombre': 'Juan', 'edad': 30, 'tlf': 555666555, 'profesion': 'Ingeniero'}\n"
          ]
        },
        {
          "output_type": "display_data",
          "data": {
            "text/plain": [
              "\u001b[92m─────────────────────────────────────────── \u001b[0mImprimir pares clave/valor\u001b[92m ────────────────────────────────────────────\u001b[0m\n"
            ],
            "text/html": [
              "<pre style=\"white-space:pre;overflow-x:auto;line-height:normal;font-family:Menlo,'DejaVu Sans Mono',consolas,'Courier New',monospace\"><span style=\"color: #00ff00; text-decoration-color: #00ff00\">─────────────────────────────────────────── </span>Imprimir pares clave/valor<span style=\"color: #00ff00; text-decoration-color: #00ff00\"> ────────────────────────────────────────────</span>\n",
              "</pre>\n"
            ]
          },
          "metadata": {}
        },
        {
          "output_type": "stream",
          "name": "stdout",
          "text": [
            "Claves del diccionario: ['nombre', 'edad', 'tlf', 'profesion']\n",
            "Valores del diccionario: dict_values(['Juan', 30, 555666555, 'Ingeniero'])\n",
            "Elementos del diccionario: dict_items([('nombre', 'Juan'), ('edad', 30), ('tlf', 555666555), ('profesion', 'Ingeniero')])\n"
          ]
        }
      ]
    },
    {
      "cell_type": "markdown",
      "source": [
        "# Condicionales y de Comparación\n",
        "\n",
        "En Python, los condicionales y las comparaciones permiten controlar el flujo de ejecución del programa basado en condiciones evaluadas como verdaderas (`True`) o falsas (`False`). Aquí tienes una descripción mejorada:\n",
        "\n",
        "La evaluación de una condición siempre ocurre:\n",
        "\n",
        "* Si la condición se evalúa como `True`, se ejecuta el bloque de sentencias indentado que sigue a la condición.\n",
        "* Si la condición se evalúa como `False`, el bloque de sentencias indentado no se ejecuta y el programa continúa con las instrucciones siguientes.\n",
        "\n",
        "Los condicionales en Python suelen estar estructurados utilizando la palabra clave `if` para la evaluación inicial de una condición. Además, pueden incluir otras palabras clave como `elif` (abreviatura de \"else if\") y `else` para manejar múltiples casos de condiciones. Esto permite construir lógica compleja y tomar decisiones basadas en diferentes situaciones dentro del programa.\n",
        "\n",
        "Los operadores de comparación, como `==`, `!=`, `<`, `>`, `<=`, `>=`, se utilizan para comparar valores y generar resultados booleanos (`True` o `False`). Estos operadores son fundamentales para construir condiciones significativas que guíen el comportamiento del programa según las circunstancias evaluadas."
      ],
      "metadata": {
        "id": "Fd1t3yc2UQSz"
      }
    },
    {
      "cell_type": "code",
      "source": [
        "console.rule(\"[bold]Condicionales[/bold]\")\n",
        "\n",
        "console.rule(\"Comparación variables\")\n",
        "\n",
        "a = 5\n",
        "b = 6\n",
        "print(f\"a: {a}, b: {b}\")\n",
        "\n",
        "a, b = 1.4, 2.88\n",
        "print(f\"a: {a}, b: {b}\")\n",
        "\n",
        "if a == b:\n",
        "  print(\"iguales\")\n",
        "else:\n",
        "  print(\"Las variables son diferentes\")\n",
        "\n",
        "if a == b:\n",
        "  print(\"Iguales\")\n",
        "elif a < b:\n",
        "  print(\" - A menor que B\")\n",
        "else:\n",
        "  print(\" - A es mayor que b\")\n",
        "\n",
        "\n",
        "if a != b:\n",
        "  print(\" => No son iguales\")\n",
        "\n",
        "print(\"Son iguales?\", a == b)\n",
        "\n",
        "x = True\n",
        "y = False\n",
        "print(\" x es igual a y:\", x==y)\n",
        "print(\"x:\",x)\n",
        "\n",
        "# a, b = 'casa', 'let'\n",
        "a = 42\n",
        "b = 73\n",
        "a, b, c = 42, 73, 13\n",
        "print(\"a menor que b\", a < b)\n",
        "print(\"a es igual a b?\", a != b)\n",
        "\n",
        "s1 = \"aF\"\n",
        "s2 = \"Adios\"\n",
        "s2 = \"HolaMundo\"\n",
        "print(\" - s1 es igual a s2:\", s1==s2)\n",
        "print(\"s1 < s2:\", s1 < s2)\n",
        "\n",
        "print(len(\"s1wet\") < len(\"s23\"))\n",
        "\n"
      ],
      "metadata": {
        "colab": {
          "base_uri": "https://localhost:8080/",
          "height": 350
        },
        "id": "ihpp7mMcUkjG",
        "outputId": "d9edd716-2c72-490e-9bf3-f8706cb38397"
      },
      "execution_count": null,
      "outputs": [
        {
          "output_type": "display_data",
          "data": {
            "text/plain": [
              "\u001b[92m────────────────────────────────────────────────── \u001b[0m\u001b[1mCondicionales\u001b[0m\u001b[92m ──────────────────────────────────────────────────\u001b[0m\n"
            ],
            "text/html": [
              "<pre style=\"white-space:pre;overflow-x:auto;line-height:normal;font-family:Menlo,'DejaVu Sans Mono',consolas,'Courier New',monospace\"><span style=\"color: #00ff00; text-decoration-color: #00ff00\">────────────────────────────────────────────────── </span><span style=\"font-weight: bold\">Condicionales</span><span style=\"color: #00ff00; text-decoration-color: #00ff00\"> ──────────────────────────────────────────────────</span>\n",
              "</pre>\n"
            ]
          },
          "metadata": {}
        },
        {
          "output_type": "display_data",
          "data": {
            "text/plain": [
              "\u001b[92m────────────────────────────────────────────── \u001b[0mComparación variables\u001b[92m ──────────────────────────────────────────────\u001b[0m\n"
            ],
            "text/html": [
              "<pre style=\"white-space:pre;overflow-x:auto;line-height:normal;font-family:Menlo,'DejaVu Sans Mono',consolas,'Courier New',monospace\"><span style=\"color: #00ff00; text-decoration-color: #00ff00\">────────────────────────────────────────────── </span>Comparación variables<span style=\"color: #00ff00; text-decoration-color: #00ff00\"> ──────────────────────────────────────────────</span>\n",
              "</pre>\n"
            ]
          },
          "metadata": {}
        },
        {
          "output_type": "stream",
          "name": "stdout",
          "text": [
            "a: 5, b: 6\n",
            "a: 1.4, b: 2.88\n",
            "Las variables son diferentes\n",
            " - A menor que B\n",
            " => No son iguales\n",
            "Son iguales? False\n",
            " x es igual a y: False\n",
            "x: True\n",
            "a menor que b True\n",
            "a es igual a b? True\n",
            " - s1 es igual a s2: False\n",
            "s1 < s2: False\n",
            "False\n"
          ]
        }
      ]
    },
    {
      "cell_type": "markdown",
      "source": [
        "## Bucles de ejecución\n",
        "### Bucles de Ejecución en Python\n",
        "\n",
        "Los bucles son herramientas fundamentales en la programación que permiten repetir un bloque de código múltiples veces. En Python, existen dos tipos principales de bucles:\n",
        "\n",
        "**1. Bucle `for`:**\n",
        "   - El bucle `for` se utiliza para iterar sobre una secuencia de elementos, como listas, tuplas, diccionarios o rangos.\n",
        "   - Se ejecuta un número predefinido de veces, una vez para cada elemento de la secuencia.\n",
        "   - La sintaxis básica del bucle `for` es:\n",
        "     ```python\n",
        "     for elemento in secuencia:\n",
        "         # Bloque de código indentado que se ejecuta para cada elemento\n",
        "     ```\n",
        "   - Dentro del bucle `for`, `elemento` hace referencia a cada elemento sucesivo de la secuencia en cada iteración.\n",
        "\n",
        "**2. Bucle `while`:**\n",
        "   - El bucle `while` se utiliza para repetir un bloque de código mientras una condición específica sea verdadera.\n",
        "   - La condición se evalúa antes de cada iteración. Si es verdadera, se ejecuta el bloque de código; si es falsa, el bucle se detiene.\n",
        "   - La sintaxis básica del bucle `while` es:\n",
        "     ```python\n",
        "     while condicion:\n",
        "         # Bloque de código indentado que se ejecuta mientras la condición sea verdadera\n",
        "     ```\n",
        "   - Es importante tener cuidado con los bucles `while` para evitar bucles infinitos si la condición nunca se vuelve falsa.\n",
        "\n",
        "Estos bucles proporcionan flexibilidad para controlar el flujo de ejecución de un programa, permitiendo la repetición controlada de código según las necesidades específicas de la lógica del programa. Son esenciales para tareas como procesamiento de datos, iteración sobre estructuras de datos y ejecución de operaciones repetitivas."
      ],
      "metadata": {
        "id": "G-7cWzdTUk6x"
      }
    },
    {
      "cell_type": "code",
      "source": [
        "console.rule(\"[bold]Bucles de ejecución[/bold]\")\n",
        "\n",
        "# Ejemplo de bucles de ejecución en Python\n",
        "\n",
        "# Bucle while: se ejecuta mientras se cumple una condición\n",
        "count = 0\n",
        "while count <= 10:\n",
        "    print(\"El valor de count es:\", count)\n",
        "    count += 1\n",
        "\n",
        "print(\"\\n\")\n",
        "\n",
        "# Bucle for: se utiliza para iterar sobre una secuencia o colección\n",
        "fruits = [\"manzana\", \"banana\", \"cereza\"]\n",
        "for fruit in fruits:\n",
        "    print(\"La fruta es:\", fruit)\n",
        "\n",
        "print(\"\\n\")\n",
        "\n",
        "# Uso de la función range en un bucle for\n",
        "for i in range(0, 9, 2):  # Itera desde 1 hasta 5 (no incluye el 6)\n",
        "    print(\"El valor de i es:\", i)\n",
        "\n",
        "print(\"\\n\")\n",
        "\n",
        "# Bucle for con instrucción break\n",
        "for i in range(1, 100):\n",
        "    if i == 77:\n",
        "        break  # Sale del bucle cuando i es igual a 5\n",
        "print(\" => El valor de i es:\", i)\n",
        "\n",
        "print(\"\\n\")\n",
        "\n",
        "# Bucle for con instrucción continue\n",
        "for i in range(1, 6):\n",
        "    if i == 3:\n",
        "        continue  # Salta a la siguiente iteración cuando i es igual a 3\n",
        "    print(\" - El valor de i es:\", i)\n",
        "\n",
        "print(\"\\n-------------------\\n\")\n",
        "\n",
        "# Bucle for con instrucción continue\n",
        "for i in range(1, 6):\n",
        "    print(\" - El valor de i es:\", i)\n",
        "\n",
        "    if i == 3:\n",
        "        pass  # No hace ninguna operación en esta condición\n",
        "\n",
        "print(\" => El valor de i es:\", i)"
      ],
      "metadata": {
        "colab": {
          "base_uri": "https://localhost:8080/",
          "height": 953
        },
        "id": "psi0f9VRU1fp",
        "outputId": "cc07ec42-c54a-4ded-b878-5ce3f3ade3c3"
      },
      "execution_count": null,
      "outputs": [
        {
          "output_type": "display_data",
          "data": {
            "text/plain": [
              "\u001b[92m─────────────────────────────────────────────── \u001b[0m\u001b[1mBucles de ejecución\u001b[0m\u001b[92m ───────────────────────────────────────────────\u001b[0m\n"
            ],
            "text/html": [
              "<pre style=\"white-space:pre;overflow-x:auto;line-height:normal;font-family:Menlo,'DejaVu Sans Mono',consolas,'Courier New',monospace\"><span style=\"color: #00ff00; text-decoration-color: #00ff00\">─────────────────────────────────────────────── </span><span style=\"font-weight: bold\">Bucles de ejecución</span><span style=\"color: #00ff00; text-decoration-color: #00ff00\"> ───────────────────────────────────────────────</span>\n",
              "</pre>\n"
            ]
          },
          "metadata": {}
        },
        {
          "output_type": "stream",
          "name": "stdout",
          "text": [
            "El valor de count es: 0\n",
            "El valor de count es: 1\n",
            "El valor de count es: 2\n",
            "El valor de count es: 3\n",
            "El valor de count es: 4\n",
            "El valor de count es: 5\n",
            "El valor de count es: 6\n",
            "El valor de count es: 7\n",
            "El valor de count es: 8\n",
            "El valor de count es: 9\n",
            "El valor de count es: 10\n",
            "\n",
            "\n",
            "La fruta es: manzana\n",
            "La fruta es: banana\n",
            "La fruta es: cereza\n",
            "\n",
            "\n",
            "El valor de i es: 0\n",
            "El valor de i es: 2\n",
            "El valor de i es: 4\n",
            "El valor de i es: 6\n",
            "El valor de i es: 8\n",
            "\n",
            "\n",
            " => El valor de i es: 77\n",
            "\n",
            "\n",
            " - El valor de i es: 1\n",
            " - El valor de i es: 2\n",
            " - El valor de i es: 4\n",
            " - El valor de i es: 5\n",
            "\n",
            "-------------------\n",
            "\n",
            " - El valor de i es: 1\n",
            " - El valor de i es: 2\n",
            " - El valor de i es: 3\n",
            " - El valor de i es: 4\n",
            " - El valor de i es: 5\n",
            " => El valor de i es: 5\n"
          ]
        }
      ]
    },
    {
      "cell_type": "markdown",
      "source": [
        "### Uso de Enums y *Switchers*\n",
        "\n",
        "Un enum (enumeración) es una colección de valores constantes con nombre. Permite definir un conjunto de opciones o categorías específicas que pueden ser utilizadas en un programa. Los enums son útiles cuando deseas representar un conjunto fijo y limitado de valores posibles."
      ],
      "metadata": {
        "id": "iNRkBKgMhr86"
      }
    },
    {
      "cell_type": "code",
      "source": [
        "console.rule(\"[bold] Enumeradores [/bold]\")\n",
        "\n",
        "from enum import Enum\n",
        "\n",
        "class Colores(Enum):\n",
        "    ROJO = 4\n",
        "    VERDE = 2\n",
        "    AZUL = 1\n",
        "\n",
        "color = Colores.ROJO\n",
        "print(\"Elemento:\", color)  # Imprime: Colores.ROJO\n",
        "print(\"Valor:\", color.value)  # Imprime: 1\n"
      ],
      "metadata": {
        "colab": {
          "base_uri": "https://localhost:8080/",
          "height": 83
        },
        "id": "FxBQIzeB5iCN",
        "outputId": "c7106d89-193d-4a5a-9d6f-3e4f31b539a6"
      },
      "execution_count": null,
      "outputs": [
        {
          "output_type": "display_data",
          "data": {
            "text/plain": [
              "\u001b[92m───────────────────────────────────────────────── \u001b[0m\u001b[1m Enumeradores \u001b[0m\u001b[92m ──────────────────────────────────────────────────\u001b[0m\n"
            ],
            "text/html": [
              "<pre style=\"white-space:pre;overflow-x:auto;line-height:normal;font-family:Menlo,'DejaVu Sans Mono',consolas,'Courier New',monospace\"><span style=\"color: #00ff00; text-decoration-color: #00ff00\">───────────────────────────────────────────────── </span><span style=\"font-weight: bold\"> Enumeradores </span><span style=\"color: #00ff00; text-decoration-color: #00ff00\"> ──────────────────────────────────────────────────</span>\n",
              "</pre>\n"
            ]
          },
          "metadata": {}
        },
        {
          "output_type": "stream",
          "name": "stdout",
          "text": [
            "Elemento: Colores.ROJO\n",
            "Valor: 4\n"
          ]
        }
      ]
    },
    {
      "cell_type": "code",
      "source": [
        "# Comprobar versión de python\n",
        "!python --version\n",
        "\n",
        "# Instalar otra versión de python\n",
        "!!sudo apt-get install python3.9"
      ],
      "metadata": {
        "id": "9R4y_sr16C4M",
        "colab": {
          "base_uri": "https://localhost:8080/"
        },
        "outputId": "bb7349e3-b112-4e04-df11-b5667add388e"
      },
      "execution_count": null,
      "outputs": [
        {
          "output_type": "stream",
          "name": "stdout",
          "text": [
            "Python 3.10.12\n"
          ]
        },
        {
          "output_type": "execute_result",
          "data": {
            "text/plain": [
              "['',\n",
              " 'Reading package lists... 0%',\n",
              " '',\n",
              " 'Reading package lists... 0%',\n",
              " '',\n",
              " 'Reading package lists... 0%',\n",
              " '',\n",
              " 'Reading package lists... 5%',\n",
              " '',\n",
              " 'Reading package lists... 5%',\n",
              " '',\n",
              " 'Reading package lists... 6%',\n",
              " '',\n",
              " 'Reading package lists... 6%',\n",
              " '',\n",
              " 'Reading package lists... 46%',\n",
              " '',\n",
              " 'Reading package lists... 57%',\n",
              " '',\n",
              " 'Reading package lists... 57%',\n",
              " '',\n",
              " 'Reading package lists... 58%',\n",
              " '',\n",
              " 'Reading package lists... 58%',\n",
              " '',\n",
              " 'Reading package lists... 64%',\n",
              " '',\n",
              " 'Reading package lists... 64%',\n",
              " '',\n",
              " 'Reading package lists... 71%',\n",
              " '',\n",
              " 'Reading package lists... 71%',\n",
              " '',\n",
              " 'Reading package lists... 76%',\n",
              " '',\n",
              " 'Reading package lists... 76%',\n",
              " '',\n",
              " 'Reading package lists... 76%',\n",
              " '',\n",
              " 'Reading package lists... 76%',\n",
              " '',\n",
              " 'Reading package lists... 76%',\n",
              " '',\n",
              " 'Reading package lists... 76%',\n",
              " '',\n",
              " 'Reading package lists... 76%',\n",
              " '',\n",
              " 'Reading package lists... 76%',\n",
              " '',\n",
              " 'Reading package lists... 81%',\n",
              " '',\n",
              " 'Reading package lists... 81%',\n",
              " '',\n",
              " 'Reading package lists... 88%',\n",
              " '',\n",
              " 'Reading package lists... 88%',\n",
              " '',\n",
              " 'Reading package lists... 92%',\n",
              " '',\n",
              " 'Reading package lists... 92%',\n",
              " '',\n",
              " 'Reading package lists... 92%',\n",
              " '',\n",
              " 'Reading package lists... 92%',\n",
              " '',\n",
              " 'Reading package lists... 92%',\n",
              " '',\n",
              " 'Reading package lists... 92%',\n",
              " '',\n",
              " 'Reading package lists... 96%',\n",
              " '',\n",
              " 'Reading package lists... 96%',\n",
              " '',\n",
              " 'Reading package lists... 98%',\n",
              " '',\n",
              " 'Reading package lists... 98%',\n",
              " '',\n",
              " 'Reading package lists... 98%',\n",
              " '',\n",
              " 'Reading package lists... 98%',\n",
              " '',\n",
              " 'Reading package lists... 98%',\n",
              " '',\n",
              " 'Reading package lists... 98%',\n",
              " '',\n",
              " 'Reading package lists... 98%',\n",
              " '',\n",
              " 'Reading package lists... 98%',\n",
              " '',\n",
              " 'Reading package lists... Done',\n",
              " '',\n",
              " 'Building dependency tree... 0%',\n",
              " '',\n",
              " 'Building dependency tree... 0%',\n",
              " '',\n",
              " 'Building dependency tree... 50%',\n",
              " '',\n",
              " 'Building dependency tree... 50%',\n",
              " '',\n",
              " 'Building dependency tree... 66%',\n",
              " '',\n",
              " 'Building dependency tree... Done',\n",
              " '',\n",
              " 'Reading state information... 0% ',\n",
              " '',\n",
              " 'Reading state information... 0%',\n",
              " '',\n",
              " 'Reading state information... Done',\n",
              " 'The following additional packages will be installed:',\n",
              " '  libpython3.9-minimal libpython3.9-stdlib mailcap mime-support',\n",
              " '  python3.9-minimal',\n",
              " 'Suggested packages:',\n",
              " '  python3.9-venv binfmt-support',\n",
              " 'The following NEW packages will be installed:',\n",
              " '  libpython3.9-minimal libpython3.9-stdlib mailcap mime-support python3.9',\n",
              " '  python3.9-minimal',\n",
              " '0 upgraded, 6 newly installed, 0 to remove and 35 not upgraded.',\n",
              " 'Need to get 5,279 kB of archives.',\n",
              " 'After this operation, 19.4 MB of additional disk space will be used.',\n",
              " '',\n",
              " '0% [Working]',\n",
              " '            ',\n",
              " 'Get:1 http://archive.ubuntu.com/ubuntu jammy/main amd64 mailcap all 3.70+nmu1ubuntu1 [23.8 kB]',\n",
              " '',\n",
              " '0% [Connected to ppa.launchpadcontent.net (185.125.190.80)] [1 mailcap 5,511 B/',\n",
              " '                                                                               ',\n",
              " '4% [Waiting for headers] [Waiting for headers]',\n",
              " '                                              ',\n",
              " 'Get:2 http://archive.ubuntu.com/ubuntu jammy/main amd64 mime-support all 3.66 [3,696 B]',\n",
              " '',\n",
              " '4% [Waiting for headers] [2 mime-support 2,617 B/3,696 B 71%]',\n",
              " '                                                             ',\n",
              " '7% [Waiting for headers]',\n",
              " '                        ',\n",
              " 'Get:3 https://ppa.launchpadcontent.net/deadsnakes/ppa/ubuntu jammy/main amd64 libpython3.9-minimal amd64 3.9.18-1+jammy1 [835 kB]',\n",
              " '',\n",
              " '7% [3 libpython3.9-minimal 16.1 kB/835 kB 2%]',\n",
              " '                                             ',\n",
              " '23% [Waiting for headers]',\n",
              " '                         ',\n",
              " 'Get:4 https://ppa.launchpadcontent.net/deadsnakes/ppa/ubuntu jammy/main amd64 python3.9-minimal amd64 3.9.18-1+jammy1 [2,079 kB]',\n",
              " '',\n",
              " '31% [4 python3.9-minimal 524 kB/2,079 kB 25%]',\n",
              " '                                             ',\n",
              " 'Get:5 https://ppa.launchpadcontent.net/deadsnakes/ppa/ubuntu jammy/main amd64 libpython3.9-stdlib amd64 3.9.18-1+jammy1 [1,841 kB]',\n",
              " '',\n",
              " '59% [5 libpython3.9-stdlib 100 kB/1,841 kB 5%]',\n",
              " '                                              ',\n",
              " '89% [Working]',\n",
              " '             ',\n",
              " 'Get:6 https://ppa.launchpadcontent.net/deadsnakes/ppa/ubuntu jammy/main amd64 python3.9 amd64 3.9.18-1+jammy1 [496 kB]',\n",
              " '',\n",
              " '89% [6 python3.9 0 B/496 kB 0%]',\n",
              " '                               ',\n",
              " '100% [Working]',\n",
              " '              ',\n",
              " 'Fetched 5,279 kB in 1s (3,864 kB/s)',\n",
              " 'debconf: unable to initialize frontend: Dialog',\n",
              " 'debconf: (No usable dialog-like program is installed, so the dialog based frontend cannot be used. at /usr/share/perl5/Debconf/FrontEnd/Dialog.pm line 78, <> line 6.)',\n",
              " 'debconf: falling back to frontend: Readline',\n",
              " 'debconf: unable to initialize frontend: Readline',\n",
              " 'debconf: (This frontend requires a controlling tty.)',\n",
              " 'debconf: falling back to frontend: Teletype',\n",
              " 'dpkg-preconfigure: unable to re-open stdin: ',\n",
              " 'Selecting previously unselected package libpython3.9-minimal:amd64.',\n",
              " '(Reading database ... ',\n",
              " '(Reading database ... 5%',\n",
              " '(Reading database ... 10%',\n",
              " '(Reading database ... 15%',\n",
              " '(Reading database ... 20%',\n",
              " '(Reading database ... 25%',\n",
              " '(Reading database ... 30%',\n",
              " '(Reading database ... 35%',\n",
              " '(Reading database ... 40%',\n",
              " '(Reading database ... 45%',\n",
              " '(Reading database ... 50%',\n",
              " '(Reading database ... 55%',\n",
              " '(Reading database ... 60%',\n",
              " '(Reading database ... 65%',\n",
              " '(Reading database ... 70%',\n",
              " '(Reading database ... 75%',\n",
              " '(Reading database ... 80%',\n",
              " '(Reading database ... 85%',\n",
              " '(Reading database ... 90%',\n",
              " '(Reading database ... 95%',\n",
              " '(Reading database ... 100%',\n",
              " '(Reading database ... 121749 files and directories currently installed.)',\n",
              " 'Preparing to unpack .../0-libpython3.9-minimal_3.9.18-1+jammy1_amd64.deb ...',\n",
              " 'Unpacking libpython3.9-minimal:amd64 (3.9.18-1+jammy1) ...',\n",
              " 'Selecting previously unselected package python3.9-minimal.',\n",
              " 'Preparing to unpack .../1-python3.9-minimal_3.9.18-1+jammy1_amd64.deb ...',\n",
              " 'Unpacking python3.9-minimal (3.9.18-1+jammy1) ...',\n",
              " 'Selecting previously unselected package mailcap.',\n",
              " 'Preparing to unpack .../2-mailcap_3.70+nmu1ubuntu1_all.deb ...',\n",
              " 'Unpacking mailcap (3.70+nmu1ubuntu1) ...',\n",
              " 'Selecting previously unselected package mime-support.',\n",
              " 'Preparing to unpack .../3-mime-support_3.66_all.deb ...',\n",
              " 'Unpacking mime-support (3.66) ...',\n",
              " 'Selecting previously unselected package libpython3.9-stdlib:amd64.',\n",
              " 'Preparing to unpack .../4-libpython3.9-stdlib_3.9.18-1+jammy1_amd64.deb ...',\n",
              " 'Unpacking libpython3.9-stdlib:amd64 (3.9.18-1+jammy1) ...',\n",
              " 'Selecting previously unselected package python3.9.',\n",
              " 'Preparing to unpack .../5-python3.9_3.9.18-1+jammy1_amd64.deb ...',\n",
              " 'Unpacking python3.9 (3.9.18-1+jammy1) ...',\n",
              " 'Setting up libpython3.9-minimal:amd64 (3.9.18-1+jammy1) ...',\n",
              " 'Setting up python3.9-minimal (3.9.18-1+jammy1) ...',\n",
              " 'Setting up mailcap (3.70+nmu1ubuntu1) ...',\n",
              " 'Setting up mime-support (3.66) ...',\n",
              " 'Setting up libpython3.9-stdlib:amd64 (3.9.18-1+jammy1) ...',\n",
              " 'Setting up python3.9 (3.9.18-1+jammy1) ...',\n",
              " 'Processing triggers for man-db (2.10.2-1) ...']"
            ]
          },
          "metadata": {},
          "execution_count": 10
        }
      ]
    },
    {
      "cell_type": "code",
      "source": [
        "console.rule(\"[bold] Switch-case [/bold]\")\n",
        "\n",
        "# Ejemplo de uso de switch-case en Python utilizando diccionarios\n",
        "\n",
        "def process_case_1():\n",
        "    print(\"Opción 1 seleccionada\")\n",
        "\n",
        "def process_case_2():\n",
        "    print(\"Opción 2 seleccionada\")\n",
        "\n",
        "def process_case_3():\n",
        "    print(\"Opción 3 seleccionada\")\n",
        "\n",
        "def process_default():\n",
        "    print(\"Opción no válida\")\n",
        "\n",
        "def selector(case):\n",
        "    switcher = {\n",
        "        1: process_case_1,\n",
        "        2: process_case_2,\n",
        "        3: process_case_3\n",
        "    }\n",
        "    # Ejecutar la función correspondiente al caso o el caso por defecto\n",
        "    switcher.get(case, process_default)()\n",
        "\n",
        "# Ejemplo de uso del switch-case\n",
        "selector(2)\n",
        "\n",
        "value = 5\n",
        "match value:\n",
        "  case 3: print(\"Es tres\")\n",
        "  case 5: print(\"IGUAL!\")\n",
        "  case _: print(\"Otra\")\n",
        "\n"
      ],
      "metadata": {
        "colab": {
          "base_uri": "https://localhost:8080/",
          "height": 83
        },
        "id": "V-1QQ0H5hwA0",
        "outputId": "9e41b240-dec7-4f72-8477-4768fa62bec4"
      },
      "execution_count": null,
      "outputs": [
        {
          "output_type": "display_data",
          "data": {
            "text/plain": [
              "\u001b[92m────────────────────────────────────────────────── \u001b[0m\u001b[1m Switch-case \u001b[0m\u001b[92m ──────────────────────────────────────────────────\u001b[0m\n"
            ],
            "text/html": [
              "<pre style=\"white-space:pre;overflow-x:auto;line-height:normal;font-family:Menlo,'DejaVu Sans Mono',consolas,'Courier New',monospace\"><span style=\"color: #00ff00; text-decoration-color: #00ff00\">────────────────────────────────────────────────── </span><span style=\"font-weight: bold\"> Switch-case </span><span style=\"color: #00ff00; text-decoration-color: #00ff00\"> ──────────────────────────────────────────────────</span>\n",
              "</pre>\n"
            ]
          },
          "metadata": {}
        },
        {
          "output_type": "stream",
          "name": "stdout",
          "text": [
            "Opción 2 seleccionada\n",
            "IGUAL!\n"
          ]
        }
      ]
    }
  ]
}