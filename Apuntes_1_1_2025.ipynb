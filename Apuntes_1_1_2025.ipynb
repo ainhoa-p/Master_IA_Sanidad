{
  "nbformat": 4,
  "nbformat_minor": 0,
  "metadata": {
    "colab": {
      "provenance": [],
      "authorship_tag": "ABX9TyPkoXROHdCdHbr2FiKt2Gv1",
      "include_colab_link": true
    },
    "kernelspec": {
      "name": "python3",
      "display_name": "Python 3"
    },
    "language_info": {
      "name": "python"
    }
  },
  "cells": [
    {
      "cell_type": "markdown",
      "metadata": {
        "id": "view-in-github",
        "colab_type": "text"
      },
      "source": [
        "<a href=\"https://colab.research.google.com/github/ainhoa-p/Master_IA_Sanidad/blob/main/Apuntes_1_1_2025.ipynb\" target=\"_parent\"><img src=\"https://colab.research.google.com/assets/colab-badge.svg\" alt=\"Open In Colab\"/></a>"
      ]
    },
    {
      "cell_type": "code",
      "source": [
        "print('hola')"
      ],
      "metadata": {
        "colab": {
          "base_uri": "https://localhost:8080/"
        },
        "id": "x3uLG-1JAUCa",
        "outputId": "7f0ba643-d798-4f31-f8b1-30e3298728f2"
      },
      "execution_count": 2,
      "outputs": [
        {
          "output_type": "stream",
          "name": "stdout",
          "text": [
            "hola\n"
          ]
        }
      ]
    },
    {
      "cell_type": "markdown",
      "source": [
        "**Funciones** ?? def\n"
      ],
      "metadata": {
        "id": "7i8vP8J-A6e7"
      }
    },
    {
      "cell_type": "code",
      "source": [
        "def mi_funcion():\n",
        "  print('hola')\n",
        "  print(\"aaaa\")"
      ],
      "metadata": {
        "id": "R0Di6H1WBBwL"
      },
      "execution_count": 10,
      "outputs": []
    },
    {
      "cell_type": "markdown",
      "source": [],
      "metadata": {
        "id": "bxl1SHAtYZek"
      }
    },
    {
      "cell_type": "code",
      "source": [
        "def mi_funcion1 (text2):\n",
        "  print('text')"
      ],
      "metadata": {
        "id": "QHVi3E0VG0jm"
      },
      "execution_count": 13,
      "outputs": []
    },
    {
      "cell_type": "code",
      "source": [
        "from rich import print\n",
        "print(\"[green] hola [/green]\")\n",
        "print(\"[blue][bold] hola\")"
      ],
      "metadata": {
        "colab": {
          "base_uri": "https://localhost:8080/",
          "height": 49
        },
        "id": "GUvt2qt3WuMp",
        "outputId": "0e4e50d8-ea0c-4203-aec8-628d1c61fd16"
      },
      "execution_count": 21,
      "outputs": [
        {
          "output_type": "display_data",
          "data": {
            "text/plain": [
              "\u001b[32m hola \u001b[0m\n"
            ],
            "text/html": [
              "<pre style=\"white-space:pre;overflow-x:auto;line-height:normal;font-family:Menlo,'DejaVu Sans Mono',consolas,'Courier New',monospace\"><span style=\"color: #008000; text-decoration-color: #008000\"> hola </span>\n",
              "</pre>\n"
            ]
          },
          "metadata": {}
        },
        {
          "output_type": "display_data",
          "data": {
            "text/plain": [
              "\u001b[1;34m hola\u001b[0m\n"
            ],
            "text/html": [
              "<pre style=\"white-space:pre;overflow-x:auto;line-height:normal;font-family:Menlo,'DejaVu Sans Mono',consolas,'Courier New',monospace\"><span style=\"color: #000080; text-decoration-color: #000080; font-weight: bold\"> hola</span>\n",
              "</pre>\n"
            ]
          },
          "metadata": {}
        }
      ]
    },
    {
      "cell_type": "code",
      "source": [
        "X = \"hola\"\n",
        "x = 23\n",
        "y= True\n",
        "print(f\"Variable X: {X}. Variable x: {x}\")\n",
        "print(f\"Tipo de datos X: {type(X)}\")\n",
        "print(f\"Tipo de datos x: {type(x)}\")\n",
        "print(f\"Tipo de datos y: {type(y)}\")"
      ],
      "metadata": {
        "colab": {
          "base_uri": "https://localhost:8080/"
        },
        "id": "nYDdQytRYu_f",
        "outputId": "9d138e82-5cb7-426b-a4f1-2e2c2774cd26"
      },
      "execution_count": 5,
      "outputs": [
        {
          "output_type": "stream",
          "name": "stdout",
          "text": [
            "Variable X: hola. Variable x: 23\n",
            "Tipo de datos X: <class 'str'>\n",
            "Tipo de datos x: <class 'int'>\n",
            "Tipo de datos y: <class 'bool'>\n"
          ]
        }
      ]
    },
    {
      "cell_type": "markdown",
      "source": [
        "la f que es¿?\n"
      ],
      "metadata": {
        "id": "p3gvD8-r2tI4"
      }
    },
    {
      "cell_type": "code",
      "source": [
        "lista1 = [1, 2, 3, 4]\n",
        "lista2= ['bonito', 'feo', 'normal']\n",
        "print (f\"valor de lista 1: {lista1}\")\n",
        "print (f'Valor de lista 2: {lista2}')\n",
        "print(f'4º valor de lista 1: ', lista1[2]) #Las listas comienzan en 0."
      ],
      "metadata": {
        "colab": {
          "base_uri": "https://localhost:8080/"
        },
        "id": "PHkokN5o2yfe",
        "outputId": "59b2ea7e-5164-4066-bc24-376535e088b5"
      },
      "execution_count": 13,
      "outputs": [
        {
          "output_type": "stream",
          "name": "stdout",
          "text": [
            "valor de lista 1: [1, 2, 3, 4]\n",
            "Valor de lista 2: ['bonito', 'feo', 'normal']\n",
            "4º valor de lista 1:  3\n"
          ]
        }
      ]
    },
    {
      "cell_type": "code",
      "source": [
        "mi_diccionario = {\n",
        "    'palabra1': 'guapo',\n",
        "    'palabra2': 'feo',\n",
        "    'palabra3': 'hola',\n",
        "    'edad': 20\n",
        "    }\n",
        "print (mi_diccionario)"
      ],
      "metadata": {
        "colab": {
          "base_uri": "https://localhost:8080/"
        },
        "id": "0XEFnW-D-hSA",
        "outputId": "b1b0cfec-6da9-4295-b603-9b815ca037ab"
      },
      "execution_count": 46,
      "outputs": [
        {
          "output_type": "stream",
          "name": "stdout",
          "text": [
            "{'palabra1': 'guapo', 'palabra2': 'feo', 'palabra3': 'hola', 'edad': 20}\n"
          ]
        }
      ]
    },
    {
      "cell_type": "code",
      "source": [
        "mi_diccionario ['palabra3'] = 'Ainhoa'\n",
        "print(mi_diccionario)"
      ],
      "metadata": {
        "colab": {
          "base_uri": "https://localhost:8080/"
        },
        "id": "Sc1PrJe9Lfsp",
        "outputId": "95cbd6da-47d3-46aa-8a25-6181a5b6141d"
      },
      "execution_count": 48,
      "outputs": [
        {
          "output_type": "stream",
          "name": "stdout",
          "text": [
            "{'palabra1': 'guapo', 'palabra2': 'feo', 'palabra3': 'Ainhoa', 'edad': 20}\n"
          ]
        }
      ]
    },
    {
      "cell_type": "code",
      "source": [
        "mi_diccionario ['prefesión'] = 'carpintero'\n",
        "print(mi_diccionario)"
      ],
      "metadata": {
        "colab": {
          "base_uri": "https://localhost:8080/"
        },
        "id": "xQHzOP1CMqb5",
        "outputId": "e5187c2f-b06c-4b49-bbed-52b7b52cb264"
      },
      "execution_count": 50,
      "outputs": [
        {
          "output_type": "stream",
          "name": "stdout",
          "text": [
            "{'palabra1': 'guapo', 'palabra2': 'feo', 'palabra3': 'Ainhoa', 'edad': 20, 'prefesión': 'carpintero'}\n"
          ]
        }
      ]
    },
    {
      "cell_type": "code",
      "source": [
        "mi_diccionario ['lista_tareas'] = ['limpiar', 'hacer la compra', 'cocinar']\n",
        "print(mi_diccionario)\n"
      ],
      "metadata": {
        "colab": {
          "base_uri": "https://localhost:8080/"
        },
        "id": "cxqKH_oVM91f",
        "outputId": "0125ba5f-0f17-4169-af70-11b73c1770d2"
      },
      "execution_count": 52,
      "outputs": [
        {
          "output_type": "stream",
          "name": "stdout",
          "text": [
            "{'palabra1': 'guapo', 'palabra2': 'feo', 'palabra3': 'Ainhoa', 'edad': 20, 'prefesión': 'carpintero', 'lista_tareas': ['limpiar', 'hacer la compra', 'cocinar']}\n"
          ]
        }
      ]
    },
    {
      "cell_type": "code",
      "source": [
        "del mi_diccionario ['palabra2']\n",
        "print(mi_diccionario)"
      ],
      "metadata": {
        "colab": {
          "base_uri": "https://localhost:8080/"
        },
        "id": "8O82MGyVNPd9",
        "outputId": "855b93db-2e0c-42c1-8067-ce53986c93e3"
      },
      "execution_count": 55,
      "outputs": [
        {
          "output_type": "stream",
          "name": "stdout",
          "text": [
            "{'palabra1': 'guapo', 'palabra3': 'Ainhoa', 'edad': 20, 'prefesión': 'carpintero', 'lista_tareas': ['limpiar', 'hacer la compra', 'cocinar']}\n"
          ]
        }
      ]
    },
    {
      "cell_type": "code",
      "source": [
        "print ('claves del diccionario:' , list (mi_diccionario.keys()))"
      ],
      "metadata": {
        "colab": {
          "base_uri": "https://localhost:8080/"
        },
        "id": "rRU9qjs2Nspr",
        "outputId": "c490dee3-5d26-4236-d645-c36333ff6ef0"
      },
      "execution_count": 57,
      "outputs": [
        {
          "output_type": "stream",
          "name": "stdout",
          "text": [
            "claves del diccionario: ['palabra1', 'palabra3', 'edad', 'prefesión', 'lista_tareas']\n"
          ]
        }
      ]
    },
    {
      "cell_type": "code",
      "source": [
        "print ('items: ' , mi_diccionario.items())"
      ],
      "metadata": {
        "colab": {
          "base_uri": "https://localhost:8080/"
        },
        "id": "0WRbsTW3OHZe",
        "outputId": "8a801ffc-3441-4e1d-9231-e41865f42932"
      },
      "execution_count": 59,
      "outputs": [
        {
          "output_type": "stream",
          "name": "stdout",
          "text": [
            "items:  dict_items([('palabra1', 'guapo'), ('palabra3', 'Ainhoa'), ('edad', 20), ('prefesión', 'carpintero'), ('lista_tareas', ['limpiar', 'hacer la compra', 'cocinar'])])\n"
          ]
        }
      ]
    }
  ]
}