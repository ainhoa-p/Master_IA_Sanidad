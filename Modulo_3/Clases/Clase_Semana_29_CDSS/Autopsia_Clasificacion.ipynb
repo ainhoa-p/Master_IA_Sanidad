{
 "cells": [
  {
   "cell_type": "code",
   "execution_count": 6,
   "id": "initial_id",
   "metadata": {
    "collapsed": true,
    "ExecuteTime": {
     "end_time": "2023-12-19T19:40:13.721826800Z",
     "start_time": "2023-12-19T19:40:13.710828200Z"
    }
   },
   "outputs": [],
   "source": [
    "import pandas as pd"
   ]
  },
  {
   "cell_type": "code",
   "execution_count": 7,
   "outputs": [
    {
     "data": {
      "text/plain": "    SUBJECT_ID ORIG_GROUP LAST_DIAGNOSIS  FDG_ID  FDG_AGE  AGE_DEATH  \\\n0   003_S_4892         AD             AD  334485     75.3         76   \n1   005_S_0448        MCI             AD  226091     90.6         93   \n2   005_S_4910         AD             AD  347770     81.7         84   \n3   006_S_4546         AD             AD  300098     71.2         75   \n4   011_S_0008         CN            MCI   26885     85.6         95   \n..         ...        ...            ...     ...      ...        ...   \n68  127_S_4500         AD             AD  417020     92.5         95   \n69  127_S_4765       EMCI             AD  871795     81.1         81   \n70  127_S_5058         AD             AD  360030     61.9         66   \n71  129_S_1246        MCI            MCI  362092     78.5         80   \n72  941_S_1203         CN            MCI  169796     86.6         89   \n\n    ALZHEIMER PATHOLOGY  LEWY PATHOLOGY  \n0                     3               0  \n1                     1               2  \n2                     3               4  \n3                     3               2  \n4                     1               3  \n..                  ...             ...  \n68                    3               0  \n69                    3               3  \n70                    2               3  \n71                    2               0  \n72                    2               0  \n\n[73 rows x 8 columns]",
      "text/html": "<div>\n<style scoped>\n    .dataframe tbody tr th:only-of-type {\n        vertical-align: middle;\n    }\n\n    .dataframe tbody tr th {\n        vertical-align: top;\n    }\n\n    .dataframe thead th {\n        text-align: right;\n    }\n</style>\n<table border=\"1\" class=\"dataframe\">\n  <thead>\n    <tr style=\"text-align: right;\">\n      <th></th>\n      <th>SUBJECT_ID</th>\n      <th>ORIG_GROUP</th>\n      <th>LAST_DIAGNOSIS</th>\n      <th>FDG_ID</th>\n      <th>FDG_AGE</th>\n      <th>AGE_DEATH</th>\n      <th>ALZHEIMER PATHOLOGY</th>\n      <th>LEWY PATHOLOGY</th>\n    </tr>\n  </thead>\n  <tbody>\n    <tr>\n      <th>0</th>\n      <td>003_S_4892</td>\n      <td>AD</td>\n      <td>AD</td>\n      <td>334485</td>\n      <td>75.3</td>\n      <td>76</td>\n      <td>3</td>\n      <td>0</td>\n    </tr>\n    <tr>\n      <th>1</th>\n      <td>005_S_0448</td>\n      <td>MCI</td>\n      <td>AD</td>\n      <td>226091</td>\n      <td>90.6</td>\n      <td>93</td>\n      <td>1</td>\n      <td>2</td>\n    </tr>\n    <tr>\n      <th>2</th>\n      <td>005_S_4910</td>\n      <td>AD</td>\n      <td>AD</td>\n      <td>347770</td>\n      <td>81.7</td>\n      <td>84</td>\n      <td>3</td>\n      <td>4</td>\n    </tr>\n    <tr>\n      <th>3</th>\n      <td>006_S_4546</td>\n      <td>AD</td>\n      <td>AD</td>\n      <td>300098</td>\n      <td>71.2</td>\n      <td>75</td>\n      <td>3</td>\n      <td>2</td>\n    </tr>\n    <tr>\n      <th>4</th>\n      <td>011_S_0008</td>\n      <td>CN</td>\n      <td>MCI</td>\n      <td>26885</td>\n      <td>85.6</td>\n      <td>95</td>\n      <td>1</td>\n      <td>3</td>\n    </tr>\n    <tr>\n      <th>...</th>\n      <td>...</td>\n      <td>...</td>\n      <td>...</td>\n      <td>...</td>\n      <td>...</td>\n      <td>...</td>\n      <td>...</td>\n      <td>...</td>\n    </tr>\n    <tr>\n      <th>68</th>\n      <td>127_S_4500</td>\n      <td>AD</td>\n      <td>AD</td>\n      <td>417020</td>\n      <td>92.5</td>\n      <td>95</td>\n      <td>3</td>\n      <td>0</td>\n    </tr>\n    <tr>\n      <th>69</th>\n      <td>127_S_4765</td>\n      <td>EMCI</td>\n      <td>AD</td>\n      <td>871795</td>\n      <td>81.1</td>\n      <td>81</td>\n      <td>3</td>\n      <td>3</td>\n    </tr>\n    <tr>\n      <th>70</th>\n      <td>127_S_5058</td>\n      <td>AD</td>\n      <td>AD</td>\n      <td>360030</td>\n      <td>61.9</td>\n      <td>66</td>\n      <td>2</td>\n      <td>3</td>\n    </tr>\n    <tr>\n      <th>71</th>\n      <td>129_S_1246</td>\n      <td>MCI</td>\n      <td>MCI</td>\n      <td>362092</td>\n      <td>78.5</td>\n      <td>80</td>\n      <td>2</td>\n      <td>0</td>\n    </tr>\n    <tr>\n      <th>72</th>\n      <td>941_S_1203</td>\n      <td>CN</td>\n      <td>MCI</td>\n      <td>169796</td>\n      <td>86.6</td>\n      <td>89</td>\n      <td>2</td>\n      <td>0</td>\n    </tr>\n  </tbody>\n</table>\n<p>73 rows × 8 columns</p>\n</div>"
     },
     "execution_count": 7,
     "metadata": {},
     "output_type": "execute_result"
    }
   ],
   "source": [
    "csv_ = 'PET_AUTOPSY.csv'\n",
    "df_autopsia = pd.read_csv(csv_)\n",
    "df_autopsia"
   ],
   "metadata": {
    "collapsed": false,
    "ExecuteTime": {
     "end_time": "2023-12-19T19:40:13.989407Z",
     "start_time": "2023-12-19T19:40:13.981402Z"
    }
   },
   "id": "77cbe7e8fd83136d"
  },
  {
   "cell_type": "code",
   "execution_count": 10,
   "outputs": [
    {
     "data": {
      "text/plain": "    SUBJECT_ID ORIG_GROUP LAST_DIAGNOSIS  FDG_ID  FDG_AGE  AGE_DEATH  \\\n0   003_S_4892         AD             AD  334485     75.3         76   \n1   005_S_0448        MCI             AD  226091     90.6         93   \n4   011_S_0008         CN            MCI   26885     85.6         95   \n6   011_S_0053         AD             AD   83975     82.2         86   \n9   011_S_0362        MCI             AD  141405     73.6         75   \n10  011_S_0861        MCI             AD  158134     90.3         93   \n13  011_S_4827         AD             AD  906469     76.2         78   \n14  014_S_0563        MCI             AD  196278     85.1         93   \n16  014_S_4058       LMCI             AD  246832     84.8         90   \n18  014_S_4615         AD             AD  301226     86.7         92   \n20  018_S_4868       EMCI            MCI  902851     82.3         84   \n23  023_S_4796       LMCI             AD  339792     72.9         78   \n25  024_S_1393        MCI             AD  234137     85.7         76   \n28  027_S_0408        MCI             AD  385375     89.4         91   \n30  027_S_4936       LMCI             AD  345462     78.2         81   \n32  029_S_0843         CN             AD   32761     70.8         80   \n33  029_S_0914        MCI             AD   58634     74.8         85   \n35  031_S_0830        MCI             AD  196763     75.0         76   \n36  031_S_4474         CN            MCI  289519     85.7         86   \n38  032_S_0400         AD             AD  104791     71.4         75   \n39  032_S_0978        MCI             AD  133005     75.4         80   \n43  033_S_0723        MCI             AD  153173     82.2         83   \n45  033_S_0906        MCI             AD  341352     71.4         76   \n48  033_S_5017         AD             AD  347897     84.4         86   \n49  033_S_5087         AD             AD  364764     64.8         69   \n50  037_S_4770         AD             AD  319766     76.1         77   \n51  041_S_1425        MCI             AD  250333     79.7         80   \n53  073_S_2190       EMCI            MCI  364772     84.8         89   \n56  098_S_0269        MCI             AD  242653     72.5         77   \n59  114_S_0378        MCI             AD  403653     76.8         77   \n60  114_S_1118        MCI            MCI  406049     89.7         91   \n65  126_S_4675       LMCI             AD  423888     81.9         84   \n66  127_S_1032        MCI             AD  129551     86.9         96   \n68  127_S_4500         AD             AD  417020     92.5         95   \n71  129_S_1246        MCI            MCI  362092     78.5         80   \n72  941_S_1203         CN            MCI  169796     86.6         89   \n\n    ALZHEIMER PATHOLOGY  LEWY PATHOLOGY      Group  \n0                     3               0    pure-AD  \n1                     1               2  pure-Lewy  \n4                     1               3  pure-Lewy  \n6                     1               3  pure-Lewy  \n9                     3               0    pure-AD  \n10                    3               0    pure-AD  \n13                    3               0    pure-AD  \n14                    1               2  pure-Lewy  \n16                    3               0    pure-AD  \n18                    3               0    pure-AD  \n20                    3               0    pure-AD  \n23                    3               0    pure-AD  \n25                    3               0    pure-AD  \n28                    1               2  pure-Lewy  \n30                    1               3  pure-Lewy  \n32                    2               0    pure-AD  \n33                    3               0    pure-AD  \n35                    3               1    pure-AD  \n36                    3               0    pure-AD  \n38                    3               0    pure-AD  \n39                    3               0    pure-AD  \n43                    1               3  pure-Lewy  \n45                    3               0    pure-AD  \n48                    3               0    pure-AD  \n49                    3               0    pure-AD  \n50                    3               0    pure-AD  \n51                    3               0    pure-AD  \n53                    3               0    pure-AD  \n56                    3               0    pure-AD  \n59                    3               0    pure-AD  \n60                    1               2  pure-Lewy  \n65                    3               1    pure-AD  \n66                    2               0    pure-AD  \n68                    3               0    pure-AD  \n71                    2               0    pure-AD  \n72                    2               0    pure-AD  ",
      "text/html": "<div>\n<style scoped>\n    .dataframe tbody tr th:only-of-type {\n        vertical-align: middle;\n    }\n\n    .dataframe tbody tr th {\n        vertical-align: top;\n    }\n\n    .dataframe thead th {\n        text-align: right;\n    }\n</style>\n<table border=\"1\" class=\"dataframe\">\n  <thead>\n    <tr style=\"text-align: right;\">\n      <th></th>\n      <th>SUBJECT_ID</th>\n      <th>ORIG_GROUP</th>\n      <th>LAST_DIAGNOSIS</th>\n      <th>FDG_ID</th>\n      <th>FDG_AGE</th>\n      <th>AGE_DEATH</th>\n      <th>ALZHEIMER PATHOLOGY</th>\n      <th>LEWY PATHOLOGY</th>\n      <th>Group</th>\n    </tr>\n  </thead>\n  <tbody>\n    <tr>\n      <th>0</th>\n      <td>003_S_4892</td>\n      <td>AD</td>\n      <td>AD</td>\n      <td>334485</td>\n      <td>75.3</td>\n      <td>76</td>\n      <td>3</td>\n      <td>0</td>\n      <td>pure-AD</td>\n    </tr>\n    <tr>\n      <th>1</th>\n      <td>005_S_0448</td>\n      <td>MCI</td>\n      <td>AD</td>\n      <td>226091</td>\n      <td>90.6</td>\n      <td>93</td>\n      <td>1</td>\n      <td>2</td>\n      <td>pure-Lewy</td>\n    </tr>\n    <tr>\n      <th>4</th>\n      <td>011_S_0008</td>\n      <td>CN</td>\n      <td>MCI</td>\n      <td>26885</td>\n      <td>85.6</td>\n      <td>95</td>\n      <td>1</td>\n      <td>3</td>\n      <td>pure-Lewy</td>\n    </tr>\n    <tr>\n      <th>6</th>\n      <td>011_S_0053</td>\n      <td>AD</td>\n      <td>AD</td>\n      <td>83975</td>\n      <td>82.2</td>\n      <td>86</td>\n      <td>1</td>\n      <td>3</td>\n      <td>pure-Lewy</td>\n    </tr>\n    <tr>\n      <th>9</th>\n      <td>011_S_0362</td>\n      <td>MCI</td>\n      <td>AD</td>\n      <td>141405</td>\n      <td>73.6</td>\n      <td>75</td>\n      <td>3</td>\n      <td>0</td>\n      <td>pure-AD</td>\n    </tr>\n    <tr>\n      <th>10</th>\n      <td>011_S_0861</td>\n      <td>MCI</td>\n      <td>AD</td>\n      <td>158134</td>\n      <td>90.3</td>\n      <td>93</td>\n      <td>3</td>\n      <td>0</td>\n      <td>pure-AD</td>\n    </tr>\n    <tr>\n      <th>13</th>\n      <td>011_S_4827</td>\n      <td>AD</td>\n      <td>AD</td>\n      <td>906469</td>\n      <td>76.2</td>\n      <td>78</td>\n      <td>3</td>\n      <td>0</td>\n      <td>pure-AD</td>\n    </tr>\n    <tr>\n      <th>14</th>\n      <td>014_S_0563</td>\n      <td>MCI</td>\n      <td>AD</td>\n      <td>196278</td>\n      <td>85.1</td>\n      <td>93</td>\n      <td>1</td>\n      <td>2</td>\n      <td>pure-Lewy</td>\n    </tr>\n    <tr>\n      <th>16</th>\n      <td>014_S_4058</td>\n      <td>LMCI</td>\n      <td>AD</td>\n      <td>246832</td>\n      <td>84.8</td>\n      <td>90</td>\n      <td>3</td>\n      <td>0</td>\n      <td>pure-AD</td>\n    </tr>\n    <tr>\n      <th>18</th>\n      <td>014_S_4615</td>\n      <td>AD</td>\n      <td>AD</td>\n      <td>301226</td>\n      <td>86.7</td>\n      <td>92</td>\n      <td>3</td>\n      <td>0</td>\n      <td>pure-AD</td>\n    </tr>\n    <tr>\n      <th>20</th>\n      <td>018_S_4868</td>\n      <td>EMCI</td>\n      <td>MCI</td>\n      <td>902851</td>\n      <td>82.3</td>\n      <td>84</td>\n      <td>3</td>\n      <td>0</td>\n      <td>pure-AD</td>\n    </tr>\n    <tr>\n      <th>23</th>\n      <td>023_S_4796</td>\n      <td>LMCI</td>\n      <td>AD</td>\n      <td>339792</td>\n      <td>72.9</td>\n      <td>78</td>\n      <td>3</td>\n      <td>0</td>\n      <td>pure-AD</td>\n    </tr>\n    <tr>\n      <th>25</th>\n      <td>024_S_1393</td>\n      <td>MCI</td>\n      <td>AD</td>\n      <td>234137</td>\n      <td>85.7</td>\n      <td>76</td>\n      <td>3</td>\n      <td>0</td>\n      <td>pure-AD</td>\n    </tr>\n    <tr>\n      <th>28</th>\n      <td>027_S_0408</td>\n      <td>MCI</td>\n      <td>AD</td>\n      <td>385375</td>\n      <td>89.4</td>\n      <td>91</td>\n      <td>1</td>\n      <td>2</td>\n      <td>pure-Lewy</td>\n    </tr>\n    <tr>\n      <th>30</th>\n      <td>027_S_4936</td>\n      <td>LMCI</td>\n      <td>AD</td>\n      <td>345462</td>\n      <td>78.2</td>\n      <td>81</td>\n      <td>1</td>\n      <td>3</td>\n      <td>pure-Lewy</td>\n    </tr>\n    <tr>\n      <th>32</th>\n      <td>029_S_0843</td>\n      <td>CN</td>\n      <td>AD</td>\n      <td>32761</td>\n      <td>70.8</td>\n      <td>80</td>\n      <td>2</td>\n      <td>0</td>\n      <td>pure-AD</td>\n    </tr>\n    <tr>\n      <th>33</th>\n      <td>029_S_0914</td>\n      <td>MCI</td>\n      <td>AD</td>\n      <td>58634</td>\n      <td>74.8</td>\n      <td>85</td>\n      <td>3</td>\n      <td>0</td>\n      <td>pure-AD</td>\n    </tr>\n    <tr>\n      <th>35</th>\n      <td>031_S_0830</td>\n      <td>MCI</td>\n      <td>AD</td>\n      <td>196763</td>\n      <td>75.0</td>\n      <td>76</td>\n      <td>3</td>\n      <td>1</td>\n      <td>pure-AD</td>\n    </tr>\n    <tr>\n      <th>36</th>\n      <td>031_S_4474</td>\n      <td>CN</td>\n      <td>MCI</td>\n      <td>289519</td>\n      <td>85.7</td>\n      <td>86</td>\n      <td>3</td>\n      <td>0</td>\n      <td>pure-AD</td>\n    </tr>\n    <tr>\n      <th>38</th>\n      <td>032_S_0400</td>\n      <td>AD</td>\n      <td>AD</td>\n      <td>104791</td>\n      <td>71.4</td>\n      <td>75</td>\n      <td>3</td>\n      <td>0</td>\n      <td>pure-AD</td>\n    </tr>\n    <tr>\n      <th>39</th>\n      <td>032_S_0978</td>\n      <td>MCI</td>\n      <td>AD</td>\n      <td>133005</td>\n      <td>75.4</td>\n      <td>80</td>\n      <td>3</td>\n      <td>0</td>\n      <td>pure-AD</td>\n    </tr>\n    <tr>\n      <th>43</th>\n      <td>033_S_0723</td>\n      <td>MCI</td>\n      <td>AD</td>\n      <td>153173</td>\n      <td>82.2</td>\n      <td>83</td>\n      <td>1</td>\n      <td>3</td>\n      <td>pure-Lewy</td>\n    </tr>\n    <tr>\n      <th>45</th>\n      <td>033_S_0906</td>\n      <td>MCI</td>\n      <td>AD</td>\n      <td>341352</td>\n      <td>71.4</td>\n      <td>76</td>\n      <td>3</td>\n      <td>0</td>\n      <td>pure-AD</td>\n    </tr>\n    <tr>\n      <th>48</th>\n      <td>033_S_5017</td>\n      <td>AD</td>\n      <td>AD</td>\n      <td>347897</td>\n      <td>84.4</td>\n      <td>86</td>\n      <td>3</td>\n      <td>0</td>\n      <td>pure-AD</td>\n    </tr>\n    <tr>\n      <th>49</th>\n      <td>033_S_5087</td>\n      <td>AD</td>\n      <td>AD</td>\n      <td>364764</td>\n      <td>64.8</td>\n      <td>69</td>\n      <td>3</td>\n      <td>0</td>\n      <td>pure-AD</td>\n    </tr>\n    <tr>\n      <th>50</th>\n      <td>037_S_4770</td>\n      <td>AD</td>\n      <td>AD</td>\n      <td>319766</td>\n      <td>76.1</td>\n      <td>77</td>\n      <td>3</td>\n      <td>0</td>\n      <td>pure-AD</td>\n    </tr>\n    <tr>\n      <th>51</th>\n      <td>041_S_1425</td>\n      <td>MCI</td>\n      <td>AD</td>\n      <td>250333</td>\n      <td>79.7</td>\n      <td>80</td>\n      <td>3</td>\n      <td>0</td>\n      <td>pure-AD</td>\n    </tr>\n    <tr>\n      <th>53</th>\n      <td>073_S_2190</td>\n      <td>EMCI</td>\n      <td>MCI</td>\n      <td>364772</td>\n      <td>84.8</td>\n      <td>89</td>\n      <td>3</td>\n      <td>0</td>\n      <td>pure-AD</td>\n    </tr>\n    <tr>\n      <th>56</th>\n      <td>098_S_0269</td>\n      <td>MCI</td>\n      <td>AD</td>\n      <td>242653</td>\n      <td>72.5</td>\n      <td>77</td>\n      <td>3</td>\n      <td>0</td>\n      <td>pure-AD</td>\n    </tr>\n    <tr>\n      <th>59</th>\n      <td>114_S_0378</td>\n      <td>MCI</td>\n      <td>AD</td>\n      <td>403653</td>\n      <td>76.8</td>\n      <td>77</td>\n      <td>3</td>\n      <td>0</td>\n      <td>pure-AD</td>\n    </tr>\n    <tr>\n      <th>60</th>\n      <td>114_S_1118</td>\n      <td>MCI</td>\n      <td>MCI</td>\n      <td>406049</td>\n      <td>89.7</td>\n      <td>91</td>\n      <td>1</td>\n      <td>2</td>\n      <td>pure-Lewy</td>\n    </tr>\n    <tr>\n      <th>65</th>\n      <td>126_S_4675</td>\n      <td>LMCI</td>\n      <td>AD</td>\n      <td>423888</td>\n      <td>81.9</td>\n      <td>84</td>\n      <td>3</td>\n      <td>1</td>\n      <td>pure-AD</td>\n    </tr>\n    <tr>\n      <th>66</th>\n      <td>127_S_1032</td>\n      <td>MCI</td>\n      <td>AD</td>\n      <td>129551</td>\n      <td>86.9</td>\n      <td>96</td>\n      <td>2</td>\n      <td>0</td>\n      <td>pure-AD</td>\n    </tr>\n    <tr>\n      <th>68</th>\n      <td>127_S_4500</td>\n      <td>AD</td>\n      <td>AD</td>\n      <td>417020</td>\n      <td>92.5</td>\n      <td>95</td>\n      <td>3</td>\n      <td>0</td>\n      <td>pure-AD</td>\n    </tr>\n    <tr>\n      <th>71</th>\n      <td>129_S_1246</td>\n      <td>MCI</td>\n      <td>MCI</td>\n      <td>362092</td>\n      <td>78.5</td>\n      <td>80</td>\n      <td>2</td>\n      <td>0</td>\n      <td>pure-AD</td>\n    </tr>\n    <tr>\n      <th>72</th>\n      <td>941_S_1203</td>\n      <td>CN</td>\n      <td>MCI</td>\n      <td>169796</td>\n      <td>86.6</td>\n      <td>89</td>\n      <td>2</td>\n      <td>0</td>\n      <td>pure-AD</td>\n    </tr>\n  </tbody>\n</table>\n</div>"
     },
     "execution_count": 10,
     "metadata": {},
     "output_type": "execute_result"
    }
   ],
   "source": [
    "for indx_, row_ in df_autopsia.iterrows():\n",
    "    \n",
    "    patologia_ad = row_['ALZHEIMER PATHOLOGY']\n",
    "    patologia_lewy = row_['LEWY PATHOLOGY']\n",
    "    \n",
    "    if patologia_ad >= 2 and patologia_lewy < 2:\n",
    "        group = 'pure-AD'\n",
    "\n",
    "    elif patologia_lewy >= 2 and patologia_ad < 2:\n",
    "        group = 'pure-Lewy'\n",
    "\n",
    "    elif patologia_ad >= 2 and patologia_lewy >= 2:\n",
    "        group = 'Mixed'\n",
    "\n",
    "    else:\n",
    "        group = 'Negative'\n",
    "        \n",
    "    df_autopsia.loc[indx_, 'Group'] = group\n",
    "\n",
    "df_autopsia = df_autopsia.loc[df_autopsia['Group'] != 'Mixed']\n",
    "df_autopsia = df_autopsia.loc[df_autopsia['Group'] != 'Negative']\n",
    "df_autopsia"
   ],
   "metadata": {
    "collapsed": false,
    "ExecuteTime": {
     "end_time": "2023-12-19T19:40:22.990496500Z",
     "start_time": "2023-12-19T19:40:22.977490900Z"
    }
   },
   "id": "640014c5aa0c784f"
  },
  {
   "cell_type": "code",
   "execution_count": 9,
   "outputs": [
    {
     "name": "stdout",
     "output_type": "stream",
     "text": [
      "8\n",
      "28\n"
     ]
    }
   ],
   "source": [
    "print(len(df_autopsia.loc[df_autopsia['Group'] == 'pure-Lewy']))\n",
    "print(len(df_autopsia.loc[df_autopsia['Group'] == 'pure-AD']))"
   ],
   "metadata": {
    "collapsed": false,
    "ExecuteTime": {
     "end_time": "2023-12-19T19:40:15.934516600Z",
     "start_time": "2023-12-19T19:40:15.929512800Z"
    }
   },
   "id": "66288e44c1011961"
  },
  {
   "cell_type": "code",
   "execution_count": 11,
   "outputs": [],
   "source": [
    "df_autopsia.to_csv('Clasificados.csv')"
   ],
   "metadata": {
    "collapsed": false,
    "ExecuteTime": {
     "end_time": "2023-12-19T19:41:02.027274900Z",
     "start_time": "2023-12-19T19:41:02.013764800Z"
    }
   },
   "id": "dfe8161166448c31"
  },
  {
   "cell_type": "code",
   "execution_count": null,
   "outputs": [],
   "source": [],
   "metadata": {
    "collapsed": false
   },
   "id": "7bab7c3c26893a32"
  }
 ],
 "metadata": {
  "kernelspec": {
   "display_name": "Python 3",
   "language": "python",
   "name": "python3"
  },
  "language_info": {
   "codemirror_mode": {
    "name": "ipython",
    "version": 2
   },
   "file_extension": ".py",
   "mimetype": "text/x-python",
   "name": "python",
   "nbconvert_exporter": "python",
   "pygments_lexer": "ipython2",
   "version": "2.7.6"
  }
 },
 "nbformat": 4,
 "nbformat_minor": 5
}
