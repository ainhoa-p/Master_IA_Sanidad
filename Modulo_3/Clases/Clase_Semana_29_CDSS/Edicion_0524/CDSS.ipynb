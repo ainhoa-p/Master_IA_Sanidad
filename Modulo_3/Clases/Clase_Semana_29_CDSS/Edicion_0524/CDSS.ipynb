{
 "cells": [
  {
   "metadata": {
    "collapsed": true,
    "ExecuteTime": {
     "end_time": "2024-11-05T18:42:58.686238Z",
     "start_time": "2024-11-05T18:42:58.664007Z"
    }
   },
   "cell_type": "code",
   "source": [
    "import pickle\n",
    "from sklearn.svm import LinearSVC\n",
    "import nibabel as nib\n",
    "import numpy as np\n",
    "import pandas as pd\n",
    "\n",
    "model = pickle.load(open('SVM_model.sav', 'rb'))\n",
    "\n",
    "MY_IMAGE = '/Users/jsilva/data/MIA/Autopsia/011_S_0326_I48293/swfdg_normhist.hdr'\n",
    "img_ = nib.load(MY_IMAGE)\n",
    "img_data = img_.get_fdata()\n",
    "\n"
   ],
   "id": "initial_id",
   "outputs": [],
   "execution_count": 12
  },
  {
   "metadata": {
    "ExecuteTime": {
     "end_time": "2024-11-05T18:43:12.341786Z",
     "start_time": "2024-11-05T18:43:12.323592Z"
    }
   },
   "cell_type": "code",
   "source": [
    "atlas_path = '../cortex_Harvard_Oxford_orig_atlas.nii.gz'\n",
    "atlas_img = nib.load(atlas_path)\n",
    "atlas_data = atlas_img.get_fdata()\n",
    "\n",
    "features = [14,24,47]\n",
    "values = []\n",
    "\n",
    "for feature_ in features:\n",
    "\n",
    "        indx_roi = np.where(atlas_data == feature_)\n",
    "        roi_mean = np.mean(img_data[indx_roi])\n",
    "        values.append(roi_mean)\n",
    "        \n",
    "X = pd.DataFrame(columns = ['Inferior_Temporal_Gyrus_anterior_division_mean',\n",
    "                            'Intracalcarine_Cortex_mean', 'Supracalcarine_Cortex_mean'])\n",
    "X.loc[0] = values\n",
    "\n",
    "y_pred = model.predict(X)\n",
    "\n",
    "print(y_pred)\n",
    "\n"
   ],
   "id": "89905685bf5e771",
   "outputs": [
    {
     "name": "stdout",
     "output_type": "stream",
     "text": [
      "['pure-AD']\n"
     ]
    }
   ],
   "execution_count": 14
  },
  {
   "metadata": {},
   "cell_type": "code",
   "outputs": [],
   "execution_count": null,
   "source": [
    "if y_pred[0] == 'pure-AD':\n",
    "    print('El patrón de PET-FDG del sujeto es compatible con lo que se esperaría de enfermedad de Alzheimer')\n",
    "    \n",
    "elif y_pred[0] == 'pure-LB':\n",
    "    print('El patrón de PET-FDG del sujeto es compatible con lo que se esperaría de una demencia por cuerpos de Lewy')\n",
    "    \n",
    "else:\n",
    "    print('ERROR en el procesamiento')"
   ],
   "id": "3ad0175d64f3d05c"
  }
 ],
 "metadata": {
  "kernelspec": {
   "display_name": "Python 3",
   "language": "python",
   "name": "python3"
  },
  "language_info": {
   "codemirror_mode": {
    "name": "ipython",
    "version": 2
   },
   "file_extension": ".py",
   "mimetype": "text/x-python",
   "name": "python",
   "nbconvert_exporter": "python",
   "pygments_lexer": "ipython2",
   "version": "2.7.6"
  }
 },
 "nbformat": 4,
 "nbformat_minor": 5
}
