{
 "cells": [
  {
   "cell_type": "code",
   "execution_count": 1,
   "id": "initial_id",
   "metadata": {
    "collapsed": true,
    "ExecuteTime": {
     "end_time": "2023-10-24T16:51:45.670127600Z",
     "start_time": "2023-10-24T16:51:44.684234700Z"
    }
   },
   "outputs": [
    {
     "data": {
      "text/plain": "    SUBJECT_ID ORIG_GROUP LAST_DIAGNOSIS  FDG_ID  FDG_AGE  AGE_DEATH  \\\n0   003_S_4892         AD             AD  334485     75.3         76   \n1   005_S_0448        MCI             AD  226091     90.6         93   \n2   005_S_4910         AD             AD  347770     81.7         84   \n3   006_S_4546         AD             AD  300098     71.2         75   \n4   011_S_0008         CN            MCI   26885     85.6         95   \n..         ...        ...            ...     ...      ...        ...   \n68  127_S_4500         AD             AD  417020     92.5         95   \n69  127_S_4765       EMCI             AD  871795     81.1         81   \n70  127_S_5058         AD             AD  360030     61.9         66   \n71  129_S_1246        MCI            MCI  362092     78.5         80   \n72  941_S_1203         CN            MCI  169796     86.6         89   \n\n    ALZHEIMER PATHOLOGY  LEWY PATHOLOGY  \n0                     3               0  \n1                     1               2  \n2                     3               4  \n3                     3               2  \n4                     1               3  \n..                  ...             ...  \n68                    3               0  \n69                    3               3  \n70                    2               3  \n71                    2               0  \n72                    2               0  \n\n[73 rows x 8 columns]",
      "text/html": "<div>\n<style scoped>\n    .dataframe tbody tr th:only-of-type {\n        vertical-align: middle;\n    }\n\n    .dataframe tbody tr th {\n        vertical-align: top;\n    }\n\n    .dataframe thead th {\n        text-align: right;\n    }\n</style>\n<table border=\"1\" class=\"dataframe\">\n  <thead>\n    <tr style=\"text-align: right;\">\n      <th></th>\n      <th>SUBJECT_ID</th>\n      <th>ORIG_GROUP</th>\n      <th>LAST_DIAGNOSIS</th>\n      <th>FDG_ID</th>\n      <th>FDG_AGE</th>\n      <th>AGE_DEATH</th>\n      <th>ALZHEIMER PATHOLOGY</th>\n      <th>LEWY PATHOLOGY</th>\n    </tr>\n  </thead>\n  <tbody>\n    <tr>\n      <th>0</th>\n      <td>003_S_4892</td>\n      <td>AD</td>\n      <td>AD</td>\n      <td>334485</td>\n      <td>75.3</td>\n      <td>76</td>\n      <td>3</td>\n      <td>0</td>\n    </tr>\n    <tr>\n      <th>1</th>\n      <td>005_S_0448</td>\n      <td>MCI</td>\n      <td>AD</td>\n      <td>226091</td>\n      <td>90.6</td>\n      <td>93</td>\n      <td>1</td>\n      <td>2</td>\n    </tr>\n    <tr>\n      <th>2</th>\n      <td>005_S_4910</td>\n      <td>AD</td>\n      <td>AD</td>\n      <td>347770</td>\n      <td>81.7</td>\n      <td>84</td>\n      <td>3</td>\n      <td>4</td>\n    </tr>\n    <tr>\n      <th>3</th>\n      <td>006_S_4546</td>\n      <td>AD</td>\n      <td>AD</td>\n      <td>300098</td>\n      <td>71.2</td>\n      <td>75</td>\n      <td>3</td>\n      <td>2</td>\n    </tr>\n    <tr>\n      <th>4</th>\n      <td>011_S_0008</td>\n      <td>CN</td>\n      <td>MCI</td>\n      <td>26885</td>\n      <td>85.6</td>\n      <td>95</td>\n      <td>1</td>\n      <td>3</td>\n    </tr>\n    <tr>\n      <th>...</th>\n      <td>...</td>\n      <td>...</td>\n      <td>...</td>\n      <td>...</td>\n      <td>...</td>\n      <td>...</td>\n      <td>...</td>\n      <td>...</td>\n    </tr>\n    <tr>\n      <th>68</th>\n      <td>127_S_4500</td>\n      <td>AD</td>\n      <td>AD</td>\n      <td>417020</td>\n      <td>92.5</td>\n      <td>95</td>\n      <td>3</td>\n      <td>0</td>\n    </tr>\n    <tr>\n      <th>69</th>\n      <td>127_S_4765</td>\n      <td>EMCI</td>\n      <td>AD</td>\n      <td>871795</td>\n      <td>81.1</td>\n      <td>81</td>\n      <td>3</td>\n      <td>3</td>\n    </tr>\n    <tr>\n      <th>70</th>\n      <td>127_S_5058</td>\n      <td>AD</td>\n      <td>AD</td>\n      <td>360030</td>\n      <td>61.9</td>\n      <td>66</td>\n      <td>2</td>\n      <td>3</td>\n    </tr>\n    <tr>\n      <th>71</th>\n      <td>129_S_1246</td>\n      <td>MCI</td>\n      <td>MCI</td>\n      <td>362092</td>\n      <td>78.5</td>\n      <td>80</td>\n      <td>2</td>\n      <td>0</td>\n    </tr>\n    <tr>\n      <th>72</th>\n      <td>941_S_1203</td>\n      <td>CN</td>\n      <td>MCI</td>\n      <td>169796</td>\n      <td>86.6</td>\n      <td>89</td>\n      <td>2</td>\n      <td>0</td>\n    </tr>\n  </tbody>\n</table>\n<p>73 rows × 8 columns</p>\n</div>"
     },
     "execution_count": 1,
     "metadata": {},
     "output_type": "execute_result"
    }
   ],
   "source": [
    "import pandas as pd\n",
    "\n",
    "csv = 'PET_AUTOPSY.csv'\n",
    "df = pd.read_csv(csv)\n",
    "df"
   ]
  },
  {
   "cell_type": "code",
   "execution_count": 3,
   "outputs": [],
   "source": [
    "for index_, row_ in df.iterrows():\n",
    "    \n",
    "    if row_['ALZHEIMER PATHOLOGY']>= 2:\n",
    "        AD_POS = 1\n",
    "    else:\n",
    "        AD_POS = 0\n",
    "\n",
    "    if row_['LEWY PATHOLOGY']>= 2:\n",
    "        LEWY_POS = 1\n",
    "    else:\n",
    "        LEWY_POS = 0\n",
    "    \n",
    "    if AD_POS==1 and LEWY_POS == 0:\n",
    "        \n",
    "        group = 'AD'\n",
    "\n",
    "    elif AD_POS==0 and LEWY_POS == 1:\n",
    "        group = 'LEWY'\n",
    "\n",
    "    elif AD_POS==1 and LEWY_POS == 1:\n",
    "        group = 'Mixed'\n",
    "    \n",
    "    else:\n",
    "        group = 'Negative'\n",
    "    \n",
    "    df.loc[index_,'AD_Pos'] = AD_POS\n",
    "    df.loc[index_,'Lewy_Pos'] = LEWY_POS\n",
    "    df.loc[index_,'Grupo'] = group\n",
    "    "
   ],
   "metadata": {
    "collapsed": false,
    "ExecuteTime": {
     "end_time": "2023-10-24T16:51:56.707265800Z",
     "start_time": "2023-10-24T16:51:56.692195200Z"
    }
   },
   "id": "7c34c0c6c392552d"
  },
  {
   "cell_type": "code",
   "execution_count": 5,
   "outputs": [],
   "source": [
    "df.to_csv('Clasificados.csv')"
   ],
   "metadata": {
    "collapsed": false,
    "ExecuteTime": {
     "end_time": "2023-10-17T17:32:11.456570600Z",
     "start_time": "2023-10-17T17:32:11.448805200Z"
    }
   },
   "id": "f1374c74afa03aab"
  },
  {
   "cell_type": "code",
   "execution_count": null,
   "outputs": [],
   "source": [],
   "metadata": {
    "collapsed": false
   },
   "id": "fc5edd77ec52eeb4"
  }
 ],
 "metadata": {
  "kernelspec": {
   "display_name": "Python 3",
   "language": "python",
   "name": "python3"
  },
  "language_info": {
   "codemirror_mode": {
    "name": "ipython",
    "version": 2
   },
   "file_extension": ".py",
   "mimetype": "text/x-python",
   "name": "python",
   "nbconvert_exporter": "python",
   "pygments_lexer": "ipython2",
   "version": "2.7.6"
  }
 },
 "nbformat": 4,
 "nbformat_minor": 5
}
