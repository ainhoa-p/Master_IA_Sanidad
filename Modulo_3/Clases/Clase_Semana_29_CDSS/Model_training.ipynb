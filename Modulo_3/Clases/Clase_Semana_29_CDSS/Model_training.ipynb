{
 "cells": [
  {
   "cell_type": "code",
   "id": "initial_id",
   "metadata": {
    "collapsed": true,
    "ExecuteTime": {
     "end_time": "2024-06-25T17:52:28.260012Z",
     "start_time": "2024-06-25T17:52:27.966696Z"
    }
   },
   "source": [
    "import pandas as pd\n",
    "import nibabel as nib\n",
    "from os.path import join, exists\n",
    "\n",
    "df = pd.read_csv('PET_AUTOPSY.csv')"
   ],
   "execution_count": 1,
   "outputs": []
  },
  {
   "metadata": {
    "ExecuteTime": {
     "end_time": "2024-06-25T17:52:28.957169Z",
     "start_time": "2024-06-25T17:52:28.903900Z"
    }
   },
   "cell_type": "code",
   "source": [
    "for indx_, row_ in df.iterrows():\n",
    "    \n",
    "    ad_pathology = row_['ALZHEIMER PATHOLOGY']\n",
    "    lb_pathology = row_['LEWY PATHOLOGY']\n",
    "    \n",
    "    if ad_pathology > 1 and lb_pathology <= 1:\n",
    "        \n",
    "        df.loc[indx_,'GRUPO'] = 'pure-AD'\n",
    "    \n",
    "    elif ad_pathology > 1 and lb_pathology > 1:\n",
    "        \n",
    "        df.loc[indx_,'GRUPO'] = 'Mixed'\n",
    "    \n",
    "    elif ad_pathology <= 1 and lb_pathology > 1:\n",
    "        \n",
    "        df.loc[indx_,'GRUPO'] = 'pure-LB'\n",
    "    \n",
    "    else:\n",
    "        \n",
    "        df.loc[indx_,'GRUPO'] = 'Negative'\n",
    "\n",
    "df = df.loc[df['GRUPO'] != 'Negative']\n",
    "df = df.loc[df['GRUPO'] != 'Mixed']\n",
    "\n",
    "df\n",
    "        "
   ],
   "id": "637dcced1fb1c196",
   "execution_count": 2,
   "outputs": []
  },
  {
   "metadata": {
    "ExecuteTime": {
     "end_time": "2024-06-25T18:16:15.424906Z",
     "start_time": "2024-06-25T18:16:11.086869Z"
    }
   },
   "cell_type": "code",
   "source": [
    "import numpy as np\n",
    "\n",
    "dir_patients = '/Users/jsilva/data/MIA/Autopsia'\n",
    "\n",
    "atlas_img = nib.load('cortex_Harvard_Oxford_orig_atlas.nii.gz')\n",
    "atlas_data = atlas_img.get_fdata()\n",
    "atlas_csv = 'Harvard_Oxford.csv'\n",
    "atlas_df = pd.read_csv(atlas_csv)\n",
    "\n",
    "\n",
    "for indx_, row_ in df.iterrows():\n",
    "    \n",
    "    subject_id = row_['SUBJECT_ID']\n",
    "    img_id = row_['FDG_ID']\n",
    "    pet_name = join(dir_patients, f'{subject_id}_I{img_id}', 'swfdg_normhist.hdr')\n",
    "    #print(pet_name)\n",
    "    if exists(pet_name):\n",
    "        img = nib.load(pet_name)\n",
    "        data = img.get_fdata()\n",
    "        \n",
    "        for indx_atlas, row_atlas in atlas_df.iterrows():\n",
    "            roi_name = row_atlas['ROI_NAME']\n",
    "            roi_n = row_atlas['ROI_NUM']\n",
    "            where_roi = np.where(atlas_data == roi_n)\n",
    "            \n",
    "            mean_roi = data[where_roi].mean()\n",
    "            df.loc[indx_,roi_name] = mean_roi\n",
    "            \n",
    "df        "
   ],
   "id": "a2e1c552289dfd02",
   "execution_count": 15,
   "outputs": []
  },
  {
   "metadata": {
    "ExecuteTime": {
     "end_time": "2024-06-25T17:52:35.222182Z",
     "start_time": "2024-06-25T17:52:35.216966Z"
    }
   },
   "cell_type": "code",
   "source": [
    "df_ad = df.loc[df['GRUPO'] == 'pure-AD']\n",
    "df_lewy = df.loc[df['GRUPO'] == 'pure-LB']\n"
   ],
   "id": "45dcc4399a9944a6",
   "execution_count": 4,
   "outputs": []
  },
  {
   "metadata": {
    "ExecuteTime": {
     "end_time": "2024-06-25T17:52:36.364845Z",
     "start_time": "2024-06-25T17:52:36.350523Z"
    }
   },
   "cell_type": "code",
   "source": "df_lewy",
   "id": "cebe072277e916e9",
   "execution_count": 5,
   "outputs": []
  },
  {
   "metadata": {
    "ExecuteTime": {
     "end_time": "2024-06-25T17:52:37.852134Z",
     "start_time": "2024-06-25T17:52:37.487463Z"
    }
   },
   "cell_type": "code",
   "source": [
    "from scipy.stats import ttest_ind\n",
    "\n",
    "for indx_, row_ in atlas_df.iterrows():\n",
    "    \n",
    "    roi_name = row_['ROI_NAME']\n",
    "    t_val, p_val = ttest_ind(df_ad[roi_name], df_lewy[roi_name], axis=0, equal_var=True)\n",
    "    \n",
    "    if p_val < 0.005:\n",
    "        print(f\"{roi_name}: {p_val:.3f}\")\n",
    "    \n",
    "    else:\n",
    "        df.drop(roi_name, axis=1, inplace=True)\n",
    "        \n",
    "df    "
   ],
   "id": "77e03eeaad14e276",
   "execution_count": 6,
   "outputs": []
  },
  {
   "metadata": {
    "ExecuteTime": {
     "end_time": "2024-06-25T17:52:39.776690Z",
     "start_time": "2024-06-25T17:52:39.768647Z"
    }
   },
   "cell_type": "code",
   "source": [
    "X = df.iloc[:,-3:]\n",
    "\n",
    "y = df['GRUPO']\n",
    "\n",
    "X"
   ],
   "id": "72a59db4bfd4de4a",
   "execution_count": 7,
   "outputs": []
  },
  {
   "metadata": {
    "ExecuteTime": {
     "end_time": "2024-06-25T17:52:41.525859Z",
     "start_time": "2024-06-25T17:52:41.397946Z"
    }
   },
   "cell_type": "code",
   "source": [
    "from sklearn.linear_model import LogisticRegression\n",
    "from sklearn.metrics import confusion_matrix, accuracy_score\n",
    "\n",
    "model = LogisticRegression(penalty='l2', dual=False, tol=0.0001, C=1.0, fit_intercept=True, intercept_scaling=1, class_weight=\"balanced\", random_state=None, solver='lbfgs', max_iter=100, verbose=0, warm_start=False, n_jobs=None, l1_ratio=None)\n",
    "\n",
    "model.fit(X,y)"
   ],
   "id": "50ad56a5b206a98c",
   "execution_count": 8,
   "outputs": []
  },
  {
   "metadata": {
    "ExecuteTime": {
     "end_time": "2024-06-25T17:52:45.654653Z",
     "start_time": "2024-06-25T17:52:45.647687Z"
    }
   },
   "cell_type": "code",
   "source": [
    "y_pred = model.predict(X)\n",
    "conf_matrix = confusion_matrix(y, y_pred)\n",
    "accuracy_score = accuracy_score(y, y_pred)\n",
    "print(accuracy_score)\n",
    "conf_matrix"
   ],
   "id": "98a829579c9707bf",
   "execution_count": 9,
   "outputs": []
  },
  {
   "metadata": {
    "ExecuteTime": {
     "end_time": "2024-06-25T17:52:48.240625Z",
     "start_time": "2024-06-25T17:52:48.232398Z"
    }
   },
   "cell_type": "code",
   "source": [
    "from sklearn.svm import SVC\n",
    "\n",
    "model = SVC(C=1.0, kernel='rbf', degree=3, gamma='scale', coef0=0.0, shrinking=True, probability=False, tol=0.001, cache_size=200, class_weight=\"balanced\", verbose=False, max_iter=-1, decision_function_shape='ovr', break_ties=False, random_state=None)\n",
    "\n",
    "model.fit(X,y)\n"
   ],
   "id": "12914ef486f153c6",
   "execution_count": 10,
   "outputs": []
  },
  {
   "metadata": {
    "ExecuteTime": {
     "end_time": "2024-06-25T17:52:49.479107Z",
     "start_time": "2024-06-25T17:52:49.470215Z"
    }
   },
   "cell_type": "code",
   "source": [
    "y_pred = model.predict(X)\n",
    "conf_matrix = confusion_matrix(y, y_pred)\n",
    "#accuracy_score = accuracy_score(y, y_pred)\n",
    "#print(accuracy_score)\n",
    "conf_matrix\n"
   ],
   "id": "e1acbcb76ac754e8",
   "execution_count": 11,
   "outputs": []
  },
  {
   "metadata": {
    "ExecuteTime": {
     "end_time": "2024-06-25T18:06:14.016046Z",
     "start_time": "2024-06-25T18:06:14.010535Z"
    }
   },
   "cell_type": "code",
   "source": "df.to_csv('training_features.csv', index=False)",
   "id": "d9952fea1e827f1e",
   "execution_count": 13,
   "outputs": []
  },
  {
   "metadata": {
    "ExecuteTime": {
     "end_time": "2024-06-25T18:07:01.798318Z",
     "start_time": "2024-06-25T18:07:01.791596Z"
    }
   },
   "cell_type": "code",
   "source": [
    "import joblib\n",
    "\n",
    "joblib.dump(model, 'my_model.pkl')"
   ],
   "id": "334b186bc103d3fb",
   "execution_count": 14,
   "outputs": []
  },
  {
   "metadata": {},
   "cell_type": "code",
   "execution_count": null,
   "source": "",
   "id": "813afdd7efd6098d",
   "outputs": []
  }
 ],
 "metadata": {
  "kernelspec": {
   "display_name": "Python 3",
   "language": "python",
   "name": "python3"
  },
  "language_info": {
   "codemirror_mode": {
    "name": "ipython",
    "version": 2
   },
   "file_extension": ".py",
   "mimetype": "text/x-python",
   "name": "python",
   "nbconvert_exporter": "python",
   "pygments_lexer": "ipython2",
   "version": "2.7.6"
  }
 },
 "nbformat": 4,
 "nbformat_minor": 5
}
