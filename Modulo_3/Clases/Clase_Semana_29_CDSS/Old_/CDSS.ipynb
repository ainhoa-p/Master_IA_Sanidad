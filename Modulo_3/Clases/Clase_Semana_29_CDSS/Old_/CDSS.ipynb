{
 "cells": [
  {
   "cell_type": "code",
   "execution_count": 22,
   "id": "initial_id",
   "metadata": {
    "collapsed": true,
    "ExecuteTime": {
     "end_time": "2024-01-12T17:49:47.583653500Z",
     "start_time": "2024-01-12T17:49:47.427997400Z"
    }
   },
   "outputs": [],
   "source": [
    "import pickle\n",
    "\n",
    "import nibabel as nib\n",
    "import numpy as np\n",
    "import pandas as pd"
   ]
  },
  {
   "cell_type": "code",
   "execution_count": 23,
   "outputs": [],
   "source": [
    "loaded_model = pickle.load(open('my_model.sav', 'rb'))\n",
    "\n",
    "atlas_img = nib.load('cortex_Harvard_Oxford_orig_atlas.nii.gz')\n",
    "atlas_data = atlas_img.get_fdata()"
   ],
   "metadata": {
    "collapsed": false,
    "ExecuteTime": {
     "end_time": "2024-01-12T17:49:47.597158Z",
     "start_time": "2024-01-12T17:49:47.585647600Z"
    }
   },
   "id": "82ac9a4e0f6bf2e1"
  },
  {
   "cell_type": "code",
   "execution_count": 24,
   "outputs": [],
   "source": [
    "def get_features(fdg_):\n",
    "    fdg_img = nib.load(fdg_)\n",
    "    fdg_data = fdg_img.get_fdata()\n",
    "\n",
    "    indx_1 = np.where(atlas_data == 14)\n",
    "    feature_1 = np.mean(fdg_data[indx_1])\n",
    "\n",
    "    indx_2 = np.where(atlas_data == 24)\n",
    "    feature_2 = np.mean(fdg_data[indx_2])\n",
    "\n",
    "    indx_3 = np.where(atlas_data == 47)\n",
    "    feature_3 = np.mean(fdg_data[indx_3])\n",
    "\n",
    "    return feature_1, feature_2, feature_3\n"
   ],
   "metadata": {
    "collapsed": false,
    "ExecuteTime": {
     "end_time": "2024-01-12T17:49:47.607196700Z",
     "start_time": "2024-01-12T17:49:47.596158800Z"
    }
   },
   "id": "f8eaa48d5485dda0"
  },
  {
   "cell_type": "code",
   "execution_count": 27,
   "outputs": [
    {
     "data": {
      "text/plain": "   Inferior_Temporal_Gyrus_anterior_division  Intracalcarine_Cortex  \\\n0                                    1.25184               1.562329   \n\n   Supracalcarine_Cortex  \n0               1.582445  ",
      "text/html": "<div>\n<style scoped>\n    .dataframe tbody tr th:only-of-type {\n        vertical-align: middle;\n    }\n\n    .dataframe tbody tr th {\n        vertical-align: top;\n    }\n\n    .dataframe thead th {\n        text-align: right;\n    }\n</style>\n<table border=\"1\" class=\"dataframe\">\n  <thead>\n    <tr style=\"text-align: right;\">\n      <th></th>\n      <th>Inferior_Temporal_Gyrus_anterior_division</th>\n      <th>Intracalcarine_Cortex</th>\n      <th>Supracalcarine_Cortex</th>\n    </tr>\n  </thead>\n  <tbody>\n    <tr>\n      <th>0</th>\n      <td>1.25184</td>\n      <td>1.562329</td>\n      <td>1.582445</td>\n    </tr>\n  </tbody>\n</table>\n</div>"
     },
     "execution_count": 27,
     "metadata": {},
     "output_type": "execute_result"
    }
   ],
   "source": [
    "fdg_ = r'D:\\MIA\\Autopsia\\005_S_0448_I226091\\swfdg_normhist.hdr'\n",
    "\n",
    "feature_1, feature_2, feature_3 = get_features(fdg_)\n",
    "\n",
    "my_features = pd.DataFrame(\n",
    "    {'Inferior_Temporal_Gyrus_anterior_division': [feature_1], 'Intracalcarine_Cortex': [feature_2],\n",
    "     'Supracalcarine_Cortex': [feature_3]})\n",
    "\n",
    "my_features"
   ],
   "metadata": {
    "collapsed": false,
    "ExecuteTime": {
     "end_time": "2024-01-12T17:50:23.393787Z",
     "start_time": "2024-01-12T17:50:23.312638600Z"
    }
   },
   "id": "d9fb7be7226f7c64"
  },
  {
   "cell_type": "code",
   "execution_count": 28,
   "outputs": [
    {
     "name": "stdout",
     "output_type": "stream",
     "text": [
      "De acuerdo al modelo de predicción el patrón de hipometabolismo observado es compatible con una patología de cuerpos de Lewy\n"
     ]
    }
   ],
   "source": [
    "y_pred = loaded_model.predict(my_features)\n",
    "\n",
    "if y_pred == 0:\n",
    "\n",
    "    print(\n",
    "        'De acuerdo al modelo de predicción el patrón de hipometabolismo observado es compatible con la enfermedad de Alzheimer')\n",
    "\n",
    "else:\n",
    "\n",
    "    print(\n",
    "        'De acuerdo al modelo de predicción el patrón de hipometabolismo observado es compatible con una patología de cuerpos de Lewy')"
   ],
   "metadata": {
    "collapsed": false,
    "ExecuteTime": {
     "end_time": "2024-01-12T17:50:24.271102800Z",
     "start_time": "2024-01-12T17:50:24.265936600Z"
    }
   },
   "id": "a6e462f4abe0a888"
  },
  {
   "cell_type": "code",
   "execution_count": 26,
   "outputs": [],
   "source": [],
   "metadata": {
    "collapsed": false,
    "ExecuteTime": {
     "end_time": "2024-01-12T17:49:47.629213100Z",
     "start_time": "2024-01-12T17:49:47.627213500Z"
    }
   },
   "id": "25e7b468215c1759"
  }
 ],
 "metadata": {
  "kernelspec": {
   "display_name": "Python 3",
   "language": "python",
   "name": "python3"
  },
  "language_info": {
   "codemirror_mode": {
    "name": "ipython",
    "version": 2
   },
   "file_extension": ".py",
   "mimetype": "text/x-python",
   "name": "python",
   "nbconvert_exporter": "python",
   "pygments_lexer": "ipython2",
   "version": "2.7.6"
  }
 },
 "nbformat": 4,
 "nbformat_minor": 5
}
