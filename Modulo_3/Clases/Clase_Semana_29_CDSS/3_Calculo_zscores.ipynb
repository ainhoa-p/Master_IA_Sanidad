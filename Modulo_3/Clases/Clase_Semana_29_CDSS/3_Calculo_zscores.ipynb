{
 "cells": [
  {
   "cell_type": "code",
   "execution_count": 64,
   "id": "initial_id",
   "metadata": {
    "collapsed": true,
    "ExecuteTime": {
     "end_time": "2023-10-31T18:55:31.444837500Z",
     "start_time": "2023-10-31T18:55:31.431324100Z"
    }
   },
   "outputs": [],
   "source": [
    "import pandas as pd\n",
    "import numpy as np\n",
    "import nibabel as nib\n",
    "from os.path import join\n",
    "import warnings\n",
    "warnings.filterwarnings(\"ignore\")\n",
    "from scipy.stats import ttest_ind\n"
   ]
  },
  {
   "cell_type": "code",
   "execution_count": 2,
   "outputs": [],
   "source": [
    "df_pacientes = pd.read_csv('Clasificados.csv')\n",
    "df_atlas = pd.read_csv('Harvard_Oxford.csv')\n",
    "dir_ = r'C:\\Users\\jesus\\Work\\MIA\\Autopsia'\n",
    "\n",
    "atlas_path = r'C:\\Users\\jesus\\Work\\repos\\Master_IA_Sanidad\\Modulo_3\\Clases\\Clase_Semana_29_CDSS\\cortex_Harvard_Oxford_orig_atlas.nii.gz'\n",
    "atlas_img = nib.load(atlas_path)\n",
    "atlas_data = atlas_img.get_fdata()"
   ],
   "metadata": {
    "collapsed": false,
    "ExecuteTime": {
     "end_time": "2023-10-31T16:26:35.811748200Z",
     "start_time": "2023-10-31T16:26:35.759628400Z"
    }
   },
   "id": "da78ab305c791d80"
  },
  {
   "cell_type": "code",
   "execution_count": 33,
   "outputs": [
    {
     "data": {
      "text/plain": "                                         ROI_NAME  ROI_NUM  PROMEDIO       STD\n0                                    Frontal_Pole        1  1.297428  0.046500\n1                                  Insular_Cortex        2  1.318357  0.041654\n2                          Superior_Frontal_Gyrus        3  1.321448  0.064708\n3                            Middle_Frontal_Gyrus        4  1.407354  0.051632\n4        Inferior_Frontal_Gyrus_pars_triangularis        5  1.356674  0.045377\n5         Inferior_Frontal_Gyrus_pars_opercularis        6  1.415501  0.051962\n6                                Precentral_Gyrus        7  1.348035  0.044931\n7                                   Temporal_Pole        8  0.965558  0.054513\n8       Superior_Temporal_Gyrus_anterior_division        9  1.161459  0.045870\n9      Superior_Temporal_Gyrus_posterior_division       10  1.280519  0.042944\n10        Middle_Temporal_Gyrus_anterior_division       11  1.121338  0.043356\n11       Middle_Temporal_Gyrus_posterior_division       12  1.294253  0.037953\n12    Middle_Temporal_Gyrus_temporooccipital_part       13  1.345804  0.042974\n13      Inferior_Temporal_Gyrus_anterior_division       14  1.173951  0.056446\n14     Inferior_Temporal_Gyrus_posterior_division       15  1.250328  0.047635\n15  Inferior_Temporal_Gyrus_temporooccipital_part       16  1.290531  0.049867\n16                              Postcentral_Gyrus       17  1.309761  0.053707\n17                       Superior_Parietal_Lobule       18  1.317837  0.070111\n18          Supramarginal_Gyrus_anterior_division       19  1.199536  0.042948\n19         Supramarginal_Gyrus_posterior_division       20  1.304109  0.046855\n20                                  Angular_Gyrus       21  1.367941  0.053767\n21     Lateral_Occipital_Cortex_superior_division       22  1.405235  0.059837\n22     Lateral_Occipital_Cortex_inferior_division       23  1.398614  0.057983\n23                          Intracalcarine_Cortex       24  1.693928  0.089644\n24                          Frontal_Medial_Cortex       25  1.453410  0.059864\n25                  Juxtapositional_Lobule_Cortex       26  1.408408  0.093348\n26                             Subcallosal_Cortex       27  1.144738  0.057434\n27                            Paracingulate_Gyrus       28  1.402412  0.076119\n28              Cingulate_Gyrus_anterior_division       29  1.186931  0.072674\n29             Cingulate_Gyrus_posterior_division       30  1.388830  0.061792\n30                              Precuneous_Cortex       31  1.543480  0.064897\n31                                  Cuneal_Cortex       32  1.683355  0.084150\n32                         Frontal_Orbital_Cortex       33  1.331010  0.041442\n33        Parahippocampal_Gyrus_anterior_division       34  0.972969  0.055229\n34       Parahippocampal_Gyrus_posterior_division       35  1.084333  0.053681\n35                                  Lingual_Gyrus       36  1.349179  0.061593\n36     Temporal_Fusiform_Cortex_anterior_division       37  1.022354  0.060043\n37    Temporal_Fusiform_Cortex_posterior_division       38  1.167805  0.050257\n38             Temporal_Occipital_Fusiform_Cortex       39  1.340661  0.048535\n39                       Occipital_Fusiform_Gyrus       40  1.503835  0.073126\n40                       Frontal_Operculum_Cortex       41  1.404659  0.058010\n41                       Central_Opercular_Cortex       42  1.332561  0.039225\n42                      Parietal_Operculum_Cortex       43  1.321411  0.049123\n43                                  Planum_Polare       44  1.213534  0.062357\n44                                 Heschl's_Gyrus       45  1.512226  0.092456\n45                               Planum_Temporale       46  1.480383  0.077805\n46                          Supracalcarine_Cortex       47  1.674895  0.092210\n47                                 Occipital_Pole       48  1.451402  0.087759\n48                                       Thalamus       49  1.120436  0.093625\n49                                       Striatum       50  1.197336  0.073424\n50                                      Brainstem       51  0.909965  0.051019\n51                                    Hippocampus       52  1.025811  0.054531\n52                                       Amygdala       53  1.016919  0.055693",
      "text/html": "<div>\n<style scoped>\n    .dataframe tbody tr th:only-of-type {\n        vertical-align: middle;\n    }\n\n    .dataframe tbody tr th {\n        vertical-align: top;\n    }\n\n    .dataframe thead th {\n        text-align: right;\n    }\n</style>\n<table border=\"1\" class=\"dataframe\">\n  <thead>\n    <tr style=\"text-align: right;\">\n      <th></th>\n      <th>ROI_NAME</th>\n      <th>ROI_NUM</th>\n      <th>PROMEDIO</th>\n      <th>STD</th>\n    </tr>\n  </thead>\n  <tbody>\n    <tr>\n      <th>0</th>\n      <td>Frontal_Pole</td>\n      <td>1</td>\n      <td>1.297428</td>\n      <td>0.046500</td>\n    </tr>\n    <tr>\n      <th>1</th>\n      <td>Insular_Cortex</td>\n      <td>2</td>\n      <td>1.318357</td>\n      <td>0.041654</td>\n    </tr>\n    <tr>\n      <th>2</th>\n      <td>Superior_Frontal_Gyrus</td>\n      <td>3</td>\n      <td>1.321448</td>\n      <td>0.064708</td>\n    </tr>\n    <tr>\n      <th>3</th>\n      <td>Middle_Frontal_Gyrus</td>\n      <td>4</td>\n      <td>1.407354</td>\n      <td>0.051632</td>\n    </tr>\n    <tr>\n      <th>4</th>\n      <td>Inferior_Frontal_Gyrus_pars_triangularis</td>\n      <td>5</td>\n      <td>1.356674</td>\n      <td>0.045377</td>\n    </tr>\n    <tr>\n      <th>5</th>\n      <td>Inferior_Frontal_Gyrus_pars_opercularis</td>\n      <td>6</td>\n      <td>1.415501</td>\n      <td>0.051962</td>\n    </tr>\n    <tr>\n      <th>6</th>\n      <td>Precentral_Gyrus</td>\n      <td>7</td>\n      <td>1.348035</td>\n      <td>0.044931</td>\n    </tr>\n    <tr>\n      <th>7</th>\n      <td>Temporal_Pole</td>\n      <td>8</td>\n      <td>0.965558</td>\n      <td>0.054513</td>\n    </tr>\n    <tr>\n      <th>8</th>\n      <td>Superior_Temporal_Gyrus_anterior_division</td>\n      <td>9</td>\n      <td>1.161459</td>\n      <td>0.045870</td>\n    </tr>\n    <tr>\n      <th>9</th>\n      <td>Superior_Temporal_Gyrus_posterior_division</td>\n      <td>10</td>\n      <td>1.280519</td>\n      <td>0.042944</td>\n    </tr>\n    <tr>\n      <th>10</th>\n      <td>Middle_Temporal_Gyrus_anterior_division</td>\n      <td>11</td>\n      <td>1.121338</td>\n      <td>0.043356</td>\n    </tr>\n    <tr>\n      <th>11</th>\n      <td>Middle_Temporal_Gyrus_posterior_division</td>\n      <td>12</td>\n      <td>1.294253</td>\n      <td>0.037953</td>\n    </tr>\n    <tr>\n      <th>12</th>\n      <td>Middle_Temporal_Gyrus_temporooccipital_part</td>\n      <td>13</td>\n      <td>1.345804</td>\n      <td>0.042974</td>\n    </tr>\n    <tr>\n      <th>13</th>\n      <td>Inferior_Temporal_Gyrus_anterior_division</td>\n      <td>14</td>\n      <td>1.173951</td>\n      <td>0.056446</td>\n    </tr>\n    <tr>\n      <th>14</th>\n      <td>Inferior_Temporal_Gyrus_posterior_division</td>\n      <td>15</td>\n      <td>1.250328</td>\n      <td>0.047635</td>\n    </tr>\n    <tr>\n      <th>15</th>\n      <td>Inferior_Temporal_Gyrus_temporooccipital_part</td>\n      <td>16</td>\n      <td>1.290531</td>\n      <td>0.049867</td>\n    </tr>\n    <tr>\n      <th>16</th>\n      <td>Postcentral_Gyrus</td>\n      <td>17</td>\n      <td>1.309761</td>\n      <td>0.053707</td>\n    </tr>\n    <tr>\n      <th>17</th>\n      <td>Superior_Parietal_Lobule</td>\n      <td>18</td>\n      <td>1.317837</td>\n      <td>0.070111</td>\n    </tr>\n    <tr>\n      <th>18</th>\n      <td>Supramarginal_Gyrus_anterior_division</td>\n      <td>19</td>\n      <td>1.199536</td>\n      <td>0.042948</td>\n    </tr>\n    <tr>\n      <th>19</th>\n      <td>Supramarginal_Gyrus_posterior_division</td>\n      <td>20</td>\n      <td>1.304109</td>\n      <td>0.046855</td>\n    </tr>\n    <tr>\n      <th>20</th>\n      <td>Angular_Gyrus</td>\n      <td>21</td>\n      <td>1.367941</td>\n      <td>0.053767</td>\n    </tr>\n    <tr>\n      <th>21</th>\n      <td>Lateral_Occipital_Cortex_superior_division</td>\n      <td>22</td>\n      <td>1.405235</td>\n      <td>0.059837</td>\n    </tr>\n    <tr>\n      <th>22</th>\n      <td>Lateral_Occipital_Cortex_inferior_division</td>\n      <td>23</td>\n      <td>1.398614</td>\n      <td>0.057983</td>\n    </tr>\n    <tr>\n      <th>23</th>\n      <td>Intracalcarine_Cortex</td>\n      <td>24</td>\n      <td>1.693928</td>\n      <td>0.089644</td>\n    </tr>\n    <tr>\n      <th>24</th>\n      <td>Frontal_Medial_Cortex</td>\n      <td>25</td>\n      <td>1.453410</td>\n      <td>0.059864</td>\n    </tr>\n    <tr>\n      <th>25</th>\n      <td>Juxtapositional_Lobule_Cortex</td>\n      <td>26</td>\n      <td>1.408408</td>\n      <td>0.093348</td>\n    </tr>\n    <tr>\n      <th>26</th>\n      <td>Subcallosal_Cortex</td>\n      <td>27</td>\n      <td>1.144738</td>\n      <td>0.057434</td>\n    </tr>\n    <tr>\n      <th>27</th>\n      <td>Paracingulate_Gyrus</td>\n      <td>28</td>\n      <td>1.402412</td>\n      <td>0.076119</td>\n    </tr>\n    <tr>\n      <th>28</th>\n      <td>Cingulate_Gyrus_anterior_division</td>\n      <td>29</td>\n      <td>1.186931</td>\n      <td>0.072674</td>\n    </tr>\n    <tr>\n      <th>29</th>\n      <td>Cingulate_Gyrus_posterior_division</td>\n      <td>30</td>\n      <td>1.388830</td>\n      <td>0.061792</td>\n    </tr>\n    <tr>\n      <th>30</th>\n      <td>Precuneous_Cortex</td>\n      <td>31</td>\n      <td>1.543480</td>\n      <td>0.064897</td>\n    </tr>\n    <tr>\n      <th>31</th>\n      <td>Cuneal_Cortex</td>\n      <td>32</td>\n      <td>1.683355</td>\n      <td>0.084150</td>\n    </tr>\n    <tr>\n      <th>32</th>\n      <td>Frontal_Orbital_Cortex</td>\n      <td>33</td>\n      <td>1.331010</td>\n      <td>0.041442</td>\n    </tr>\n    <tr>\n      <th>33</th>\n      <td>Parahippocampal_Gyrus_anterior_division</td>\n      <td>34</td>\n      <td>0.972969</td>\n      <td>0.055229</td>\n    </tr>\n    <tr>\n      <th>34</th>\n      <td>Parahippocampal_Gyrus_posterior_division</td>\n      <td>35</td>\n      <td>1.084333</td>\n      <td>0.053681</td>\n    </tr>\n    <tr>\n      <th>35</th>\n      <td>Lingual_Gyrus</td>\n      <td>36</td>\n      <td>1.349179</td>\n      <td>0.061593</td>\n    </tr>\n    <tr>\n      <th>36</th>\n      <td>Temporal_Fusiform_Cortex_anterior_division</td>\n      <td>37</td>\n      <td>1.022354</td>\n      <td>0.060043</td>\n    </tr>\n    <tr>\n      <th>37</th>\n      <td>Temporal_Fusiform_Cortex_posterior_division</td>\n      <td>38</td>\n      <td>1.167805</td>\n      <td>0.050257</td>\n    </tr>\n    <tr>\n      <th>38</th>\n      <td>Temporal_Occipital_Fusiform_Cortex</td>\n      <td>39</td>\n      <td>1.340661</td>\n      <td>0.048535</td>\n    </tr>\n    <tr>\n      <th>39</th>\n      <td>Occipital_Fusiform_Gyrus</td>\n      <td>40</td>\n      <td>1.503835</td>\n      <td>0.073126</td>\n    </tr>\n    <tr>\n      <th>40</th>\n      <td>Frontal_Operculum_Cortex</td>\n      <td>41</td>\n      <td>1.404659</td>\n      <td>0.058010</td>\n    </tr>\n    <tr>\n      <th>41</th>\n      <td>Central_Opercular_Cortex</td>\n      <td>42</td>\n      <td>1.332561</td>\n      <td>0.039225</td>\n    </tr>\n    <tr>\n      <th>42</th>\n      <td>Parietal_Operculum_Cortex</td>\n      <td>43</td>\n      <td>1.321411</td>\n      <td>0.049123</td>\n    </tr>\n    <tr>\n      <th>43</th>\n      <td>Planum_Polare</td>\n      <td>44</td>\n      <td>1.213534</td>\n      <td>0.062357</td>\n    </tr>\n    <tr>\n      <th>44</th>\n      <td>Heschl's_Gyrus</td>\n      <td>45</td>\n      <td>1.512226</td>\n      <td>0.092456</td>\n    </tr>\n    <tr>\n      <th>45</th>\n      <td>Planum_Temporale</td>\n      <td>46</td>\n      <td>1.480383</td>\n      <td>0.077805</td>\n    </tr>\n    <tr>\n      <th>46</th>\n      <td>Supracalcarine_Cortex</td>\n      <td>47</td>\n      <td>1.674895</td>\n      <td>0.092210</td>\n    </tr>\n    <tr>\n      <th>47</th>\n      <td>Occipital_Pole</td>\n      <td>48</td>\n      <td>1.451402</td>\n      <td>0.087759</td>\n    </tr>\n    <tr>\n      <th>48</th>\n      <td>Thalamus</td>\n      <td>49</td>\n      <td>1.120436</td>\n      <td>0.093625</td>\n    </tr>\n    <tr>\n      <th>49</th>\n      <td>Striatum</td>\n      <td>50</td>\n      <td>1.197336</td>\n      <td>0.073424</td>\n    </tr>\n    <tr>\n      <th>50</th>\n      <td>Brainstem</td>\n      <td>51</td>\n      <td>0.909965</td>\n      <td>0.051019</td>\n    </tr>\n    <tr>\n      <th>51</th>\n      <td>Hippocampus</td>\n      <td>52</td>\n      <td>1.025811</td>\n      <td>0.054531</td>\n    </tr>\n    <tr>\n      <th>52</th>\n      <td>Amygdala</td>\n      <td>53</td>\n      <td>1.016919</td>\n      <td>0.055693</td>\n    </tr>\n  </tbody>\n</table>\n</div>"
     },
     "execution_count": 33,
     "metadata": {},
     "output_type": "execute_result"
    }
   ],
   "source": [
    "df_atlas"
   ],
   "metadata": {
    "collapsed": false,
    "ExecuteTime": {
     "end_time": "2023-10-31T18:35:31.958509100Z",
     "start_time": "2023-10-31T18:35:31.949000600Z"
    }
   },
   "id": "27ea6956b9e551d8"
  },
  {
   "cell_type": "code",
   "execution_count": 4,
   "outputs": [],
   "source": [
    "for index_1, row_1 in df_pacientes.iterrows():\n",
    "    \n",
    "    id_subject = row_1['SUBJECT_ID']\n",
    "    id_img = row_1['FDG_ID']\n",
    "    subj_dir_name = id_subject + '_I' + str(id_img)\n",
    "\n",
    "    img_path = join(dir_,subj_dir_name,'swfdg_normhist.hdr')\n",
    "    img_ = nib.load(img_path)\n",
    "    img_data = img_.get_fdata()\n",
    "    \n",
    "    for index_2, row_2 in df_atlas.iterrows():\n",
    "        roi_name = row_2['ROI_NAME']\n",
    "        roi_num = row_2['ROI_NUM']\n",
    "        roi_promedio = row_2['PROMEDIO']\n",
    "        roi_std = row_2['STD']\n",
    "        \n",
    "        roi_voxel = np.where(atlas_data == roi_num)\n",
    "        val_patient = np.mean(img_data[roi_voxel])\n",
    "        \n",
    "        pat_roi_zscore = (val_patient - roi_promedio)/roi_std\n",
    "\n",
    "        df_pacientes.loc[index_1,roi_name] = pat_roi_zscore\n",
    "                "
   ],
   "metadata": {
    "collapsed": false,
    "ExecuteTime": {
     "end_time": "2023-10-31T16:26:49.993773500Z",
     "start_time": "2023-10-31T16:26:41.870218600Z"
    }
   },
   "id": "1d7ecb4c3536e5e7"
  },
  {
   "cell_type": "code",
   "execution_count": 13,
   "outputs": [],
   "source": [
    "df_pacientes.to_csv('roi_values.csv')"
   ],
   "metadata": {
    "collapsed": false,
    "ExecuteTime": {
     "end_time": "2023-10-31T18:11:07.283456600Z",
     "start_time": "2023-10-31T18:11:07.271949600Z"
    }
   },
   "id": "a9075b7c2fd6d1b4"
  },
  {
   "cell_type": "code",
   "execution_count": 6,
   "outputs": [],
   "source": [
    "df_ad = df_pacientes.loc[df_pacientes['Grupo']=='AD']\n",
    "df_lewy = df_pacientes.loc[df_pacientes['Grupo']=='LEWY']\n",
    "\n",
    "ad_pattern = np.zeros_like(atlas_data)\n",
    "lewy_body_pattern = np.zeros_like(atlas_data)\n",
    "\n",
    "for index_2, row_2 in df_atlas.iterrows():\n",
    "    roi_num = row_2['ROI_NUM']\n",
    "    roi_name = row_2['ROI_NAME']\n",
    "    \n",
    "    mean_ad = np.mean(df_ad[roi_name])\n",
    "    mean_lewy = np.mean(df_lewy[roi_name])\n",
    "    \n",
    "    roi_voxels = np.where(atlas_data == roi_num)\n",
    "\n",
    "    ad_pattern[roi_voxels] = mean_ad\n",
    "    lewy_body_pattern[roi_voxels] = mean_lewy\n",
    "\n",
    "\n",
    "ad_pat_img = nib.Nifti1Image(ad_pattern, atlas_img.affine, atlas_img.header)\n",
    "nib.save(ad_pat_img, 'ad_pattern.nii.gz')\n",
    "\n",
    "lewy_pat_img = nib.Nifti1Image(lewy_body_pattern, atlas_img.affine, atlas_img.header)\n",
    "nib.save(lewy_pat_img, 'lewy_pattern.nii.gz')\n",
    "    \n",
    "    \n"
   ],
   "metadata": {
    "collapsed": false,
    "ExecuteTime": {
     "end_time": "2023-10-31T16:26:50.442580100Z",
     "start_time": "2023-10-31T16:26:50.326707900Z"
    }
   },
   "id": "669b1bc8237ce1b0"
  },
  {
   "cell_type": "code",
   "execution_count": 12,
   "outputs": [
    {
     "name": "stdout",
     "output_type": "stream",
     "text": [
      "Temporal_Pole -2.9044114080274825 0.006423868599824267\n",
      "Middle_Temporal_Gyrus_anterior_division -2.9449405299732736 0.005791246618907714\n",
      "Inferior_Temporal_Gyrus_anterior_division -3.648013636244977 0.0008766686428361144\n",
      "Intracalcarine_Cortex 3.4228607548346344 0.0016316623398195012\n",
      "Frontal_Medial_Cortex -2.780857134284928 0.008775985499674939\n",
      "Supracalcarine_Cortex 3.0143807283736326 0.004841642830535394\n"
     ]
    }
   ],
   "source": [
    "df_ad = df_pacientes.loc[df_pacientes['Grupo']=='AD']\n",
    "df_lewy = df_pacientes.loc[df_pacientes['Grupo']=='LEWY']\n",
    "\n",
    "roi_list = []\n",
    "\n",
    "for index_2, row_2 in df_atlas.iterrows():\n",
    "\n",
    "    roi_name = row_2['ROI_NAME']\n",
    "    t, p = ttest_ind(df_ad[roi_name], df_lewy[roi_name], axis=0, equal_var=True)\n",
    "    if p < 0.01:\n",
    "        print(roi_name, t, p)\n",
    "        roi_list.append(roi_name)"
   ],
   "metadata": {
    "collapsed": false,
    "ExecuteTime": {
     "end_time": "2023-10-31T18:07:18.514592600Z",
     "start_time": "2023-10-31T18:07:18.479418600Z"
    }
   },
   "id": "efd13b14b9a44750"
  },
  {
   "cell_type": "code",
   "execution_count": 15,
   "outputs": [
    {
     "data": {
      "text/plain": "    Unnamed: 0  SUBJECT_ID ORIG_GROUP LAST_DIAGNOSIS  FDG_ID  FDG_AGE  \\\n0            0  003_S_4892         AD             AD  334485     75.3   \n1            1  005_S_0448        MCI             AD  226091     90.6   \n2            2  005_S_4910         AD             AD  347770     81.7   \n3            3  006_S_4546         AD             AD  300098     71.2   \n4            4  011_S_0008         CN            MCI   26885     85.6   \n..         ...         ...        ...            ...     ...      ...   \n68          68  127_S_4500         AD             AD  417020     92.5   \n69          69  127_S_4765       EMCI             AD  871795     81.1   \n70          70  127_S_5058         AD             AD  360030     61.9   \n71          71  129_S_1246        MCI            MCI  362092     78.5   \n72          72  941_S_1203         CN            MCI  169796     86.6   \n\n    AGE_DEATH  ALZHEIMER PATHOLOGY  LEWY PATHOLOGY  AD_Pos  ...  \\\n0          76                    3               0     1.0  ...   \n1          93                    1               2     0.0  ...   \n2          84                    3               4     1.0  ...   \n3          75                    3               2     1.0  ...   \n4          95                    1               3     0.0  ...   \n..        ...                  ...             ...     ...  ...   \n68         95                    3               0     1.0  ...   \n69         81                    3               3     1.0  ...   \n70         66                    2               3     1.0  ...   \n71         80                    2               0     1.0  ...   \n72         89                    2               0     1.0  ...   \n\n    Planum_Polare Heschl's_Gyrus  Planum_Temporale  Supracalcarine_Cortex  \\\n0       -0.112321      -0.958489         -1.922645               2.093158   \n1       -0.080783       0.581598          0.430449              -1.002594   \n2       -3.597921      -2.232594         -2.430986              -0.353698   \n3        0.937891       1.258248          0.175496               2.846217   \n4        1.075426       0.278105         -0.128056              -0.168973   \n..            ...            ...               ...                    ...   \n68       0.745240      -0.208900         -0.339694              -2.179645   \n69       1.722327      -0.339546         -0.589497              -1.592252   \n70       2.331087       0.977442          0.349620               0.075130   \n71      -1.454552      -0.287481         -0.080177               0.642108   \n72      -1.344699      -0.645797         -0.939533               1.978643   \n\n    Occipital_Pole  Thalamus  Striatum  Brainstem  Hippocampus  Amygdala  \n0         0.357431  0.006967 -0.296966  -0.278695    -0.094379 -0.625237  \n1        -2.052067 -1.566412  1.811901   1.976478     0.854247  1.853367  \n2        -0.505277 -1.481930 -2.080433   0.162197    -2.105653 -1.938893  \n3         1.965820 -1.520694 -1.832788   0.432951    -0.682365  0.846385  \n4        -0.532507  0.968607  0.803972   0.301074     0.950026  0.608191  \n..             ...       ...       ...        ...          ...       ...  \n68       -1.124119 -1.936402 -1.862072   0.079512     0.819908  1.461137  \n69       -3.282584  1.862965  1.764669   1.218454     1.584905  1.544832  \n70        0.411157 -0.471721 -0.887564  -0.471022     0.377695  0.904273  \n71        0.269712 -0.247182  1.028909  -1.428884    -0.627655 -0.710637  \n72        1.889812 -0.034380  0.168717   2.010435     0.271842  1.124868  \n\n[73 rows x 65 columns]",
      "text/html": "<div>\n<style scoped>\n    .dataframe tbody tr th:only-of-type {\n        vertical-align: middle;\n    }\n\n    .dataframe tbody tr th {\n        vertical-align: top;\n    }\n\n    .dataframe thead th {\n        text-align: right;\n    }\n</style>\n<table border=\"1\" class=\"dataframe\">\n  <thead>\n    <tr style=\"text-align: right;\">\n      <th></th>\n      <th>Unnamed: 0</th>\n      <th>SUBJECT_ID</th>\n      <th>ORIG_GROUP</th>\n      <th>LAST_DIAGNOSIS</th>\n      <th>FDG_ID</th>\n      <th>FDG_AGE</th>\n      <th>AGE_DEATH</th>\n      <th>ALZHEIMER PATHOLOGY</th>\n      <th>LEWY PATHOLOGY</th>\n      <th>AD_Pos</th>\n      <th>...</th>\n      <th>Planum_Polare</th>\n      <th>Heschl's_Gyrus</th>\n      <th>Planum_Temporale</th>\n      <th>Supracalcarine_Cortex</th>\n      <th>Occipital_Pole</th>\n      <th>Thalamus</th>\n      <th>Striatum</th>\n      <th>Brainstem</th>\n      <th>Hippocampus</th>\n      <th>Amygdala</th>\n    </tr>\n  </thead>\n  <tbody>\n    <tr>\n      <th>0</th>\n      <td>0</td>\n      <td>003_S_4892</td>\n      <td>AD</td>\n      <td>AD</td>\n      <td>334485</td>\n      <td>75.3</td>\n      <td>76</td>\n      <td>3</td>\n      <td>0</td>\n      <td>1.0</td>\n      <td>...</td>\n      <td>-0.112321</td>\n      <td>-0.958489</td>\n      <td>-1.922645</td>\n      <td>2.093158</td>\n      <td>0.357431</td>\n      <td>0.006967</td>\n      <td>-0.296966</td>\n      <td>-0.278695</td>\n      <td>-0.094379</td>\n      <td>-0.625237</td>\n    </tr>\n    <tr>\n      <th>1</th>\n      <td>1</td>\n      <td>005_S_0448</td>\n      <td>MCI</td>\n      <td>AD</td>\n      <td>226091</td>\n      <td>90.6</td>\n      <td>93</td>\n      <td>1</td>\n      <td>2</td>\n      <td>0.0</td>\n      <td>...</td>\n      <td>-0.080783</td>\n      <td>0.581598</td>\n      <td>0.430449</td>\n      <td>-1.002594</td>\n      <td>-2.052067</td>\n      <td>-1.566412</td>\n      <td>1.811901</td>\n      <td>1.976478</td>\n      <td>0.854247</td>\n      <td>1.853367</td>\n    </tr>\n    <tr>\n      <th>2</th>\n      <td>2</td>\n      <td>005_S_4910</td>\n      <td>AD</td>\n      <td>AD</td>\n      <td>347770</td>\n      <td>81.7</td>\n      <td>84</td>\n      <td>3</td>\n      <td>4</td>\n      <td>1.0</td>\n      <td>...</td>\n      <td>-3.597921</td>\n      <td>-2.232594</td>\n      <td>-2.430986</td>\n      <td>-0.353698</td>\n      <td>-0.505277</td>\n      <td>-1.481930</td>\n      <td>-2.080433</td>\n      <td>0.162197</td>\n      <td>-2.105653</td>\n      <td>-1.938893</td>\n    </tr>\n    <tr>\n      <th>3</th>\n      <td>3</td>\n      <td>006_S_4546</td>\n      <td>AD</td>\n      <td>AD</td>\n      <td>300098</td>\n      <td>71.2</td>\n      <td>75</td>\n      <td>3</td>\n      <td>2</td>\n      <td>1.0</td>\n      <td>...</td>\n      <td>0.937891</td>\n      <td>1.258248</td>\n      <td>0.175496</td>\n      <td>2.846217</td>\n      <td>1.965820</td>\n      <td>-1.520694</td>\n      <td>-1.832788</td>\n      <td>0.432951</td>\n      <td>-0.682365</td>\n      <td>0.846385</td>\n    </tr>\n    <tr>\n      <th>4</th>\n      <td>4</td>\n      <td>011_S_0008</td>\n      <td>CN</td>\n      <td>MCI</td>\n      <td>26885</td>\n      <td>85.6</td>\n      <td>95</td>\n      <td>1</td>\n      <td>3</td>\n      <td>0.0</td>\n      <td>...</td>\n      <td>1.075426</td>\n      <td>0.278105</td>\n      <td>-0.128056</td>\n      <td>-0.168973</td>\n      <td>-0.532507</td>\n      <td>0.968607</td>\n      <td>0.803972</td>\n      <td>0.301074</td>\n      <td>0.950026</td>\n      <td>0.608191</td>\n    </tr>\n    <tr>\n      <th>...</th>\n      <td>...</td>\n      <td>...</td>\n      <td>...</td>\n      <td>...</td>\n      <td>...</td>\n      <td>...</td>\n      <td>...</td>\n      <td>...</td>\n      <td>...</td>\n      <td>...</td>\n      <td>...</td>\n      <td>...</td>\n      <td>...</td>\n      <td>...</td>\n      <td>...</td>\n      <td>...</td>\n      <td>...</td>\n      <td>...</td>\n      <td>...</td>\n      <td>...</td>\n      <td>...</td>\n    </tr>\n    <tr>\n      <th>68</th>\n      <td>68</td>\n      <td>127_S_4500</td>\n      <td>AD</td>\n      <td>AD</td>\n      <td>417020</td>\n      <td>92.5</td>\n      <td>95</td>\n      <td>3</td>\n      <td>0</td>\n      <td>1.0</td>\n      <td>...</td>\n      <td>0.745240</td>\n      <td>-0.208900</td>\n      <td>-0.339694</td>\n      <td>-2.179645</td>\n      <td>-1.124119</td>\n      <td>-1.936402</td>\n      <td>-1.862072</td>\n      <td>0.079512</td>\n      <td>0.819908</td>\n      <td>1.461137</td>\n    </tr>\n    <tr>\n      <th>69</th>\n      <td>69</td>\n      <td>127_S_4765</td>\n      <td>EMCI</td>\n      <td>AD</td>\n      <td>871795</td>\n      <td>81.1</td>\n      <td>81</td>\n      <td>3</td>\n      <td>3</td>\n      <td>1.0</td>\n      <td>...</td>\n      <td>1.722327</td>\n      <td>-0.339546</td>\n      <td>-0.589497</td>\n      <td>-1.592252</td>\n      <td>-3.282584</td>\n      <td>1.862965</td>\n      <td>1.764669</td>\n      <td>1.218454</td>\n      <td>1.584905</td>\n      <td>1.544832</td>\n    </tr>\n    <tr>\n      <th>70</th>\n      <td>70</td>\n      <td>127_S_5058</td>\n      <td>AD</td>\n      <td>AD</td>\n      <td>360030</td>\n      <td>61.9</td>\n      <td>66</td>\n      <td>2</td>\n      <td>3</td>\n      <td>1.0</td>\n      <td>...</td>\n      <td>2.331087</td>\n      <td>0.977442</td>\n      <td>0.349620</td>\n      <td>0.075130</td>\n      <td>0.411157</td>\n      <td>-0.471721</td>\n      <td>-0.887564</td>\n      <td>-0.471022</td>\n      <td>0.377695</td>\n      <td>0.904273</td>\n    </tr>\n    <tr>\n      <th>71</th>\n      <td>71</td>\n      <td>129_S_1246</td>\n      <td>MCI</td>\n      <td>MCI</td>\n      <td>362092</td>\n      <td>78.5</td>\n      <td>80</td>\n      <td>2</td>\n      <td>0</td>\n      <td>1.0</td>\n      <td>...</td>\n      <td>-1.454552</td>\n      <td>-0.287481</td>\n      <td>-0.080177</td>\n      <td>0.642108</td>\n      <td>0.269712</td>\n      <td>-0.247182</td>\n      <td>1.028909</td>\n      <td>-1.428884</td>\n      <td>-0.627655</td>\n      <td>-0.710637</td>\n    </tr>\n    <tr>\n      <th>72</th>\n      <td>72</td>\n      <td>941_S_1203</td>\n      <td>CN</td>\n      <td>MCI</td>\n      <td>169796</td>\n      <td>86.6</td>\n      <td>89</td>\n      <td>2</td>\n      <td>0</td>\n      <td>1.0</td>\n      <td>...</td>\n      <td>-1.344699</td>\n      <td>-0.645797</td>\n      <td>-0.939533</td>\n      <td>1.978643</td>\n      <td>1.889812</td>\n      <td>-0.034380</td>\n      <td>0.168717</td>\n      <td>2.010435</td>\n      <td>0.271842</td>\n      <td>1.124868</td>\n    </tr>\n  </tbody>\n</table>\n<p>73 rows × 65 columns</p>\n</div>"
     },
     "execution_count": 15,
     "metadata": {},
     "output_type": "execute_result"
    }
   ],
   "source": [
    "df_pacientes"
   ],
   "metadata": {
    "collapsed": false,
    "ExecuteTime": {
     "end_time": "2023-10-31T18:12:38.865721Z",
     "start_time": "2023-10-31T18:12:38.850363Z"
    }
   },
   "id": "b97e44f8956b4086"
  },
  {
   "cell_type": "code",
   "execution_count": 30,
   "outputs": [],
   "source": [
    "from sklearn.linear_model import LogisticRegression\n",
    "\n",
    "df_train = df_pacientes.loc[df_pacientes['Grupo'] != 'Negative']\n",
    "df_train = df_train.loc[df_train['Grupo'] != 'Mixed']\n",
    "\n",
    "X = df_train[roi_list]\n",
    "y = df_train['Grupo']\n",
    "\n",
    "clf = LogisticRegression(random_state=0, class_weight='balanced').fit(X, y)"
   ],
   "metadata": {
    "collapsed": false,
    "ExecuteTime": {
     "end_time": "2023-10-31T18:29:44.117551500Z",
     "start_time": "2023-10-31T18:29:44.105420700Z"
    }
   },
   "id": "a3efbcf56e653168"
  },
  {
   "cell_type": "code",
   "execution_count": 31,
   "outputs": [
    {
     "data": {
      "text/plain": "0.8888888888888888"
     },
     "execution_count": 31,
     "metadata": {},
     "output_type": "execute_result"
    }
   ],
   "source": [
    "clf.score(X, y)"
   ],
   "metadata": {
    "collapsed": false,
    "ExecuteTime": {
     "end_time": "2023-10-31T18:29:44.814003800Z",
     "start_time": "2023-10-31T18:29:44.802768500Z"
    }
   },
   "id": "e1b4209cb18cee25"
  },
  {
   "cell_type": "code",
   "execution_count": 32,
   "outputs": [
    {
     "data": {
      "text/plain": "array([[25,  3],\n       [ 1,  7]], dtype=int64)"
     },
     "execution_count": 32,
     "metadata": {},
     "output_type": "execute_result"
    }
   ],
   "source": [
    "from  sklearn.metrics import confusion_matrix\n",
    "\n",
    "y_pred = clf.predict(X)\n",
    "confusion_matrix(y, y_pred, labels=['AD','LEWY'])"
   ],
   "metadata": {
    "collapsed": false,
    "ExecuteTime": {
     "end_time": "2023-10-31T18:29:47.973787700Z",
     "start_time": "2023-10-31T18:29:47.962782900Z"
    }
   },
   "id": "4c28d17f0084b7ca"
  },
  {
   "cell_type": "code",
   "execution_count": 62,
   "outputs": [],
   "source": [
    "def preprocess_pet_img(pet_path):\n",
    "\n",
    "    features = roi_list\n",
    "    df_atlas = pd.read_csv('Harvard_Oxford.csv')\n",
    "    atlas_img = nib.load(atlas_path)\n",
    "    atlas_data = atlas_img.get_fdata()\n",
    "    \n",
    "    pet_img = nib.load(pet_path)\n",
    "    pet_data = pet_img.get_fdata()\n",
    "    \n",
    "    pat_list = []\n",
    "\n",
    "    for roi in roi_list:\n",
    "        df_pat = pd.DataFrame\n",
    "        roi_num = df_atlas.loc[df_atlas['ROI_NAME']==roi]['ROI_NUM'].values[0]\n",
    "        roi_promedio = df_atlas.loc[df_atlas['ROI_NAME']==roi]['PROMEDIO'].values[0]\n",
    "        roi_std = df_atlas.loc[df_atlas['ROI_NAME']==roi]['STD'].values[0]\n",
    "        \n",
    "        roi_voxel = np.where(atlas_data == roi_num)\n",
    "        val_patient = np.mean(pet_data[roi_voxel])\n",
    "\n",
    "        pat_roi_zscore = (val_patient - roi_promedio)/roi_std\n",
    "        \n",
    "        pat_list.append(pat_roi_zscore)\n",
    "\n",
    "        #df_pacientes.loc[index_1,roi_name] = pat_roi_zscore\n",
    "\n",
    "    return pat_list\n",
    "\n",
    "def classify_pet_img(pet_path):\n",
    "\n",
    "\n",
    "    feature_list = preprocess_pet_img(pet_path)\n",
    "    feature_list = np.array(feature_list).reshape(1,-1)\n",
    "    out_class = clf.predict(feature_list)[0]\n",
    "    \n",
    "    if out_class == 'AD':\n",
    "        \n",
    "        print('El patrón de imagen mostrado por el paciente introducido es sugestivo de enfermedad de Alzheimer. Un diagnóstico temprano y un estilo de vida saludable pueden ayudar a manejar sus síntomas y ralentizar su avance')\n",
    "        \n",
    "    elif out_class == 'LEWY':\n",
    "\n",
    "        print('El patrón de imagen mostrado por el paciente introducido es sugestivo de enfermedad de demencia con cuerpos de Lewy.La demencia con cuerpos de Lewy es una enfermedad neurodegenerativa que combina síntomas de la enfermedad de Alzheimer y la enfermedad de Parkinson, como la pérdida de memoria y la lentitud en los movimientos. El diagnóstico temprano y el manejo adecuado de los síntomas pueden mejorar la calidad de vida de los pacientes y ayudar a sus cuidadores a adaptarse a los desafíos')\n",
    "        \n",
    "    else:\n",
    "        print('Se ha detectado un error y su imagen no se ha podido procesar correctamente')\n",
    "        \n",
    "        \n",
    "    \n",
    "    "
   ],
   "metadata": {
    "collapsed": false,
    "ExecuteTime": {
     "end_time": "2023-10-31T18:54:48.133949100Z",
     "start_time": "2023-10-31T18:54:48.128446Z"
    }
   },
   "id": "d46ee7a36154a063"
  },
  {
   "cell_type": "code",
   "execution_count": 67,
   "outputs": [
    {
     "name": "stdout",
     "output_type": "stream",
     "text": [
      "El patrón de imagen mostrado por el paciente introducido es sugestivo de enfermedad de demencia con cuerpos de Lewy.La demencia con cuerpos de Lewy es una enfermedad neurodegenerativa que combina síntomas de la enfermedad de Alzheimer y la enfermedad de Parkinson, como la pérdida de memoria y la lentitud en los movimientos. El diagnóstico temprano y el manejo adecuado de los síntomas pueden mejorar la calidad de vida de los pacientes y ayudar a sus cuidadores a adaptarse a los desafíos\n"
     ]
    }
   ],
   "source": [
    "pet_path = r'C:\\Users\\jesus\\Work\\MIA\\Autopsia\\005_S_0448_I226091\\swfdg_normhist.hdr'\n",
    "classify_pet_img(pet_path)"
   ],
   "metadata": {
    "collapsed": false,
    "ExecuteTime": {
     "end_time": "2023-10-31T18:56:10.418658500Z",
     "start_time": "2023-10-31T18:56:10.371110900Z"
    }
   },
   "id": "2cca14b721819395"
  },
  {
   "cell_type": "code",
   "execution_count": null,
   "outputs": [],
   "source": [],
   "metadata": {
    "collapsed": false
   },
   "id": "27916aa2f145b955"
  }
 ],
 "metadata": {
  "kernelspec": {
   "display_name": "Python 3",
   "language": "python",
   "name": "python3"
  },
  "language_info": {
   "codemirror_mode": {
    "name": "ipython",
    "version": 2
   },
   "file_extension": ".py",
   "mimetype": "text/x-python",
   "name": "python",
   "nbconvert_exporter": "python",
   "pygments_lexer": "ipython2",
   "version": "2.7.6"
  }
 },
 "nbformat": 4,
 "nbformat_minor": 5
}
