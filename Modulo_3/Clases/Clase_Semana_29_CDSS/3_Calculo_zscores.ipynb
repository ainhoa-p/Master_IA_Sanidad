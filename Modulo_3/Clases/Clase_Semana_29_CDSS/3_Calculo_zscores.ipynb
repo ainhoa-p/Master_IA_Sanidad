{
 "cells": [
  {
   "cell_type": "code",
   "execution_count": 21,
   "id": "initial_id",
   "metadata": {
    "collapsed": true,
    "ExecuteTime": {
     "end_time": "2023-10-24T17:35:25.328156200Z",
     "start_time": "2023-10-24T17:35:23.623426400Z"
    }
   },
   "outputs": [],
   "source": [
    "import pandas as pd\n",
    "import numpy as np\n",
    "import nibabel as nib\n",
    "from os.path import join\n",
    "\n",
    "from scipy.stats import ttest_ind\n"
   ]
  },
  {
   "cell_type": "code",
   "execution_count": 14,
   "outputs": [],
   "source": [
    "df_pacientes = pd.read_csv('Clasificados.csv')\n",
    "df_atlas = pd.read_csv('Harvard_Oxford.csv')\n",
    "dir_ = r'C:\\Users\\jesus\\Work\\MIA\\Autopsia'\n",
    "\n",
    "atlas_path = r'C:\\Users\\jesus\\Work\\repos\\Master_IA_Sanidad\\Modulo_3\\Clases\\Clase_Semana_29_CDSS\\cortex_Harvard_Oxford_orig_atlas.nii.gz'\n",
    "atlas_img = nib.load(atlas_path)\n",
    "atlas_data = atlas_img.get_fdata()"
   ],
   "metadata": {
    "collapsed": false,
    "ExecuteTime": {
     "end_time": "2023-10-24T17:25:13.338725300Z",
     "start_time": "2023-10-24T17:25:13.325683500Z"
    }
   },
   "id": "da78ab305c791d80"
  },
  {
   "cell_type": "code",
   "execution_count": 15,
   "outputs": [
    {
     "data": {
      "text/plain": "    Unnamed: 0  SUBJECT_ID ORIG_GROUP LAST_DIAGNOSIS  FDG_ID  FDG_AGE  \\\n0            0  003_S_4892         AD             AD  334485     75.3   \n1            1  005_S_0448        MCI             AD  226091     90.6   \n2            2  005_S_4910         AD             AD  347770     81.7   \n3            3  006_S_4546         AD             AD  300098     71.2   \n4            4  011_S_0008         CN            MCI   26885     85.6   \n..         ...         ...        ...            ...     ...      ...   \n68          68  127_S_4500         AD             AD  417020     92.5   \n69          69  127_S_4765       EMCI             AD  871795     81.1   \n70          70  127_S_5058         AD             AD  360030     61.9   \n71          71  129_S_1246        MCI            MCI  362092     78.5   \n72          72  941_S_1203         CN            MCI  169796     86.6   \n\n    AGE_DEATH  ALZHEIMER PATHOLOGY  LEWY PATHOLOGY  AD_Pos  Lewy_Pos  Grupo  \n0          76                    3               0     1.0       0.0     AD  \n1          93                    1               2     0.0       1.0   LEWY  \n2          84                    3               4     1.0       1.0  Mixed  \n3          75                    3               2     1.0       1.0  Mixed  \n4          95                    1               3     0.0       1.0   LEWY  \n..        ...                  ...             ...     ...       ...    ...  \n68         95                    3               0     1.0       0.0     AD  \n69         81                    3               3     1.0       1.0  Mixed  \n70         66                    2               3     1.0       1.0  Mixed  \n71         80                    2               0     1.0       0.0     AD  \n72         89                    2               0     1.0       0.0     AD  \n\n[73 rows x 12 columns]",
      "text/html": "<div>\n<style scoped>\n    .dataframe tbody tr th:only-of-type {\n        vertical-align: middle;\n    }\n\n    .dataframe tbody tr th {\n        vertical-align: top;\n    }\n\n    .dataframe thead th {\n        text-align: right;\n    }\n</style>\n<table border=\"1\" class=\"dataframe\">\n  <thead>\n    <tr style=\"text-align: right;\">\n      <th></th>\n      <th>Unnamed: 0</th>\n      <th>SUBJECT_ID</th>\n      <th>ORIG_GROUP</th>\n      <th>LAST_DIAGNOSIS</th>\n      <th>FDG_ID</th>\n      <th>FDG_AGE</th>\n      <th>AGE_DEATH</th>\n      <th>ALZHEIMER PATHOLOGY</th>\n      <th>LEWY PATHOLOGY</th>\n      <th>AD_Pos</th>\n      <th>Lewy_Pos</th>\n      <th>Grupo</th>\n    </tr>\n  </thead>\n  <tbody>\n    <tr>\n      <th>0</th>\n      <td>0</td>\n      <td>003_S_4892</td>\n      <td>AD</td>\n      <td>AD</td>\n      <td>334485</td>\n      <td>75.3</td>\n      <td>76</td>\n      <td>3</td>\n      <td>0</td>\n      <td>1.0</td>\n      <td>0.0</td>\n      <td>AD</td>\n    </tr>\n    <tr>\n      <th>1</th>\n      <td>1</td>\n      <td>005_S_0448</td>\n      <td>MCI</td>\n      <td>AD</td>\n      <td>226091</td>\n      <td>90.6</td>\n      <td>93</td>\n      <td>1</td>\n      <td>2</td>\n      <td>0.0</td>\n      <td>1.0</td>\n      <td>LEWY</td>\n    </tr>\n    <tr>\n      <th>2</th>\n      <td>2</td>\n      <td>005_S_4910</td>\n      <td>AD</td>\n      <td>AD</td>\n      <td>347770</td>\n      <td>81.7</td>\n      <td>84</td>\n      <td>3</td>\n      <td>4</td>\n      <td>1.0</td>\n      <td>1.0</td>\n      <td>Mixed</td>\n    </tr>\n    <tr>\n      <th>3</th>\n      <td>3</td>\n      <td>006_S_4546</td>\n      <td>AD</td>\n      <td>AD</td>\n      <td>300098</td>\n      <td>71.2</td>\n      <td>75</td>\n      <td>3</td>\n      <td>2</td>\n      <td>1.0</td>\n      <td>1.0</td>\n      <td>Mixed</td>\n    </tr>\n    <tr>\n      <th>4</th>\n      <td>4</td>\n      <td>011_S_0008</td>\n      <td>CN</td>\n      <td>MCI</td>\n      <td>26885</td>\n      <td>85.6</td>\n      <td>95</td>\n      <td>1</td>\n      <td>3</td>\n      <td>0.0</td>\n      <td>1.0</td>\n      <td>LEWY</td>\n    </tr>\n    <tr>\n      <th>...</th>\n      <td>...</td>\n      <td>...</td>\n      <td>...</td>\n      <td>...</td>\n      <td>...</td>\n      <td>...</td>\n      <td>...</td>\n      <td>...</td>\n      <td>...</td>\n      <td>...</td>\n      <td>...</td>\n      <td>...</td>\n    </tr>\n    <tr>\n      <th>68</th>\n      <td>68</td>\n      <td>127_S_4500</td>\n      <td>AD</td>\n      <td>AD</td>\n      <td>417020</td>\n      <td>92.5</td>\n      <td>95</td>\n      <td>3</td>\n      <td>0</td>\n      <td>1.0</td>\n      <td>0.0</td>\n      <td>AD</td>\n    </tr>\n    <tr>\n      <th>69</th>\n      <td>69</td>\n      <td>127_S_4765</td>\n      <td>EMCI</td>\n      <td>AD</td>\n      <td>871795</td>\n      <td>81.1</td>\n      <td>81</td>\n      <td>3</td>\n      <td>3</td>\n      <td>1.0</td>\n      <td>1.0</td>\n      <td>Mixed</td>\n    </tr>\n    <tr>\n      <th>70</th>\n      <td>70</td>\n      <td>127_S_5058</td>\n      <td>AD</td>\n      <td>AD</td>\n      <td>360030</td>\n      <td>61.9</td>\n      <td>66</td>\n      <td>2</td>\n      <td>3</td>\n      <td>1.0</td>\n      <td>1.0</td>\n      <td>Mixed</td>\n    </tr>\n    <tr>\n      <th>71</th>\n      <td>71</td>\n      <td>129_S_1246</td>\n      <td>MCI</td>\n      <td>MCI</td>\n      <td>362092</td>\n      <td>78.5</td>\n      <td>80</td>\n      <td>2</td>\n      <td>0</td>\n      <td>1.0</td>\n      <td>0.0</td>\n      <td>AD</td>\n    </tr>\n    <tr>\n      <th>72</th>\n      <td>72</td>\n      <td>941_S_1203</td>\n      <td>CN</td>\n      <td>MCI</td>\n      <td>169796</td>\n      <td>86.6</td>\n      <td>89</td>\n      <td>2</td>\n      <td>0</td>\n      <td>1.0</td>\n      <td>0.0</td>\n      <td>AD</td>\n    </tr>\n  </tbody>\n</table>\n<p>73 rows × 12 columns</p>\n</div>"
     },
     "execution_count": 15,
     "metadata": {},
     "output_type": "execute_result"
    }
   ],
   "source": [
    "df_pacientes"
   ],
   "metadata": {
    "collapsed": false,
    "ExecuteTime": {
     "end_time": "2023-10-24T17:25:13.908832500Z",
     "start_time": "2023-10-24T17:25:13.887545300Z"
    }
   },
   "id": "27ea6956b9e551d8"
  },
  {
   "cell_type": "code",
   "execution_count": 18,
   "outputs": [],
   "source": [
    "for index_1, row_1 in df_pacientes.iterrows():\n",
    "    \n",
    "    id_subject = row_1['SUBJECT_ID']\n",
    "    id_img = row_1['FDG_ID']\n",
    "    subj_dir_name = id_subject + '_I' + str(id_img)\n",
    "\n",
    "    img_path = join(dir_,subj_dir_name,'swfdg_normhist.hdr')\n",
    "    img_ = nib.load(img_path)\n",
    "    img_data = img_.get_fdata()\n",
    "    \n",
    "    for index_2, row_2 in df_atlas.iterrows():\n",
    "        roi_name = row_2['ROI_NAME']\n",
    "        roi_num = row_2['ROI_NUM']\n",
    "        roi_promedio = row_2['PROMEDIO']\n",
    "        roi_std = row_2['STD']\n",
    "        \n",
    "        roi_voxel = np.where(atlas_data == roi_num)\n",
    "        val_patient = np.mean(img_data[roi_voxel])\n",
    "        \n",
    "        pat_roi_zscore = (val_patient - roi_promedio)/roi_std\n",
    "\n",
    "        df_pacientes.loc[index_1,roi_name] = pat_roi_zscore\n",
    "                "
   ],
   "metadata": {
    "collapsed": false,
    "ExecuteTime": {
     "end_time": "2023-10-24T17:26:29.704350100Z",
     "start_time": "2023-10-24T17:26:22.254672200Z"
    }
   },
   "id": "1d7ecb4c3536e5e7"
  },
  {
   "cell_type": "code",
   "execution_count": 24,
   "outputs": [
    {
     "data": {
      "text/plain": "    Unnamed: 0  SUBJECT_ID ORIG_GROUP LAST_DIAGNOSIS  FDG_ID  FDG_AGE  \\\n0            0  003_S_4892         AD             AD  334485     75.3   \n1            1  005_S_0448        MCI             AD  226091     90.6   \n2            2  005_S_4910         AD             AD  347770     81.7   \n3            3  006_S_4546         AD             AD  300098     71.2   \n4            4  011_S_0008         CN            MCI   26885     85.6   \n..         ...         ...        ...            ...     ...      ...   \n68          68  127_S_4500         AD             AD  417020     92.5   \n69          69  127_S_4765       EMCI             AD  871795     81.1   \n70          70  127_S_5058         AD             AD  360030     61.9   \n71          71  129_S_1246        MCI            MCI  362092     78.5   \n72          72  941_S_1203         CN            MCI  169796     86.6   \n\n    AGE_DEATH  ALZHEIMER PATHOLOGY  LEWY PATHOLOGY  AD_Pos  ...  \\\n0          76                    3               0     1.0  ...   \n1          93                    1               2     0.0  ...   \n2          84                    3               4     1.0  ...   \n3          75                    3               2     1.0  ...   \n4          95                    1               3     0.0  ...   \n..        ...                  ...             ...     ...  ...   \n68         95                    3               0     1.0  ...   \n69         81                    3               3     1.0  ...   \n70         66                    2               3     1.0  ...   \n71         80                    2               0     1.0  ...   \n72         89                    2               0     1.0  ...   \n\n    Planum_Polare Heschl's_Gyrus  Planum_Temporale  Supracalcarine_Cortex  \\\n0       -0.112321      -0.958489         -1.922645               2.093158   \n1       -0.080783       0.581598          0.430449              -1.002594   \n2       -3.597921      -2.232594         -2.430986              -0.353698   \n3        0.937891       1.258248          0.175496               2.846217   \n4        1.075426       0.278105         -0.128056              -0.168973   \n..            ...            ...               ...                    ...   \n68       0.745240      -0.208900         -0.339694              -2.179645   \n69       1.722327      -0.339546         -0.589497              -1.592252   \n70       2.331087       0.977442          0.349620               0.075130   \n71      -1.454552      -0.287481         -0.080177               0.642108   \n72      -1.344699      -0.645797         -0.939533               1.978643   \n\n    Occipital_Pole  Thalamus  Striatum  Brainstem  Hippocampus  Amygdala  \n0         0.357431  0.006967 -0.296966  -0.278695    -0.094379 -0.625237  \n1        -2.052067 -1.566412  1.811901   1.976478     0.854247  1.853367  \n2        -0.505277 -1.481930 -2.080433   0.162197    -2.105653 -1.938893  \n3         1.965820 -1.520694 -1.832788   0.432951    -0.682365  0.846385  \n4        -0.532507  0.968607  0.803972   0.301074     0.950026  0.608191  \n..             ...       ...       ...        ...          ...       ...  \n68       -1.124119 -1.936402 -1.862072   0.079512     0.819908  1.461137  \n69       -3.282584  1.862965  1.764669   1.218454     1.584905  1.544832  \n70        0.411157 -0.471721 -0.887564  -0.471022     0.377695  0.904273  \n71        0.269712 -0.247182  1.028909  -1.428884    -0.627655 -0.710637  \n72        1.889812 -0.034380  0.168717   2.010435     0.271842  1.124868  \n\n[73 rows x 65 columns]",
      "text/html": "<div>\n<style scoped>\n    .dataframe tbody tr th:only-of-type {\n        vertical-align: middle;\n    }\n\n    .dataframe tbody tr th {\n        vertical-align: top;\n    }\n\n    .dataframe thead th {\n        text-align: right;\n    }\n</style>\n<table border=\"1\" class=\"dataframe\">\n  <thead>\n    <tr style=\"text-align: right;\">\n      <th></th>\n      <th>Unnamed: 0</th>\n      <th>SUBJECT_ID</th>\n      <th>ORIG_GROUP</th>\n      <th>LAST_DIAGNOSIS</th>\n      <th>FDG_ID</th>\n      <th>FDG_AGE</th>\n      <th>AGE_DEATH</th>\n      <th>ALZHEIMER PATHOLOGY</th>\n      <th>LEWY PATHOLOGY</th>\n      <th>AD_Pos</th>\n      <th>...</th>\n      <th>Planum_Polare</th>\n      <th>Heschl's_Gyrus</th>\n      <th>Planum_Temporale</th>\n      <th>Supracalcarine_Cortex</th>\n      <th>Occipital_Pole</th>\n      <th>Thalamus</th>\n      <th>Striatum</th>\n      <th>Brainstem</th>\n      <th>Hippocampus</th>\n      <th>Amygdala</th>\n    </tr>\n  </thead>\n  <tbody>\n    <tr>\n      <th>0</th>\n      <td>0</td>\n      <td>003_S_4892</td>\n      <td>AD</td>\n      <td>AD</td>\n      <td>334485</td>\n      <td>75.3</td>\n      <td>76</td>\n      <td>3</td>\n      <td>0</td>\n      <td>1.0</td>\n      <td>...</td>\n      <td>-0.112321</td>\n      <td>-0.958489</td>\n      <td>-1.922645</td>\n      <td>2.093158</td>\n      <td>0.357431</td>\n      <td>0.006967</td>\n      <td>-0.296966</td>\n      <td>-0.278695</td>\n      <td>-0.094379</td>\n      <td>-0.625237</td>\n    </tr>\n    <tr>\n      <th>1</th>\n      <td>1</td>\n      <td>005_S_0448</td>\n      <td>MCI</td>\n      <td>AD</td>\n      <td>226091</td>\n      <td>90.6</td>\n      <td>93</td>\n      <td>1</td>\n      <td>2</td>\n      <td>0.0</td>\n      <td>...</td>\n      <td>-0.080783</td>\n      <td>0.581598</td>\n      <td>0.430449</td>\n      <td>-1.002594</td>\n      <td>-2.052067</td>\n      <td>-1.566412</td>\n      <td>1.811901</td>\n      <td>1.976478</td>\n      <td>0.854247</td>\n      <td>1.853367</td>\n    </tr>\n    <tr>\n      <th>2</th>\n      <td>2</td>\n      <td>005_S_4910</td>\n      <td>AD</td>\n      <td>AD</td>\n      <td>347770</td>\n      <td>81.7</td>\n      <td>84</td>\n      <td>3</td>\n      <td>4</td>\n      <td>1.0</td>\n      <td>...</td>\n      <td>-3.597921</td>\n      <td>-2.232594</td>\n      <td>-2.430986</td>\n      <td>-0.353698</td>\n      <td>-0.505277</td>\n      <td>-1.481930</td>\n      <td>-2.080433</td>\n      <td>0.162197</td>\n      <td>-2.105653</td>\n      <td>-1.938893</td>\n    </tr>\n    <tr>\n      <th>3</th>\n      <td>3</td>\n      <td>006_S_4546</td>\n      <td>AD</td>\n      <td>AD</td>\n      <td>300098</td>\n      <td>71.2</td>\n      <td>75</td>\n      <td>3</td>\n      <td>2</td>\n      <td>1.0</td>\n      <td>...</td>\n      <td>0.937891</td>\n      <td>1.258248</td>\n      <td>0.175496</td>\n      <td>2.846217</td>\n      <td>1.965820</td>\n      <td>-1.520694</td>\n      <td>-1.832788</td>\n      <td>0.432951</td>\n      <td>-0.682365</td>\n      <td>0.846385</td>\n    </tr>\n    <tr>\n      <th>4</th>\n      <td>4</td>\n      <td>011_S_0008</td>\n      <td>CN</td>\n      <td>MCI</td>\n      <td>26885</td>\n      <td>85.6</td>\n      <td>95</td>\n      <td>1</td>\n      <td>3</td>\n      <td>0.0</td>\n      <td>...</td>\n      <td>1.075426</td>\n      <td>0.278105</td>\n      <td>-0.128056</td>\n      <td>-0.168973</td>\n      <td>-0.532507</td>\n      <td>0.968607</td>\n      <td>0.803972</td>\n      <td>0.301074</td>\n      <td>0.950026</td>\n      <td>0.608191</td>\n    </tr>\n    <tr>\n      <th>...</th>\n      <td>...</td>\n      <td>...</td>\n      <td>...</td>\n      <td>...</td>\n      <td>...</td>\n      <td>...</td>\n      <td>...</td>\n      <td>...</td>\n      <td>...</td>\n      <td>...</td>\n      <td>...</td>\n      <td>...</td>\n      <td>...</td>\n      <td>...</td>\n      <td>...</td>\n      <td>...</td>\n      <td>...</td>\n      <td>...</td>\n      <td>...</td>\n      <td>...</td>\n      <td>...</td>\n    </tr>\n    <tr>\n      <th>68</th>\n      <td>68</td>\n      <td>127_S_4500</td>\n      <td>AD</td>\n      <td>AD</td>\n      <td>417020</td>\n      <td>92.5</td>\n      <td>95</td>\n      <td>3</td>\n      <td>0</td>\n      <td>1.0</td>\n      <td>...</td>\n      <td>0.745240</td>\n      <td>-0.208900</td>\n      <td>-0.339694</td>\n      <td>-2.179645</td>\n      <td>-1.124119</td>\n      <td>-1.936402</td>\n      <td>-1.862072</td>\n      <td>0.079512</td>\n      <td>0.819908</td>\n      <td>1.461137</td>\n    </tr>\n    <tr>\n      <th>69</th>\n      <td>69</td>\n      <td>127_S_4765</td>\n      <td>EMCI</td>\n      <td>AD</td>\n      <td>871795</td>\n      <td>81.1</td>\n      <td>81</td>\n      <td>3</td>\n      <td>3</td>\n      <td>1.0</td>\n      <td>...</td>\n      <td>1.722327</td>\n      <td>-0.339546</td>\n      <td>-0.589497</td>\n      <td>-1.592252</td>\n      <td>-3.282584</td>\n      <td>1.862965</td>\n      <td>1.764669</td>\n      <td>1.218454</td>\n      <td>1.584905</td>\n      <td>1.544832</td>\n    </tr>\n    <tr>\n      <th>70</th>\n      <td>70</td>\n      <td>127_S_5058</td>\n      <td>AD</td>\n      <td>AD</td>\n      <td>360030</td>\n      <td>61.9</td>\n      <td>66</td>\n      <td>2</td>\n      <td>3</td>\n      <td>1.0</td>\n      <td>...</td>\n      <td>2.331087</td>\n      <td>0.977442</td>\n      <td>0.349620</td>\n      <td>0.075130</td>\n      <td>0.411157</td>\n      <td>-0.471721</td>\n      <td>-0.887564</td>\n      <td>-0.471022</td>\n      <td>0.377695</td>\n      <td>0.904273</td>\n    </tr>\n    <tr>\n      <th>71</th>\n      <td>71</td>\n      <td>129_S_1246</td>\n      <td>MCI</td>\n      <td>MCI</td>\n      <td>362092</td>\n      <td>78.5</td>\n      <td>80</td>\n      <td>2</td>\n      <td>0</td>\n      <td>1.0</td>\n      <td>...</td>\n      <td>-1.454552</td>\n      <td>-0.287481</td>\n      <td>-0.080177</td>\n      <td>0.642108</td>\n      <td>0.269712</td>\n      <td>-0.247182</td>\n      <td>1.028909</td>\n      <td>-1.428884</td>\n      <td>-0.627655</td>\n      <td>-0.710637</td>\n    </tr>\n    <tr>\n      <th>72</th>\n      <td>72</td>\n      <td>941_S_1203</td>\n      <td>CN</td>\n      <td>MCI</td>\n      <td>169796</td>\n      <td>86.6</td>\n      <td>89</td>\n      <td>2</td>\n      <td>0</td>\n      <td>1.0</td>\n      <td>...</td>\n      <td>-1.344699</td>\n      <td>-0.645797</td>\n      <td>-0.939533</td>\n      <td>1.978643</td>\n      <td>1.889812</td>\n      <td>-0.034380</td>\n      <td>0.168717</td>\n      <td>2.010435</td>\n      <td>0.271842</td>\n      <td>1.124868</td>\n    </tr>\n  </tbody>\n</table>\n<p>73 rows × 65 columns</p>\n</div>"
     },
     "execution_count": 24,
     "metadata": {},
     "output_type": "execute_result"
    }
   ],
   "source": [
    "df_pacientes"
   ],
   "metadata": {
    "collapsed": false,
    "ExecuteTime": {
     "end_time": "2023-10-24T17:37:21.374495Z",
     "start_time": "2023-10-24T17:37:21.352985800Z"
    }
   },
   "id": "a9075b7c2fd6d1b4"
  },
  {
   "cell_type": "code",
   "execution_count": 27,
   "outputs": [],
   "source": [
    "df_ad = df_pacientes.loc[df_pacientes['Grupo']=='AD']\n",
    "df_lewy = df_pacientes.loc[df_pacientes['Grupo']=='LEWY']\n",
    "\n",
    "ad_pattern = np.zeros_like(atlas_data)\n",
    "lewy_body_pattern = np.zeros_like(atlas_data)\n",
    "\n",
    "for index_2, row_2 in df_atlas.iterrows():\n",
    "    roi_num = row_2['ROI_NUM']\n",
    "    roi_name = row_2['ROI_NAME']\n",
    "    \n",
    "    mean_ad = np.mean(df_ad[roi_name])\n",
    "    mean_lewy = np.mean(df_lewy[roi_name])\n",
    "    \n",
    "    roi_voxels = np.where(atlas_data == roi_num)\n",
    "\n",
    "    ad_pattern[roi_voxels] = mean_ad\n",
    "    lewy_body_pattern[roi_voxels] = mean_lewy\n",
    "\n",
    "\n",
    "ad_pat_img = nib.Nifti1Image(ad_pattern, atlas_img.affine, atlas_img.header)\n",
    "nib.save(ad_pat_img, 'ad_pattern.nii.gz')\n",
    "\n",
    "lewy_pat_img = nib.Nifti1Image(lewy_body_pattern, atlas_img.affine, atlas_img.header)\n",
    "nib.save(lewy_pat_img, 'lewy_pattern.nii.gz')\n",
    "    \n",
    "    \n"
   ],
   "metadata": {
    "collapsed": false,
    "ExecuteTime": {
     "end_time": "2023-10-24T17:47:25.295694700Z",
     "start_time": "2023-10-24T17:47:25.167569300Z"
    }
   },
   "id": "669b1bc8237ce1b0"
  },
  {
   "cell_type": "code",
   "execution_count": 25,
   "outputs": [
    {
     "name": "stdout",
     "output_type": "stream",
     "text": [
      "Temporal_Pole -2.9044114080274825 0.006423868599824267\n",
      "Middle_Temporal_Gyrus_anterior_division -2.9449405299732736 0.005791246618907714\n",
      "Inferior_Temporal_Gyrus_anterior_division -3.648013636244977 0.0008766686428361144\n",
      "Inferior_Temporal_Gyrus_posterior_division -2.2423207698684227 0.03157198455754205\n",
      "Postcentral_Gyrus 2.339018827579624 0.025349047504676273\n",
      "Superior_Parietal_Lobule 2.0596797178601154 0.047151216361886496\n",
      "Intracalcarine_Cortex 3.4228607548346344 0.0016316623398195012\n",
      "Frontal_Medial_Cortex -2.780857134284928 0.008775985499674939\n",
      "Subcallosal_Cortex -2.379668508133448 0.023081468186700788\n",
      "Cuneal_Cortex 2.3451998633745976 0.02499174350658922\n",
      "Frontal_Orbital_Cortex -2.1124984197960734 0.04206588756594934\n",
      "Lingual_Gyrus 2.1627040348763056 0.037687823572323115\n",
      "Supracalcarine_Cortex 3.0143807283736326 0.004841642830535394\n",
      "Occipital_Pole 2.366443565140639 0.023798180975778616\n"
     ]
    }
   ],
   "source": [
    "df_ad = df_pacientes.loc[df_pacientes['Grupo']=='AD']\n",
    "df_lewy = df_pacientes.loc[df_pacientes['Grupo']=='LEWY']\n",
    "\n",
    "roi_list = []\n",
    "\n",
    "for index_2, row_2 in df_atlas.iterrows():\n",
    "\n",
    "    roi_name = row_2['ROI_NAME']\n",
    "    t, p = ttest_ind(df_ad[roi_name], df_lewy[roi_name], axis=0, equal_var=True)\n",
    "    if p < 0.05:\n",
    "        print(roi_name, t, p)\n",
    "        roi_list.append(roi_name)"
   ],
   "metadata": {
    "collapsed": false,
    "ExecuteTime": {
     "end_time": "2023-10-24T17:37:23.916545700Z",
     "start_time": "2023-10-24T17:37:23.881887800Z"
    }
   },
   "id": "efd13b14b9a44750"
  },
  {
   "cell_type": "code",
   "execution_count": 26,
   "outputs": [
    {
     "data": {
      "text/plain": "14"
     },
     "execution_count": 26,
     "metadata": {},
     "output_type": "execute_result"
    }
   ],
   "source": [
    "len(roi_list)"
   ],
   "metadata": {
    "collapsed": false,
    "ExecuteTime": {
     "end_time": "2023-10-24T17:37:33.203560Z",
     "start_time": "2023-10-24T17:37:33.183543400Z"
    }
   },
   "id": "b97e44f8956b4086"
  },
  {
   "cell_type": "code",
   "execution_count": null,
   "outputs": [],
   "source": [],
   "metadata": {
    "collapsed": false
   },
   "id": "a3efbcf56e653168"
  }
 ],
 "metadata": {
  "kernelspec": {
   "display_name": "Python 3",
   "language": "python",
   "name": "python3"
  },
  "language_info": {
   "codemirror_mode": {
    "name": "ipython",
    "version": 2
   },
   "file_extension": ".py",
   "mimetype": "text/x-python",
   "name": "python",
   "nbconvert_exporter": "python",
   "pygments_lexer": "ipython2",
   "version": "2.7.6"
  }
 },
 "nbformat": 4,
 "nbformat_minor": 5
}
