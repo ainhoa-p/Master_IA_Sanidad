{
 "cells": [
  {
   "cell_type": "code",
   "execution_count": 13,
   "id": "initial_id",
   "metadata": {
    "collapsed": true,
    "ExecuteTime": {
     "end_time": "2023-10-17T17:58:05.351294800Z",
     "start_time": "2023-10-17T17:58:05.337109Z"
    }
   },
   "outputs": [],
   "source": [
    "import pandas as pd\n",
    "import nibabel as nib\n",
    "from os.path import join, exists\n",
    "import numpy as np\n",
    "\n",
    "df_normals = pd.read_csv('PET_179_CN.csv')\n",
    "df_atlas = pd.read_csv('Harvard_Oxford.csv',sep=';')\n",
    "dir_normals = r'C:\\Users\\jesus\\Work\\MIA\\Sujetos_Sanos'"
   ]
  },
  {
   "cell_type": "code",
   "execution_count": 14,
   "outputs": [
    {
     "data": {
      "text/plain": "176"
     },
     "execution_count": 14,
     "metadata": {},
     "output_type": "execute_result"
    }
   ],
   "source": [
    "img_list = []\n",
    "\n",
    "for index_, row_ in df_normals.iterrows():\n",
    "    \n",
    "    id_subject = row_['SUBJECT_ID']\n",
    "    id_img = row_['FDG_ID']\n",
    "    subj_dir_name = id_subject + '_I' + str(id_img)\n",
    "    \n",
    "    img_ = join(dir_normals,subj_dir_name,'swfdg_normhist.hdr')\n",
    "    if exists(img_):\n",
    "        img_list.append(img_)\n",
    "    \n",
    "len(img_list)"
   ],
   "metadata": {
    "collapsed": false,
    "ExecuteTime": {
     "end_time": "2023-10-17T17:58:05.816060200Z",
     "start_time": "2023-10-17T17:58:05.798034800Z"
    }
   },
   "id": "36663fc9340d0966"
  },
  {
   "cell_type": "code",
   "execution_count": 15,
   "outputs": [
    {
     "data": {
      "text/plain": "                                         ROI_NAME  ROI_NUM\n0                                    Frontal_Pole        1\n1                                  Insular_Cortex        2\n2                          Superior_Frontal_Gyrus        3\n3                            Middle_Frontal_Gyrus        4\n4        Inferior_Frontal_Gyrus_pars_triangularis        5\n5         Inferior_Frontal_Gyrus_pars_opercularis        6\n6                                Precentral_Gyrus        7\n7                                   Temporal_Pole        8\n8       Superior_Temporal_Gyrus_anterior_division        9\n9      Superior_Temporal_Gyrus_posterior_division       10\n10        Middle_Temporal_Gyrus_anterior_division       11\n11       Middle_Temporal_Gyrus_posterior_division       12\n12    Middle_Temporal_Gyrus_temporooccipital_part       13\n13      Inferior_Temporal_Gyrus_anterior_division       14\n14     Inferior_Temporal_Gyrus_posterior_division       15\n15  Inferior_Temporal_Gyrus_temporooccipital_part       16\n16                              Postcentral_Gyrus       17\n17                       Superior_Parietal_Lobule       18\n18          Supramarginal_Gyrus_anterior_division       19\n19         Supramarginal_Gyrus_posterior_division       20\n20                                  Angular_Gyrus       21\n21     Lateral_Occipital_Cortex_superior_division       22\n22     Lateral_Occipital_Cortex_inferior_division       23\n23                          Intracalcarine_Cortex       24\n24                          Frontal_Medial_Cortex       25\n25                  Juxtapositional_Lobule_Cortex       26\n26                             Subcallosal_Cortex       27\n27                            Paracingulate_Gyrus       28\n28              Cingulate_Gyrus_anterior_division       29\n29             Cingulate_Gyrus_posterior_division       30\n30                              Precuneous_Cortex       31\n31                                  Cuneal_Cortex       32\n32                         Frontal_Orbital_Cortex       33\n33        Parahippocampal_Gyrus_anterior_division       34\n34       Parahippocampal_Gyrus_posterior_division       35\n35                                  Lingual_Gyrus       36\n36     Temporal_Fusiform_Cortex_anterior_division       37\n37    Temporal_Fusiform_Cortex_posterior_division       38\n38             Temporal_Occipital_Fusiform_Cortex       39\n39                       Occipital_Fusiform_Gyrus       40\n40                       Frontal_Operculum_Cortex       41\n41                       Central_Opercular_Cortex       42\n42                      Parietal_Operculum_Cortex       43\n43                                  Planum_Polare       44\n44                                 Heschl's_Gyrus       45\n45                               Planum_Temporale       46\n46                          Supracalcarine_Cortex       47\n47                                 Occipital_Pole       48\n48                                       Thalamus       49\n49                                       Striatum       50\n50                                      Brainstem       51\n51                                    Hippocampus       52\n52                                       Amygdala       53",
      "text/html": "<div>\n<style scoped>\n    .dataframe tbody tr th:only-of-type {\n        vertical-align: middle;\n    }\n\n    .dataframe tbody tr th {\n        vertical-align: top;\n    }\n\n    .dataframe thead th {\n        text-align: right;\n    }\n</style>\n<table border=\"1\" class=\"dataframe\">\n  <thead>\n    <tr style=\"text-align: right;\">\n      <th></th>\n      <th>ROI_NAME</th>\n      <th>ROI_NUM</th>\n    </tr>\n  </thead>\n  <tbody>\n    <tr>\n      <th>0</th>\n      <td>Frontal_Pole</td>\n      <td>1</td>\n    </tr>\n    <tr>\n      <th>1</th>\n      <td>Insular_Cortex</td>\n      <td>2</td>\n    </tr>\n    <tr>\n      <th>2</th>\n      <td>Superior_Frontal_Gyrus</td>\n      <td>3</td>\n    </tr>\n    <tr>\n      <th>3</th>\n      <td>Middle_Frontal_Gyrus</td>\n      <td>4</td>\n    </tr>\n    <tr>\n      <th>4</th>\n      <td>Inferior_Frontal_Gyrus_pars_triangularis</td>\n      <td>5</td>\n    </tr>\n    <tr>\n      <th>5</th>\n      <td>Inferior_Frontal_Gyrus_pars_opercularis</td>\n      <td>6</td>\n    </tr>\n    <tr>\n      <th>6</th>\n      <td>Precentral_Gyrus</td>\n      <td>7</td>\n    </tr>\n    <tr>\n      <th>7</th>\n      <td>Temporal_Pole</td>\n      <td>8</td>\n    </tr>\n    <tr>\n      <th>8</th>\n      <td>Superior_Temporal_Gyrus_anterior_division</td>\n      <td>9</td>\n    </tr>\n    <tr>\n      <th>9</th>\n      <td>Superior_Temporal_Gyrus_posterior_division</td>\n      <td>10</td>\n    </tr>\n    <tr>\n      <th>10</th>\n      <td>Middle_Temporal_Gyrus_anterior_division</td>\n      <td>11</td>\n    </tr>\n    <tr>\n      <th>11</th>\n      <td>Middle_Temporal_Gyrus_posterior_division</td>\n      <td>12</td>\n    </tr>\n    <tr>\n      <th>12</th>\n      <td>Middle_Temporal_Gyrus_temporooccipital_part</td>\n      <td>13</td>\n    </tr>\n    <tr>\n      <th>13</th>\n      <td>Inferior_Temporal_Gyrus_anterior_division</td>\n      <td>14</td>\n    </tr>\n    <tr>\n      <th>14</th>\n      <td>Inferior_Temporal_Gyrus_posterior_division</td>\n      <td>15</td>\n    </tr>\n    <tr>\n      <th>15</th>\n      <td>Inferior_Temporal_Gyrus_temporooccipital_part</td>\n      <td>16</td>\n    </tr>\n    <tr>\n      <th>16</th>\n      <td>Postcentral_Gyrus</td>\n      <td>17</td>\n    </tr>\n    <tr>\n      <th>17</th>\n      <td>Superior_Parietal_Lobule</td>\n      <td>18</td>\n    </tr>\n    <tr>\n      <th>18</th>\n      <td>Supramarginal_Gyrus_anterior_division</td>\n      <td>19</td>\n    </tr>\n    <tr>\n      <th>19</th>\n      <td>Supramarginal_Gyrus_posterior_division</td>\n      <td>20</td>\n    </tr>\n    <tr>\n      <th>20</th>\n      <td>Angular_Gyrus</td>\n      <td>21</td>\n    </tr>\n    <tr>\n      <th>21</th>\n      <td>Lateral_Occipital_Cortex_superior_division</td>\n      <td>22</td>\n    </tr>\n    <tr>\n      <th>22</th>\n      <td>Lateral_Occipital_Cortex_inferior_division</td>\n      <td>23</td>\n    </tr>\n    <tr>\n      <th>23</th>\n      <td>Intracalcarine_Cortex</td>\n      <td>24</td>\n    </tr>\n    <tr>\n      <th>24</th>\n      <td>Frontal_Medial_Cortex</td>\n      <td>25</td>\n    </tr>\n    <tr>\n      <th>25</th>\n      <td>Juxtapositional_Lobule_Cortex</td>\n      <td>26</td>\n    </tr>\n    <tr>\n      <th>26</th>\n      <td>Subcallosal_Cortex</td>\n      <td>27</td>\n    </tr>\n    <tr>\n      <th>27</th>\n      <td>Paracingulate_Gyrus</td>\n      <td>28</td>\n    </tr>\n    <tr>\n      <th>28</th>\n      <td>Cingulate_Gyrus_anterior_division</td>\n      <td>29</td>\n    </tr>\n    <tr>\n      <th>29</th>\n      <td>Cingulate_Gyrus_posterior_division</td>\n      <td>30</td>\n    </tr>\n    <tr>\n      <th>30</th>\n      <td>Precuneous_Cortex</td>\n      <td>31</td>\n    </tr>\n    <tr>\n      <th>31</th>\n      <td>Cuneal_Cortex</td>\n      <td>32</td>\n    </tr>\n    <tr>\n      <th>32</th>\n      <td>Frontal_Orbital_Cortex</td>\n      <td>33</td>\n    </tr>\n    <tr>\n      <th>33</th>\n      <td>Parahippocampal_Gyrus_anterior_division</td>\n      <td>34</td>\n    </tr>\n    <tr>\n      <th>34</th>\n      <td>Parahippocampal_Gyrus_posterior_division</td>\n      <td>35</td>\n    </tr>\n    <tr>\n      <th>35</th>\n      <td>Lingual_Gyrus</td>\n      <td>36</td>\n    </tr>\n    <tr>\n      <th>36</th>\n      <td>Temporal_Fusiform_Cortex_anterior_division</td>\n      <td>37</td>\n    </tr>\n    <tr>\n      <th>37</th>\n      <td>Temporal_Fusiform_Cortex_posterior_division</td>\n      <td>38</td>\n    </tr>\n    <tr>\n      <th>38</th>\n      <td>Temporal_Occipital_Fusiform_Cortex</td>\n      <td>39</td>\n    </tr>\n    <tr>\n      <th>39</th>\n      <td>Occipital_Fusiform_Gyrus</td>\n      <td>40</td>\n    </tr>\n    <tr>\n      <th>40</th>\n      <td>Frontal_Operculum_Cortex</td>\n      <td>41</td>\n    </tr>\n    <tr>\n      <th>41</th>\n      <td>Central_Opercular_Cortex</td>\n      <td>42</td>\n    </tr>\n    <tr>\n      <th>42</th>\n      <td>Parietal_Operculum_Cortex</td>\n      <td>43</td>\n    </tr>\n    <tr>\n      <th>43</th>\n      <td>Planum_Polare</td>\n      <td>44</td>\n    </tr>\n    <tr>\n      <th>44</th>\n      <td>Heschl's_Gyrus</td>\n      <td>45</td>\n    </tr>\n    <tr>\n      <th>45</th>\n      <td>Planum_Temporale</td>\n      <td>46</td>\n    </tr>\n    <tr>\n      <th>46</th>\n      <td>Supracalcarine_Cortex</td>\n      <td>47</td>\n    </tr>\n    <tr>\n      <th>47</th>\n      <td>Occipital_Pole</td>\n      <td>48</td>\n    </tr>\n    <tr>\n      <th>48</th>\n      <td>Thalamus</td>\n      <td>49</td>\n    </tr>\n    <tr>\n      <th>49</th>\n      <td>Striatum</td>\n      <td>50</td>\n    </tr>\n    <tr>\n      <th>50</th>\n      <td>Brainstem</td>\n      <td>51</td>\n    </tr>\n    <tr>\n      <th>51</th>\n      <td>Hippocampus</td>\n      <td>52</td>\n    </tr>\n    <tr>\n      <th>52</th>\n      <td>Amygdala</td>\n      <td>53</td>\n    </tr>\n  </tbody>\n</table>\n</div>"
     },
     "execution_count": 15,
     "metadata": {},
     "output_type": "execute_result"
    }
   ],
   "source": [
    "df_atlas"
   ],
   "metadata": {
    "collapsed": false,
    "ExecuteTime": {
     "end_time": "2023-10-17T17:58:07.294922300Z",
     "start_time": "2023-10-17T17:58:07.290151300Z"
    }
   },
   "id": "efb5505afff7c2a4"
  },
  {
   "cell_type": "code",
   "execution_count": 16,
   "outputs": [],
   "source": [
    "atlas_img = nib.load('cortex_Harvard_Oxford_orig_atlas.nii.gz')\n",
    "atlas_data = atlas_img.get_fdata()\n",
    "\n",
    "for index_, row_ in df_atlas.iterrows():\n",
    "    \n",
    "    roi_num = row_['ROI_NUM']\n",
    "    roi_voxels = np.where(atlas_data==roi_num)\n",
    "    \n",
    "    vals_ = []\n",
    "    \n",
    "    for j in img_list:\n",
    "         \n",
    "         norm_img = nib.load(j)\n",
    "         norm_data = norm_img.get_fdata()\n",
    "         val_ = np.mean(norm_data[roi_voxels])\n",
    "         vals_.append(val_)\n",
    "         \n",
    "    promedio_roi = np.mean(vals_)\n",
    "    std_roi = np.std(vals_)\n",
    "\n",
    "    df_atlas.loc[index_,'PROMEDIO'] = promedio_roi\n",
    "    df_atlas.loc[index_,'STD'] = std_roi\n",
    "    "
   ],
   "metadata": {
    "collapsed": false,
    "ExecuteTime": {
     "end_time": "2023-10-17T17:58:43.311489200Z",
     "start_time": "2023-10-17T17:58:11.023575300Z"
    }
   },
   "id": "4eacc8e7549ddea0"
  },
  {
   "cell_type": "code",
   "execution_count": 17,
   "outputs": [
    {
     "data": {
      "text/plain": "                                         ROI_NAME  ROI_NUM  PROMEDIO       STD\n0                                    Frontal_Pole        1  1.297428  0.046500\n1                                  Insular_Cortex        2  1.318357  0.041654\n2                          Superior_Frontal_Gyrus        3  1.321448  0.064708\n3                            Middle_Frontal_Gyrus        4  1.407354  0.051632\n4        Inferior_Frontal_Gyrus_pars_triangularis        5  1.356674  0.045377\n5         Inferior_Frontal_Gyrus_pars_opercularis        6  1.415501  0.051962\n6                                Precentral_Gyrus        7  1.348035  0.044931\n7                                   Temporal_Pole        8  0.965558  0.054513\n8       Superior_Temporal_Gyrus_anterior_division        9  1.161459  0.045870\n9      Superior_Temporal_Gyrus_posterior_division       10  1.280519  0.042944\n10        Middle_Temporal_Gyrus_anterior_division       11  1.121338  0.043356\n11       Middle_Temporal_Gyrus_posterior_division       12  1.294253  0.037953\n12    Middle_Temporal_Gyrus_temporooccipital_part       13  1.345804  0.042974\n13      Inferior_Temporal_Gyrus_anterior_division       14  1.173951  0.056446\n14     Inferior_Temporal_Gyrus_posterior_division       15  1.250328  0.047635\n15  Inferior_Temporal_Gyrus_temporooccipital_part       16  1.290531  0.049867\n16                              Postcentral_Gyrus       17  1.309761  0.053707\n17                       Superior_Parietal_Lobule       18  1.317837  0.070111\n18          Supramarginal_Gyrus_anterior_division       19  1.199536  0.042948\n19         Supramarginal_Gyrus_posterior_division       20  1.304109  0.046855\n20                                  Angular_Gyrus       21  1.367941  0.053767\n21     Lateral_Occipital_Cortex_superior_division       22  1.405235  0.059837\n22     Lateral_Occipital_Cortex_inferior_division       23  1.398614  0.057983\n23                          Intracalcarine_Cortex       24  1.693928  0.089644\n24                          Frontal_Medial_Cortex       25  1.453410  0.059864\n25                  Juxtapositional_Lobule_Cortex       26  1.408408  0.093348\n26                             Subcallosal_Cortex       27  1.144738  0.057434\n27                            Paracingulate_Gyrus       28  1.402412  0.076119\n28              Cingulate_Gyrus_anterior_division       29  1.186931  0.072674\n29             Cingulate_Gyrus_posterior_division       30  1.388830  0.061792\n30                              Precuneous_Cortex       31  1.543480  0.064897\n31                                  Cuneal_Cortex       32  1.683355  0.084150\n32                         Frontal_Orbital_Cortex       33  1.331010  0.041442\n33        Parahippocampal_Gyrus_anterior_division       34  0.972969  0.055229\n34       Parahippocampal_Gyrus_posterior_division       35  1.084333  0.053681\n35                                  Lingual_Gyrus       36  1.349179  0.061593\n36     Temporal_Fusiform_Cortex_anterior_division       37  1.022354  0.060043\n37    Temporal_Fusiform_Cortex_posterior_division       38  1.167805  0.050257\n38             Temporal_Occipital_Fusiform_Cortex       39  1.340661  0.048535\n39                       Occipital_Fusiform_Gyrus       40  1.503835  0.073126\n40                       Frontal_Operculum_Cortex       41  1.404659  0.058010\n41                       Central_Opercular_Cortex       42  1.332561  0.039225\n42                      Parietal_Operculum_Cortex       43  1.321411  0.049123\n43                                  Planum_Polare       44  1.213534  0.062357\n44                                 Heschl's_Gyrus       45  1.512226  0.092456\n45                               Planum_Temporale       46  1.480383  0.077805\n46                          Supracalcarine_Cortex       47  1.674895  0.092210\n47                                 Occipital_Pole       48  1.451402  0.087759\n48                                       Thalamus       49  1.120436  0.093625\n49                                       Striatum       50  1.197336  0.073424\n50                                      Brainstem       51  0.909965  0.051019\n51                                    Hippocampus       52  1.025811  0.054531\n52                                       Amygdala       53  1.016919  0.055693",
      "text/html": "<div>\n<style scoped>\n    .dataframe tbody tr th:only-of-type {\n        vertical-align: middle;\n    }\n\n    .dataframe tbody tr th {\n        vertical-align: top;\n    }\n\n    .dataframe thead th {\n        text-align: right;\n    }\n</style>\n<table border=\"1\" class=\"dataframe\">\n  <thead>\n    <tr style=\"text-align: right;\">\n      <th></th>\n      <th>ROI_NAME</th>\n      <th>ROI_NUM</th>\n      <th>PROMEDIO</th>\n      <th>STD</th>\n    </tr>\n  </thead>\n  <tbody>\n    <tr>\n      <th>0</th>\n      <td>Frontal_Pole</td>\n      <td>1</td>\n      <td>1.297428</td>\n      <td>0.046500</td>\n    </tr>\n    <tr>\n      <th>1</th>\n      <td>Insular_Cortex</td>\n      <td>2</td>\n      <td>1.318357</td>\n      <td>0.041654</td>\n    </tr>\n    <tr>\n      <th>2</th>\n      <td>Superior_Frontal_Gyrus</td>\n      <td>3</td>\n      <td>1.321448</td>\n      <td>0.064708</td>\n    </tr>\n    <tr>\n      <th>3</th>\n      <td>Middle_Frontal_Gyrus</td>\n      <td>4</td>\n      <td>1.407354</td>\n      <td>0.051632</td>\n    </tr>\n    <tr>\n      <th>4</th>\n      <td>Inferior_Frontal_Gyrus_pars_triangularis</td>\n      <td>5</td>\n      <td>1.356674</td>\n      <td>0.045377</td>\n    </tr>\n    <tr>\n      <th>5</th>\n      <td>Inferior_Frontal_Gyrus_pars_opercularis</td>\n      <td>6</td>\n      <td>1.415501</td>\n      <td>0.051962</td>\n    </tr>\n    <tr>\n      <th>6</th>\n      <td>Precentral_Gyrus</td>\n      <td>7</td>\n      <td>1.348035</td>\n      <td>0.044931</td>\n    </tr>\n    <tr>\n      <th>7</th>\n      <td>Temporal_Pole</td>\n      <td>8</td>\n      <td>0.965558</td>\n      <td>0.054513</td>\n    </tr>\n    <tr>\n      <th>8</th>\n      <td>Superior_Temporal_Gyrus_anterior_division</td>\n      <td>9</td>\n      <td>1.161459</td>\n      <td>0.045870</td>\n    </tr>\n    <tr>\n      <th>9</th>\n      <td>Superior_Temporal_Gyrus_posterior_division</td>\n      <td>10</td>\n      <td>1.280519</td>\n      <td>0.042944</td>\n    </tr>\n    <tr>\n      <th>10</th>\n      <td>Middle_Temporal_Gyrus_anterior_division</td>\n      <td>11</td>\n      <td>1.121338</td>\n      <td>0.043356</td>\n    </tr>\n    <tr>\n      <th>11</th>\n      <td>Middle_Temporal_Gyrus_posterior_division</td>\n      <td>12</td>\n      <td>1.294253</td>\n      <td>0.037953</td>\n    </tr>\n    <tr>\n      <th>12</th>\n      <td>Middle_Temporal_Gyrus_temporooccipital_part</td>\n      <td>13</td>\n      <td>1.345804</td>\n      <td>0.042974</td>\n    </tr>\n    <tr>\n      <th>13</th>\n      <td>Inferior_Temporal_Gyrus_anterior_division</td>\n      <td>14</td>\n      <td>1.173951</td>\n      <td>0.056446</td>\n    </tr>\n    <tr>\n      <th>14</th>\n      <td>Inferior_Temporal_Gyrus_posterior_division</td>\n      <td>15</td>\n      <td>1.250328</td>\n      <td>0.047635</td>\n    </tr>\n    <tr>\n      <th>15</th>\n      <td>Inferior_Temporal_Gyrus_temporooccipital_part</td>\n      <td>16</td>\n      <td>1.290531</td>\n      <td>0.049867</td>\n    </tr>\n    <tr>\n      <th>16</th>\n      <td>Postcentral_Gyrus</td>\n      <td>17</td>\n      <td>1.309761</td>\n      <td>0.053707</td>\n    </tr>\n    <tr>\n      <th>17</th>\n      <td>Superior_Parietal_Lobule</td>\n      <td>18</td>\n      <td>1.317837</td>\n      <td>0.070111</td>\n    </tr>\n    <tr>\n      <th>18</th>\n      <td>Supramarginal_Gyrus_anterior_division</td>\n      <td>19</td>\n      <td>1.199536</td>\n      <td>0.042948</td>\n    </tr>\n    <tr>\n      <th>19</th>\n      <td>Supramarginal_Gyrus_posterior_division</td>\n      <td>20</td>\n      <td>1.304109</td>\n      <td>0.046855</td>\n    </tr>\n    <tr>\n      <th>20</th>\n      <td>Angular_Gyrus</td>\n      <td>21</td>\n      <td>1.367941</td>\n      <td>0.053767</td>\n    </tr>\n    <tr>\n      <th>21</th>\n      <td>Lateral_Occipital_Cortex_superior_division</td>\n      <td>22</td>\n      <td>1.405235</td>\n      <td>0.059837</td>\n    </tr>\n    <tr>\n      <th>22</th>\n      <td>Lateral_Occipital_Cortex_inferior_division</td>\n      <td>23</td>\n      <td>1.398614</td>\n      <td>0.057983</td>\n    </tr>\n    <tr>\n      <th>23</th>\n      <td>Intracalcarine_Cortex</td>\n      <td>24</td>\n      <td>1.693928</td>\n      <td>0.089644</td>\n    </tr>\n    <tr>\n      <th>24</th>\n      <td>Frontal_Medial_Cortex</td>\n      <td>25</td>\n      <td>1.453410</td>\n      <td>0.059864</td>\n    </tr>\n    <tr>\n      <th>25</th>\n      <td>Juxtapositional_Lobule_Cortex</td>\n      <td>26</td>\n      <td>1.408408</td>\n      <td>0.093348</td>\n    </tr>\n    <tr>\n      <th>26</th>\n      <td>Subcallosal_Cortex</td>\n      <td>27</td>\n      <td>1.144738</td>\n      <td>0.057434</td>\n    </tr>\n    <tr>\n      <th>27</th>\n      <td>Paracingulate_Gyrus</td>\n      <td>28</td>\n      <td>1.402412</td>\n      <td>0.076119</td>\n    </tr>\n    <tr>\n      <th>28</th>\n      <td>Cingulate_Gyrus_anterior_division</td>\n      <td>29</td>\n      <td>1.186931</td>\n      <td>0.072674</td>\n    </tr>\n    <tr>\n      <th>29</th>\n      <td>Cingulate_Gyrus_posterior_division</td>\n      <td>30</td>\n      <td>1.388830</td>\n      <td>0.061792</td>\n    </tr>\n    <tr>\n      <th>30</th>\n      <td>Precuneous_Cortex</td>\n      <td>31</td>\n      <td>1.543480</td>\n      <td>0.064897</td>\n    </tr>\n    <tr>\n      <th>31</th>\n      <td>Cuneal_Cortex</td>\n      <td>32</td>\n      <td>1.683355</td>\n      <td>0.084150</td>\n    </tr>\n    <tr>\n      <th>32</th>\n      <td>Frontal_Orbital_Cortex</td>\n      <td>33</td>\n      <td>1.331010</td>\n      <td>0.041442</td>\n    </tr>\n    <tr>\n      <th>33</th>\n      <td>Parahippocampal_Gyrus_anterior_division</td>\n      <td>34</td>\n      <td>0.972969</td>\n      <td>0.055229</td>\n    </tr>\n    <tr>\n      <th>34</th>\n      <td>Parahippocampal_Gyrus_posterior_division</td>\n      <td>35</td>\n      <td>1.084333</td>\n      <td>0.053681</td>\n    </tr>\n    <tr>\n      <th>35</th>\n      <td>Lingual_Gyrus</td>\n      <td>36</td>\n      <td>1.349179</td>\n      <td>0.061593</td>\n    </tr>\n    <tr>\n      <th>36</th>\n      <td>Temporal_Fusiform_Cortex_anterior_division</td>\n      <td>37</td>\n      <td>1.022354</td>\n      <td>0.060043</td>\n    </tr>\n    <tr>\n      <th>37</th>\n      <td>Temporal_Fusiform_Cortex_posterior_division</td>\n      <td>38</td>\n      <td>1.167805</td>\n      <td>0.050257</td>\n    </tr>\n    <tr>\n      <th>38</th>\n      <td>Temporal_Occipital_Fusiform_Cortex</td>\n      <td>39</td>\n      <td>1.340661</td>\n      <td>0.048535</td>\n    </tr>\n    <tr>\n      <th>39</th>\n      <td>Occipital_Fusiform_Gyrus</td>\n      <td>40</td>\n      <td>1.503835</td>\n      <td>0.073126</td>\n    </tr>\n    <tr>\n      <th>40</th>\n      <td>Frontal_Operculum_Cortex</td>\n      <td>41</td>\n      <td>1.404659</td>\n      <td>0.058010</td>\n    </tr>\n    <tr>\n      <th>41</th>\n      <td>Central_Opercular_Cortex</td>\n      <td>42</td>\n      <td>1.332561</td>\n      <td>0.039225</td>\n    </tr>\n    <tr>\n      <th>42</th>\n      <td>Parietal_Operculum_Cortex</td>\n      <td>43</td>\n      <td>1.321411</td>\n      <td>0.049123</td>\n    </tr>\n    <tr>\n      <th>43</th>\n      <td>Planum_Polare</td>\n      <td>44</td>\n      <td>1.213534</td>\n      <td>0.062357</td>\n    </tr>\n    <tr>\n      <th>44</th>\n      <td>Heschl's_Gyrus</td>\n      <td>45</td>\n      <td>1.512226</td>\n      <td>0.092456</td>\n    </tr>\n    <tr>\n      <th>45</th>\n      <td>Planum_Temporale</td>\n      <td>46</td>\n      <td>1.480383</td>\n      <td>0.077805</td>\n    </tr>\n    <tr>\n      <th>46</th>\n      <td>Supracalcarine_Cortex</td>\n      <td>47</td>\n      <td>1.674895</td>\n      <td>0.092210</td>\n    </tr>\n    <tr>\n      <th>47</th>\n      <td>Occipital_Pole</td>\n      <td>48</td>\n      <td>1.451402</td>\n      <td>0.087759</td>\n    </tr>\n    <tr>\n      <th>48</th>\n      <td>Thalamus</td>\n      <td>49</td>\n      <td>1.120436</td>\n      <td>0.093625</td>\n    </tr>\n    <tr>\n      <th>49</th>\n      <td>Striatum</td>\n      <td>50</td>\n      <td>1.197336</td>\n      <td>0.073424</td>\n    </tr>\n    <tr>\n      <th>50</th>\n      <td>Brainstem</td>\n      <td>51</td>\n      <td>0.909965</td>\n      <td>0.051019</td>\n    </tr>\n    <tr>\n      <th>51</th>\n      <td>Hippocampus</td>\n      <td>52</td>\n      <td>1.025811</td>\n      <td>0.054531</td>\n    </tr>\n    <tr>\n      <th>52</th>\n      <td>Amygdala</td>\n      <td>53</td>\n      <td>1.016919</td>\n      <td>0.055693</td>\n    </tr>\n  </tbody>\n</table>\n</div>"
     },
     "execution_count": 17,
     "metadata": {},
     "output_type": "execute_result"
    }
   ],
   "source": [
    "df_atlas"
   ],
   "metadata": {
    "collapsed": false,
    "ExecuteTime": {
     "end_time": "2023-10-17T17:58:46.433152300Z",
     "start_time": "2023-10-17T17:58:46.420665800Z"
    }
   },
   "id": "c0857d9f5014116f"
  },
  {
   "cell_type": "code",
   "execution_count": null,
   "outputs": [],
   "source": [],
   "metadata": {
    "collapsed": false
   },
   "id": "219cb9c95fd15f34"
  }
 ],
 "metadata": {
  "kernelspec": {
   "display_name": "Python 3",
   "language": "python",
   "name": "python3"
  },
  "language_info": {
   "codemirror_mode": {
    "name": "ipython",
    "version": 2
   },
   "file_extension": ".py",
   "mimetype": "text/x-python",
   "name": "python",
   "nbconvert_exporter": "python",
   "pygments_lexer": "ipython2",
   "version": "2.7.6"
  }
 },
 "nbformat": 4,
 "nbformat_minor": 5
}
