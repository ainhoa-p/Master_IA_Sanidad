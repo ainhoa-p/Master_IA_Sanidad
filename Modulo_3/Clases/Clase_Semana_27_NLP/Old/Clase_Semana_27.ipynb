{
 "cells": [
  {
   "cell_type": "markdown",
   "metadata": {
    "id": "view-in-github",
    "colab_type": "text"
   },
   "source": [
    "<a href=\"https://colab.research.google.com/github/txusser/Master_IA_Sanidad/blob/main/Modulo_3/Clases/Semana_25_NLP/Clase_Semana_26.ipynb\" target=\"_parent\"><img src=\"https://colab.research.google.com/assets/colab-badge.svg\" alt=\"Open In Colab\"/></a>"
   ]
  },
  {
   "cell_type": "markdown",
   "metadata": {
    "id": "eH0raAsM5TSa"
   },
   "source": [
    "Este cuaderno es una adaptación del trabajo previo de:\n",
    "https://github.com/matiasbattocchia/datitos\n",
    "\n",
    "\n",
    "Vamos a hacer un recorrido por los pasos básicos del pre-procesamiento de texto. Estos pasos son necesarios para transformar texto del lenguaje humano a un formato legible para máquinas para su posterior procesamiento.\n",
    "\n",
    "Veremos cómo realizar estos pasos con código propio, para mayor entendimiento de lo que está sucediendo, y con [spaCy](https://spacy.io/)."
   ]
  },
  {
   "cell_type": "markdown",
   "metadata": {
    "id": "JsgRit3B5TSb"
   },
   "source": [
    "En concreto, los pasos son:\n",
    "\n",
    "1. **Limpieza**, la remoción del contenido no deseado.\n",
    "2. **Normalización**, la conversión diferentes formas a una sola.\n",
    "3. **Tokenización**, la separación del texto en tókenes (unidades mínimas, por ejemplo palabras).\n",
    "4. Separación en **conjuntos de datos**: entrenamiento, validación, prueba.\n",
    "5. Generación del **vocabulario**, la lista de tókenes conocidos.\n",
    "6. **Numericalización**, el mapeo de tókenes a números enteros.\n",
    "\n",
    "Nota: El órden de los primeros tres pasos (limpieza, normalización, tokenización) puede variar según conveniencia. El resto de los pasos mantiene el órden."
   ]
  },
  {
   "cell_type": "markdown",
   "metadata": {
    "id": "oaVz_Tun5TSc"
   },
   "source": [
    "## Dataset de ejemplo\n",
    "\n",
    "¿Qué sería de esta publicación sin algunos ejemplos? En nuestro caso vamos a utilizar el dataset CodiEsp. Se trata de un corpus de textos clínicos en español:\n",
    "\n"
   ]
  },
  {
   "cell_type": "code",
   "source": [
    "!rm -r /content/sample_data\n",
    "!wget https://zenodo.org/record/3837305/files/codiesp.zip\n",
    "!unzip codiesp.zip >> /dev/null"
   ],
   "metadata": {
    "colab": {
     "base_uri": "https://localhost:8080/"
    },
    "id": "_nb7tDJoApCV",
    "outputId": "8f6651d6-73c2-4dc8-b50c-7ee8d7b3de43"
   },
   "execution_count": null,
   "outputs": []
  },
  {
   "cell_type": "code",
   "execution_count": null,
   "metadata": {
    "id": "w8CNvfcd5TSd"
   },
   "source": [
    "import pandas as pd\n",
    "from os.path import join\n",
    "\n",
    "dir_dataset = 'final_dataset_v4_to_publish'\n",
    "train_dataset = join(dir_dataset,'train','trainX.tsv')\n",
    "\n",
    "df = pd.read_csv(train_dataset, sep='\\t', header=None)"
   ],
   "outputs": []
  },
  {
   "cell_type": "code",
   "execution_count": null,
   "metadata": {
    "id": "A7pFpRdS5TSe",
    "outputId": "309282c9-2f85-42a5-8bd4-5623c54c3471",
    "colab": {
     "base_uri": "https://localhost:8080/",
     "height": 363
    }
   },
   "source": [
    "with pd.option_context('display.max_colwidth', -1):\n",
    "\n",
    "    display(df.sample(10))"
   ],
   "outputs": []
  },
  {
   "cell_type": "code",
   "source": [
    "example_text_file = join(dir_dataset,'train','text_files','S0465-546X2014000300010-1.txt')\n",
    "print(example_text_file)\n",
    "f = open(example_text_file,'r')\n",
    "example_text=f.read()\n",
    "print(example_text)\n",
    "f.close()\n"
   ],
   "metadata": {
    "id": "6KrKOUM2Bd31",
    "outputId": "8b73169c-d1ba-4269-dbb9-525e44d7ea87",
    "colab": {
     "base_uri": "https://localhost:8080/"
    }
   },
   "execution_count": null,
   "outputs": []
  },
  {
   "cell_type": "markdown",
   "metadata": {
    "id": "X-yzBMbj5TSf"
   },
   "source": [
    "## Expresiones regulares\n",
    "\n",
    "Si las expresiones regulares no te resultan familiares entonces vale la pena estudiarlas brevemente, ya que las usaremos. Podés mirar este [tutorial](https://robologs.net/2019/05/05/como-utilizar-expresiones-regulares-regex-en-python) que encontramos en la web."
   ]
  },
  {
   "cell_type": "code",
   "execution_count": null,
   "metadata": {
    "id": "bz7O8kr95TSf"
   },
   "source": [
    "import re"
   ],
   "outputs": []
  },
  {
   "cell_type": "markdown",
   "metadata": {
    "id": "kxN89Odx5TSg"
   },
   "source": [
    "## Limpieza\n",
    "\n",
    "Muchas técnicas modernas no realizan limpieza alguna. Dependiendo de lo que queramos hacer tal vez convenga deshacernos de algunos elementos."
   ]
  },
  {
   "cell_type": "code",
   "execution_count": null,
   "metadata": {
    "id": "uG0f8Tcn5TSg",
    "outputId": "c3fe3200-aa82-4a9d-986e-9c92921bb6ab",
    "colab": {
     "base_uri": "https://localhost:8080/",
     "height": 36
    }
   },
   "source": [
    "def limpiar(texto):\n",
    "    puntuación = r'[,;.:¡!¿?@#$%&[\\](){}<>~=+\\-*/|\\\\_^`\"\\']'\n",
    "\n",
    "    # signos de puntuación\n",
    "    texto = re.sub(puntuación, ' ', texto)\n",
    "\n",
    "    return texto\n",
    "\n",
    "limpiar('!!El paciente presenta fiebre/febrícula, tos y mocos y dolor.')"
   ],
   "outputs": []
  },
  {
   "cell_type": "markdown",
   "metadata": {
    "id": "zKHcP8GJ5TSh"
   },
   "source": [
    "En esta función substituimos los signos de puntuación\n",
    "    \n",
    "    , ; . : ¡ ! ¿ ? @ # $ % & [ ] ( ) { } < > ~ = + - * / | \\ _ ^ ` \" '\n",
    "\n",
    "por espacios (me gusta más; usar string vacío `''` para eliminarlos) medieante expresiones regulares (algunos caracteres tuvieron que ser escapados anteponiendo `\\` por tener un significado especial para la expresión regular). Hacemos lo mismo con los dígitos. Veamos un ejemplo de funcionamiento."
   ]
  },
  {
   "cell_type": "markdown",
   "metadata": {
    "id": "fEip6nU65TSi"
   },
   "source": [
    "Otros elementos que podríamos pensar en remover son caracteres invisibles, espacios redundantes. Veremos que esto en particular también puede ser resulto en la tokenización."
   ]
  },
  {
   "cell_type": "markdown",
   "metadata": {
    "id": "dQ7dLdL05TSj"
   },
   "source": [
    "## Normalización\n",
    "\n",
    "Normalizar es la tarea de llevar lo que puede ser expresado de múltiples maneras como fechas, números y abreviaturas a una única forma. Por ejemplo\n",
    "\n",
    "     13/03/30 -> trece de marzo de dos mil treinta\n",
    "     DC -> departamento de computación\n",
    "\n",
    "Se trata de una práctica clásica de la época de los modelos de lenguaje probabilísticos, que intentaban reducir lo más posible la cantidad de palabras. En cierta forma 1 palabra = 1 atributo (lo que en los '90s conocimos como convertibilidad). Elegir atributos es ingeniería de atributos, la parte central del *machine learning*, y lo justamente lo que el *deep learning* busca automatizar.\n",
    "\n",
    "Sin embargo hay una normalización muy común hoy, el **convertir todo el texto a minúsculas**. En el caso del español, una normalización común es la **remoción de tildes**."
   ]
  },
  {
   "cell_type": "code",
   "execution_count": null,
   "metadata": {
    "id": "5JT_E6ap5TSj",
    "outputId": "ecc3a5f4-0890-4148-f046-d118df43cb65",
    "colab": {
     "base_uri": "https://localhost:8080/",
     "height": 36
    }
   },
   "source": [
    "def normalizar(texto):\n",
    "    # todo a minúsculas\n",
    "    texto = texto.lower()\n",
    "\n",
    "    # tildes y diacríticas\n",
    "    texto = re.sub('á', 'a', texto)\n",
    "    texto = re.sub('é', 'e', texto)\n",
    "    texto = re.sub('í', 'i', texto)\n",
    "    texto = re.sub('ó', 'o', texto)\n",
    "    texto = re.sub('ú', 'u', texto)\n",
    "    texto = re.sub('ü', 'u', texto)\n",
    "    texto = re.sub('ñ', 'n', texto)\n",
    "\n",
    "    return texto\n",
    "\n",
    "normalizar('El paciente es español y tomará antibióticos')"
   ],
   "outputs": []
  },
  {
   "cell_type": "markdown",
   "metadata": {
    "id": "EYm73iir5TSl"
   },
   "source": [
    "Hay una librería llamada [unidecode](https://pypi.org/project/Unidecode) que realiza transliteración: representa letras o palabras de un alfabeto en otro, útil si tenemos caracteres en ruso (cirílico) o chino (caracteres Han), aún útil para el alfabeto latino cuando queremos pasar de Unicode a ASCII (lo que substituiría las tildes)."
   ]
  },
  {
   "cell_type": "code",
   "execution_count": null,
   "metadata": {
    "id": "6rSyEYR05TSl",
    "outputId": "71d07a0c-a60e-4beb-b401-ead11d043238",
    "colab": {
     "base_uri": "https://localhost:8080/",
     "height": 70
    }
   },
   "source": [
    "!pip install unidecode --quiet --yes\n",
    "from unidecode import unidecode\n",
    "\n",
    "def normalizar_2(texto):\n",
    "\n",
    "  texto = texto.lower()\n",
    "  unidecode(texto)\n",
    "\n",
    "normalizar('El paciente es español y tomará antibióticos')"
   ],
   "outputs": []
  },
  {
   "cell_type": "markdown",
   "metadata": {
    "id": "RjZ365Jv5TSm"
   },
   "source": [
    "Una normalización que no vale la pena intentar con este dataset es la **correción ortográfica** con un paquete como [pyspellchecker](https://pypi.org/project/pyspellchecker). Los artículos incluídos en codiesp ya cuentan con corrección ortográfica"
   ]
  },
  {
   "cell_type": "markdown",
   "source": [
    "#### *Lemmatization*\n",
    "\n",
    "A diferencia del *stemming*, la lematización reduce las palabras inflexadas a palabras que pertenecen al lenguaje. La raíz pasa a llamarse *lema*."
   ],
   "metadata": {
    "id": "cpUi5SDLKtKe"
   }
  },
  {
   "cell_type": "code",
   "source": [
    "!pip install spacy --quiet\n",
    "!python -m spacy download es_core_news_sm"
   ],
   "metadata": {
    "id": "8SB3UV1oKzt0",
    "outputId": "79391686-ebd9-434a-a6ba-65520cef6924",
    "colab": {
     "base_uri": "https://localhost:8080/"
    }
   },
   "execution_count": null,
   "outputs": []
  },
  {
   "cell_type": "markdown",
   "metadata": {
    "id": "xBjydBHV5TSm"
   },
   "source": [
    "## Tokenización\n",
    "\n",
    "Tokenizar es separar el texto en partes más pequeñas llamadas tókenes. Una unidad muy común es la palabra pero depende de lo que queramos hacer, si es que no hemos eliminado a los signos de puntuación estos también serían tókenes. Las palabras frecuentemente están compuestas por una raíz, prefijo y/o sufijo, por lo que podríamos decidir separarlos también. En inglés es común separar `it's` en `it` y `'s`, si bien en español esta situación no es común.\n",
    "\n",
    "A diferencia de la limpieza y la normalización, la tokenización **es un paso indispesable** en la preparación de texto para su procesamiento.\n",
    "\n",
    "Para el dataset en cuestión la tokenización es simple, vamos a separar seǵun espacios y demás caracteres invisibles como `\\t` (tabulación) y `\\n` (salto de línea). De haber signos de puntuación, pro ejemplo si quisiéramos procesar un documento extenso en oraciones, el proceso es más complejo ya que `final.` tiene un punto en vez de un espacio, y no siempre los puntos demarcan el final de un tóken como en `A.M.` y `P.M.`."
   ]
  },
  {
   "cell_type": "code",
   "source": [
    "import spacy\n",
    "\n",
    "def lematización_tokenizacion(texto):\n",
    "\n",
    "  nlp = spacy.load('es_core_news_sm')\n",
    "\n",
    "  doc = nlp(texto)\n",
    "\n",
    "  doc = [tóken.lemma_ for tóken in doc]\n",
    "\n",
    "  doc = [cadena for cadena in doc if cadena.strip() != \"\"]\n",
    "\n",
    "\n",
    "  return doc\n",
    "\n",
    "lematización('Los pacientes son español y tomará antibióticos')"
   ],
   "metadata": {
    "id": "n8EcaJH9K27T",
    "outputId": "47817a5b-1877-4b90-f6e6-d0923a9a6535",
    "colab": {
     "base_uri": "https://localhost:8080/"
    }
   },
   "execution_count": null,
   "outputs": []
  },
  {
   "cell_type": "markdown",
   "metadata": {
    "id": "yR7vfvrv5TSn"
   },
   "source": [
    "Debemos definir si elementos como los signos de puntuación son tókenes o si simplemente delimitan palabras o tókenes, en cuyo caso desaparecerían en el proceso. Mismo con los caracteres invisibles, si estuviésemos haciendo un modelo que programe en Python, la indentación es fundamental y deberiera mantenerse."
   ]
  },
  {
   "cell_type": "markdown",
   "metadata": {
    "id": "EjzVVT5Y5TSo"
   },
   "source": [
    "`split` también se encarga de los caracteres invisibles repetidos."
   ]
  },
  {
   "cell_type": "markdown",
   "metadata": {
    "id": "D6lCqs-b5TSq"
   },
   "source": [
    "Varios modelos de lenguaje utilizan caracteres en vez de palabras como tókenes, esto es útil por varios motivos que listaremos más adelante. Otros utilizan partes de palabras como sílabas (las partes se determinan estadísticamente). Ver https://arxiv.org/pdf/1508.07909.pdf."
   ]
  },
  {
   "cell_type": "markdown",
   "metadata": {
    "id": "Cj4SLAtg5TSr"
   },
   "source": [
    "### Tokenización utilizando alguna librería\n"
   ]
  },
  {
   "cell_type": "code",
   "execution_count": null,
   "metadata": {
    "id": "jQunLCt35TSr",
    "outputId": "d1e05250-72f1-4dbe-e9d9-08a4662158fd",
    "colab": {
     "base_uri": "https://localhost:8080/"
    }
   },
   "source": [
    "import spacy\n",
    "\n",
    "nlp = spacy.load('es_core_news_sm')\n",
    "\n",
    "doc = nlp('El paciente tiene síntomas de gripe')\n",
    "\n",
    "print([tóken.text for tóken in doc])"
   ],
   "outputs": []
  },
  {
   "cell_type": "markdown",
   "metadata": {
    "id": "3bn-1Fuu5TS1"
   },
   "source": [
    "### *Stop words*\n",
    "\n",
    "Hay listas armadas de palabras muy comunes (*stop words*). Podemos elaborarla de alguna manera o usar alguna existente.\n",
    "\n",
    "    pip install nltk"
   ]
  },
  {
   "cell_type": "code",
   "source": [
    "!pip install nltk"
   ],
   "metadata": {
    "colab": {
     "base_uri": "https://localhost:8080/"
    },
    "id": "hF7aZGVDx9ml",
    "outputId": "6e8c7945-9825-4ad4-80d4-7aa238b40907"
   },
   "execution_count": null,
   "outputs": []
  },
  {
   "cell_type": "code",
   "execution_count": null,
   "metadata": {
    "id": "N7TkUzpw5TS1",
    "outputId": "c9af97ec-889e-4e33-9861-5939a1fdf6fd",
    "colab": {
     "base_uri": "https://localhost:8080/"
    }
   },
   "source": [
    "import nltk\n",
    "nltk.download('stopwords')\n",
    "\n",
    "from nltk.corpus import stopwords\n",
    "\n",
    "stopwords.words('spanish') [0:10]"
   ],
   "outputs": []
  },
  {
   "cell_type": "markdown",
   "metadata": {
    "id": "rJVoIDuL5TS1"
   },
   "source": [
    "Un detalle a cuidar es que la tokenización usada para la lista de *stop words* tiene que haber sido la misma o similar que la usada para los documentos."
   ]
  },
  {
   "cell_type": "code",
   "execution_count": null,
   "metadata": {
    "id": "B0PuDtWk5TS1",
    "outputId": "8e0ecd17-a9c7-4dca-9a92-3dfa2e1b3ed9",
    "colab": {
     "base_uri": "https://localhost:8080/"
    }
   },
   "source": [
    "def filtrar_stop_words(doc):\n",
    "    return [tóken for tóken in doc if tóken not in stopwords.words('spanish')]\n",
    "\n",
    "filtrar_stop_words(\n",
    "    ['el', 'paciente', 'tiene', 'síntomas', 'de', 'gripe'])"
   ],
   "outputs": []
  },
  {
   "cell_type": "markdown",
   "metadata": {
    "id": "WdJhCCNs5TSr"
   },
   "source": [
    "## Otros pre-procesos\n",
    "\n",
    "Clásicamente se aplicaban alguno de estos para reducir aún más la cantidad de palabras:\n",
    "\n",
    "#### *Stemming*\n",
    "\n",
    "*Stem*, de raíz, reduce la inflección de las palabras, mapeando un grupo de palabras a la misma raíz, sin importar si la raíz es una palabras válida en el lenguaje.\n",
    "\n",
    "     caminando, caminar, camino -> camin\n"
   ]
  },
  {
   "cell_type": "markdown",
   "metadata": {
    "id": "eSfSPyC_5TSr"
   },
   "source": [
    "## Primera parte del pre-procesamiento"
   ]
  },
  {
   "cell_type": "code",
   "execution_count": null,
   "metadata": {
    "id": "vHPYRiat5TSr"
   },
   "source": [
    "def preprocesar(texto):\n",
    "    texto = limpiar(texto)\n",
    "    texto = normalizar(texto)\n",
    "    texto = lematización_tokenizacion(texto)\n",
    "    texto = filtrar_stop_words(texto)\n",
    "\n",
    "    return texto"
   ],
   "outputs": []
  },
  {
   "cell_type": "markdown",
   "metadata": {
    "id": "uXct2b4K5TSr"
   },
   "source": [
    "## Conjuntos de datos\n",
    "\n",
    "En la competencias normalmente encontramos dos archivos, el de entrenamiento y el de inferencia —que le suelen llamar de prueba y es el que tenemos que predecir para entregar—. Del que suelen llamar `train` también tenemos que obtener el de validación."
   ]
  },
  {
   "cell_type": "code",
   "execution_count": null,
   "metadata": {
    "id": "2CIh7cXX5TSs",
    "colab": {
     "base_uri": "https://localhost:8080/",
     "height": 423
    },
    "outputId": "c98f52e7-3c4f-4395-ff34-d3409b3ab6f5"
   },
   "source": [
    "train_dataset = join(dir_dataset,'train','trainX.tsv')\n",
    "test_dataset = join(dir_dataset,'test','testX.tsv')\n",
    "\n",
    "in_train_df = pd.read_csv(train_dataset, sep = '\\t', header=None)\n",
    "in_test_df = pd.read_csv(test_dataset, sep = '\\t', header=None)\n",
    "\n",
    "in_train_df = in_train_df.loc[in_train_df[1]=='DIAGNOSTICO']\n",
    "in_test_df = in_test_df.loc[in_test_df[1]=='DIAGNOSTICO']\n",
    "\n",
    "in_train_df"
   ],
   "outputs": []
  },
  {
   "cell_type": "code",
   "source": [
    "unique_docs = pd.unique(in_train_df[0])\n",
    "train_df = pd.DataFrame(columns=['text','labels'])\n",
    "for i in unique_docs:\n",
    "  doc_df = in_train_df.loc[in_train_df[0]==i]\n",
    "  labels = []\n",
    "  for index_, row_ in doc_df.iterrows():\n",
    "    label = row_[2]\n",
    "    labels.append(label)\n",
    "  labels = max(set(labels), key = labels.count)\n",
    "  train_df = train_df.append({'text':i, 'labels':labels}, ignore_index=True)\n",
    "\n",
    "\n",
    "unique_docs = pd.unique(in_test_df[0])\n",
    "test_df = pd.DataFrame(columns=['text','labels'])\n",
    "for i in unique_docs:\n",
    "  doc_df = in_test_df.loc[in_test_df[0]==i]\n",
    "  labels = []\n",
    "  for index_, row_ in doc_df.iterrows():\n",
    "    label = row_[2]\n",
    "    labels.append(label)\n",
    "  labels = max(set(labels), key = labels.count)\n",
    "  test_df = test_df.append({'text':i, 'labels':labels}, ignore_index=True)\n",
    "train_df\n"
   ],
   "metadata": {
    "id": "qBQV_nx89IhY",
    "outputId": "f279a377-f917-4a4a-a1ab-6eba39f1fd20",
    "colab": {
     "base_uri": "https://localhost:8080/",
     "height": 423
    }
   },
   "execution_count": null,
   "outputs": []
  },
  {
   "cell_type": "markdown",
   "metadata": {
    "id": "qRwhvhBd5TSs"
   },
   "source": [
    "Ahora estamos en condiciones de pre-procesar todo lo que tenemos:"
   ]
  },
  {
   "cell_type": "code",
   "source": [
    "train_docs = []\n",
    "\n",
    "for doc_name in train_df['text']:\n",
    "  text_file = join(dir_dataset,'train','text_files','%s.txt' % doc_name)\n",
    "  f = open(text_file,'r')\n",
    "\n",
    "  doc_text=f.read()\n",
    "  plain_text = preprocesar(doc_text)\n",
    "  f.close()\n",
    "\n",
    "  train_docs.append(plain_text)\n",
    "\n",
    "test_docs = []\n",
    "\n",
    "for doc_name in test_df['text']:\n",
    "  text_file = join(dir_dataset,'test','text_files','%s.txt' % doc_name)\n",
    "  f = open(text_file,'r')\n",
    "\n",
    "  doc_text=f.read()\n",
    "  plain_text = preprocesar(doc_text)\n",
    "  f.close()\n",
    "\n",
    "  test_docs.append(plain_text)"
   ],
   "metadata": {
    "id": "8mHGUxMouZIu"
   },
   "execution_count": null,
   "outputs": []
  },
  {
   "cell_type": "code",
   "source": [
    "example_text_file = join(dir_dataset,'train','text_files','S0004-06142005000700014-1.txt')\n",
    "\n",
    "f = open(example_text_file,'r')\n",
    "example_text=f.read()\n",
    "print(example_text)\n",
    "f.close()\n"
   ],
   "metadata": {
    "id": "IhNULZGHPv97"
   },
   "execution_count": null,
   "outputs": []
  },
  {
   "cell_type": "code",
   "source": [
    "train_docs[0]"
   ],
   "metadata": {
    "id": "4-lAQCDPS1-K"
   },
   "execution_count": null,
   "outputs": []
  },
  {
   "cell_type": "markdown",
   "metadata": {
    "id": "1fqRBjs05TSs"
   },
   "source": [
    "Hemos pasado de una Series de Pandas, array de NumPy o una **lista de strings**"
   ]
  },
  {
   "cell_type": "markdown",
   "metadata": {
    "id": "hqwc2jIk5TSt"
   },
   "source": [
    "Un poco de nomenclatura: estamos llamando corpus a la colección de textos. Nos referimos también a los textos como documentos. También estamos usando el término lote (*batch*) para referirnos a un (sub)conjunto de documentos."
   ]
  },
  {
   "cell_type": "markdown",
   "metadata": {
    "id": "qW0Dv99-5TSt"
   },
   "source": [
    "## Vocabulario"
   ]
  },
  {
   "cell_type": "markdown",
   "metadata": {
    "id": "fnM1otZ95TSt"
   },
   "source": [
    "Este paso es importante. Aquí definimos y limitamos la tókenes que vamos a utilizar. El lenguaje es infinito, para convertirlo en un problema tratable muchas veces los que hacemos es reducirlo. Clave para varias prácticas de reducción es contar las frecuencias de los tókenes, esto es, cuántas veces aparece cada tóken en todo el corpus. Como mencionamos las palabras más frecuentes no aportan mucha información y las más infrecuentes si bien son las que más información tienen no llegarán a ser representativas para nuestro modelo. Descartar palabras poco frecuentes también afecta a errores ortográficos."
   ]
  },
  {
   "cell_type": "markdown",
   "metadata": {
    "id": "W9huyb6Q5TS1"
   },
   "source": [
    "### Implementación\n",
    "\n",
    "Veamos cómo acomodamos lo que hemos visto ahora en la clase `Vocab`."
   ]
  },
  {
   "cell_type": "code",
   "execution_count": null,
   "metadata": {
    "id": "tpnZyyWq5TS1"
   },
   "source": [
    "# versión 4\n",
    "import numpy as np\n",
    "from itertools import chain\n",
    "from collections import Counter\n",
    "\n",
    "class Vocab():\n",
    "    @property\n",
    "    def índice_relleno(self):\n",
    "        return self.mapeo.get(self.tóken_relleno)\n",
    "\n",
    "    def __init__(self, tóken_desconocido='<unk>', tóken_relleno='<pad>', frecuencia_mínima=0.0, frecuencia_máxima=0.1,\n",
    "                 longitud_mínima=1, longitud_máxima=np.inf, stop_words=['paciente', 'síntoma', 'tratamiento'], límite_vocabulario=None):\n",
    "\n",
    "        self.tóken_desconocido = tóken_desconocido\n",
    "        self.tóken_relleno = tóken_relleno\n",
    "        self.frecuencia_mínima = frecuencia_mínima\n",
    "        self.frecuencia_máxima = frecuencia_máxima\n",
    "        self.longitud_mínima = longitud_mínima\n",
    "        self.longitud_máxima = longitud_máxima\n",
    "        self.stop_words = stop_words\n",
    "        self.límite_vocabulario = límite_vocabulario\n",
    "\n",
    "    # ningún cambio aquí\n",
    "    def reducir_vocabulario(self, lote):\n",
    "        contador_absoluto = Counter(chain(*lote))\n",
    "\n",
    "        contador_documentos = Counter()\n",
    "\n",
    "        for doc in lote:\n",
    "            contador_documentos.update(set(doc))\n",
    "\n",
    "        # frecuencia mínima\n",
    "        if isinstance(self.frecuencia_mínima, int): # frecuencia de tóken\n",
    "            vocabulario_mín = [tóken for tóken, frecuencia in contador_absoluto.most_common() if frecuencia >= self.frecuencia_mínima]\n",
    "        else: # frecuencia de documento\n",
    "            vocabulario_mín = [tóken for tóken, frecuencia in contador_documentos.most_common() if frecuencia/len(lote) >= self.frecuencia_mínima]\n",
    "\n",
    "        # frecuencia máxima\n",
    "        if isinstance(self.frecuencia_máxima, int): # frecuencia de tóken\n",
    "            vocabulario_máx = [tóken for tóken, frecuencia in contador_absoluto.most_common() if self.frecuencia_máxima >= frecuencia]\n",
    "        else: # frecuencia de documento\n",
    "            vocabulario_máx = [tóken for tóken, frecuencia in contador_documentos.most_common() if self.frecuencia_máxima >= frecuencia/len(lote)]\n",
    "\n",
    "        # intersección de vocabulario_mín y vocabulario_máx preservando el órden\n",
    "        vocabulario = [tóken for tóken in vocabulario_mín if tóken in vocabulario_máx]\n",
    "\n",
    "        # longitud\n",
    "        vocabulario = [tóken for tóken in vocabulario if self.longitud_máxima >= len(tóken) >= self.longitud_mínima]\n",
    "\n",
    "        # stop words\n",
    "        vocabulario = [tóken for tóken in vocabulario if tóken not in self.stop_words]\n",
    "\n",
    "        # límite\n",
    "        vocabulario = vocabulario[:self.límite_vocabulario]\n",
    "\n",
    "        return vocabulario\n",
    "\n",
    "    def fit(self, lote):\n",
    "        vocabulario = self.reducir_vocabulario(lote)\n",
    "\n",
    "        if self.tóken_desconocido:\n",
    "            vocabulario.append(self.tóken_desconocido)\n",
    "\n",
    "        if self.tóken_relleno:\n",
    "            vocabulario.insert(0, self.tóken_relleno)\n",
    "\n",
    "        self.mapeo = {tóken: índice for índice, tóken in enumerate(vocabulario)}\n",
    "\n",
    "        return self\n",
    "\n",
    "    # ningún cambio aquí\n",
    "    def transform(self, lote):\n",
    "        if self.tóken_desconocido: # reemplazar\n",
    "            return [[tóken if tóken in self.mapeo else self.tóken_desconocido for tóken in doc] for doc in lote]\n",
    "        else: # ignorar\n",
    "            return [[tóken for tóken in doc if tóken in self.mapeo] for doc in lote]\n",
    "\n",
    "    # ningún cambio aquí\n",
    "    def tókenes_a_índices(self, lote):\n",
    "        lote = self.transform(lote)\n",
    "\n",
    "        return [[self.mapeo[tóken] for tóken in doc] for doc in lote]\n",
    "\n",
    "    # ningún cambio aquí\n",
    "    def índices_a_tókenes(self, lote):\n",
    "        mapeo_inverso = list(self.mapeo.keys())\n",
    "\n",
    "        return [[mapeo_inverso[índice] for índice in doc] for doc in lote]\n",
    "\n",
    "    def __len__(self):\n",
    "        return len(self.mapeo)"
   ],
   "outputs": []
  },
  {
   "cell_type": "markdown",
   "metadata": {
    "id": "MaH3jrO35TS2"
   },
   "source": [
    "## El pre-procesamiento hasta ahora"
   ]
  },
  {
   "cell_type": "code",
   "execution_count": null,
   "metadata": {
    "id": "JmSqBKdi5TS2"
   },
   "source": [
    "v = Vocab().fit(train_docs)\n",
    "\n",
    "train_índices = v.tókenes_a_índices(train_docs)\n",
    "test_índices = v.tókenes_a_índices(test_docs)"
   ],
   "outputs": []
  },
  {
   "cell_type": "code",
   "source": [
    "len(v)"
   ],
   "metadata": {
    "id": "a84Y95e-AK4w",
    "outputId": "9e0b7cc4-9734-422d-e01a-e97a65bb263a",
    "colab": {
     "base_uri": "https://localhost:8080/"
    }
   },
   "execution_count": null,
   "outputs": []
  },
  {
   "cell_type": "markdown",
   "metadata": {
    "id": "UbLfbs4m5TS2"
   },
   "source": [
    "Con esto concluye la primera parte. Hay varias librerías que tienen clases que se encargan de efectuar los pasos que hemos visto. Tienen un comportamiento por defecto, que es configurable (los parámetros que hemos visto) y a su vez, personalizable, para reemplazar algunos o todos los pasos por código propio. En general son librerías desarrolladas por angloparlantes, funcionan *out-of-the-box* bien para el inglés; cuando queremos procesar texto en español vale la pena tener más control sobre estos procesos.\n",
    "\n",
    "* [CountVectorizer](https://scikit-learn.org/stable/modules/generated/sklearn.feature_extraction.text.CountVectorizer.html) de scikit-learn.\n",
    "* [TextDataBunch](https://docs.fast.ai/text.data.html#TextDataBunch.from_df) de fast.ai."
   ]
  },
  {
   "cell_type": "markdown",
   "metadata": {
    "id": "1rf94M9i5TS2"
   },
   "source": [
    "## Pre-procesando las etiquetas"
   ]
  },
  {
   "cell_type": "markdown",
   "metadata": {
    "id": "ihZc6Mbe5TS2"
   },
   "source": [
    "Las etiquetas del dataset también necesitan ser convertidas a números enteros consecutivos. No lo pensamos para este fin pero `Vocab` sería útil en este aspecto. El único tema es que `Vocab.fit` y demás métodos esperan listas de listas de tókenes y a las etiquetas las encontramos en forma de listas de tókenes simplemente."
   ]
  },
  {
   "cell_type": "markdown",
   "metadata": {
    "id": "edWw7hm85TS3"
   },
   "source": [
    "Podemos llevar la columna de las etiquetas a una lista de listas con `train_df['Intencion'].values.reshape(-1,1)`, de manera de poder interfacearlo con `Vocab`. Algo como `train_df[['Intencion']].values` para que Pandas devuelva un `DataFrame` en vez de una `Series` también funcionaría."
   ]
  },
  {
   "cell_type": "code",
   "execution_count": null,
   "metadata": {
    "id": "Sx2FPB6T5TS3"
   },
   "source": [
    "train_etiquetas = train_df[['labels']].values\n",
    "test_etiquetas = test_df[['labels']].values"
   ],
   "outputs": []
  },
  {
   "cell_type": "markdown",
   "metadata": {
    "id": "ir94eLey5TS3"
   },
   "source": [
    "Todo lo que tenga que ver con limitación del vocabulario o agregado de tókenes especiales no nos interesa para este caso de uso."
   ]
  },
  {
   "cell_type": "code",
   "execution_count": null,
   "metadata": {
    "id": "f-F6b9d95TS3"
   },
   "source": [
    "vocabulario_etiquetas = Vocab(tóken_desconocido=None).fit(train_etiquetas)\n",
    "\n",
    "train_etiquetas = vocabulario_etiquetas.tókenes_a_índices(train_etiquetas)\n",
    "test_etiquetas = vocabulario_etiquetas.tókenes_a_índices(test_etiquetas)\n"
   ],
   "outputs": []
  },
  {
   "cell_type": "markdown",
   "metadata": {
    "id": "eBMGgESH5TS3"
   },
   "source": [
    "Ya casi estamos. Solo debemos reconvertir a las etiquetas en una lista de índices (su dimensión original) con un recurso que ya conocemos."
   ]
  },
  {
   "cell_type": "code",
   "execution_count": null,
   "metadata": {
    "id": "wf6hIydG5TS3",
    "outputId": "22218623-03b7-4f24-86c9-4abc92cb9b3e",
    "colab": {
     "base_uri": "https://localhost:8080/"
    }
   },
   "source": [
    "train_etiquetas_índices = list(chain(*train_etiquetas))\n",
    "test_etiquetas_índices = list(chain(*test_etiquetas))\n",
    "\n",
    "train_etiquetas_índices[:10]"
   ],
   "outputs": []
  },
  {
   "cell_type": "markdown",
   "source": [
    "Hasta ahora llegamos a convertir esto\n",
    "\n",
    "```python\n",
    "[\n",
    "    'que se requiere para un prestamo personal',\n",
    "    'me piden mi numero de cuenta es mi cbu',\n",
    "]\n",
    "```\n",
    "\n",
    "en esto\n",
    "\n",
    "```python\n",
    "[\n",
    "    [4160, 4683, 4484, 3703, 5294, 4011, 3825],\n",
    "    [3275, 3854, 3319, 3554, 1532, 1462, 2151, 3319, 950],\n",
    "]\n",
    "```\n",
    "\n",
    "donde dijimos que las partes fundamentales son la tokenización —separar a los documentos en unidades de información— y la numericalización —el asignarle a cada uno de los tókenes un número, más que nada para que la computadora, que gusta mucho de los números, sea feliz—.\n",
    "\n",
    "También habíamos dicho que **un tóken es un atributo** pero no dijimos mucho más al respecto. Veamos cómo puede ser esto. La tarea de ejemplo es clasificar documentos. Estamos acustumbrados a tener muestras y etiquetas como `X` e `y` en las que la primera es una matriz de muestras (filas) y atributos (columnas), y la segunda suele ser una columna. Cuando el dataset está sin pre-procesar tenemos las muestras (filas) pero no los atributos (columnas), por lo general tenemos una única columna con los documentos en forma de strings, lo que mucha forma de atributos no tiene.\n",
    "\n",
    "Ahora que hemos pre-procesado el texto estamos a un paso de obtener los atributos. La función de los atributos es describir o caracterizar a las muestras. El modelo lee estos atributos para realizar inferencias. Hay distintas maneras de describir a los documentos, algunas más sofisticadas que otras, una intuitiva es aprovechar que los tókenes están numerados desde 0 hasta L (`len(vocabulario)`) y otorgarle una columna a cada uno en la matriz de atributos de tamaño N x L (donde N es la cantidad de muestras).\n",
    "\n",
    "Hecho esto, solo resta contar cuántas veces aparece cada tóken en cada documento y asentarlo en la matriz.\n",
    "\n",
    "```\n",
    "                  |  bien  hola  si    todo\n",
    "-------------------------------------------\n",
    "'hola todo bien'  |  1     1     0     1\n",
    "'si bien bien'    |  2     0     1     0\n",
    "```\n",
    "\n",
    "Como comentario, esta forma de describir los documentos ignora enteramente el órden de los tókenes, sabemos que el sentido de una oración puede cambir completamente si cambiamos algunas palabras de lugar. Para el problema en cuestión, no parece ser tan grave ya que para clasificar una pregunta podría bastar con reconocer algunas palabras claves como *cambio* y *clave* o *requisito* y *préstamo*.\n",
    "\n",
    "Ver [tf-idf](https://es.wikipedia.org/wiki/Tf-idf)."
   ],
   "metadata": {
    "id": "1QPA5ME8BBvK"
   }
  },
  {
   "cell_type": "markdown",
   "source": [
    "### BONUS (Si hay tiempo)\n",
    "## PyTorch\n",
    "\n",
    "El típico bucle de entrenamiento de PyTorch tiene esta pinta.\n",
    "\n",
    "```python\n",
    "for época in range(N_ÉPOCAS):\n",
    "    for lote in datos_entrenamiento:\n",
    "        # reseteamos los gradientes\n",
    "        optimizador.zero_grad()\n",
    "        \n",
    "        predicciones = red_neuronal(lote.X)\n",
    "        pérdida = criterio(predicciones, lote.y)\n",
    "        \n",
    "        # calculamos los gradientes\n",
    "        pérdida.backward()\n",
    "    \n",
    "        # aplicamos los gradientes\n",
    "        optimizador.step()\n",
    "```\n",
    "\n",
    "Recordemos que a diferencia de otros modelos las redes neuronales revisitan varias veces el dataset, en lo que se llaman épocas, cada época es un recorrido por todas las muestras de entrenamiento.\n",
    "\n",
    "En una época el dataset se puede mostrar entero, de a una muestra, o como es común hoy en día de a grupos o lotes (*batches*). La experiencia mostró que es útil variar el orden de las muestras en cada época."
   ],
   "metadata": {
    "id": "YFH2OiagCeMO"
   }
  },
  {
   "cell_type": "markdown",
   "source": [
    "PyTorch provee ciertas facilidades para el manejo de los datos con las clases definidas en [torch.utils.data](https://pytorch.org/docs/stable/data.html) a ser:\n",
    "1. `Dataset`. Organiza los datos. Le pasamos un número o índice de muestra y nos devuelve la muestra usualmente como una tupla `(atributos, etiqueta)`.\n",
    "1. `Sampler`. Salvo que lo queramos de otra manera, se encarga de brindar un orden aleatoreo de los índices del dataset; uno diferente cada vez que le preguntamos.\n",
    "1. `BatchSampler`. Por defecto, se inicializa con un `Sampler` y el tamaño de lote. Se encarga de armar grupos de índices; diferentes cada vez que le preguntamos.\n",
    "1. `DataLoader`. Valiéndose de los grupos de índices de `BatchSampler`, obtiene muestras de `Dataset`. De esta manera para cada época devuelve lotes de muestras al azar.  \n",
    "\n",
    "Por `Sampler` y `BatchSampler` no nos detendremos ya el comportamiento por defecto, que es barajar el dataset en cada época y armar lotes del mismo tamaño es todo lo que necesitamos."
   ],
   "metadata": {
    "id": "ohYY_AXrCiWB"
   }
  },
  {
   "cell_type": "markdown",
   "source": [
    "## DataLoader\n",
    "\n",
    "`DataLoader` es un *iterable*. Los iterables son colecciones de elementos que se pueden recorrer; implementan el método `__iter__`, del que se espera que devuelva un objeto *iterador* (`iterador = iter(iterable)`). A su vez el iterador implementa el método `__next__` que se encarga devolver secuencialmente los elementos de la colección hasta que se agota; una vez que esto sucede el iterador debe ser descartado y en todo caso le pedimos al iterable que nos arme un nuevo iterador. Cuando usamos la construcción `for ítem in iterable`, el intérprete de Python implícitamente obtiene un iterador.\n",
    "\n",
    "Ver la [sección de interables](https://docs.python.org/3/tutorial/classes.html#iterators) en el tutorial de Python."
   ],
   "metadata": {
    "id": "t_FSASS-DXDU"
   }
  },
  {
   "cell_type": "code",
   "source": [
    "lista = iter(['uno','dos'])\n",
    "\n",
    "next(lista)"
   ],
   "metadata": {
    "id": "Z_OVpJQZDP51",
    "outputId": "d7d69a33-2894-4152-ea9c-ddabdcd7a2dd",
    "colab": {
     "base_uri": "https://localhost:8080/",
     "height": 36
    }
   },
   "execution_count": null,
   "outputs": []
  },
  {
   "cell_type": "code",
   "source": [
    "from torch.utils.data import DataLoader\n",
    "\n",
    "train_dl = DataLoader(train_ds, batch_size=20, shuffle=True)"
   ],
   "metadata": {
    "id": "G_OAWDWMDb4I"
   },
   "execution_count": null,
   "outputs": []
  },
  {
   "cell_type": "markdown",
   "source": [
    "*Le* estamos diciendo a `DataLoader` que queremos lotes de 32 muestras (`batch_size`) y que el armado de los lotes sea aleatorio (`shuffle`)."
   ],
   "metadata": {
    "id": "DuKXZv-SDiuI"
   }
  },
  {
   "cell_type": "code",
   "source": [
    "def rellenar_documentos(lote, largos, índice_relleno):\n",
    "    máximo_largo = max(largos)\n",
    "\n",
    "    return [doc + [índice_relleno] * (máximo_largo - largos[i]) for i, doc in enumerate(lote)]"
   ],
   "metadata": {
    "id": "tt_QMHSzErCz"
   },
   "execution_count": null,
   "outputs": []
  },
  {
   "cell_type": "code",
   "source": [
    "class AtriDicc():\n",
    "    def __init__(self, *args, **kwargs):\n",
    "        self.__dict__ = dict(*args, **kwargs)\n",
    "\n",
    "    def __repr__(self):\n",
    "        return repr(self.__dict__)"
   ],
   "metadata": {
    "id": "A8F-llKhE1Xh"
   },
   "execution_count": null,
   "outputs": []
  },
  {
   "cell_type": "code",
   "source": [
    "from torch.utils.data import Dataset\n",
    "\n",
    "class Textset(Dataset):\n",
    "    def __init__(self, documentos, etiquetas=None):\n",
    "\n",
    "        self.documentos = documentos\n",
    "        self.etiquetas  = etiquetas or np.full(len(documentos), np.nan)\n",
    "\n",
    "    def __len__(self):\n",
    "        return len(self.documentos)\n",
    "\n",
    "    def __getitem__(self, item):\n",
    "        return AtriDicc(\n",
    "            documento = self.documentos[item],\n",
    "            largo = len(self.documentos[item]),\n",
    "            etiqueta =  self.etiquetas[item],\n",
    "        )"
   ],
   "metadata": {
    "id": "kt5xMZnMGqfl"
   },
   "execution_count": null,
   "outputs": []
  },
  {
   "cell_type": "code",
   "source": [
    "train_ds = Textset(train_índices, train_etiquetas_índices)\n",
    "len(train_ds)\n",
    "train_ds[400].documento[:10]"
   ],
   "metadata": {
    "id": "fL85hfOcG4du",
    "outputId": "f1d9ad0c-e4c7-4169-fc97-f993890da611",
    "colab": {
     "base_uri": "https://localhost:8080/"
    }
   },
   "execution_count": null,
   "outputs": []
  },
  {
   "cell_type": "markdown",
   "source": [
    "## Función *collate*\n",
    "\n",
    "*Collate* significa juntar diferentes piezas de información para ver sus similaridades y diferencias, también puede ser colectar y organizar las hojas de un reporte, un libro. En el contexto de `DataLoader` quiere decir arreglar el lote. Entonces esta función recibe una lista de elementos del `Dataset`, en nuestro caso una lista de de `AtriDicc`s, y debe devolver el lote en una forma útil y en lo posible realizar conversiones a tensores.\n",
    "\n",
    "`DataLoader` posee una *collate function* por defecto que utiliza internamente y que en muchos casos funciona correctamente, pero otros como ahora que tenemos documentos de distinto largo nos toca definir una función propia."
   ],
   "metadata": {
    "id": "0ZXZkZxVHMy_"
   }
  },
  {
   "cell_type": "code",
   "source": [
    "def rellenar_lote(lote):\n",
    "    \"\"\"Prepara lotes para ingresar a nn.Embedding\"\"\"\n",
    "    documentos = [elemento.documento for elemento in lote]\n",
    "    largos     = [elemento.largo     for elemento in lote]\n",
    "    etiquetas  = [elemento.etiqueta  for elemento in lote]\n",
    "\n",
    "    rellenos = rellenar_documentos(documentos, largos, v.índice_relleno)\n",
    "\n",
    "    return AtriDicc(\n",
    "        documentos = torch.tensor(rellenos),\n",
    "        etiquetas  = torch.tensor(etiquetas),\n",
    "    )"
   ],
   "metadata": {
    "id": "Lvff9ZMNHOBI"
   },
   "execution_count": null,
   "outputs": []
  },
  {
   "cell_type": "markdown",
   "source": [
    "Cuando instanciamos un `DataLoader` le pasamos la función que acabamos de definir."
   ],
   "metadata": {
    "id": "3_0EuJTcHTAe"
   }
  },
  {
   "cell_type": "code",
   "source": [
    "train_dl = DataLoader(train_ds, collate_fn=rellenar_lote, batch_size=3, shuffle=True)"
   ],
   "metadata": {
    "id": "YnRLplLEHTyq"
   },
   "execution_count": null,
   "outputs": []
  },
  {
   "cell_type": "code",
   "source": [
    "un_lote = next(iter(train_dl))\n",
    "un_lote.documentos"
   ],
   "metadata": {
    "id": "APqJ4M8THYZt",
    "outputId": "2076e473-f695-491e-a19e-918a731ad981",
    "colab": {
     "base_uri": "https://localhost:8080/"
    }
   },
   "execution_count": null,
   "outputs": []
  },
  {
   "cell_type": "code",
   "source": [
    "un_lote.etiquetas"
   ],
   "metadata": {
    "id": "_jblOdHLHcBX",
    "outputId": "32c1c564-7dc4-442f-c9e6-4349e3d5fd1f",
    "colab": {
     "base_uri": "https://localhost:8080/"
    }
   },
   "execution_count": null,
   "outputs": []
  },
  {
   "cell_type": "markdown",
   "metadata": {
    "id": "k8Uqgp1L5TS3"
   },
   "source": [
    "## Fuentes consultadas\n",
    "\n",
    "https://github.com/matiasbattocchia/datitos/blob/master/_notebooks/2020-07-23-Preprocesamiento-de-texto-para-NLP-parte-1.ipynb\n",
    "https://github.com/matiasbattocchia/datitos/blob/master/_notebooks/2020-07-30-Preprocesamiento-de-texto-para-NLP-parte-2.ipynb"
   ]
  }
 ],
 "metadata": {
  "environment": {
   "name": "pytorch-gpu.1-4.m50",
   "type": "gcloud",
   "uri": "gcr.io/deeplearning-platform-release/pytorch-gpu.1-4:m50"
  },
  "kernelspec": {
   "display_name": "Python 3",
   "language": "python",
   "name": "python3"
  },
  "language_info": {
   "codemirror_mode": {
    "name": "ipython",
    "version": 3
   },
   "file_extension": ".py",
   "mimetype": "text/x-python",
   "name": "python",
   "nbconvert_exporter": "python",
   "pygments_lexer": "ipython3",
   "version": "3.7.3"
  },
  "colab": {
   "provenance": [],
   "include_colab_link": true
  }
 },
 "nbformat": 4,
 "nbformat_minor": 0
}
