{
  "nbformat": 4,
  "nbformat_minor": 0,
  "metadata": {
    "colab": {
      "name": "Red_Neuronal_Python_Básico.ipynb",
      "provenance": [],
      "collapsed_sections": [],
      "authorship_tag": "ABX9TyPwl1nc6yasHKxEl1kpd36E",
      "include_colab_link": true
    },
    "kernelspec": {
      "name": "python3",
      "display_name": "Python 3"
    },
    "language_info": {
      "name": "python"
    }
  },
  "cells": [
    {
      "cell_type": "markdown",
      "metadata": {
        "id": "view-in-github",
        "colab_type": "text"
      },
      "source": [
        "<a href=\"https://colab.research.google.com/github/txusser/Master_IA_Sanidad/blob/main/2.3.1_Red_Neuronal_Python_B%C3%A1sico.ipynb\" target=\"_parent\"><img src=\"https://colab.research.google.com/assets/colab-badge.svg\" alt=\"Open In Colab\"/></a>"
      ]
    },
    {
      "cell_type": "markdown",
      "metadata": {
        "id": "_iiqN9XGrjx0"
      },
      "source": [
        "Importaciones de librerías necesarias"
      ]
    },
    {
      "cell_type": "code",
      "metadata": {
        "id": "AiEtvEwMrNnj"
      },
      "source": [
        "import numpy as np\n",
        "import scipy as sc\n",
        "import matplotlib.pyplot as plt\n",
        "\n",
        "from sklearn. datasets import make_circles"
      ],
      "execution_count": 1,
      "outputs": []
    },
    {
      "cell_type": "markdown",
      "metadata": {
        "id": "MFOasVPhr484"
      },
      "source": [
        "\n",
        "\n",
        "Creamos el dataset que vamos a tratar de clasificar y le echamos. Recordaremos que este problema no se puede solucionar con un perceptrón directamente, ya que las categorías no son separables de forma lineal\n"
      ]
    },
    {
      "cell_type": "code",
      "metadata": {
        "id": "KYMcuTocrzbb",
        "colab": {
          "base_uri": "https://localhost:8080/"
        },
        "outputId": "be15abef-6d65-4da4-8951-4de08e97a914"
      },
      "source": [
        "# Creamos el dataset\n",
        "\n",
        "n = 500 # Número de muestras\n",
        "p= 2 # Número de características por muestra\n",
        "\n",
        "X,Y = make_circles(n_samples=n, noise = 0.1, factor=0.5)\n",
        "Y = Y[:, np.newaxis]\n",
        "X.shape"
      ],
      "execution_count": 36,
      "outputs": [
        {
          "output_type": "execute_result",
          "data": {
            "text/plain": [
              "(500, 2)"
            ]
          },
          "metadata": {},
          "execution_count": 36
        }
      ]
    },
    {
      "cell_type": "code",
      "metadata": {
        "colab": {
          "base_uri": "https://localhost:8080/",
          "height": 265
        },
        "id": "bAv7lHRUrxr6",
        "outputId": "91aea472-f91d-4597-e4a2-7d6d1bead3ec"
      },
      "source": [
        "#Plot de las distintas partes del dataset que acabamos de crear\n",
        "\n",
        "plt.scatter(X[Y[:,0]==0,0], X[Y[:,0]==0,1], c=\"skyblue\")\n",
        "plt.scatter(X[Y[:,0]==1,0], X[Y[:,0]==1,1], c=\"orange\")\n",
        "plt.axis(\"equal\")\n",
        "plt.show()"
      ],
      "execution_count": 29,
      "outputs": [
        {
          "output_type": "display_data",
          "data": {
            "image/png": "[encoded data removed]",
            "text/plain": [
              "<Figure size 432x288 with 1 Axes>"
            ]
          },
          "metadata": {
            "needs_background": "light"
          }
        }
      ]
    },
    {
      "cell_type": "markdown",
      "metadata": {
        "id": "hBfcdvpqumA_"
      },
      "source": [
        "Ahora debemos crear la estructura de nuestra red neuronal. \n",
        "Vamos a empezar por crear una clase que defina cada capa de nuestra red. \n",
        "\n",
        "El parámetro número de conexiones (n_conn) se refiere al número de entradas (Conexiones desde la capa anterior). EL parámetro n_neur se refiere al número de neuronas de la capa actual."
      ]
    },
    {
      "cell_type": "code",
      "metadata": {
        "id": "SGE1vkSQufHs"
      },
      "source": [
        "class neural_layer():\n",
        "  def __init__(self, n_conn, n_neur, act_f):\n",
        "\n",
        "    self.act_f = act_f\n",
        "    self.b = np.random.rand(1, n_neur)*2 -1 # generamos aleatoriamente un vector con los bias de nuestra capa.\n",
        "                                        # Les asignamos un valor inicial aleatorio normalizado entre -1 y 1.\n",
        "    self.W = np.random.rand(n_conn, n_neur)*2-1 # Lo mismo con la matriz de pesos."
      ],
      "execution_count": 30,
      "outputs": []
    },
    {
      "cell_type": "markdown",
      "metadata": {
        "id": "hTOTu5BOwNEv"
      },
      "source": [
        "Creamos ahora nuestra función de activación. Implementamos tanto la función sigmoide como la función relu, para tenerlas disponibles posteriormente. Cada función incluye también su derivada, ya que como sabemos, vamos a necesitar la derivada de la función sigmoide a la hora de calcular el gradiente.\n",
        "\n",
        "Por ejemplo, en le función sigm tenemos un primer elemento\n",
        "\n",
        "1 / (1+ np.e ** (-x))\n",
        "\n",
        "para la función sigmoide, y un segundo término\n",
        "\n",
        "lambda x: x*(1-x)\n",
        "\n",
        "para su derivada. Podemos acceder a la función sigmoide o a su derivada haciendo simplemente sigm[0] y sigm[1]\n",
        "\n"
      ]
    },
    {
      "cell_type": "code",
      "metadata": {
        "colab": {
          "base_uri": "https://localhost:8080/",
          "height": 282
        },
        "id": "lpgnhx2hwMX3",
        "outputId": "a3f70148-99ad-40f0-b9aa-4ad80a466ec8"
      },
      "source": [
        "sigm = (lambda x: 1 / (1+ np.e ** (-x)), lambda x: x*(1-x))\n",
        "relu = (lambda x: x if x > 0 else 0, lambda x: 1 if x > 0 else 0)\n",
        "\n",
        "# Vamos a plotear ambas funciones para ver si está todo correcto\n",
        "_x = np.linspace(-5,5,100)\n",
        "y = [sigm[0](i) for i in _x]\n",
        "plt.plot(_x,y)"
      ],
      "execution_count": 31,
      "outputs": [
        {
          "output_type": "execute_result",
          "data": {
            "text/plain": [
              "[<matplotlib.lines.Line2D at 0x7f79a24a21d0>]"
            ]
          },
          "metadata": {},
          "execution_count": 31
        },
        {
          "output_type": "display_data",
          "data": {
            "image/png": "[encoded data removed]",
            "text/plain": [
              "<Figure size 432x288 with 1 Axes>"
            ]
          },
          "metadata": {
            "needs_background": "light"
          }
        }
      ]
    },
    {
      "cell_type": "code",
      "metadata": {
        "colab": {
          "base_uri": "https://localhost:8080/",
          "height": 282
        },
        "id": "25LOl4gQyiMa",
        "outputId": "e6055b90-9020-44db-8a73-370a4820618c"
      },
      "source": [
        "y = [relu[0](i) for i in _x]\n",
        "plt.plot(_x,y)"
      ],
      "execution_count": 32,
      "outputs": [
        {
          "output_type": "execute_result",
          "data": {
            "text/plain": [
              "[<matplotlib.lines.Line2D at 0x7f79a2380450>]"
            ]
          },
          "metadata": {},
          "execution_count": 32
        },
        {
          "output_type": "display_data",
          "data": {
            "image/png": "[encoded data removed]",
            "text/plain": [
              "<Figure size 432x288 with 1 Axes>"
            ]
          },
          "metadata": {
            "needs_background": "light"
          }
        }
      ]
    },
    {
      "cell_type": "markdown",
      "metadata": {
        "id": "Q9dA_5NU0b2r"
      },
      "source": [
        "Creamos ahora una clase que cree una red neuronal añadiendo capas. Vamos a crear una red neuronal con 5 capas internas, siendo p nuestro número de entradas, definido anteriormente, y 1 una capa de salida con una única neurona."
      ]
    },
    {
      "cell_type": "code",
      "metadata": {
        "id": "H5qkW-4T0LlH"
      },
      "source": [
        "\n",
        "\n",
        "def create_nn(topology, act_f):\n",
        "  \n",
        "  nn = []\n",
        "\n",
        "  for l, layer in enumerate(topology[:-1]):\n",
        "\n",
        "    nn.append(neural_layer(topology[l], topology[l+1], act_f))\n",
        "\n",
        "  return nn\n"
      ],
      "execution_count": 33,
      "outputs": []
    },
    {
      "cell_type": "markdown",
      "metadata": {
        "id": "YUQ4xDUH1z6V"
      },
      "source": [
        "Hasta ahora hemos sido capaces de crear una red neuronal. Sin embargo, no hemos creado nada de la lógica necesaria para entrenar a nuestra red neuronal. \n",
        "\n",
        "Como ya hablamos en el tema sobre redes neuronales, el entrenamiento de la red neuronal tiene 3 pasos diferenciados. \n",
        "\n",
        "1.   Un paso hacia adelante, en el que proporcionamos a la red variables de entrada, dejamos que la red los procese y obtenemos una salida.  \n",
        "2.   El segundo elemento sería, una vez tenemos una salida, la compararíamos con la salida esperada (Y), haciendo uso de una función de coste, que nos permitiría medir el error en nuestra red.\n",
        "3.   Finalmente, haríamos uso del backpropagation para propagar hacia atrás ese error, calculando las derivadas parciales y atribuyendo una parte de error a cada neurona, y las minimizaríamos haciendo uso del descenso del gradiente.\n",
        "\n",
        "\n",
        "\n",
        "\n"
      ]
    },
    {
      "cell_type": "code",
      "metadata": {
        "id": "o1cbrkp13hNt"
      },
      "source": [
        "# Definamos la función de coste como el error cuadrático medio, que vimos \n",
        "# en la parte teórica sobre redes neuronales\n",
        "\n",
        "l2_cost = (lambda Yp, Yr: np.mean((Yp-Yr)**2), lambda Yp, Yr: (Yp-Yr))\n",
        "\n",
        "def train(neural_net, X, Y, l2_cost,lr=0.5, train=True):\n",
        "\n",
        "  out = [(None,X)]\n",
        "  # Paso 1: Paso hacia adelante\n",
        "  for l, layer in enumerate(neural_net):\n",
        "\n",
        "    # Empezamos haciendo la suma ponderada\n",
        "    z = out[-1][1] @ neural_net[l].W + neural_net[l].b\n",
        "    # Ahora aplicamos la función de activación\n",
        "    a = neural_net[l].act_f[0](z)\n",
        "\n",
        "    out.append((z,a))\n",
        "\n",
        "  # El ultimo elemento del vector out contiene ahora la salida de la red para cada elemento. \n",
        "  # Paso 2: Ahora podemos utilizar la función de coste para calcular el error y actualizar los pesos\n",
        "  \n",
        "  if train:\n",
        "    \n",
        "    deltas = []\n",
        "\n",
        "    for l in reversed(range(0,len(neural_net))):\n",
        "\n",
        "      z = out[l+1][0]\n",
        "      a = out[l+1][1]\n",
        "\n",
        "\n",
        "      if l == len(neural_net) - 1:\n",
        "        # Paso 2: Calculamos el error con la función de coste en la última capa.\n",
        "        deltas.insert(0,l2_cost[1](a,Y) * neural_net[l].act_f[1](a))\n",
        "      else:\n",
        "        # Calculamos el error para el resto de las capas con la fórmula de backpropagation\n",
        "        deltas.insert(0,deltas[0] @ _W.T * neural_net[l].act_f[1](a))\n",
        "        \n",
        "        #Guardamos los pasos antes de utilizarlos para utilizarlos en la siguiente actualización\n",
        "      _W = neural_net[l].W\n",
        "\n",
        "      # Actualizamos los parámetros utilizando el descenso del gradiente\n",
        "      neural_net[l].b = neural_net[l].b - lr * np.mean(deltas[0], axis=0, keepdims=True)\n",
        "      neural_net[l].W = neural_net[l].W - lr * out[l][1].T @ deltas[0]\n",
        "    \n",
        "\n",
        "  return out[-1][1]\n",
        "\n",
        "\n",
        "\n"
      ],
      "execution_count": 37,
      "outputs": []
    },
    {
      "cell_type": "markdown",
      "metadata": {
        "id": "bNKrDaVGQiPS"
      },
      "source": [
        "Ahora que hemos implementado el proceso de entrenamiento, vamos a iterar para actualizar iterativamente los pesos. LLegado el momento, nuestra red neuronal habrá encontrado una solución para el problema.\n",
        "\n",
        "Aunque el código mostrado a continuación parece largo y complejo, la parte importante, y que se encargará del entrenamiento, es la siguiente:\n",
        "\n",
        "for i in range(5000):\n",
        "\n",
        "  pY = train(neural_net, X, Y, l2_cost, lr=0.025)"
      ]
    },
    {
      "cell_type": "code",
      "metadata": {
        "colab": {
          "base_uri": "https://localhost:8080/",
          "height": 517
        },
        "id": "jic3bdlLCGY7",
        "outputId": "7617787d-389a-427f-e62f-85cbad680565"
      },
      "source": [
        "# Vamos a probar nuestra red neuronal\n",
        "\n",
        "import time\n",
        "from IPython.display import clear_output\n",
        "\n",
        "topology = [p,4,8,4,1]\n",
        "neural_net = create_nn(topology, sigm)\n",
        "\n",
        "loss = []\n",
        "\n",
        "for i in range(5000):\n",
        "\n",
        "  #Iteramos sobre el proceso de entrenamiento!\n",
        "\n",
        "  pY = train(neural_net, X, Y, l2_cost, lr=0.025)\n",
        "\n",
        "  if i % 25 == 0:\n",
        "\n",
        "    loss.append(l2_cost[0](pY,Y))\n",
        "\n",
        "    print(loss[-1])\n",
        "\n",
        "    res = 50\n",
        "\n",
        "    _x0 = np.linspace(-1.5, 1.5, res)\n",
        "    _x1 = np.linspace(-1.5 ,1.5, res)\n",
        "\n",
        "    _Y = np.zeros((res,res))\n",
        "\n",
        "    for i0, x0 in enumerate(_x0):\n",
        "      for i1, x1 in enumerate(_x1):\n",
        "        _Y[i0,i1] = train(neural_net, np.array([[x0,x1]]), Y, l2_cost, train=False)[0][0]\n",
        "    plt.pcolormesh(_x0,_x1,_Y, cmap=\"coolwarm\")\n",
        "    plt.axis(\"equal\")\n",
        "\n",
        "    plt.scatter(X[Y[:,0]==0,0], X[Y[:,0]==0,1], c=\"skyblue\")\n",
        "    plt.scatter(X[Y[:,0]==1,0], X[Y[:,0]==1,1], c=\"orange\")\n",
        "\n",
        "    clear_output(wait=True)\n",
        "    plt.show()\n",
        "    plt.plot(range(len(loss)), loss)\n",
        "    plt.show()\n",
        "    time.sleep(0.5)\n"
      ],
      "execution_count": 49,
      "outputs": [
        {
          "output_type": "display_data",
          "data": {
            "image/png": "[encoded data removed]",
            "text/plain": [
              "<Figure size 432x288 with 1 Axes>"
            ]
          },
          "metadata": {
            "needs_background": "light"
          }
        },
        {
          "output_type": "display_data",
          "data": {
            "image/png": "[encoded data removed]",
            "text/plain": [
              "<Figure size 432x288 with 1 Axes>"
            ]
          },
          "metadata": {
            "needs_background": "light"
          }
        }
      ]
    },
    {
      "cell_type": "code",
      "metadata": {
        "id": "WIl4w0wREab4"
      },
      "source": [
        ""
      ],
      "execution_count": null,
      "outputs": []
    }
  ]
}