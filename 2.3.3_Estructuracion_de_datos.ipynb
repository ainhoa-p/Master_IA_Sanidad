{
  "nbformat": 4,
  "nbformat_minor": 0,
  "metadata": {
    "colab": {
      "name": "Prueba.ipynb",
      "provenance": [],
      "collapsed_sections": [],
      "authorship_tag": "ABX9TyOXUvcG/F6+6B6bDyylemXv",
      "include_colab_link": true
    },
    "kernelspec": {
      "name": "python3",
      "display_name": "Python 3"
    },
    "language_info": {
      "name": "python"
    }
  },
  "cells": [
    {
      "cell_type": "markdown",
      "metadata": {
        "id": "view-in-github",
        "colab_type": "text"
      },
      "source": [
        "<a href=\"https://colab.research.google.com/github/txusser/Master_IA_Sanidad/blob/main/2.3.3_Estructuracion_de_datos.ipynb\" target=\"_parent\"><img src=\"https://colab.research.google.com/assets/colab-badge.svg\" alt=\"Open In Colab\"/></a>"
      ]
    },
    {
      "cell_type": "code",
      "metadata": {
        "id": "N397bcG_dLEP"
      },
      "source": [
        "# 2.3.3 Estructuración de datos\n",
        "\"\"\"\n",
        "En este módulo realizaremos ejerciocios relacionados con la estructuración de datos\n",
        "\"\"\"\n",
        "\n",
        "import pandas as pd\n",
        "import numpy as np\n",
        "\n",
        "valores = np.randint(0, 10, 20)\n",
        "\n",
        "print(\"valores:\", valores)\n",
        "\n",
        "data = {'datos': valores}\n",
        "\n",
        "print(\"data:\", data)\n",
        "print(\"typo de estructura:\", type(data))\n",
        "\n",
        "# "
      ],
      "execution_count": null,
      "outputs": []
    }
  ]
}