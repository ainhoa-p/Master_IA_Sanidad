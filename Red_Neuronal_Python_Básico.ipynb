{
  "nbformat": 4,
  "nbformat_minor": 0,
  "metadata": {
    "colab": {
      "name": "Red_Neuronal_Python_Básico.ipynb",
      "provenance": [],
      "collapsed_sections": [],
      "authorship_tag": "ABX9TyOTMsbLAqOJu9fcFhgZwQAY",
      "include_colab_link": true
    },
    "kernelspec": {
      "name": "python3",
      "display_name": "Python 3"
    },
    "language_info": {
      "name": "python"
    }
  },
  "cells": [
    {
      "cell_type": "markdown",
      "metadata": {
        "id": "view-in-github",
        "colab_type": "text"
      },
      "source": [
        "<a href=\"https://colab.research.google.com/github/txusser/Master_IA_Sanidad/blob/main/Red_Neuronal_Python_B%C3%A1sico.ipynb\" target=\"_parent\"><img src=\"https://colab.research.google.com/assets/colab-badge.svg\" alt=\"Open In Colab\"/></a>"
      ]
    },
    {
      "cell_type": "markdown",
      "metadata": {
        "id": "_iiqN9XGrjx0"
      },
      "source": [
        "Importaciones de librerías necesarias"
      ]
    },
    {
      "cell_type": "code",
      "metadata": {
        "id": "AiEtvEwMrNnj"
      },
      "source": [
        "import numpy as np\n",
        "import scipy as sc\n",
        "import matplotlib.pyplot as plt\n",
        "\n",
        "from sklearn. datasets import make_circles"
      ],
      "execution_count": 2,
      "outputs": []
    },
    {
      "cell_type": "markdown",
      "metadata": {
        "id": "MFOasVPhr484"
      },
      "source": [
        "\n",
        "\n",
        "Creamos el dataset que vamos a tratar de clasificar y le echamos. Recordaremos que este problema no se puede solucionar con un perceptrón directamente, ya que las categorías no son separables de forma lineal\n"
      ]
    },
    {
      "cell_type": "code",
      "metadata": {
        "id": "KYMcuTocrzbb"
      },
      "source": [
        "# Creamos el dataset\n",
        "\n",
        "n = 500 # Número de muestras\n",
        "p= 2 # Número de características por muestra\n",
        "\n",
        "X,Y = make_circles(n_samples=n, noise = 0.1, factor=0.5)\n",
        "\n"
      ],
      "execution_count": 11,
      "outputs": []
    },
    {
      "cell_type": "code",
      "metadata": {
        "colab": {
          "base_uri": "https://localhost:8080/",
          "height": 265
        },
        "id": "bAv7lHRUrxr6",
        "outputId": "ef08c2fd-9199-441c-ea92-3394a189cfaf"
      },
      "source": [
        "#Plot de las distintas partes del dataset que acabamos de crear\n",
        "\n",
        "plt.scatter(X[Y==0,0], X[Y==0,1], c=\"skyblue\")\n",
        "plt.scatter(X[Y==1,0], X[Y==1,1], c=\"orange\")\n",
        "plt.axis(\"equal\")\n",
        "plt.show()"
      ],
      "execution_count": 12,
      "outputs": [
        {
          "output_type": "display_data",
          "data": {
            "image/png": "[encoded data removed]",
            "text/plain": [
              "<Figure size 432x288 with 1 Axes>"
            ]
          },
          "metadata": {
            "needs_background": "light"
          }
        }
      ]
    },
    {
      "cell_type": "markdown",
      "metadata": {
        "id": "hBfcdvpqumA_"
      },
      "source": [
        "Ahora debemos crear la estructura de nuestra red neuronal. \n",
        "Vamos a empezar por crear una clase que defina cada capa de nuestra red. \n",
        "\n",
        "El parámetro número de conexiones (n_conn) se refiere al número de entradas (Conexiones desde la capa anterior). EL parámetro n_neur se refiere al número de neuronas de la capa actual."
      ]
    },
    {
      "cell_type": "code",
      "metadata": {
        "id": "SGE1vkSQufHs"
      },
      "source": [
        "class neural_layer():\n",
        "  def __init__(self, n_conn, n_neur, act_f):\n",
        "\n",
        "    self.act_f = act_f\n",
        "    self.b = np.random.rand(1, n_neur)*2 -1 # generamos aleatoriamente un vector con los bias de nuestra capa.\n",
        "                                        # Les asignamos un valor inicial aleatorio normalizado entre -1 y 1.\n",
        "    self.W = np.random.rand(n_conn, n_neur)*2-1 # Lo mismo con la matriz de pesos."
      ],
      "execution_count": 13,
      "outputs": []
    },
    {
      "cell_type": "markdown",
      "metadata": {
        "id": "hTOTu5BOwNEv"
      },
      "source": [
        "Creamos ahora nuestra función de activación. Implementamos tanto la función sigmoide como la función relu, para tenerlas disponibles posteriormente. Cada función incluye también su derivada, ya que como sabemos, vamos a necesitar la derivada de la función sigmoide a la hora de calcular el gradiente.\n",
        "\n",
        "Por ejemplo, en le función sigm tenemos un primer elemento\n",
        "\n",
        "1 / (1+ np.e ** (-x))\n",
        "\n",
        "para la función sigmoide, y un segundo término\n",
        "\n",
        "lambda x: x*(1-x)\n",
        "\n",
        "para su derivada. Podemos acceder a la función sigmoide o a su derivada haciendo simplemente sigm[0] y sigm[1]\n",
        "\n"
      ]
    },
    {
      "cell_type": "code",
      "metadata": {
        "colab": {
          "base_uri": "https://localhost:8080/",
          "height": 282
        },
        "id": "lpgnhx2hwMX3",
        "outputId": "82c58f22-6d3d-4946-8a89-00396b15f4c5"
      },
      "source": [
        "sigm = (lambda x: 1 / (1+ np.e ** (-x)), lambda x: x*(1-x))\n",
        "relu = (lambda x: x if x > 0 else 0, lambda x: 1 if x > 0 else 0)\n",
        "\n",
        "# Vamos a plotear ambas funciones para ver si está todo correcto\n",
        "_x = np.linspace(-5,5,100)\n",
        "y = [sigm[0](i) for i in _x]\n",
        "plt.plot(_x,y)"
      ],
      "execution_count": 26,
      "outputs": [
        {
          "output_type": "execute_result",
          "data": {
            "text/plain": [
              "[<matplotlib.lines.Line2D at 0x7ff17a870f50>]"
            ]
          },
          "metadata": {},
          "execution_count": 26
        },
        {
          "output_type": "display_data",
          "data": {
            "image/png": "[encoded data removed]",
            "text/plain": [
              "<Figure size 432x288 with 1 Axes>"
            ]
          },
          "metadata": {
            "needs_background": "light"
          }
        }
      ]
    },
    {
      "cell_type": "code",
      "metadata": {
        "colab": {
          "base_uri": "https://localhost:8080/",
          "height": 282
        },
        "id": "25LOl4gQyiMa",
        "outputId": "97cbbada-fa0c-414d-dacf-782e7a016480"
      },
      "source": [
        "y = [relu[0](i) for i in _x]\n",
        "plt.plot(_x,y)"
      ],
      "execution_count": 27,
      "outputs": [
        {
          "output_type": "execute_result",
          "data": {
            "text/plain": [
              "[<matplotlib.lines.Line2D at 0x7ff17a7e7250>]"
            ]
          },
          "metadata": {},
          "execution_count": 27
        },
        {
          "output_type": "display_data",
          "data": {
            "image/png": "[encoded data removed]",
            "text/plain": [
              "<Figure size 432x288 with 1 Axes>"
            ]
          },
          "metadata": {
            "needs_background": "light"
          }
        }
      ]
    }
  ]
}