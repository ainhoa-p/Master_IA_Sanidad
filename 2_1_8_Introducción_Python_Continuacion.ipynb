{
  "nbformat": 4,
  "nbformat_minor": 0,
  "metadata": {
    "colab": {
      "provenance": [],
      "authorship_tag": "ABX9TyNQ6j6NwzLrUaZf12v3CwwK",
      "include_colab_link": true
    },
    "kernelspec": {
      "name": "python3",
      "display_name": "Python 3"
    },
    "language_info": {
      "name": "python"
    }
  },
  "cells": [
    {
      "cell_type": "markdown",
      "metadata": {
        "id": "view-in-github",
        "colab_type": "text"
      },
      "source": [
        "<a href=\"https://colab.research.google.com/github/txusser/Master_IA_Sanidad/blob/main/2_1_8_Introducci%C3%B3n_Python_Continuacion.ipynb\" target=\"_parent\"><img src=\"https://colab.research.google.com/assets/colab-badge.svg\" alt=\"Open In Colab\"/></a>"
      ]
    },
    {
      "cell_type": "markdown",
      "source": [
        "## Carga de datos\n"
      ],
      "metadata": {
        "id": "kmrPaVqLrRsC"
      }
    },
    {
      "cell_type": "code",
      "source": [
        "# Usaremos rich para enriquecer la impresión por pantalla\n",
        "import pandas as pd\n",
        "import numpy as np\n",
        "import io\n",
        "from google.colab import files\n",
        "\n",
        "from rich import print as rprint\n",
        "from rich.console import Console\n",
        "from rich.panel import Panel\n",
        "from rich.syntax import Syntax\n",
        "\n",
        "# Configuración de Rich\n",
        "console = Console()\n",
        "\n",
        "# Configuración para mostrar más columnas y filas\n",
        "pd.set_option('display.max_columns', None)\n",
        "pd.set_option('display.max_rows', 10)\n",
        "\n",
        "console.rule(\"[bold]Carga de datos en Colab (Pandas) [/bold]\")\n",
        "\n",
        "mi_archivo = '/content/sample_data/california_housing_test.csv'\n",
        "print(\"mi_archivo:\", mi_archivo)\n",
        "\n",
        "df = pd.read_csv(mi_archivo)\n",
        "print(df)\n",
        "\n",
        "print(\"Primeras filas del DataFrame cargado desde CSV:\")\n",
        "print(df.head())\n",
        "print(\"\\nInformación del DataFrame:\")\n",
        "print(df.info())\n",
        "\n",
        "\n"
      ],
      "metadata": {
        "colab": {
          "base_uri": "https://localhost:8080/",
          "height": 1000
        },
        "id": "s3InGJ4krUER",
        "outputId": "8dc3ac4b-9dba-486a-fba1-a20b778ae2a0"
      },
      "execution_count": 8,
      "outputs": [
        {
          "output_type": "display_data",
          "data": {
            "text/plain": [
              "\u001b[92m──────────────────────────────────────── \u001b[0m\u001b[1mCarga de datos en Colab \u001b[0m\u001b[1m(\u001b[0m\u001b[1mPandas\u001b[0m\u001b[1m)\u001b[0m\u001b[1m \u001b[0m\u001b[92m ────────────────────────────────────────\u001b[0m\n"
            ],
            "text/html": [
              "<pre style=\"white-space:pre;overflow-x:auto;line-height:normal;font-family:Menlo,'DejaVu Sans Mono',consolas,'Courier New',monospace\"><span style=\"color: #00ff00; text-decoration-color: #00ff00\">──────────────────────────────────────── </span><span style=\"font-weight: bold\">Carga de datos en Colab (Pandas) </span><span style=\"color: #00ff00; text-decoration-color: #00ff00\"> ────────────────────────────────────────</span>\n",
              "</pre>\n"
            ]
          },
          "metadata": {}
        },
        {
          "output_type": "stream",
          "name": "stdout",
          "text": [
            "mi_archivo: /content/sample_data/california_housing_test.csv\n",
            "      longitude  latitude  housing_median_age  total_rooms  total_bedrooms  \\\n",
            "0       -122.05     37.37                27.0       3885.0           661.0   \n",
            "1       -118.30     34.26                43.0       1510.0           310.0   \n",
            "2       -117.81     33.78                27.0       3589.0           507.0   \n",
            "3       -118.36     33.82                28.0         67.0            15.0   \n",
            "4       -119.67     36.33                19.0       1241.0           244.0   \n",
            "...         ...       ...                 ...          ...             ...   \n",
            "2995    -119.86     34.42                23.0       1450.0           642.0   \n",
            "2996    -118.14     34.06                27.0       5257.0          1082.0   \n",
            "2997    -119.70     36.30                10.0        956.0           201.0   \n",
            "2998    -117.12     34.10                40.0         96.0            14.0   \n",
            "2999    -119.63     34.42                42.0       1765.0           263.0   \n",
            "\n",
            "      population  households  median_income  median_house_value  \n",
            "0         1537.0       606.0         6.6085            344700.0  \n",
            "1          809.0       277.0         3.5990            176500.0  \n",
            "2         1484.0       495.0         5.7934            270500.0  \n",
            "3           49.0        11.0         6.1359            330000.0  \n",
            "4          850.0       237.0         2.9375             81700.0  \n",
            "...          ...         ...            ...                 ...  \n",
            "2995      1258.0       607.0         1.1790            225000.0  \n",
            "2996      3496.0      1036.0         3.3906            237200.0  \n",
            "2997       693.0       220.0         2.2895             62000.0  \n",
            "2998        46.0        14.0         3.2708            162500.0  \n",
            "2999       753.0       260.0         8.5608            500001.0  \n",
            "\n",
            "[3000 rows x 9 columns]\n",
            "Primeras filas del DataFrame cargado desde CSV:\n",
            "   longitude  latitude  housing_median_age  total_rooms  total_bedrooms  \\\n",
            "0    -122.05     37.37                27.0       3885.0           661.0   \n",
            "1    -118.30     34.26                43.0       1510.0           310.0   \n",
            "2    -117.81     33.78                27.0       3589.0           507.0   \n",
            "3    -118.36     33.82                28.0         67.0            15.0   \n",
            "4    -119.67     36.33                19.0       1241.0           244.0   \n",
            "\n",
            "   population  households  median_income  median_house_value  \n",
            "0      1537.0       606.0         6.6085            344700.0  \n",
            "1       809.0       277.0         3.5990            176500.0  \n",
            "2      1484.0       495.0         5.7934            270500.0  \n",
            "3        49.0        11.0         6.1359            330000.0  \n",
            "4       850.0       237.0         2.9375             81700.0  \n",
            "\n",
            "Información del DataFrame:\n",
            "<class 'pandas.core.frame.DataFrame'>\n",
            "RangeIndex: 3000 entries, 0 to 2999\n",
            "Data columns (total 9 columns):\n",
            " #   Column              Non-Null Count  Dtype  \n",
            "---  ------              --------------  -----  \n",
            " 0   longitude           3000 non-null   float64\n",
            " 1   latitude            3000 non-null   float64\n",
            " 2   housing_median_age  3000 non-null   float64\n",
            " 3   total_rooms         3000 non-null   float64\n",
            " 4   total_bedrooms      3000 non-null   float64\n",
            " 5   population          3000 non-null   float64\n",
            " 6   households          3000 non-null   float64\n",
            " 7   median_income       3000 non-null   float64\n",
            " 8   median_house_value  3000 non-null   float64\n",
            "dtypes: float64(9)\n",
            "memory usage: 211.1 KB\n",
            "None\n"
          ]
        }
      ]
    },
    {
      "cell_type": "code",
      "source": [
        "# Función para imprimir código con resaltado de sintaxis\n",
        "def print_code(code, language=\"python\"):\n",
        "    syntax = Syntax(code, language, theme=\"monokai\", line_numbers=True)\n",
        "    console.print(syntax)\n",
        "\n",
        "# Carga de CSV\n",
        "console.print(Panel(\"Carga de archivo CSV\", style=\"cyan\"))\n",
        "csv_file = '/content/sample_data/california_housing_test.csv'\n",
        "print_code(f\"df_csv = pd.read_csv('{csv_file}')\")\n",
        "df_csv = pd.read_csv(csv_file)\n",
        "console.print(df_csv.head())"
      ],
      "metadata": {
        "colab": {
          "base_uri": "https://localhost:8080/",
          "height": 372
        },
        "id": "uRV_SNJirISh",
        "outputId": "07961cef-8bf8-43c6-adf1-6c8eb476c16d"
      },
      "execution_count": 9,
      "outputs": [
        {
          "output_type": "display_data",
          "data": {
            "text/plain": [
              "\u001b[36m╭─────────────────────────────────────────────────────────────────────────────────────────────────────────────────╮\u001b[0m\n",
              "\u001b[36m│\u001b[0m\u001b[36m \u001b[0m\u001b[36mCarga de archivo CSV\u001b[0m\u001b[36m                                                                                           \u001b[0m\u001b[36m \u001b[0m\u001b[36m│\u001b[0m\n",
              "\u001b[36m╰─────────────────────────────────────────────────────────────────────────────────────────────────────────────────╯\u001b[0m\n"
            ],
            "text/html": [
              "<pre style=\"white-space:pre;overflow-x:auto;line-height:normal;font-family:Menlo,'DejaVu Sans Mono',consolas,'Courier New',monospace\"><span style=\"color: #008080; text-decoration-color: #008080\">╭─────────────────────────────────────────────────────────────────────────────────────────────────────────────────╮</span>\n",
              "<span style=\"color: #008080; text-decoration-color: #008080\">│ Carga de archivo CSV                                                                                            │</span>\n",
              "<span style=\"color: #008080; text-decoration-color: #008080\">╰─────────────────────────────────────────────────────────────────────────────────────────────────────────────────╯</span>\n",
              "</pre>\n"
            ]
          },
          "metadata": {}
        },
        {
          "output_type": "display_data",
          "data": {
            "text/plain": [
              "\u001b[1;38;2;227;227;221;48;2;39;40;34m  \u001b[0m\u001b[38;2;101;102;96;48;2;39;40;34m1 \u001b[0m\u001b[38;2;248;248;242;48;2;39;40;34mdf_csv\u001b[0m\u001b[38;2;248;248;242;48;2;39;40;34m \u001b[0m\u001b[38;2;255;70;137;48;2;39;40;34m=\u001b[0m\u001b[38;2;248;248;242;48;2;39;40;34m \u001b[0m\u001b[38;2;248;248;242;48;2;39;40;34mpd\u001b[0m\u001b[38;2;255;70;137;48;2;39;40;34m.\u001b[0m\u001b[38;2;248;248;242;48;2;39;40;34mread_csv\u001b[0m\u001b[38;2;248;248;242;48;2;39;40;34m(\u001b[0m\u001b[38;2;230;219;116;48;2;39;40;34m'\u001b[0m\u001b[38;2;230;219;116;48;2;39;40;34m/content/sample_data/california_housing_test.csv\u001b[0m\u001b[38;2;230;219;116;48;2;39;40;34m'\u001b[0m\u001b[38;2;248;248;242;48;2;39;40;34m)\u001b[0m\u001b[48;2;39;40;34m                                       \u001b[0m\n"
            ],
            "text/html": [
              "<pre style=\"white-space:pre;overflow-x:auto;line-height:normal;font-family:Menlo,'DejaVu Sans Mono',consolas,'Courier New',monospace\"><span style=\"color: #e3e3dd; text-decoration-color: #e3e3dd; background-color: #272822; font-weight: bold\">  </span><span style=\"color: #656660; text-decoration-color: #656660; background-color: #272822\">1 </span><span style=\"color: #f8f8f2; text-decoration-color: #f8f8f2; background-color: #272822\">df_csv </span><span style=\"color: #ff4689; text-decoration-color: #ff4689; background-color: #272822\">=</span><span style=\"color: #f8f8f2; text-decoration-color: #f8f8f2; background-color: #272822\"> pd</span><span style=\"color: #ff4689; text-decoration-color: #ff4689; background-color: #272822\">.</span><span style=\"color: #f8f8f2; text-decoration-color: #f8f8f2; background-color: #272822\">read_csv(</span><span style=\"color: #e6db74; text-decoration-color: #e6db74; background-color: #272822\">'/content/sample_data/california_housing_test.csv'</span><span style=\"color: #f8f8f2; text-decoration-color: #f8f8f2; background-color: #272822\">)</span><span style=\"background-color: #272822\">                                       </span>\n",
              "</pre>\n"
            ]
          },
          "metadata": {}
        },
        {
          "output_type": "display_data",
          "data": {
            "text/plain": [
              "   longitude  latitude  housing_median_age  total_rooms  total_bedrooms  \\\n",
              "\u001b[1;36m0\u001b[0m    \u001b[1;36m-122.05\u001b[0m     \u001b[1;36m37.37\u001b[0m                \u001b[1;36m27.0\u001b[0m       \u001b[1;36m3885.0\u001b[0m           \u001b[1;36m661.0\u001b[0m   \n",
              "\u001b[1;36m1\u001b[0m    \u001b[1;36m-118.30\u001b[0m     \u001b[1;36m34.26\u001b[0m                \u001b[1;36m43.0\u001b[0m       \u001b[1;36m1510.0\u001b[0m           \u001b[1;36m310.0\u001b[0m   \n",
              "\u001b[1;36m2\u001b[0m    \u001b[1;36m-117.81\u001b[0m     \u001b[1;36m33.78\u001b[0m                \u001b[1;36m27.0\u001b[0m       \u001b[1;36m3589.0\u001b[0m           \u001b[1;36m507.0\u001b[0m   \n",
              "\u001b[1;36m3\u001b[0m    \u001b[1;36m-118.36\u001b[0m     \u001b[1;36m33.82\u001b[0m                \u001b[1;36m28.0\u001b[0m         \u001b[1;36m67.0\u001b[0m            \u001b[1;36m15.0\u001b[0m   \n",
              "\u001b[1;36m4\u001b[0m    \u001b[1;36m-119.67\u001b[0m     \u001b[1;36m36.33\u001b[0m                \u001b[1;36m19.0\u001b[0m       \u001b[1;36m1241.0\u001b[0m           \u001b[1;36m244.0\u001b[0m   \n",
              "\n",
              "   population  households  median_income  median_house_value  \n",
              "\u001b[1;36m0\u001b[0m      \u001b[1;36m1537.0\u001b[0m       \u001b[1;36m606.0\u001b[0m         \u001b[1;36m6.6085\u001b[0m            \u001b[1;36m344700.0\u001b[0m  \n",
              "\u001b[1;36m1\u001b[0m       \u001b[1;36m809.0\u001b[0m       \u001b[1;36m277.0\u001b[0m         \u001b[1;36m3.5990\u001b[0m            \u001b[1;36m176500.0\u001b[0m  \n",
              "\u001b[1;36m2\u001b[0m      \u001b[1;36m1484.0\u001b[0m       \u001b[1;36m495.0\u001b[0m         \u001b[1;36m5.7934\u001b[0m            \u001b[1;36m270500.0\u001b[0m  \n",
              "\u001b[1;36m3\u001b[0m        \u001b[1;36m49.0\u001b[0m        \u001b[1;36m11.0\u001b[0m         \u001b[1;36m6.1359\u001b[0m            \u001b[1;36m330000.0\u001b[0m  \n",
              "\u001b[1;36m4\u001b[0m       \u001b[1;36m850.0\u001b[0m       \u001b[1;36m237.0\u001b[0m         \u001b[1;36m2.9375\u001b[0m             \u001b[1;36m81700.0\u001b[0m  \n"
            ],
            "text/html": [
              "<pre style=\"white-space:pre;overflow-x:auto;line-height:normal;font-family:Menlo,'DejaVu Sans Mono',consolas,'Courier New',monospace\">   longitude  latitude  housing_median_age  total_rooms  total_bedrooms  \\\n",
              "<span style=\"color: #008080; text-decoration-color: #008080; font-weight: bold\">0</span>    <span style=\"color: #008080; text-decoration-color: #008080; font-weight: bold\">-122.05</span>     <span style=\"color: #008080; text-decoration-color: #008080; font-weight: bold\">37.37</span>                <span style=\"color: #008080; text-decoration-color: #008080; font-weight: bold\">27.0</span>       <span style=\"color: #008080; text-decoration-color: #008080; font-weight: bold\">3885.0</span>           <span style=\"color: #008080; text-decoration-color: #008080; font-weight: bold\">661.0</span>   \n",
              "<span style=\"color: #008080; text-decoration-color: #008080; font-weight: bold\">1</span>    <span style=\"color: #008080; text-decoration-color: #008080; font-weight: bold\">-118.30</span>     <span style=\"color: #008080; text-decoration-color: #008080; font-weight: bold\">34.26</span>                <span style=\"color: #008080; text-decoration-color: #008080; font-weight: bold\">43.0</span>       <span style=\"color: #008080; text-decoration-color: #008080; font-weight: bold\">1510.0</span>           <span style=\"color: #008080; text-decoration-color: #008080; font-weight: bold\">310.0</span>   \n",
              "<span style=\"color: #008080; text-decoration-color: #008080; font-weight: bold\">2</span>    <span style=\"color: #008080; text-decoration-color: #008080; font-weight: bold\">-117.81</span>     <span style=\"color: #008080; text-decoration-color: #008080; font-weight: bold\">33.78</span>                <span style=\"color: #008080; text-decoration-color: #008080; font-weight: bold\">27.0</span>       <span style=\"color: #008080; text-decoration-color: #008080; font-weight: bold\">3589.0</span>           <span style=\"color: #008080; text-decoration-color: #008080; font-weight: bold\">507.0</span>   \n",
              "<span style=\"color: #008080; text-decoration-color: #008080; font-weight: bold\">3</span>    <span style=\"color: #008080; text-decoration-color: #008080; font-weight: bold\">-118.36</span>     <span style=\"color: #008080; text-decoration-color: #008080; font-weight: bold\">33.82</span>                <span style=\"color: #008080; text-decoration-color: #008080; font-weight: bold\">28.0</span>         <span style=\"color: #008080; text-decoration-color: #008080; font-weight: bold\">67.0</span>            <span style=\"color: #008080; text-decoration-color: #008080; font-weight: bold\">15.0</span>   \n",
              "<span style=\"color: #008080; text-decoration-color: #008080; font-weight: bold\">4</span>    <span style=\"color: #008080; text-decoration-color: #008080; font-weight: bold\">-119.67</span>     <span style=\"color: #008080; text-decoration-color: #008080; font-weight: bold\">36.33</span>                <span style=\"color: #008080; text-decoration-color: #008080; font-weight: bold\">19.0</span>       <span style=\"color: #008080; text-decoration-color: #008080; font-weight: bold\">1241.0</span>           <span style=\"color: #008080; text-decoration-color: #008080; font-weight: bold\">244.0</span>   \n",
              "\n",
              "   population  households  median_income  median_house_value  \n",
              "<span style=\"color: #008080; text-decoration-color: #008080; font-weight: bold\">0</span>      <span style=\"color: #008080; text-decoration-color: #008080; font-weight: bold\">1537.0</span>       <span style=\"color: #008080; text-decoration-color: #008080; font-weight: bold\">606.0</span>         <span style=\"color: #008080; text-decoration-color: #008080; font-weight: bold\">6.6085</span>            <span style=\"color: #008080; text-decoration-color: #008080; font-weight: bold\">344700.0</span>  \n",
              "<span style=\"color: #008080; text-decoration-color: #008080; font-weight: bold\">1</span>       <span style=\"color: #008080; text-decoration-color: #008080; font-weight: bold\">809.0</span>       <span style=\"color: #008080; text-decoration-color: #008080; font-weight: bold\">277.0</span>         <span style=\"color: #008080; text-decoration-color: #008080; font-weight: bold\">3.5990</span>            <span style=\"color: #008080; text-decoration-color: #008080; font-weight: bold\">176500.0</span>  \n",
              "<span style=\"color: #008080; text-decoration-color: #008080; font-weight: bold\">2</span>      <span style=\"color: #008080; text-decoration-color: #008080; font-weight: bold\">1484.0</span>       <span style=\"color: #008080; text-decoration-color: #008080; font-weight: bold\">495.0</span>         <span style=\"color: #008080; text-decoration-color: #008080; font-weight: bold\">5.7934</span>            <span style=\"color: #008080; text-decoration-color: #008080; font-weight: bold\">270500.0</span>  \n",
              "<span style=\"color: #008080; text-decoration-color: #008080; font-weight: bold\">3</span>        <span style=\"color: #008080; text-decoration-color: #008080; font-weight: bold\">49.0</span>        <span style=\"color: #008080; text-decoration-color: #008080; font-weight: bold\">11.0</span>         <span style=\"color: #008080; text-decoration-color: #008080; font-weight: bold\">6.1359</span>            <span style=\"color: #008080; text-decoration-color: #008080; font-weight: bold\">330000.0</span>  \n",
              "<span style=\"color: #008080; text-decoration-color: #008080; font-weight: bold\">4</span>       <span style=\"color: #008080; text-decoration-color: #008080; font-weight: bold\">850.0</span>       <span style=\"color: #008080; text-decoration-color: #008080; font-weight: bold\">237.0</span>         <span style=\"color: #008080; text-decoration-color: #008080; font-weight: bold\">2.9375</span>             <span style=\"color: #008080; text-decoration-color: #008080; font-weight: bold\">81700.0</span>  \n",
              "</pre>\n"
            ]
          },
          "metadata": {}
        }
      ]
    },
    {
      "cell_type": "code",
      "source": [
        "# Carga de datos Excel\n",
        "\n",
        "console.rule(\"Carga de Excel\")\n",
        "\n",
        "# Colab no tiene archivos Excel de ejemplo, así que crearemos uno\n",
        "excel_data = pd.DataFrame({\n",
        "    'Nombre': ['Ana', 'Juan', 'María'],\n",
        "    'Edad': [25, 30, 28],\n",
        "    'Ciudad': ['Madrid', 'Barcelona', 'Sevilla']\n",
        "})\n",
        "\n",
        "# Guardamos el DataFrame como Excel\n",
        "excel_path = '/content/ejemplo.xlsx'\n",
        "excel_data.to_excel(excel_path, index=False)\n",
        "\n",
        "# Ahora leemos el archivo Excel\n",
        "df_excel = pd.read_excel(excel_path)\n",
        "\n",
        "print(\"DataFrame cargado desde Excel:\")\n",
        "print(df_excel)\n"
      ],
      "metadata": {
        "colab": {
          "base_uri": "https://localhost:8080/",
          "height": 154
        },
        "id": "aDQaI8NS6s3r",
        "outputId": "4b8ef50d-c4e4-4b1d-d329-7fac52c365fd"
      },
      "execution_count": 10,
      "outputs": [
        {
          "output_type": "display_data",
          "data": {
            "text/plain": [
              "\u001b[92m───────────────────────────────────────────────── \u001b[0mCarga de Excel\u001b[92m ──────────────────────────────────────────────────\u001b[0m\n"
            ],
            "text/html": [
              "<pre style=\"white-space:pre;overflow-x:auto;line-height:normal;font-family:Menlo,'DejaVu Sans Mono',consolas,'Courier New',monospace\"><span style=\"color: #00ff00; text-decoration-color: #00ff00\">───────────────────────────────────────────────── </span>Carga de Excel<span style=\"color: #00ff00; text-decoration-color: #00ff00\"> ──────────────────────────────────────────────────</span>\n",
              "</pre>\n"
            ]
          },
          "metadata": {}
        },
        {
          "output_type": "stream",
          "name": "stdout",
          "text": [
            "DataFrame cargado desde Excel:\n",
            "  Nombre  Edad     Ciudad\n",
            "0    Ana    25     Madrid\n",
            "1   Juan    30  Barcelona\n",
            "2  María    28    Sevilla\n"
          ]
        }
      ]
    },
    {
      "cell_type": "code",
      "source": [
        "\n",
        "# Carga de JSON\n",
        "console.rule(\"Carga de JSON\")\n",
        "\n",
        "# Creamos un ejemplo de JSON\n",
        "json_data = '''\n",
        "{\n",
        "  \"empleados\": [\n",
        "    {\"nombre\": \"Carlos\", \"edad\": 28, \"ciudad\": \"Valencia\"},\n",
        "    {\"nombre\": \"Lucía\", \"edad\": 32, \"ciudad\": \"Bilbao\"},\n",
        "    {\"nombre\": \"Pedro\", \"edad\": 35, \"ciudad\": \"Málaga\"}\n",
        "  ]\n",
        "}\n",
        "'''\n",
        "\n",
        "# Cargamos el JSON\n",
        "df_json = pd.read_json(io.StringIO(json_data))\n",
        "\n",
        "print(\"DataFrame cargado desde JSON:\")\n",
        "print(df_json)"
      ],
      "metadata": {
        "colab": {
          "base_uri": "https://localhost:8080/",
          "height": 154
        },
        "id": "hellKwdP7VN-",
        "outputId": "624b9d4d-6079-400e-96b8-cb1ebb9b307d"
      },
      "execution_count": 13,
      "outputs": [
        {
          "output_type": "display_data",
          "data": {
            "text/plain": [
              "\u001b[92m────────────────────────────────────────────────── \u001b[0mCarga de JSON\u001b[92m ──────────────────────────────────────────────────\u001b[0m\n"
            ],
            "text/html": [
              "<pre style=\"white-space:pre;overflow-x:auto;line-height:normal;font-family:Menlo,'DejaVu Sans Mono',consolas,'Courier New',monospace\"><span style=\"color: #00ff00; text-decoration-color: #00ff00\">────────────────────────────────────────────────── </span>Carga de JSON<span style=\"color: #00ff00; text-decoration-color: #00ff00\"> ──────────────────────────────────────────────────</span>\n",
              "</pre>\n"
            ]
          },
          "metadata": {}
        },
        {
          "output_type": "stream",
          "name": "stdout",
          "text": [
            "DataFrame cargado desde JSON:\n",
            "                                           empleados\n",
            "0  {'nombre': 'Carlos', 'edad': 28, 'ciudad': 'Va...\n",
            "1  {'nombre': 'Lucía', 'edad': 32, 'ciudad': 'Bil...\n",
            "2  {'nombre': 'Pedro', 'edad': 35, 'ciudad': 'Mál...\n"
          ]
        }
      ]
    },
    {
      "cell_type": "code",
      "source": [
        "# Carga de datos desde un diccionario\n",
        "console.rule(\"Carga desde diccionario\")\n",
        "\n",
        "data_dict = {\n",
        "    'Producto': ['A', 'B', 'C', 'D'],\n",
        "    'Precio': [100, 200, 150, 300],\n",
        "    'Stock': [10, 20, 15, 5]\n",
        "}\n",
        "\n",
        "df_dict = pd.DataFrame(data_dict)\n",
        "\n",
        "print(\"DataFrame creado desde un diccionario:\")\n",
        "print(df_dict)"
      ],
      "metadata": {
        "colab": {
          "base_uri": "https://localhost:8080/",
          "height": 177
        },
        "id": "iD_KawIT7iwI",
        "outputId": "6af8040e-b592-4b69-87a0-e64022897bed"
      },
      "execution_count": 14,
      "outputs": [
        {
          "output_type": "display_data",
          "data": {
            "text/plain": [
              "\u001b[92m───────────────────────────────────────────── \u001b[0mCarga desde diccionario\u001b[92m ─────────────────────────────────────────────\u001b[0m\n"
            ],
            "text/html": [
              "<pre style=\"white-space:pre;overflow-x:auto;line-height:normal;font-family:Menlo,'DejaVu Sans Mono',consolas,'Courier New',monospace\"><span style=\"color: #00ff00; text-decoration-color: #00ff00\">───────────────────────────────────────────── </span>Carga desde diccionario<span style=\"color: #00ff00; text-decoration-color: #00ff00\"> ─────────────────────────────────────────────</span>\n",
              "</pre>\n"
            ]
          },
          "metadata": {}
        },
        {
          "output_type": "stream",
          "name": "stdout",
          "text": [
            "DataFrame creado desde un diccionario:\n",
            "  Producto  Precio  Stock\n",
            "0        A     100     10\n",
            "1        B     200     20\n",
            "2        C     150     15\n",
            "3        D     300      5\n"
          ]
        }
      ]
    },
    {
      "cell_type": "code",
      "source": [
        "\n",
        "# Carga de datos desde una URL (usando el dataset de iris como ejemplo)\n",
        "console.rule(\"7. Carga desde URL\")\n",
        "\n",
        "url = \"https://archive.ics.uci.edu/ml/machine-learning-databases/iris/iris.data\"\n",
        "column_names = ['sepal_length', 'sepal_width', 'petal_length', 'petal_width', 'class']\n",
        "df_url = pd.read_csv(url, header=None, names=column_names)\n",
        "\n",
        "print(\"Primeras filas del DataFrame cargado desde URL:\")\n",
        "print(df_url.head())"
      ],
      "metadata": {
        "colab": {
          "base_uri": "https://localhost:8080/",
          "height": 200
        },
        "id": "R6fKMEYjrQRY",
        "outputId": "e0fd1cb6-b1b2-4024-bf7b-ab7dd9847f17"
      },
      "execution_count": 15,
      "outputs": [
        {
          "output_type": "display_data",
          "data": {
            "text/plain": [
              "\u001b[92m─────────────────────────────────────────────── \u001b[0m\u001b[1;36m7\u001b[0m. Carga desde URL\u001b[92m ────────────────────────────────────────────────\u001b[0m\n"
            ],
            "text/html": [
              "<pre style=\"white-space:pre;overflow-x:auto;line-height:normal;font-family:Menlo,'DejaVu Sans Mono',consolas,'Courier New',monospace\"><span style=\"color: #00ff00; text-decoration-color: #00ff00\">─────────────────────────────────────────────── </span><span style=\"color: #008080; text-decoration-color: #008080; font-weight: bold\">7</span>. Carga desde URL<span style=\"color: #00ff00; text-decoration-color: #00ff00\"> ────────────────────────────────────────────────</span>\n",
              "</pre>\n"
            ]
          },
          "metadata": {}
        },
        {
          "output_type": "stream",
          "name": "stdout",
          "text": [
            "Primeras filas del DataFrame cargado desde URL:\n",
            "   sepal_length  sepal_width  petal_length  petal_width        class\n",
            "0           5.1          3.5           1.4          0.2  Iris-setosa\n",
            "1           4.9          3.0           1.4          0.2  Iris-setosa\n",
            "2           4.7          3.2           1.3          0.2  Iris-setosa\n",
            "3           4.6          3.1           1.5          0.2  Iris-setosa\n",
            "4           5.0          3.6           1.4          0.2  Iris-setosa\n"
          ]
        }
      ]
    },
    {
      "cell_type": "markdown",
      "source": [
        "#Manejo de excepciones\n"
      ],
      "metadata": {
        "id": "Ztw_bMEkjCkS"
      }
    },
    {
      "cell_type": "code",
      "source": [
        "console.rule(\"[bold]Excepciones[/bold]\")\n",
        "\n",
        "\n",
        "# sumar(3,\"Pedro\")\n",
        "\n",
        "def sumar(x: int, y: int):\n",
        "  print(f\"Resultado:{x+y}\")\n",
        "  try:\n",
        "    print(f\"Resultado:{x+y}\")\n",
        "  except Exception as T:\n",
        "    print(\"Debes sumar variables del mismo tipo de datos (enteros)\", err)\n",
        "\n",
        "#sumar(7, 9)\n",
        "sumar(7, 'sumar')"
      ],
      "metadata": {
        "colab": {
          "base_uri": "https://localhost:8080/",
          "height": 542
        },
        "id": "Dde71EzIjFzx",
        "outputId": "b11f2123-4ced-40a3-b7c5-c56772b43317"
      },
      "execution_count": null,
      "outputs": [
        {
          "output_type": "display_data",
          "data": {
            "text/plain": [
              "\u001b[92m─────────────────────────────────────────────────── \u001b[0m\u001b[1mExcepciones\u001b[0m\u001b[92m ───────────────────────────────────────────────────\u001b[0m\n"
            ],
            "text/html": [
              "<pre style=\"white-space:pre;overflow-x:auto;line-height:normal;font-family:Menlo,'DejaVu Sans Mono',consolas,'Courier New',monospace\"><span style=\"color: #00ff00; text-decoration-color: #00ff00\">─────────────────────────────────────────────────── </span><span style=\"font-weight: bold\">Excepciones</span><span style=\"color: #00ff00; text-decoration-color: #00ff00\"> ───────────────────────────────────────────────────</span>\n",
              "</pre>\n"
            ]
          },
          "metadata": {}
        },
        {
          "output_type": "error",
          "ename": "NameError",
          "evalue": "name 'err' is not defined",
          "traceback": [
            "\u001b[0;31m---------------------------------------------------------------------------\u001b[0m",
            "\u001b[0;31mTypeError\u001b[0m                                 Traceback (most recent call last)",
            "\u001b[0;32m<ipython-input-5-428cd15b6208>\u001b[0m in \u001b[0;36msumar\u001b[0;34m(x, y)\u001b[0m\n\u001b[1;32m      8\u001b[0m   \u001b[0;32mtry\u001b[0m\u001b[0;34m:\u001b[0m\u001b[0;34m\u001b[0m\u001b[0;34m\u001b[0m\u001b[0m\n\u001b[0;32m----> 9\u001b[0;31m     \u001b[0mprint\u001b[0m\u001b[0;34m(\u001b[0m\u001b[0;34mf\"Resultado:{x+y}\"\u001b[0m\u001b[0;34m)\u001b[0m\u001b[0;34m\u001b[0m\u001b[0;34m\u001b[0m\u001b[0m\n\u001b[0m\u001b[1;32m     10\u001b[0m   \u001b[0;32mexcept\u001b[0m \u001b[0mTypeError\u001b[0m\u001b[0;34m:\u001b[0m\u001b[0;34m\u001b[0m\u001b[0;34m\u001b[0m\u001b[0m\n",
            "\u001b[0;31mTypeError\u001b[0m: unsupported operand type(s) for +: 'int' and 'str'",
            "\nDuring handling of the above exception, another exception occurred:\n",
            "\u001b[0;31mNameError\u001b[0m                                 Traceback (most recent call last)",
            "\u001b[0;32m<ipython-input-5-428cd15b6208>\u001b[0m in \u001b[0;36m<cell line: 14>\u001b[0;34m()\u001b[0m\n\u001b[1;32m     12\u001b[0m \u001b[0;34m\u001b[0m\u001b[0m\n\u001b[1;32m     13\u001b[0m \u001b[0;31m#sumar(7, 9)\u001b[0m\u001b[0;34m\u001b[0m\u001b[0;34m\u001b[0m\u001b[0m\n\u001b[0;32m---> 14\u001b[0;31m \u001b[0msumar\u001b[0m\u001b[0;34m(\u001b[0m\u001b[0;36m7\u001b[0m\u001b[0;34m,\u001b[0m \u001b[0;34m'sumar'\u001b[0m\u001b[0;34m)\u001b[0m\u001b[0;34m\u001b[0m\u001b[0;34m\u001b[0m\u001b[0m\n\u001b[0m",
            "\u001b[0;32m<ipython-input-5-428cd15b6208>\u001b[0m in \u001b[0;36msumar\u001b[0;34m(x, y)\u001b[0m\n\u001b[1;32m      9\u001b[0m     \u001b[0mprint\u001b[0m\u001b[0;34m(\u001b[0m\u001b[0;34mf\"Resultado:{x+y}\"\u001b[0m\u001b[0;34m)\u001b[0m\u001b[0;34m\u001b[0m\u001b[0;34m\u001b[0m\u001b[0m\n\u001b[1;32m     10\u001b[0m   \u001b[0;32mexcept\u001b[0m \u001b[0mTypeError\u001b[0m\u001b[0;34m:\u001b[0m\u001b[0;34m\u001b[0m\u001b[0;34m\u001b[0m\u001b[0m\n\u001b[0;32m---> 11\u001b[0;31m     \u001b[0mprint\u001b[0m\u001b[0;34m(\u001b[0m\u001b[0;34m\"Debes sumar variables del mismo tipo de datos (enteros)\"\u001b[0m\u001b[0;34m,\u001b[0m \u001b[0merr\u001b[0m\u001b[0;34m)\u001b[0m\u001b[0;34m\u001b[0m\u001b[0;34m\u001b[0m\u001b[0m\n\u001b[0m\u001b[1;32m     12\u001b[0m \u001b[0;34m\u001b[0m\u001b[0m\n\u001b[1;32m     13\u001b[0m \u001b[0;31m#sumar(7, 9)\u001b[0m\u001b[0;34m\u001b[0m\u001b[0;34m\u001b[0m\u001b[0m\n",
            "\u001b[0;31mNameError\u001b[0m: name 'err' is not defined"
          ]
        }
      ]
    },
    {
      "cell_type": "code",
      "source": [
        "def operacion(x: int, y: int):\n",
        "  try:\n",
        "    return x + y\n",
        "  except Exception as err:\n",
        "    print(\"Error! Revisa los argumentos\")\n",
        "    return None\n",
        "\n",
        "z = operacion(7, 'la')\n",
        "print(f\"Operación: {z}\")"
      ],
      "metadata": {
        "colab": {
          "base_uri": "https://localhost:8080/"
        },
        "id": "f_ye8vSHqqiu",
        "outputId": "619c9ff6-4d3f-4150-ec3f-7a15110893ef"
      },
      "execution_count": null,
      "outputs": [
        {
          "output_type": "stream",
          "name": "stdout",
          "text": [
            "Error! Revisa los argumentos\n",
            "Operación: None\n"
          ]
        }
      ]
    },
    {
      "cell_type": "code",
      "source": [
        "def mi_funcion(n: int = 3, saludo: str ='hola'):\n",
        "  \"\"\"\n",
        "  Esta funcion hace un saludo n veces\n",
        "\n",
        "  :param n: int - numero de veces que saludamos\n",
        "  :param saludo: str - el saludo que realizamos\n",
        "  \"\"\"\n",
        "  print(n*saludo)\n",
        "\n",
        "mi_funcion(saludo='adios\\n')"
      ],
      "metadata": {
        "colab": {
          "base_uri": "https://localhost:8080/"
        },
        "id": "ORNIJ2VFtKzP",
        "outputId": "511babcd-91d9-4b5b-f10f-99ddfeb0274f"
      },
      "execution_count": null,
      "outputs": [
        {
          "output_type": "stream",
          "name": "stdout",
          "text": [
            "adios\n",
            "adios\n",
            "adios\n",
            "\n"
          ]
        }
      ]
    }
  ]
}